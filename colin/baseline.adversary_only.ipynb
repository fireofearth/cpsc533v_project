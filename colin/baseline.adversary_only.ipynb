{
 "cells": [
  {
   "cell_type": "markdown",
   "id": "1a622b81",
   "metadata": {},
   "source": [
    "Simple Tag\n",
    "https://www.pettingzoo.ml/mpe/simple_tag\n",
    "\n",
    "> This is a predator-prey environment. Good agents (green) are faster and receive a negative reward for being hit by adversaries (red) (-10 for each collision). Adversaries are slower and are rewarded for hitting good agents (+10 for each collision). Obstacles (large black circles) block the way. By default, there is 1 good agent, 3 adversaries and 2 obstacles.\n",
    "\n",
    "Baseline agent algorithm with experience replay buffer"
   ]
  },
  {
   "cell_type": "code",
   "execution_count": 1,
   "id": "07f7b983",
   "metadata": {},
   "outputs": [],
   "source": [
    "import os\n",
    "import time\n",
    "import enum\n",
    "import math\n",
    "import random\n",
    "import collections\n",
    "import statistics\n",
    "import json\n",
    "\n",
    "import matplotlib.pyplot as plt\n",
    "import pandas as pd\n",
    "import numpy as np\n",
    "import torch\n",
    "import torch.nn\n",
    "import torch.nn.functional as F\n",
    "\n",
    "import imageio\n",
    "\n",
    "class AttrDict(dict):\n",
    "    def __init__(self, *args, **kwargs):\n",
    "        super(AttrDict, self).__init__(*args, **kwargs)\n",
    "        self.__dict__ = self\n",
    "\n",
    "class TimeDelta(object):\n",
    "    def __init__(self, delta_time):\n",
    "        \"\"\"Convert time difference in seconds to days, hours, minutes, seconds.\n",
    "        \n",
    "        Parameters\n",
    "        ==========\n",
    "        delta_time : float\n",
    "            Time difference in seconds.\n",
    "        \"\"\"\n",
    "        self.fractional, seconds = math.modf(delta_time)\n",
    "        seconds = int(seconds)\n",
    "        minutes, self.seconds = divmod(seconds, 60)\n",
    "        hours, self.minutes = divmod(minutes, 60)\n",
    "        self.days, self.hours = divmod(hours, 24)\n",
    "    \n",
    "    def __repr__(self):\n",
    "        return f\"{self.days}-{self.hours:02}:{self.minutes:02}:{self.seconds + self.fractional:02}\"\n",
    "\n",
    "from pettingzoo.mpe import simple_tag_v2\n",
    "from pettingzoo.utils import random_demo\n",
    "\n",
    "# torch.autograd.set_detect_anomaly(True)"
   ]
  },
  {
   "cell_type": "markdown",
   "id": "d7724bfe",
   "metadata": {},
   "source": [
    "Arguments in instantiate environment.\n",
    "\n",
    "- num_good: number of good agents\n",
    "- num_adversaries: number of adversaries\n",
    "- num_obstacles: number of obstacles\n",
    "- max_cycles: number of frames (a step for each agent) until game terminates\n",
    "- continuous_actions: Whether agent action spaces are discrete(default) or continuous"
   ]
  },
  {
   "cell_type": "code",
   "execution_count": 2,
   "id": "08cbbb0e",
   "metadata": {},
   "outputs": [],
   "source": [
    "# env.close()"
   ]
  },
  {
   "cell_type": "code",
   "execution_count": 3,
   "id": "9858b4c8",
   "metadata": {},
   "outputs": [],
   "source": [
    "num_good = 1\n",
    "num_adversaries = 3\n",
    "num_obstacles = 0\n",
    "\n",
    "env = simple_tag_v2.env(\n",
    "    num_good=num_good,\n",
    "    num_adversaries=num_adversaries,\n",
    "    num_obstacles=num_obstacles,\n",
    "    max_cycles=30,\n",
    "    continuous_actions=False\n",
    ").unwrapped"
   ]
  },
  {
   "cell_type": "markdown",
   "id": "34cabc86",
   "metadata": {},
   "source": [
    "### What are the environment parameters?\n",
    "\n",
    "Adversaries (red) capture non-adversary (green). The map is a 2D grid and everything is initialized in the region [-1, +1]. There doesn't seem to be position clipping for out of bounds, but non-adversary agent are penalized for out of bounds.\n",
    "Agent's observation is a ndarray vector of concatenated data in the following order:\n",
    "\n",
    "1. current velocity (2,)\n",
    "2. current position (2,)\n",
    "3. relative position (2,) of each landmark\n",
    "4. relative position (2,) of each other agent\n",
    "5. velocity (2,) of each other non-adversary agent\n",
    "\n",
    "When there are 3 adverseries and 3 non-adversaries, then advarsary observation space is 24 dimensional and non-advarsary observation space is 22 dimensional.\n",
    "\n",
    "The environment is sequential. Agents move one at a time. Agents are either `adversary_*` for adversary or `agent_*` for non-adversary.\n",
    "\n",
    "Actions:\n",
    "\n",
    "- 0 is NOP\n",
    "- 1 is go left\n",
    "- 2 is go right\n",
    "- 3 is go down\n",
    "- 4 is go up"
   ]
  },
  {
   "cell_type": "markdown",
   "id": "e6301c6a",
   "metadata": {},
   "source": [
    "### How to train the agents?\n",
    "\n",
    "When loss is increasing for Double DQN, then increase the interval for updating target network.\n",
    "<https://stackoverflow.com/questions/56964657/cartpole-v0-loss-increasing-using-dqn>"
   ]
  },
  {
   "cell_type": "code",
   "execution_count": 4,
   "id": "90c62b79",
   "metadata": {},
   "outputs": [],
   "source": [
    "env.reset()"
   ]
  },
  {
   "cell_type": "code",
   "execution_count": 5,
   "id": "7c5ad6e0",
   "metadata": {},
   "outputs": [
    {
     "data": {
      "text/plain": [
       "{'exp_name': 'agents=1-adversary=3-obs=0-network=MLP',\n",
       " 'discount': 0.99,\n",
       " 'epsilon': 0.1,\n",
       " 'n_episodes': 20000,\n",
       " 'batch_size': 1,\n",
       " 'update_target_interval': 32,\n",
       " 'report_interval': 32,\n",
       " 'clip_grad_norm': 5.0,\n",
       " 'lr': 0.002,\n",
       " 'reward_scale': 1,\n",
       " 'device': device(type='cuda'),\n",
       " 'common': {'hidden_size': 32, 'n_actions': 5},\n",
       " 'adversary': {'n_agents': 3,\n",
       "  'observation_shape': (12,),\n",
       "  'hidden_size': 32,\n",
       "  'n_actions': 5},\n",
       " 'agent': {'n_agents': 1,\n",
       "  'observation_shape': (10,),\n",
       "  'hidden_size': 32,\n",
       "  'n_actions': 5}}"
      ]
     },
     "execution_count": 5,
     "metadata": {},
     "output_type": "execute_result"
    }
   ],
   "source": [
    "def get_agent_counts():\n",
    "    all_agents = 0\n",
    "    adversaries = 0\n",
    "    for agent in env.world.agents:\n",
    "        all_agents += 1\n",
    "        adversaries += 1 if agent.adversary else 0\n",
    "    good_agents = all_agents - adversaries\n",
    "    return (adversaries, good_agents)\n",
    "\n",
    "def process_config(config):\n",
    "    for k, v in config.common.items():\n",
    "        config.adversary[k] = v\n",
    "        config.agent[k] = v\n",
    "\n",
    "n_adversaries, n_good_agents = get_agent_counts()\n",
    "config = AttrDict(\n",
    "    exp_name = \"agents={}-adversary={}-obs={}-network={}\".format(num_good, num_adversaries, num_obstacles, 'MLP'),\n",
    "    discount = 0.99,\n",
    "    epsilon = 0.1,\n",
    "    n_episodes=20_000,\n",
    "    batch_size=1,\n",
    "    update_target_interval=32,\n",
    "    report_interval=32,\n",
    "    clip_grad_norm=5.0,\n",
    "    lr=0.002,\n",
    "    reward_scale=1,\n",
    "    device=torch.device(\"cuda\" if torch.cuda.is_available() else \"cpu\"),\n",
    "    common=AttrDict(\n",
    "        hidden_size=32,\n",
    "        n_actions=env.action_space(env.agent_selection).n,\n",
    "    ),\n",
    "    adversary=AttrDict(\n",
    "        n_agents=n_adversaries,\n",
    "        observation_shape=env.observation_space(\"adversary_0\").shape\n",
    "\n",
    "    ),\n",
    "    agent=AttrDict(\n",
    "        n_agents=n_good_agents,\n",
    "        observation_shape=env.observation_space(\"agent_0\").shape\n",
    "    )\n",
    ")\n",
    "process_config(config)\n",
    "config"
   ]
  },
  {
   "cell_type": "code",
   "execution_count": 6,
   "id": "5224e205",
   "metadata": {},
   "outputs": [],
   "source": [
    "class Normalizer(object):\n",
    "    def __init__(self, env):\n",
    "        self.n_landmarks = len(env.world.landmarks)\n",
    "        self.n_allagents = len(env.world.agents)\n",
    "        self.n_good = sum(map(lambda a: not a.adversary, env.world.agents))\n",
    "    \n",
    "    @staticmethod\n",
    "    def normalize_abs_pos(s):\n",
    "        \"\"\"Clip absolute position and scale to [-1, 1]\n",
    "        s is a scalar or an ndarray of one dimension.\"\"\"\n",
    "        return np.clip(s, -1.5, 1.5) / 1.5\n",
    "\n",
    "    @staticmethod\n",
    "    def normalize_rel_pos(s):\n",
    "        \"\"\"Clip relative position and scale to [-1, 1]\n",
    "        s is a scalar or an ndarray of one dimension.\"\"\"\n",
    "        return np.clip(s, -3, 3) / 3\n",
    "\n",
    "    def __call__(self, obs):\n",
    "        # normalize and clip positions\n",
    "        norm_obs = obs.copy()\n",
    "        # normalize velocity of current entity\n",
    "        norm_obs[:2] = norm_obs[:2] / 1.3\n",
    "        # clip/scale abs. position of current entity\n",
    "        norm_obs[2:4] = self.normalize_abs_pos(norm_obs[2:4])\n",
    "        # clip/scale rel. position of other entities\n",
    "        n_range = self.n_landmarks + self.n_allagents - 1\n",
    "        for i in range(n_range):\n",
    "            norm_obs[4 + (2*i):4 + (2*(i + 1))] = self.normalize_rel_pos(\n",
    "                norm_obs[4 + (2*i):4 + (2*(i + 1))]\n",
    "            )\n",
    "        # normalize velocity of other entities\n",
    "        norm_obs[4 + (2*n_range):] = norm_obs[4 + (2*n_range):] / 1.3\n",
    "        return norm_obs\n",
    "    \n",
    "class RewardsShaper(object):\n",
    "    def __init__(self, env):\n",
    "        self.n_landmarks = len(env.world.landmarks)\n",
    "        # self.n_allagents = len(env.world.agents)\n",
    "        self.name_to_idx = {agent.name: i for i, agent in enumerate(env.world.agents)}\n",
    "        self.idx_to_name = {i: agent.name for i, agent in enumerate(env.world.agents)}\n",
    "        self.goodagent_indices = [\n",
    "            i for i, agent in enumerate(env.world.agents) if agent.name.startswith(\"agent\")\n",
    "        ]\n",
    "        self.adversary_indices = [\n",
    "            i for i, agent in enumerate(env.world.agents) if agent.name.startswith(\"adversary\")\n",
    "        ]\n",
    "        # rdist - distance between adversary-good agent to start computing rewards.\n",
    "        self.rdist = 1\n",
    "        # collision_dist - distance between adversary-good agent to count collision.\n",
    "        #    Based on PettingZoo numbers. \n",
    "        self.collision_dist = 0.075 + 0.05\n",
    "\n",
    "    @staticmethod\n",
    "    def bound(x):\n",
    "        if x < 0.9:\n",
    "            return 0\n",
    "        if x < 1.0:\n",
    "            return (x - 0.9) * 10\n",
    "        return min(np.exp(2 * x - 2), 10)\n",
    "        \n",
    "    def __call__(self, agent_name, obs):\n",
    "        \"\"\"Compute reshaped rewards from observation for agent given agent name.\n",
    "        Adversary: start gaining small rewards as it nears good agents.\n",
    "        \n",
    "        Good agent: starts gaining small penality as it nears bad agents.\n",
    "        \"\"\"\n",
    "        _obs = obs[4 + (2*self.n_landmarks):]\n",
    "        agent_idx = self.name_to_idx[agent_name]\n",
    "        cum_r = 0.\n",
    "        if agent_name.startswith(\"agent\"):\n",
    "            # penalty across all adversaries\n",
    "            for adversary_idx in self.adversary_indices:\n",
    "                # penalty from distance of adversary; penalty of collision\n",
    "                other_idx = adversary_idx - 1 if agent_idx < adversary_idx else adversary_idx\n",
    "                x, y = _obs[2*other_idx:(2*other_idx) + 2]\n",
    "                d    = math.sqrt(x**2 + y**2)\n",
    "                cum_r -= min(max(1 -  (1/self.rdist)*d, 0), 1)\n",
    "                \n",
    "            # penalty from boudary based on PettingZoo\n",
    "            pos = obs[2:4]\n",
    "            cum_r -= self.bound(abs(pos[0]))\n",
    "            cum_r -= self.bound(abs(pos[1]))\n",
    "        \n",
    "        elif agent_name.startswith(\"adversary\"):\n",
    "            # reward across all agents\n",
    "            for goodagent_idx in self.goodagent_indices:\n",
    "                # reward from distance to agent; reward of collision\n",
    "                other_idx = goodagent_idx - 1 if agent_idx < goodagent_idx else goodagent_idx\n",
    "                x, y = _obs[2*other_idx:(2*other_idx) + 2]\n",
    "                d    = math.sqrt(x**2 + y**2)\n",
    "                cum_r += 1 -  (1/self.rdist)*d\n",
    "        \n",
    "        return cum_r\n",
    "\n",
    "normalize = Normalizer(env) # norm_obs = normalize(obs)\n",
    "shapereward = RewardsShaper(env) # reward = shapereward(agent_name, obs)\n",
    "criterion = torch.nn.MSELoss()\n",
    "# criterion = torch.nn.SmoothL1Loss()rnn"
   ]
  },
  {
   "cell_type": "code",
   "execution_count": 7,
   "id": "e9dce3b9",
   "metadata": {},
   "outputs": [],
   "source": [
    "class SimpleTagNet(torch.nn.Module):\n",
    "    \"\"\"NN Model for the agents. Both good agents and adversaries use this model.\"\"\"\n",
    "        \n",
    "    def __init__(self, config, agent_type):\n",
    "        super().__init__()\n",
    "        # self.config = config\n",
    "        self.device      = config.device\n",
    "        self.observation_size = math.prod(config[agent_type].observation_shape)\n",
    "        self.n_actions   = config[agent_type].n_actions\n",
    "        self.hidden_size = config[agent_type].hidden_size\n",
    "        self.output_mlp = torch.nn.Sequential(\n",
    "            torch.nn.Linear(self.observation_size, self.hidden_size),\n",
    "            torch.nn.ReLU(inplace=True),\n",
    "            torch.nn.Linear(self.hidden_size, self.hidden_size),\n",
    "            torch.nn.ReLU(inplace=True),\n",
    "            torch.nn.Linear(self.hidden_size, self.n_actions)\n",
    "        )\n",
    "    \n",
    "    def forward(self, observation):\n",
    "        \"\"\"Apply DQN to episode step.\n",
    "        \n",
    "        Parameters\n",
    "        ==========\n",
    "        observation : ndarray\n",
    "            The observation vector obtained from the environment.\n",
    "        \n",
    "        Returns\n",
    "        =======\n",
    "        torch.Tensor\n",
    "            Vector of Q-value associated with each action.\n",
    "        \"\"\"\n",
    "        observation = normalize(observation)\n",
    "        observation = torch.tensor(observation, dtype=torch.float, device=self.device)\n",
    "        Q = self.output_mlp(observation)\n",
    "        return Q\n",
    "\n",
    "def choose_action(config, agent_type, Q, epsilon=0.05, is_val=False):\n",
    "    if not is_val and random.random() < epsilon:\n",
    "        return random.randrange(config[agent_type].n_actions)\n",
    "    else:\n",
    "        return torch.argmax(Q).item()"
   ]
  },
  {
   "cell_type": "code",
   "execution_count": 8,
   "id": "00f86814",
   "metadata": {
    "scrolled": true
   },
   "outputs": [],
   "source": [
    "def run_episode(config, adversary_net, should_render=False, epsilon=0.05, is_val=False,\n",
    "                evaluation=False, save_video=False, save_video_dict=None):\n",
    "    \"\"\"Run one episodes.\n",
    "    \n",
    "    inputs consist of observation, message (backprop), hidden (backprop) indexed by agent\n",
    "    outputs consist of action, q-value of action (backprop), reward, done indexed by (step, agent)\n",
    "    \n",
    "    Returns\n",
    "    =======\n",
    "    AttrDict\n",
    "        Contains episode metrics:\n",
    "        - steps : number of steps. All agents take an action at each step.\n",
    "        - reward : episodic rewards indexed by ('adversary', 'agent').\n",
    "        - step_records : list of quantities produced indiced by step, ('adversary', 'agent'), agent index.\n",
    "          Each step record has:\n",
    "            + observation\n",
    "            + Q\n",
    "            + reward\n",
    "            + done\n",
    "        - loss : contains episodic losses indexed by ('adversary', 'agent'). To be updated by train_agents()\n",
    "    \"\"\"\n",
    "    rendered_video = []\n",
    "    episode = AttrDict(\n",
    "        steps=0,\n",
    "        reward=AttrDict(adversary=0, agent=0),\n",
    "        step_records=[],\n",
    "        loss=AttrDict(adversary=0, agent=0)\n",
    "    )\n",
    "    n_agents = config.adversary.n_agents + config.agent.n_agents\n",
    "    step_record = None\n",
    "    \n",
    "    env.reset()\n",
    "    for agent_step_idx, agent_name in enumerate(env.agent_iter()):\n",
    "        if agent_step_idx % n_agents == 0:\n",
    "            episode.steps += 1\n",
    "            step_record = AttrDict(adversary={}, agent={})\n",
    "            episode.step_records.append(step_record)\n",
    "            \n",
    "        obs_curr, reward, done, _ = env.last()\n",
    "        if not evaluation:\n",
    "            reward += shapereward(agent_name, obs_curr)\n",
    "        if should_render:\n",
    "            if save_video:\n",
    "                rendered_image = env.render(mode='rgb_array')\n",
    "#                 print(rendered_image.shape)\n",
    "                rendered_video.append(rendered_image)\n",
    "            env.render()\n",
    "            if agent_name == \"adversary_0\":\n",
    "                # print(\"rew, shaped rew\", round(_reward, 2), round(reward, 2))\n",
    "                # print(\"obs, normed obs\", np.round(obs_curr, 2), np.round(normalize(obs_curr), 2))\n",
    "                # print(\"obs, normed obs\", np.round(obs_curr[4:6], 2), np.round(normalize(obs_curr[4:6]), 2))\n",
    "                # print(\"obs, rew\", np.round(normalize(obs_curr[4:6]), 2), reward)\n",
    "                pass\n",
    "        agent_type, agent_idx = agent_name.split(\"_\")\n",
    "        agent_idx = int(agent_idx)\n",
    "        if done:\n",
    "            step_record[agent_type][agent_idx] = AttrDict(\n",
    "                observation=obs_curr,\n",
    "                action=None,\n",
    "                Q=None,\n",
    "                reward=reward,\n",
    "                done=done,\n",
    "            )\n",
    "            env.step(None)\n",
    "            continue\n",
    "        if agent_type == \"agent\":\n",
    "            env.step(0)\n",
    "            step_record[agent_type][agent_idx] = AttrDict(\n",
    "                observation=obs_curr,\n",
    "                action=0,\n",
    "                Q=None,\n",
    "                reward=reward,\n",
    "                done=done,\n",
    "            )\n",
    "        else:\n",
    "            # agent_type == \"adversary\"\n",
    "            Q_curr = adversary_net(obs_curr)\n",
    "            action = choose_action(config, agent_type, Q_curr, epsilon, is_val=is_val)\n",
    "            env.step(action)\n",
    "            step_record[agent_type][agent_idx] = AttrDict(\n",
    "                # inputs to network\n",
    "                observation=obs_curr,\n",
    "                # outputs of network / inputs to environment\n",
    "                action=action,\n",
    "#                 Q=Q_curr,\n",
    "                Q=None,\n",
    "                # output of environment\n",
    "                reward=reward,\n",
    "                done=done,\n",
    "            )\n",
    "        episode.reward[agent_type] += reward\n",
    "    \n",
    "    if should_render:\n",
    "        env.close()\n",
    "        if save_video:\n",
    "            print(len(rendered_video))\n",
    "            imageio.mimwrite(os.path.join(save_video_dict['validation_save_dir'],'result-{}.mp4'.format(save_video_dict['image_counter'])), rendered_video, fps=30)\n",
    "    return episode\n",
    "\n",
    "def train_agents(config, batch, adversary_net, adversary_target_net, adversary_optimizer):\n",
    "    \"\"\"Compute loss of episode and update agent weights.\n",
    "    \"\"\"\n",
    "    device = config.device\n",
    "    discount = torch.tensor(config.discount, dtype=torch.float, device=device)\n",
    "    for episode in batch:\n",
    "        for step_idx in range(episode.steps):\n",
    "            for agent_idx in episode.step_records[step_idx].adversary.keys():\n",
    "                curr_record = episode.step_records[step_idx].adversary[agent_idx]\n",
    "                if curr_record.done:\n",
    "                    # agent is done at this step\n",
    "                    continue\n",
    "                adversary_optimizer.zero_grad()\n",
    "                next_record = episode.step_records[step_idx + 1].adversary[agent_idx]\n",
    "                r = torch.tensor(next_record.reward, dtype=torch.float, device=device)\n",
    "                y = None\n",
    "                if next_record.done:\n",
    "                    # agent terminates at next step\n",
    "                    y = r\n",
    "                else:\n",
    "                    next_o = next_record.observation\n",
    "                    target_Q = adversary_target_net(next_o)\n",
    "                    max_target_Q = torch.max(target_Q)\n",
    "                    y = r + discount*max_target_Q\n",
    "                curr_o = curr_record.observation\n",
    "                u = curr_record.action\n",
    "#                 Q = curr_record.Q\n",
    "                Q = adversary_net(curr_o)\n",
    "                Q_u = Q[u]\n",
    "                # adversary_loss = torch.pow(y - Q_u, 2.)\n",
    "                adversary_loss = criterion(y, Q_u)\n",
    "                adversary_loss.backward()#retain_graph=True)\n",
    "                \n",
    "                show_norms = False\n",
    "                if show_norms:\n",
    "                    norms = [p.grad.detach().data.norm().item() for p in adversary_net.parameters()]\n",
    "                    print(\"norm of gradiants\", *np.round(norms, 2))\n",
    "                    \n",
    "                torch.nn.utils.clip_grad_norm_(adversary_net.parameters(), config.clip_grad_norm)\n",
    "                adversary_optimizer.step()\n",
    "                episode.loss.adversary += adversary_loss.item()\n",
    "                \n",
    "def train(config):\n",
    "    \"\"\"\n",
    "    - Use parameter sharing between agents of the same class.\n",
    "    - Good agents use one RL model, adversaries use another RL model.\n",
    "      Train the agents side by side.\n",
    "    - Separate, disjoint communication channels for two classes of agents,\n",
    "      maintained by a container to store the messages.\n",
    "    \"\"\"\n",
    "    eps_start = 0.9\n",
    "    eps_end = 0.05\n",
    "    eps_decay = 0.9996\n",
    "    epsilon = eps_start\n",
    "    \n",
    "    best_reward_evaluation = 0\n",
    "        \n",
    "    print(\"Training the agents...\")\n",
    "    os.makedirs(\"models/{}\".format(config.exp_name), exist_ok=True)\n",
    "    t0 = time.time()\n",
    "    device = config.device\n",
    "    adversary_net = SimpleTagNet(config, \"adversary\").to(device)\n",
    "    adversary_target_net = SimpleTagNet(config, \"adversary\").to(device)\n",
    "    adversary_target_net.eval()\n",
    "    print(\"Created the agent nets.\")\n",
    "    adversary_optimizer = torch.optim.SGD(adversary_net.parameters(), lr=config.lr)\n",
    "    logger = AttrDict(\n",
    "        episodic_losses=AttrDict(adversary=[], agent=[]),\n",
    "        episodic_rewards=AttrDict(adversary=[], agent=[])\n",
    "    )\n",
    "    def update_targets():\n",
    "        adversary_target_net.load_state_dict(adversary_net.state_dict())\n",
    "    print(\"Initial update of target nets\")\n",
    "    update_targets()\n",
    "    \n",
    "    batch = []\n",
    "    print(\"Beginning the episodes...\")\n",
    "    for episode_idx in range(config.n_episodes):\n",
    "        # Run an episode\n",
    "        episode = run_episode(config, adversary_net,\n",
    "                              epsilon=epsilon,\n",
    "                              should_render=episode_idx % config.report_interval == 0 and episode_idx > 0)\n",
    "        batch.append(episode)\n",
    "        epsilon = max(epsilon*eps_decay, eps_end)\n",
    "        \n",
    "        # Train on the episode\n",
    "        if episode_idx % config.batch_size == 0 and episode_idx > 0:\n",
    "            train_agents(config, batch, adversary_net,\n",
    "                         adversary_target_net,\n",
    "                         adversary_optimizer)\n",
    "            batch = []\n",
    "        \n",
    "        # Logging the reward and los\n",
    "        logger.episodic_losses.adversary.append(episode.loss.adversary)\n",
    "        logger.episodic_losses.agent.append(episode.loss.agent)\n",
    "        logger.episodic_rewards.adversary.append(episode.reward.adversary)\n",
    "        logger.episodic_rewards.agent.append(episode.reward.agent)\n",
    "\n",
    "        if episode_idx % config.update_target_interval == 0 and episode_idx > 0:\n",
    "            # Update double network\n",
    "            update_targets()\n",
    "        \n",
    "        if episode_idx % config.report_interval == 0 and episode_idx > 0:\n",
    "            # Logging\n",
    "            t1 = time.time()\n",
    "            tdelta = TimeDelta(round(t1 - t0, 0))\n",
    "            print(f\"on episode {episode_idx}, curr epsilon {epsilon} (time taken so far: {tdelta})\")\n",
    "            mean_loss_adversary = statistics.fmean(logger.episodic_losses.adversary[-config.report_interval:])\n",
    "            mean_reward_adversary = statistics.fmean(logger.episodic_rewards.adversary[-config.report_interval:])\n",
    "            mean_reward_agent = statistics.fmean(logger.episodic_rewards.agent[-config.report_interval:])\n",
    "            print(f\"     mean loss: adversary {mean_loss_adversary}\")\n",
    "            print(f\"     mean reward: adversary {mean_reward_adversary}, agent {mean_reward_agent}\")\n",
    "            \n",
    "        if episode_idx % 500 == 0 and episode_idx > 0:\n",
    "            adversary_net.eval()\n",
    "            with torch.no_grad():\n",
    "                validation_save_dir = \"models/{}/validation_results/epoch-{}\".format(config.exp_name, episode_idx)\n",
    "                os.makedirs(validation_save_dir, exist_ok=True)\n",
    "                validation_total_reward = 0\n",
    "                torch.save(\n",
    "                    adversary_net.state_dict(),\n",
    "                    f\"models/{config.exp_name}/adversary-net-{episode_idx}.pth\"\n",
    "                )\n",
    "                for e in range(100):\n",
    "                    d = {\n",
    "                        'validation_save_dir':validation_save_dir,\n",
    "                        'image_counter': e\n",
    "                    }\n",
    "                    episode = run_episode(config, adversary_net,\n",
    "                                          epsilon=epsilon,\n",
    "                                          should_render=e % 10 == 0, save_video=e%10==0, save_video_dict=d, is_val=True, evaluation=True)\n",
    "                    print(episode.reward.adversary)\n",
    "                    validation_total_reward += episode.reward.adversary\n",
    "                    adversary_net.train()\n",
    "\n",
    "                validation_total_reward /= 100\n",
    "                print('Evaluation Reward for episode {} is: {}'.format(episode_idx, validation_total_reward))\n",
    "                if validation_total_reward > best_reward_evaluation:\n",
    "                    best_reward_evaluation = validation_total_reward\n",
    "                    torch.save(\n",
    "                        adversary_net.state_dict(),\n",
    "                        f\"models/{config.exp_name}/adversary-net-best.pth\"\n",
    "                    )\n",
    "            adversary_net.train()\n",
    "        \n",
    "    \n",
    "    return adversary_net, logger\n"
   ]
  },
  {
   "cell_type": "code",
   "execution_count": null,
   "id": "c0210fc8",
   "metadata": {
    "scrolled": true
   },
   "outputs": [
    {
     "name": "stdout",
     "output_type": "stream",
     "text": [
      "Training the agents...\n",
      "Created the agent nets.\n",
      "Initial update of target nets\n",
      "Beginning the episodes...\n",
      "on episode 32, curr epsilon 0.8881957186750149 (time taken so far: 0-00:00:10.0)\n",
      "     mean loss: adversary 167.28427043306448\n",
      "     mean reward: adversary 4.652160788899588, agent -29.487828606109\n",
      "on episode 64, curr epsilon 0.8768970195551845 (time taken so far: 0-00:00:17.0)\n",
      "     mean loss: adversary 81.3071790664473\n",
      "     mean reward: adversary -2.953299370662403, agent -26.875282971576247\n",
      "on episode 96, curr epsilon 0.8657420506956067 (time taken so far: 0-00:00:24.0)\n",
      "     mean loss: adversary 158.7613341749446\n",
      "     mean reward: adversary 0.5240628673364043, agent -27.419515437632782\n",
      "on episode 128, curr epsilon 0.8547289837098901 (time taken so far: 0-00:00:32.0)\n",
      "     mean loss: adversary 131.18770670212078\n",
      "     mean reward: adversary 2.67667599869457, agent -19.87916808601533\n",
      "on episode 160, curr epsilon 0.843856013470467 (time taken so far: 0-00:00:39.0)\n",
      "     mean loss: adversary 173.92223269050714\n",
      "     mean reward: adversary 7.507144551511814, agent -23.610959244934293\n",
      "on episode 192, curr epsilon 0.8331213578127185 (time taken so far: 0-00:00:46.0)\n",
      "     mean loss: adversary 97.88982810824109\n",
      "     mean reward: adversary 6.114109815149682, agent -24.273176409634157\n",
      "on episode 224, curr epsilon 0.8225232572428655 (time taken so far: 0-00:00:54.0)\n",
      "     mean loss: adversary 104.53678779098134\n",
      "     mean reward: adversary 4.661495469107835, agent -23.636744764202522\n",
      "on episode 256, curr epsilon 0.8120599746495719 (time taken so far: 0-00:01:2.0)\n",
      "     mean loss: adversary 243.20841468852717\n",
      "     mean reward: adversary 17.955081115461343, agent -30.796135872350998\n",
      "on episode 288, curr epsilon 0.8017297950192198 (time taken so far: 0-00:01:9.0)\n",
      "     mean loss: adversary 156.59232924165318\n",
      "     mean reward: adversary 8.820516233385609, agent -22.474999339008182\n",
      "on episode 320, curr epsilon 0.7915310251548043 (time taken so far: 0-00:01:16.0)\n",
      "     mean loss: adversary 52.51854670853357\n",
      "     mean reward: adversary 1.7260714037659497, agent -24.319251086379367\n",
      "on episode 352, curr epsilon 0.7814619933984067 (time taken so far: 0-00:01:24.0)\n",
      "     mean loss: adversary 223.3198824145626\n",
      "     mean reward: adversary 27.10274148913986, agent -34.44466491211378\n",
      "on episode 384, curr epsilon 0.7715210493571957 (time taken so far: 0-00:01:31.0)\n",
      "     mean loss: adversary 208.8935174810651\n",
      "     mean reward: adversary 27.831668672379585, agent -35.11805982499266\n",
      "on episode 416, curr epsilon 0.7617065636329157 (time taken so far: 0-00:01:38.0)\n",
      "     mean loss: adversary 85.06900418656417\n",
      "     mean reward: adversary 11.16424475441382, agent -27.790003356962803\n",
      "on episode 448, curr epsilon 0.7520169275548149 (time taken so far: 0-00:01:45.0)\n",
      "     mean loss: adversary 102.19837734350045\n",
      "     mean reward: adversary 13.66773671583821, agent -28.073302462149083\n",
      "on episode 480, curr epsilon 0.7424505529159724 (time taken so far: 0-00:01:53.0)\n",
      "     mean loss: adversary 153.88761241130499\n",
      "     mean reward: adversary 29.380973628444327, agent -34.35518561603948\n"
     ]
    },
    {
     "name": "stderr",
     "output_type": "stream",
     "text": [
      "IMAGEIO FFMPEG_WRITER WARNING: input image is not divisible by macro_block_size=16, resizing from (700, 700) to (704, 704) to ensure video compatibility with most codecs and players. To prevent resizing, make your input image divisible by the macro_block_size or set the macro_block_size to 1 (risking incompatibility).\n"
     ]
    },
    {
     "name": "stdout",
     "output_type": "stream",
     "text": [
      "124\n"
     ]
    },
    {
     "name": "stderr",
     "output_type": "stream",
     "text": [
      "[swscaler @ 0x6b8cf80] Warning: data is not aligned! This can lead to a speed loss\n"
     ]
    },
    {
     "name": "stdout",
     "output_type": "stream",
     "text": [
      "0.0\n",
      "0.0\n",
      "0.0\n",
      "0.0\n",
      "0.0\n",
      "0.0\n",
      "0.0\n",
      "0.0\n",
      "0.0\n",
      "0.0\n"
     ]
    },
    {
     "name": "stderr",
     "output_type": "stream",
     "text": [
      "IMAGEIO FFMPEG_WRITER WARNING: input image is not divisible by macro_block_size=16, resizing from (700, 700) to (704, 704) to ensure video compatibility with most codecs and players. To prevent resizing, make your input image divisible by the macro_block_size or set the macro_block_size to 1 (risking incompatibility).\n"
     ]
    },
    {
     "name": "stdout",
     "output_type": "stream",
     "text": [
      "124\n"
     ]
    },
    {
     "name": "stderr",
     "output_type": "stream",
     "text": [
      "[swscaler @ 0x69b5f80] Warning: data is not aligned! This can lead to a speed loss\n"
     ]
    },
    {
     "name": "stdout",
     "output_type": "stream",
     "text": [
      "0.0\n",
      "0.0\n",
      "60.0\n",
      "0.0\n",
      "0.0\n",
      "0.0\n",
      "0.0\n",
      "0.0\n",
      "30.0\n",
      "0.0\n"
     ]
    },
    {
     "name": "stderr",
     "output_type": "stream",
     "text": [
      "IMAGEIO FFMPEG_WRITER WARNING: input image is not divisible by macro_block_size=16, resizing from (700, 700) to (704, 704) to ensure video compatibility with most codecs and players. To prevent resizing, make your input image divisible by the macro_block_size or set the macro_block_size to 1 (risking incompatibility).\n"
     ]
    },
    {
     "name": "stdout",
     "output_type": "stream",
     "text": [
      "124\n"
     ]
    },
    {
     "name": "stderr",
     "output_type": "stream",
     "text": [
      "[swscaler @ 0x6d9cf80] Warning: data is not aligned! This can lead to a speed loss\n"
     ]
    },
    {
     "name": "stdout",
     "output_type": "stream",
     "text": [
      "60.0\n",
      "0.0\n",
      "120.0\n",
      "0.0\n",
      "0.0\n",
      "0.0\n",
      "120.0\n",
      "60.0\n",
      "60.0\n",
      "240.0\n"
     ]
    },
    {
     "name": "stderr",
     "output_type": "stream",
     "text": [
      "IMAGEIO FFMPEG_WRITER WARNING: input image is not divisible by macro_block_size=16, resizing from (700, 700) to (704, 704) to ensure video compatibility with most codecs and players. To prevent resizing, make your input image divisible by the macro_block_size or set the macro_block_size to 1 (risking incompatibility).\n"
     ]
    },
    {
     "name": "stdout",
     "output_type": "stream",
     "text": [
      "124\n"
     ]
    },
    {
     "name": "stderr",
     "output_type": "stream",
     "text": [
      "[swscaler @ 0x5ed7f80] Warning: data is not aligned! This can lead to a speed loss\n"
     ]
    },
    {
     "name": "stdout",
     "output_type": "stream",
     "text": [
      "90.0\n",
      "0.0\n",
      "240.0\n",
      "0.0\n",
      "90.0\n",
      "0.0\n",
      "30.0\n",
      "0.0\n",
      "0.0\n",
      "0.0\n"
     ]
    },
    {
     "name": "stderr",
     "output_type": "stream",
     "text": [
      "IMAGEIO FFMPEG_WRITER WARNING: input image is not divisible by macro_block_size=16, resizing from (700, 700) to (704, 704) to ensure video compatibility with most codecs and players. To prevent resizing, make your input image divisible by the macro_block_size or set the macro_block_size to 1 (risking incompatibility).\n"
     ]
    },
    {
     "name": "stdout",
     "output_type": "stream",
     "text": [
      "124\n"
     ]
    },
    {
     "name": "stderr",
     "output_type": "stream",
     "text": [
      "[swscaler @ 0x6a29f80] Warning: data is not aligned! This can lead to a speed loss\n"
     ]
    },
    {
     "name": "stdout",
     "output_type": "stream",
     "text": [
      "0.0\n",
      "0.0\n",
      "0.0\n",
      "0.0\n",
      "0.0\n",
      "30.0\n",
      "0.0\n",
      "0.0\n",
      "0.0\n",
      "0.0\n"
     ]
    },
    {
     "name": "stderr",
     "output_type": "stream",
     "text": [
      "IMAGEIO FFMPEG_WRITER WARNING: input image is not divisible by macro_block_size=16, resizing from (700, 700) to (704, 704) to ensure video compatibility with most codecs and players. To prevent resizing, make your input image divisible by the macro_block_size or set the macro_block_size to 1 (risking incompatibility).\n"
     ]
    },
    {
     "name": "stdout",
     "output_type": "stream",
     "text": [
      "124\n"
     ]
    },
    {
     "name": "stderr",
     "output_type": "stream",
     "text": [
      "[swscaler @ 0x69c7f80] Warning: data is not aligned! This can lead to a speed loss\n"
     ]
    },
    {
     "name": "stdout",
     "output_type": "stream",
     "text": [
      "60.0\n",
      "30.0\n",
      "0.0\n",
      "210.0\n",
      "0.0\n",
      "0.0\n",
      "60.0\n",
      "90.0\n",
      "90.0\n",
      "0.0\n"
     ]
    },
    {
     "name": "stderr",
     "output_type": "stream",
     "text": [
      "IMAGEIO FFMPEG_WRITER WARNING: input image is not divisible by macro_block_size=16, resizing from (700, 700) to (704, 704) to ensure video compatibility with most codecs and players. To prevent resizing, make your input image divisible by the macro_block_size or set the macro_block_size to 1 (risking incompatibility).\n"
     ]
    },
    {
     "name": "stdout",
     "output_type": "stream",
     "text": [
      "124\n"
     ]
    },
    {
     "name": "stderr",
     "output_type": "stream",
     "text": [
      "[swscaler @ 0x6376f80] Warning: data is not aligned! This can lead to a speed loss\n"
     ]
    },
    {
     "name": "stdout",
     "output_type": "stream",
     "text": [
      "0.0\n",
      "0.0\n",
      "0.0\n",
      "0.0\n",
      "0.0\n",
      "30.0\n",
      "0.0\n",
      "150.0\n",
      "0.0\n",
      "0.0\n"
     ]
    },
    {
     "name": "stderr",
     "output_type": "stream",
     "text": [
      "IMAGEIO FFMPEG_WRITER WARNING: input image is not divisible by macro_block_size=16, resizing from (700, 700) to (704, 704) to ensure video compatibility with most codecs and players. To prevent resizing, make your input image divisible by the macro_block_size or set the macro_block_size to 1 (risking incompatibility).\n"
     ]
    },
    {
     "name": "stdout",
     "output_type": "stream",
     "text": [
      "124\n"
     ]
    },
    {
     "name": "stderr",
     "output_type": "stream",
     "text": [
      "[swscaler @ 0x5b8ff80] Warning: data is not aligned! This can lead to a speed loss\n"
     ]
    },
    {
     "name": "stdout",
     "output_type": "stream",
     "text": [
      "60.0\n",
      "0.0\n",
      "0.0\n",
      "0.0\n",
      "0.0\n",
      "0.0\n",
      "0.0\n",
      "0.0\n",
      "0.0\n",
      "0.0\n"
     ]
    },
    {
     "name": "stderr",
     "output_type": "stream",
     "text": [
      "IMAGEIO FFMPEG_WRITER WARNING: input image is not divisible by macro_block_size=16, resizing from (700, 700) to (704, 704) to ensure video compatibility with most codecs and players. To prevent resizing, make your input image divisible by the macro_block_size or set the macro_block_size to 1 (risking incompatibility).\n"
     ]
    },
    {
     "name": "stdout",
     "output_type": "stream",
     "text": [
      "124\n"
     ]
    },
    {
     "name": "stderr",
     "output_type": "stream",
     "text": [
      "[swscaler @ 0x5968f80] Warning: data is not aligned! This can lead to a speed loss\n"
     ]
    },
    {
     "name": "stdout",
     "output_type": "stream",
     "text": [
      "0.0\n",
      "120.0\n",
      "0.0\n",
      "0.0\n",
      "30.0\n",
      "0.0\n",
      "150.0\n",
      "0.0\n",
      "0.0\n",
      "0.0\n"
     ]
    },
    {
     "name": "stderr",
     "output_type": "stream",
     "text": [
      "IMAGEIO FFMPEG_WRITER WARNING: input image is not divisible by macro_block_size=16, resizing from (700, 700) to (704, 704) to ensure video compatibility with most codecs and players. To prevent resizing, make your input image divisible by the macro_block_size or set the macro_block_size to 1 (risking incompatibility).\n"
     ]
    },
    {
     "name": "stdout",
     "output_type": "stream",
     "text": [
      "124\n"
     ]
    },
    {
     "name": "stderr",
     "output_type": "stream",
     "text": [
      "[swscaler @ 0x69b5f80] Warning: data is not aligned! This can lead to a speed loss\n"
     ]
    },
    {
     "name": "stdout",
     "output_type": "stream",
     "text": [
      "0.0\n",
      "0.0\n",
      "0.0\n",
      "0.0\n",
      "0.0\n",
      "30.0\n",
      "0.0\n",
      "60.0\n",
      "0.0\n",
      "0.0\n",
      "Evaluation Reward for episode 500 is: 24.0\n",
      "on episode 512, curr epsilon 0.7330058717129788 (time taken so far: 0-00:02:49.0)\n",
      "     mean loss: adversary 103.19473250116954\n",
      "     mean reward: adversary 17.962014973784516, agent -29.72743458444974\n",
      "on episode 544, curr epsilon 0.7236813358889278 (time taken so far: 0-00:02:57.0)\n",
      "     mean loss: adversary 133.32059324762724\n",
      "     mean reward: adversary 16.59519693431919, agent -30.914906044395053\n",
      "on episode 576, curr epsilon 0.7144754170796777 (time taken so far: 0-00:03:4.0)\n",
      "     mean loss: adversary 211.75623231024392\n",
      "     mean reward: adversary 35.39409226226173, agent -37.15248381039302\n",
      "on episode 608, curr epsilon 0.7053866063633399 (time taken so far: 0-00:03:12.0)\n",
      "     mean loss: adversary 295.7254336764547\n",
      "     mean reward: adversary 32.08137831735509, agent -39.199856039188745\n",
      "on episode 640, curr epsilon 0.6964134140129569 (time taken so far: 0-00:03:19.0)\n",
      "     mean loss: adversary 506.41181995095087\n",
      "     mean reward: adversary 64.10389234299159, agent -45.96664540958773\n",
      "on episode 672, curr epsilon 0.6875543692523218 (time taken so far: 0-00:03:27.0)\n",
      "     mean loss: adversary 342.47255733651326\n",
      "     mean reward: adversary 43.64879112068419, agent -40.50154557759364\n",
      "on episode 704, curr epsilon 0.6788080200149088 (time taken so far: 0-00:03:34.0)\n",
      "     mean loss: adversary 236.46711700979523\n",
      "     mean reward: adversary 31.191658990961947, agent -41.30573453677065\n",
      "on episode 736, curr epsilon 0.6701729327058668 (time taken so far: 0-00:03:41.0)\n",
      "     mean loss: adversary 292.8900959929397\n",
      "     mean reward: adversary 39.75350954082109, agent -37.382426372861616\n",
      "on episode 768, curr epsilon 0.6616476919670418 (time taken so far: 0-00:03:49.0)\n",
      "     mean loss: adversary 494.49016256271165\n",
      "     mean reward: adversary 60.4159264648581, agent -49.25902523692256\n",
      "on episode 800, curr epsilon 0.6532309004449909 (time taken so far: 0-00:03:56.0)\n",
      "     mean loss: adversary 310.3695877121556\n",
      "     mean reward: adversary 32.324549806336506, agent -35.66015815938474\n",
      "on episode 832, curr epsilon 0.644921178561942 (time taken so far: 0-00:04:4.0)\n",
      "     mean loss: adversary 410.57419062630265\n",
      "     mean reward: adversary 44.39094909041341, agent -41.59432053583104\n",
      "on episode 864, curr epsilon 0.6367171642896731 (time taken so far: 0-00:04:11.0)\n",
      "     mean loss: adversary 429.561485416775\n",
      "     mean reward: adversary 44.47937251133782, agent -44.5219770010395\n"
     ]
    }
   ],
   "source": [
    "# train model\n",
    "adversary_net, logger = train(config)"
   ]
  },
  {
   "cell_type": "code",
   "execution_count": null,
   "id": "91f38a3a",
   "metadata": {},
   "outputs": [],
   "source": [
    "eps_start = 0.9\n",
    "eps_end = 0.05\n",
    "eps_decay = 0.9996\n",
    "epsilon = eps_start\n",
    "\n",
    "eps = [epsilon]\n",
    "for i in range(10_000):\n",
    "    epsilon = max((epsilon*eps_decay), eps_end)\n",
    "    eps.append(epsilon)\n",
    "\n",
    "plt.plot(eps)"
   ]
  },
  {
   "cell_type": "code",
   "execution_count": null,
   "id": "c92f014a",
   "metadata": {},
   "outputs": [],
   "source": [
    "# load adversary net\n",
    "adversary_net = SimpleTagNet(config, \"adversary\").to(config.device)\n",
    "adversary_net.load_state_dict(torch.load('./models/batched-baseline-test/adversary-net-5632.pth'))"
   ]
  },
  {
   "cell_type": "code",
   "execution_count": null,
   "id": "af941f18",
   "metadata": {},
   "outputs": [],
   "source": [
    "# save logs\n",
    "logger = AttrDict(\n",
    "        episodic_losses=AttrDict(adversary=[], agent=[]),\n",
    "        episodic_rewards=AttrDict(adversary=[], agent=[])\n",
    "    )\n",
    "with open(\"models/batched-baseline-test/log.json\", \"w\") as f:\n",
    "    json.dump(logger, f)"
   ]
  },
  {
   "cell_type": "code",
   "execution_count": null,
   "id": "654746eb",
   "metadata": {},
   "outputs": [],
   "source": [
    "fig, axes = plt.subplots(1, 2, figsize=(15, 6))\n",
    "axes = axes.ravel()\n",
    "\n",
    "axes[0].plot(logger.episodic_losses.adversary[50:], label=\"adversary\")\n",
    "axes[0].plot(logger.episodic_losses.agent[50:], label=\"good agent\")\n",
    "axes[0].set_title(\"loss\")\n",
    "axes[0].legend()\n",
    "\n",
    "axes[1].plot(logger.episodic_rewards.adversary[50:], label=\"adversary\")\n",
    "axes[1].plot(logger.episodic_rewards.agent[50:], label=\"good agent\")\n",
    "axes[1].set_title(\"reward\")\n",
    "axes[1].legend()"
   ]
  },
  {
   "cell_type": "code",
   "execution_count": null,
   "id": "60c8843b",
   "metadata": {},
   "outputs": [],
   "source": [
    "fig.savefig(\"models/batched-baseline-test/vis.png\")"
   ]
  },
  {
   "cell_type": "code",
   "execution_count": null,
   "id": "968cae03",
   "metadata": {},
   "outputs": [],
   "source": [
    "# load logs\n",
    "with open(\"models/batched-baseline-test/log.json\", \"r\") as f:\n",
    "    logger = json.load(f)"
   ]
  },
  {
   "cell_type": "code",
   "execution_count": null,
   "id": "a69ca42e",
   "metadata": {},
   "outputs": [],
   "source": [
    "def moving_average(a, n=3):\n",
    "    ret = np.cumsum(a, dtype=float)\n",
    "    ret[n:] = ret[n:] - ret[:-n]\n",
    "    return ret[n - 1:] / n\n",
    "\n",
    "def f(a, n):\n",
    "    \"\"\"Zero out beginning of last axis\"\"\"\n",
    "    pad_width = [(0, 0) for _ in range(a.ndim - 1)] + [(n, 0)]\n",
    "    return np.pad(a, pad_width, mode='constant', constant_values=0)\n",
    "\n",
    "fig, axes = plt.subplots(1, 2, figsize=(15, 6))\n",
    "axes = axes.ravel()\n",
    "\n",
    "axes[0].plot(logger[\"episodic_losses\"][\"adversary\"][50:], label=\"adversary\")\n",
    "axes[0].plot(logger[\"episodic_losses\"][\"agent\"][50:], label=\"good agent\")\n",
    "axes[0].set_title(\"loss\")\n",
    "axes[0].legend()\n",
    "\n",
    "adversary_episodic_rewards = np.array(logger[\"episodic_rewards\"][\"adversary\"])*10\n",
    "mean_adversary_episodic_rewards = f(moving_average(adversary_episodic_rewards, n=512), 0)\n",
    "# axes[1].plot(adversary_episodic_rewards, label=\"adversary\")\n",
    "axes[1].plot(mean_adversary_episodic_rewards, label=\"adversary mean\")\n",
    "# axes[1].plot(logger[\"episodic_rewards\"][\"agent\"][50:], label=\"good agent\")\n",
    "axes[1].set_title(\"reward\")\n",
    "axes[1].legend()"
   ]
  },
  {
   "cell_type": "code",
   "execution_count": null,
   "id": "c7f65c98",
   "metadata": {},
   "outputs": [],
   "source": [
    "env = simple_tag_v2.env(\n",
    "    num_good=1,\n",
    "    num_adversaries=3,\n",
    "    num_obstacles=0,\n",
    "    max_cycles=30,\n",
    "    continuous_actions=False\n",
    ").unwrapped\n",
    "def visualize(config, adversary_net):\n",
    "    adversary_net.eval()\n",
    "    with torch.no_grad():\n",
    "        return run_episode(config, adversary_net, should_render=True, is_val=True, evaluation=True)\n",
    "\n",
    "episode = visualize(config, adversary_net)\n",
    "print(\"episode steps\", episode.steps)\n",
    "print(\"episode rewards\", *episode.reward.items())"
   ]
  },
  {
   "cell_type": "code",
   "execution_count": null,
   "id": "b53717a6",
   "metadata": {},
   "outputs": [],
   "source": []
  }
 ],
 "metadata": {
  "kernelspec": {
   "display_name": "Python 3 (ipykernel)",
   "language": "python",
   "name": "python3"
  },
  "language_info": {
   "codemirror_mode": {
    "name": "ipython",
    "version": 3
   },
   "file_extension": ".py",
   "mimetype": "text/x-python",
   "name": "python",
   "nbconvert_exporter": "python",
   "pygments_lexer": "ipython3",
   "version": "3.8.12"
  }
 },
 "nbformat": 4,
 "nbformat_minor": 5
}
