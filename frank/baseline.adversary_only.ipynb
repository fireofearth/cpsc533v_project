{
 "cells": [
  {
   "cell_type": "markdown",
   "id": "1a622b81",
   "metadata": {},
   "source": [
    "Simple Tag\n",
    "https://www.pettingzoo.ml/mpe/simple_tag\n",
    "\n",
    "> This is a predator-prey environment. Good agents (green) are faster and receive a negative reward for being hit by adversaries (red) (-10 for each collision). Adversaries are slower and are rewarded for hitting good agents (+10 for each collision). Obstacles (large black circles) block the way. By default, there is 1 good agent, 3 adversaries and 2 obstacles.\n",
    "\n",
    "Baseline agent algorithm with experience replay buffer"
   ]
  },
  {
   "cell_type": "code",
   "execution_count": 1,
   "id": "07f7b983",
   "metadata": {},
   "outputs": [],
   "source": [
    "import os\n",
    "import time\n",
    "import enum\n",
    "import math\n",
    "import random\n",
    "import collections\n",
    "import statistics\n",
    "import json\n",
    "\n",
    "import matplotlib.pyplot as plt\n",
    "import pandas as pd\n",
    "import numpy as np\n",
    "import torch\n",
    "import torch.nn\n",
    "import torch.nn.functional as F\n",
    "\n",
    "import imageio\n",
    "\n",
    "class AttrDict(dict):\n",
    "    def __init__(self, *args, **kwargs):\n",
    "        super(AttrDict, self).__init__(*args, **kwargs)\n",
    "        self.__dict__ = self\n",
    "\n",
    "class TimeDelta(object):\n",
    "    def __init__(self, delta_time):\n",
    "        \"\"\"Convert time difference in seconds to days, hours, minutes, seconds.\n",
    "        \n",
    "        Parameters\n",
    "        ==========\n",
    "        delta_time : float\n",
    "            Time difference in seconds.\n",
    "        \"\"\"\n",
    "        self.fractional, seconds = math.modf(delta_time)\n",
    "        seconds = int(seconds)\n",
    "        minutes, self.seconds = divmod(seconds, 60)\n",
    "        hours, self.minutes = divmod(minutes, 60)\n",
    "        self.days, self.hours = divmod(hours, 24)\n",
    "    \n",
    "    def __repr__(self):\n",
    "        return f\"{self.days}-{self.hours:02}:{self.minutes:02}:{self.seconds + self.fractional:02}\"\n",
    "\n",
    "from pettingzoo.mpe import simple_tag_v2\n",
    "from pettingzoo.utils import random_demo\n",
    "\n",
    "# torch.autograd.set_detect_anomaly(True)"
   ]
  },
  {
   "cell_type": "markdown",
   "id": "d7724bfe",
   "metadata": {},
   "source": [
    "Arguments in instantiate environment.\n",
    "\n",
    "- num_good: number of good agents\n",
    "- num_adversaries: number of adversaries\n",
    "- num_obstacles: number of obstacles\n",
    "- max_cycles: number of frames (a step for each agent) until game terminates\n",
    "- continuous_actions: Whether agent action spaces are discrete(default) or continuous"
   ]
  },
  {
   "cell_type": "code",
   "execution_count": 2,
   "id": "08cbbb0e",
   "metadata": {},
   "outputs": [],
   "source": [
    "# env.close()"
   ]
  },
  {
   "cell_type": "code",
   "execution_count": 2,
   "id": "9858b4c8",
   "metadata": {},
   "outputs": [],
   "source": [
    "num_good = 1\n",
    "num_adversaries = 3\n",
    "num_obstacles = 0\n",
    "\n",
    "env = simple_tag_v2.env(\n",
    "    num_good=num_good,\n",
    "    num_adversaries=num_adversaries,\n",
    "    num_obstacles=num_obstacles,\n",
    "    max_cycles=30,\n",
    "    continuous_actions=False\n",
    ").unwrapped"
   ]
  },
  {
   "cell_type": "markdown",
   "id": "34cabc86",
   "metadata": {},
   "source": [
    "### What are the environment parameters?\n",
    "\n",
    "Adversaries (red) capture non-adversary (green). The map is a 2D grid and everything is initialized in the region [-1, +1]. There doesn't seem to be position clipping for out of bounds, but non-adversary agent are penalized for out of bounds.\n",
    "Agent's observation is a ndarray vector of concatenated data in the following order:\n",
    "\n",
    "1. current velocity (2,)\n",
    "2. current position (2,)\n",
    "3. relative position (2,) of each landmark\n",
    "4. relative position (2,) of each other agent\n",
    "5. velocity (2,) of each other non-adversary agent\n",
    "\n",
    "When there are 3 adverseries and 3 non-adversaries, then advarsary observation space is 24 dimensional and non-advarsary observation space is 22 dimensional.\n",
    "\n",
    "The environment is sequential. Agents move one at a time. Agents are either `adversary_*` for adversary or `agent_*` for non-adversary.\n",
    "\n",
    "Actions:\n",
    "\n",
    "- 0 is NOP\n",
    "- 1 is go left\n",
    "- 2 is go right\n",
    "- 3 is go down\n",
    "- 4 is go up"
   ]
  },
  {
   "cell_type": "markdown",
   "id": "e6301c6a",
   "metadata": {},
   "source": [
    "### How to train the agents?\n",
    "\n",
    "When loss is increasing for Double DQN, then increase the interval for updating target network.\n",
    "<https://stackoverflow.com/questions/56964657/cartpole-v0-loss-increasing-using-dqn>"
   ]
  },
  {
   "cell_type": "code",
   "execution_count": 3,
   "id": "90c62b79",
   "metadata": {},
   "outputs": [],
   "source": [
    "env.reset()"
   ]
  },
  {
   "cell_type": "code",
   "execution_count": 4,
   "id": "7c5ad6e0",
   "metadata": {},
   "outputs": [
    {
     "data": {
      "text/plain": [
       "{'exp_name': 'agents=1-adversary=3-obs=0-network=MLP',\n",
       " 'discount': 0.99,\n",
       " 'epsilon': 0.1,\n",
       " 'n_episodes': 20000,\n",
       " 'batch_size': 1,\n",
       " 'update_target_interval': 32,\n",
       " 'report_interval': 32,\n",
       " 'clip_grad_norm': 5.0,\n",
       " 'lr': 0.002,\n",
       " 'reward_scale': 1,\n",
       " 'device': device(type='cuda'),\n",
       " 'common': {'hidden_size': 32, 'n_actions': 5},\n",
       " 'adversary': {'n_agents': 3,\n",
       "  'observation_shape': (12,),\n",
       "  'hidden_size': 32,\n",
       "  'n_actions': 5},\n",
       " 'agent': {'n_agents': 1,\n",
       "  'observation_shape': (10,),\n",
       "  'hidden_size': 32,\n",
       "  'n_actions': 5}}"
      ]
     },
     "execution_count": 4,
     "metadata": {},
     "output_type": "execute_result"
    }
   ],
   "source": [
    "def get_agent_counts():\n",
    "    all_agents = 0\n",
    "    adversaries = 0\n",
    "    for agent in env.world.agents:\n",
    "        all_agents += 1\n",
    "        adversaries += 1 if agent.adversary else 0\n",
    "    good_agents = all_agents - adversaries\n",
    "    return (adversaries, good_agents)\n",
    "\n",
    "def process_config(config):\n",
    "    for k, v in config.common.items():\n",
    "        config.adversary[k] = v\n",
    "        config.agent[k] = v\n",
    "\n",
    "n_adversaries, n_good_agents = get_agent_counts()\n",
    "config = AttrDict(\n",
    "    exp_name = \"agents={}-adversary={}-obs={}-network={}\".format(num_good, num_adversaries, num_obstacles, 'MLP'),\n",
    "    discount = 0.99,\n",
    "    epsilon = 0.1,\n",
    "    n_episodes=20_000,\n",
    "    batch_size=1,\n",
    "    update_target_interval=32,\n",
    "    report_interval=32,\n",
    "    clip_grad_norm=5.0,\n",
    "    lr=0.002,\n",
    "    reward_scale=1,\n",
    "    device=torch.device(\"cuda\" if torch.cuda.is_available() else \"cpu\"),\n",
    "    common=AttrDict(\n",
    "        hidden_size=32,\n",
    "        n_actions=env.action_space(env.agent_selection).n,\n",
    "    ),\n",
    "    adversary=AttrDict(\n",
    "        n_agents=n_adversaries,\n",
    "        observation_shape=env.observation_space(\"adversary_0\").shape\n",
    "\n",
    "    ),\n",
    "    agent=AttrDict(\n",
    "        n_agents=n_good_agents,\n",
    "        observation_shape=env.observation_space(\"agent_0\").shape\n",
    "    )\n",
    ")\n",
    "process_config(config)\n",
    "config"
   ]
  },
  {
   "cell_type": "code",
   "execution_count": 5,
   "id": "5224e205",
   "metadata": {},
   "outputs": [],
   "source": [
    "class Normalizer(object):\n",
    "    def __init__(self, env):\n",
    "        self.n_landmarks = len(env.world.landmarks)\n",
    "        self.n_allagents = len(env.world.agents)\n",
    "        self.n_good = sum(map(lambda a: not a.adversary, env.world.agents))\n",
    "    \n",
    "    @staticmethod\n",
    "    def normalize_abs_pos(s):\n",
    "        \"\"\"Clip absolute position and scale to [-1, 1]\n",
    "        s is a scalar or an ndarray of one dimension.\"\"\"\n",
    "        return np.clip(s, -1.5, 1.5) / 1.5\n",
    "\n",
    "    @staticmethod\n",
    "    def normalize_rel_pos(s):\n",
    "        \"\"\"Clip relative position and scale to [-1, 1]\n",
    "        s is a scalar or an ndarray of one dimension.\"\"\"\n",
    "        return np.clip(s, -3, 3) / 3\n",
    "\n",
    "    def __call__(self, obs):\n",
    "        # normalize and clip positions\n",
    "        norm_obs = obs.copy()\n",
    "        # normalize velocity of current entity\n",
    "        norm_obs[:2] = norm_obs[:2] / 1.3\n",
    "        # clip/scale abs. position of current entity\n",
    "        norm_obs[2:4] = self.normalize_abs_pos(norm_obs[2:4])\n",
    "        # clip/scale rel. position of other entities\n",
    "        n_range = self.n_landmarks + self.n_allagents - 1\n",
    "        for i in range(n_range):\n",
    "            norm_obs[4 + (2*i):4 + (2*(i + 1))] = self.normalize_rel_pos(\n",
    "                norm_obs[4 + (2*i):4 + (2*(i + 1))]\n",
    "            )\n",
    "        # normalize velocity of other entities\n",
    "        norm_obs[4 + (2*n_range):] = norm_obs[4 + (2*n_range):] / 1.3\n",
    "        return norm_obs\n",
    "    \n",
    "class RewardsShaper(object):\n",
    "    def __init__(self, env):\n",
    "        self.n_landmarks = len(env.world.landmarks)\n",
    "        # self.n_allagents = len(env.world.agents)\n",
    "        self.name_to_idx = {agent.name: i for i, agent in enumerate(env.world.agents)}\n",
    "        self.idx_to_name = {i: agent.name for i, agent in enumerate(env.world.agents)}\n",
    "        self.goodagent_indices = [\n",
    "            i for i, agent in enumerate(env.world.agents) if agent.name.startswith(\"agent\")\n",
    "        ]\n",
    "        self.adversary_indices = [\n",
    "            i for i, agent in enumerate(env.world.agents) if agent.name.startswith(\"adversary\")\n",
    "        ]\n",
    "        # rdist - distance between adversary-good agent to start computing rewards.\n",
    "        self.rdist = 1\n",
    "        # collision_dist - distance between adversary-good agent to count collision.\n",
    "        #    Based on PettingZoo numbers. \n",
    "        self.collision_dist = 0.075 + 0.05\n",
    "\n",
    "    @staticmethod\n",
    "    def bound(x):\n",
    "        if x < 0.9:\n",
    "            return 0\n",
    "        if x < 1.0:\n",
    "            return (x - 0.9) * 10\n",
    "        return min(np.exp(2 * x - 2), 10)\n",
    "        \n",
    "    def __call__(self, agent_name, obs):\n",
    "        \"\"\"Compute reshaped rewards from observation for agent given agent name.\n",
    "        Adversary: start gaining small rewards as it nears good agents.\n",
    "        \n",
    "        Good agent: starts gaining small penality as it nears bad agents.\n",
    "        \"\"\"\n",
    "        _obs = obs[4 + (2*self.n_landmarks):]\n",
    "        agent_idx = self.name_to_idx[agent_name]\n",
    "        cum_r = 0.\n",
    "        if agent_name.startswith(\"agent\"):\n",
    "            # penalty across all adversaries\n",
    "            for adversary_idx in self.adversary_indices:\n",
    "                # penalty from distance of adversary; penalty of collision\n",
    "                other_idx = adversary_idx - 1 if agent_idx < adversary_idx else adversary_idx\n",
    "                x, y = _obs[2*other_idx:(2*other_idx) + 2]\n",
    "                d    = math.sqrt(x**2 + y**2)\n",
    "                cum_r -= min(max(1 -  (1/self.rdist)*d, 0), 1)\n",
    "                \n",
    "            # penalty from boudary based on PettingZoo\n",
    "            pos = obs[2:4]\n",
    "            cum_r -= self.bound(abs(pos[0]))\n",
    "            cum_r -= self.bound(abs(pos[1]))\n",
    "        \n",
    "        elif agent_name.startswith(\"adversary\"):\n",
    "            # reward across all agents\n",
    "            for goodagent_idx in self.goodagent_indices:\n",
    "                # reward from distance to agent; reward of collision\n",
    "                other_idx = goodagent_idx - 1 if agent_idx < goodagent_idx else goodagent_idx\n",
    "                x, y = _obs[2*other_idx:(2*other_idx) + 2]\n",
    "                d    = math.sqrt(x**2 + y**2)\n",
    "                cum_r += 1 - (1/self.rdist)*d\n",
    "        \n",
    "        return cum_r\n",
    "\n",
    "normalize = Normalizer(env) # norm_obs = normalize(obs)\n",
    "shapereward = RewardsShaper(env) # reward = shapereward(agent_name, obs)\n",
    "criterion = torch.nn.MSELoss()\n",
    "# criterion = torch.nn.SmoothL1Loss()"
   ]
  },
  {
   "cell_type": "code",
   "execution_count": 6,
   "id": "e9dce3b9",
   "metadata": {},
   "outputs": [],
   "source": [
    "class SimpleTagNet(torch.nn.Module):\n",
    "    \"\"\"NN Model for the agents. Both good agents and adversaries use this model.\"\"\"\n",
    "        \n",
    "    def __init__(self, config, agent_type):\n",
    "        super().__init__()\n",
    "        # self.config = config\n",
    "        self.device      = config.device\n",
    "        self.observation_size = math.prod(config[agent_type].observation_shape)\n",
    "        self.n_actions   = config[agent_type].n_actions\n",
    "        self.hidden_size = config[agent_type].hidden_size\n",
    "        self.output_mlp = torch.nn.Sequential(\n",
    "            torch.nn.Linear(self.observation_size, self.hidden_size),\n",
    "            torch.nn.ReLU(inplace=True),\n",
    "            torch.nn.Linear(self.hidden_size, self.hidden_size),\n",
    "            torch.nn.ReLU(inplace=True),\n",
    "            torch.nn.Linear(self.hidden_size, self.n_actions)\n",
    "        )\n",
    "    \n",
    "    def forward(self, observation):\n",
    "        \"\"\"Apply DQN to episode step.\n",
    "        \n",
    "        Parameters\n",
    "        ==========\n",
    "        observation : ndarray\n",
    "            The observation vector obtained from the environment.\n",
    "        \n",
    "        Returns\n",
    "        =======\n",
    "        torch.Tensor\n",
    "            Vector of Q-value associated with each action.\n",
    "        \"\"\"\n",
    "        observation = normalize(observation)\n",
    "        observation = torch.tensor(observation, dtype=torch.float, device=self.device)\n",
    "        Q = self.output_mlp(observation)\n",
    "        return Q\n",
    "\n",
    "def choose_action(config, agent_type, Q, epsilon=0.05, is_val=False):\n",
    "    if not is_val and random.random() < epsilon:\n",
    "        return random.randrange(config[agent_type].n_actions)\n",
    "    else:\n",
    "        return torch.argmax(Q).item()"
   ]
  },
  {
   "cell_type": "code",
   "execution_count": 7,
   "id": "00f86814",
   "metadata": {
    "scrolled": true
   },
   "outputs": [],
   "source": [
    "def run_episode(config, adversary_net, should_render=False, epsilon=0.05, is_val=False,\n",
    "                evaluation=False, save_video=False, save_video_dict=None):\n",
    "    \"\"\"Run one episodes.\n",
    "    \n",
    "    inputs consist of observation, message (backprop), hidden (backprop) indexed by agent\n",
    "    outputs consist of action, q-value of action (backprop), reward, done indexed by (step, agent)\n",
    "    \n",
    "    Returns\n",
    "    =======\n",
    "    AttrDict\n",
    "        Contains episode metrics:\n",
    "        - steps : number of steps. All agents take an action at each step.\n",
    "        - reward : episodic rewards indexed by ('adversary', 'agent').\n",
    "        - step_records : list of quantities produced indiced by step, ('adversary', 'agent'), agent index.\n",
    "          Each step record has:\n",
    "            + observation\n",
    "            + reward\n",
    "            + done\n",
    "        - loss : contains episodic losses indexed by ('adversary', 'agent'). To be updated by train_agents()\n",
    "    \"\"\"\n",
    "    rendered_video = []\n",
    "    episode = AttrDict(\n",
    "        steps=0,\n",
    "        reward=AttrDict(adversary=0, agent=0),\n",
    "        step_records=[],\n",
    "        loss=AttrDict(adversary=0, agent=0)\n",
    "    )\n",
    "    n_agents = config.adversary.n_agents + config.agent.n_agents\n",
    "    step_record = None\n",
    "    \n",
    "    env.reset()\n",
    "    for agent_step_idx, agent_name in enumerate(env.agent_iter()):\n",
    "        if agent_step_idx % n_agents == 0:\n",
    "            episode.steps += 1\n",
    "            step_record = AttrDict(adversary={}, agent={})\n",
    "            episode.step_records.append(step_record)\n",
    "            \n",
    "        obs_curr, reward, done, _ = env.last()\n",
    "        if not evaluation:\n",
    "            reward += shapereward(agent_name, obs_curr)\n",
    "        if should_render:\n",
    "            if save_video:\n",
    "                rendered_image = env.render(mode='rgb_array')\n",
    "#                 print(rendered_image.shape)\n",
    "                rendered_video.append(rendered_image)\n",
    "            env.render()\n",
    "            if agent_name == \"adversary_0\":\n",
    "                # print(\"rew, shaped rew\", round(_reward, 2), round(reward, 2))\n",
    "                # print(\"obs, normed obs\", np.round(obs_curr, 2), np.round(normalize(obs_curr), 2))\n",
    "                # print(\"obs, normed obs\", np.round(obs_curr[4:6], 2), np.round(normalize(obs_curr[4:6]), 2))\n",
    "                # print(\"obs, rew\", np.round(normalize(obs_curr[4:6]), 2), reward)\n",
    "                pass\n",
    "        agent_type, agent_idx = agent_name.split(\"_\")\n",
    "        agent_idx = int(agent_idx)\n",
    "        if done:\n",
    "            step_record[agent_type][agent_idx] = AttrDict(\n",
    "                observation=obs_curr,\n",
    "                action=None,\n",
    "                Q=None,\n",
    "                reward=reward,\n",
    "                done=done,\n",
    "            )\n",
    "            env.step(None)\n",
    "            continue\n",
    "        if agent_type == \"agent\":\n",
    "            env.step(0)\n",
    "            step_record[agent_type][agent_idx] = AttrDict(\n",
    "                observation=obs_curr,\n",
    "                action=0,\n",
    "                Q=None,\n",
    "                reward=reward,\n",
    "                done=done,\n",
    "            )\n",
    "        else:\n",
    "            # agent_type == \"adversary\"\n",
    "            Q_curr = adversary_net(obs_curr)\n",
    "            action = choose_action(config, agent_type, Q_curr, epsilon, is_val=is_val)\n",
    "            env.step(action)\n",
    "            step_record[agent_type][agent_idx] = AttrDict(\n",
    "                # inputs to network\n",
    "                observation=obs_curr,\n",
    "                # outputs of network / inputs to environment\n",
    "                action=action,\n",
    "#                 Q=Q_curr,\n",
    "                Q=None,\n",
    "                # output of environment\n",
    "                reward=reward,\n",
    "                done=done,\n",
    "            )\n",
    "        episode.reward[agent_type] += reward\n",
    "    \n",
    "    if should_render:\n",
    "        env.close()\n",
    "        if save_video:\n",
    "            # print(len(rendered_video))\n",
    "            imageio.mimwrite(os.path.join(save_video_dict['validation_save_dir'],'result-{}.mp4'.format(save_video_dict['image_counter'])), rendered_video, fps=30)\n",
    "    return episode\n",
    "\n",
    "def train_agents(config, batch, adversary_net, adversary_target_net, adversary_optimizer):\n",
    "    \"\"\"Compute loss of episode and update agent weights.\n",
    "    \"\"\"\n",
    "    device = config.device\n",
    "    discount = torch.tensor(config.discount, dtype=torch.float, device=device)\n",
    "    for episode in batch:\n",
    "        for step_idx in range(episode.steps):\n",
    "            for agent_idx in episode.step_records[step_idx].adversary.keys():\n",
    "                curr_record = episode.step_records[step_idx].adversary[agent_idx]\n",
    "                if curr_record.done:\n",
    "                    # agent is done at this step\n",
    "                    continue\n",
    "                adversary_optimizer.zero_grad()\n",
    "                next_record = episode.step_records[step_idx + 1].adversary[agent_idx]\n",
    "                r = torch.tensor(next_record.reward, dtype=torch.float, device=device)\n",
    "                y = None\n",
    "                if next_record.done:\n",
    "                    # agent terminates at next step\n",
    "                    y = r\n",
    "                else:\n",
    "                    next_o = next_record.observation\n",
    "                    target_Q = adversary_target_net(next_o)\n",
    "                    max_target_Q = torch.max(target_Q)\n",
    "                    y = r + discount*max_target_Q\n",
    "                curr_o = curr_record.observation\n",
    "                u = curr_record.action\n",
    "#                 Q = curr_record.Q\n",
    "                Q = adversary_net(curr_o)\n",
    "                Q_u = Q[u]\n",
    "                # adversary_loss = torch.pow(y - Q_u, 2.)\n",
    "                adversary_loss = criterion(y, Q_u)\n",
    "                adversary_loss.backward()#retain_graph=True)\n",
    "                \n",
    "                show_norms = False\n",
    "                if show_norms:\n",
    "                    norms = [p.grad.detach().data.norm().item() for p in adversary_net.parameters()]\n",
    "                    print(\"norm of gradiants\", *np.round(norms, 2))\n",
    "                    \n",
    "                torch.nn.utils.clip_grad_norm_(adversary_net.parameters(), config.clip_grad_norm)\n",
    "                adversary_optimizer.step()\n",
    "                episode.loss.adversary += adversary_loss.item()\n",
    "                \n",
    "def train(config):\n",
    "    \"\"\"\n",
    "    - Use parameter sharing between agents of the same class.\n",
    "    - Good agents use one RL model, adversaries use another RL model.\n",
    "      Train the agents side by side.\n",
    "    - Separate, disjoint communication channels for two classes of agents,\n",
    "      maintained by a container to store the messages.\n",
    "    \"\"\"\n",
    "    eps_start = 0.9\n",
    "    eps_end = 0.05\n",
    "    eps_decay = 0.9996\n",
    "    epsilon = eps_start\n",
    "    \n",
    "    best_reward_evaluation = 0\n",
    "        \n",
    "    print(\"Training the agents...\")\n",
    "    os.makedirs(\"models/{}\".format(config.exp_name), exist_ok=True)\n",
    "    t0 = time.time()\n",
    "    device = config.device\n",
    "    adversary_net = SimpleTagNet(config, \"adversary\").to(device)\n",
    "    adversary_target_net = SimpleTagNet(config, \"adversary\").to(device)\n",
    "    adversary_target_net.eval()\n",
    "    print(\"Created the agent nets.\")\n",
    "    adversary_optimizer = torch.optim.SGD(adversary_net.parameters(), lr=config.lr)\n",
    "    logger = AttrDict(\n",
    "        episodic_losses=AttrDict(adversary=[], agent=[]),\n",
    "        episodic_rewards=AttrDict(adversary=[], agent=[])\n",
    "    )\n",
    "    def update_targets():\n",
    "        adversary_target_net.load_state_dict(adversary_net.state_dict())\n",
    "    print(\"Initial update of target nets\")\n",
    "    update_targets()\n",
    "    \n",
    "    batch = []\n",
    "    print(\"Beginning the episodes...\")\n",
    "    for episode_idx in range(config.n_episodes):\n",
    "        # Run an episode\n",
    "        episode = run_episode(config, adversary_net,\n",
    "                              epsilon=epsilon,\n",
    "                              should_render=episode_idx % config.report_interval == 0 and episode_idx > 0)\n",
    "        batch.append(episode)\n",
    "        epsilon = max(epsilon*eps_decay, eps_end)\n",
    "        \n",
    "        # Train on the episode\n",
    "        if episode_idx % config.batch_size == 0 and episode_idx > 0:\n",
    "            train_agents(config, batch, adversary_net,\n",
    "                         adversary_target_net,\n",
    "                         adversary_optimizer)\n",
    "            batch = []\n",
    "        \n",
    "        # Logging the reward and los\n",
    "        logger.episodic_losses.adversary.append(episode.loss.adversary)\n",
    "        logger.episodic_losses.agent.append(episode.loss.agent)\n",
    "        logger.episodic_rewards.adversary.append(episode.reward.adversary)\n",
    "        logger.episodic_rewards.agent.append(episode.reward.agent)\n",
    "\n",
    "        if episode_idx % config.update_target_interval == 0 and episode_idx > 0:\n",
    "            # Update double network\n",
    "            update_targets()\n",
    "        \n",
    "        if episode_idx % config.report_interval == 0 and episode_idx > 0:\n",
    "            # Logging\n",
    "            t1 = time.time()\n",
    "            tdelta = TimeDelta(round(t1 - t0, 0))\n",
    "            print(f\"on episode {episode_idx}, curr epsilon {epsilon} (time taken so far: {tdelta})\")\n",
    "            mean_loss_adversary = statistics.fmean(logger.episodic_losses.adversary[-config.report_interval:])\n",
    "            mean_reward_adversary = statistics.fmean(logger.episodic_rewards.adversary[-config.report_interval:])\n",
    "            mean_reward_agent = statistics.fmean(logger.episodic_rewards.agent[-config.report_interval:])\n",
    "            print(f\"     mean loss: adversary {mean_loss_adversary}\")\n",
    "            print(f\"     mean reward: adversary {mean_reward_adversary}, agent {mean_reward_agent}\")\n",
    "            \n",
    "        if episode_idx % 500 == 0 and episode_idx > 0:\n",
    "            adversary_net.eval()\n",
    "            with torch.no_grad():\n",
    "                validation_save_dir = \"models/{}/validation_results/epoch-{}\".format(config.exp_name, episode_idx)\n",
    "                os.makedirs(validation_save_dir, exist_ok=True)\n",
    "                validation_total_reward = 0\n",
    "                torch.save(\n",
    "                    adversary_net.state_dict(),\n",
    "                    f\"models/{config.exp_name}/adversary-net-{episode_idx}.pth\"\n",
    "                )\n",
    "                for e in range(100):\n",
    "                    d = {\n",
    "                        'validation_save_dir':validation_save_dir,\n",
    "                        'image_counter': e\n",
    "                    }\n",
    "                    episode = run_episode(config, adversary_net,\n",
    "                                          epsilon=epsilon,\n",
    "                                          should_render=e % 10 == 0, save_video=e%10==0, save_video_dict=d, is_val=True, evaluation=True)\n",
    "                    print(episode.reward.adversary)\n",
    "                    validation_total_reward += episode.reward.adversary\n",
    "                    adversary_net.train()\n",
    "\n",
    "                validation_total_reward /= 100\n",
    "                print('Evaluation Reward for episode {} is: {}'.format(episode_idx, validation_total_reward))\n",
    "                if validation_total_reward > best_reward_evaluation:\n",
    "                    best_reward_evaluation = validation_total_reward\n",
    "                    torch.save(\n",
    "                        adversary_net.state_dict(),\n",
    "                        f\"models/{config.exp_name}/adversary-net-best.pth\"\n",
    "                    )\n",
    "            adversary_net.train()\n",
    "        \n",
    "    \n",
    "    return adversary_net, logger\n"
   ]
  },
  {
   "cell_type": "code",
   "execution_count": 8,
   "id": "c0210fc8",
   "metadata": {
    "scrolled": true
   },
   "outputs": [
    {
     "name": "stdout",
     "output_type": "stream",
     "text": [
      "Training the agents...\n",
      "Created the agent nets.\n",
      "Initial update of target nets\n",
      "Beginning the episodes...\n",
      "on episode 32, curr epsilon 0.8881957186750149 (time taken so far: 0-00:00:8.0)\n",
      "     mean loss: adversary 131.80569727213975\n",
      "     mean reward: adversary -3.842050141927477, agent -24.082571788052647\n",
      "on episode 64, curr epsilon 0.8768970195551845 (time taken so far: 0-00:00:14.0)\n",
      "     mean loss: adversary 223.42055460313887\n",
      "     mean reward: adversary -1.0056777204398775, agent -29.777168804668552\n",
      "on episode 96, curr epsilon 0.8657420506956067 (time taken so far: 0-00:00:19.0)\n",
      "     mean loss: adversary 143.3687644372973\n",
      "     mean reward: adversary -2.2239012196432166, agent -19.012946029531424\n",
      "on episode 128, curr epsilon 0.8547289837098901 (time taken so far: 0-00:00:25.0)\n",
      "     mean loss: adversary 35.895247541106826\n",
      "     mean reward: adversary -15.75631182250897, agent -21.305499147674382\n",
      "on episode 160, curr epsilon 0.843856013470467 (time taken so far: 0-00:00:30.0)\n",
      "     mean loss: adversary 101.43281854346252\n",
      "     mean reward: adversary 1.8941676352047323, agent -21.876344475127727\n",
      "on episode 192, curr epsilon 0.8331213578127185 (time taken so far: 0-00:00:36.0)\n",
      "     mean loss: adversary 270.71281093025914\n",
      "     mean reward: adversary 20.88420141972327, agent -31.603954083635358\n",
      "on episode 224, curr epsilon 0.8225232572428655 (time taken so far: 0-00:00:42.0)\n",
      "     mean loss: adversary 116.51136441006415\n",
      "     mean reward: adversary 5.758456327189064, agent -28.227407247382377\n",
      "on episode 256, curr epsilon 0.8120599746495719 (time taken so far: 0-00:00:47.0)\n",
      "     mean loss: adversary 133.8198588080614\n",
      "     mean reward: adversary 9.27055177126484, agent -25.38637192967594\n",
      "on episode 288, curr epsilon 0.8017297950192198 (time taken so far: 0-00:00:53.0)\n",
      "     mean loss: adversary 114.60286249523205\n",
      "     mean reward: adversary 10.027789355739532, agent -27.12395477443956\n",
      "on episode 320, curr epsilon 0.7915310251548043 (time taken so far: 0-00:00:58.0)\n",
      "     mean loss: adversary 245.66547567849244\n",
      "     mean reward: adversary 27.941318658059252, agent -34.4198135701174\n",
      "on episode 352, curr epsilon 0.7814619933984067 (time taken so far: 0-00:01:3.0)\n",
      "     mean loss: adversary 65.66653624849087\n",
      "     mean reward: adversary 14.146651096496264, agent -23.288042329548862\n",
      "on episode 384, curr epsilon 0.7715210493571957 (time taken so far: 0-00:01:9.0)\n",
      "     mean loss: adversary 130.14446309863706\n",
      "     mean reward: adversary 9.573301214146298, agent -25.131630802822077\n",
      "on episode 416, curr epsilon 0.7617065636329157 (time taken so far: 0-00:01:14.0)\n",
      "     mean loss: adversary 70.78563900253424\n",
      "     mean reward: adversary 11.975297062965968, agent -28.160421992911314\n",
      "on episode 448, curr epsilon 0.7520169275548149 (time taken so far: 0-00:01:20.0)\n",
      "     mean loss: adversary 163.84387209002833\n",
      "     mean reward: adversary 20.685313383284058, agent -30.58055739584759\n",
      "on episode 480, curr epsilon 0.7424505529159724 (time taken so far: 0-00:01:25.0)\n",
      "     mean loss: adversary 184.84005416444577\n",
      "     mean reward: adversary 25.278127335033595, agent -33.29815197685097\n"
     ]
    },
    {
     "name": "stderr",
     "output_type": "stream",
     "text": [
      "IMAGEIO FFMPEG_WRITER WARNING: input image is not divisible by macro_block_size=16, resizing from (700, 700) to (704, 704) to ensure video compatibility with most codecs and players. To prevent resizing, make your input image divisible by the macro_block_size or set the macro_block_size to 1 (risking incompatibility).\n"
     ]
    },
    {
     "name": "stdout",
     "output_type": "stream",
     "text": [
      "124\n"
     ]
    },
    {
     "name": "stderr",
     "output_type": "stream",
     "text": [
      "[swscaler @ 0x60cca80] Warning: data is not aligned! This can lead to a speed loss\n"
     ]
    },
    {
     "name": "stdout",
     "output_type": "stream",
     "text": [
      "0.0\n",
      "0.0\n",
      "0.0\n",
      "0.0\n",
      "0.0\n",
      "0.0\n",
      "0.0\n",
      "90.0\n",
      "0.0\n",
      "0.0\n"
     ]
    },
    {
     "name": "stderr",
     "output_type": "stream",
     "text": [
      "IMAGEIO FFMPEG_WRITER WARNING: input image is not divisible by macro_block_size=16, resizing from (700, 700) to (704, 704) to ensure video compatibility with most codecs and players. To prevent resizing, make your input image divisible by the macro_block_size or set the macro_block_size to 1 (risking incompatibility).\n"
     ]
    },
    {
     "name": "stdout",
     "output_type": "stream",
     "text": [
      "124\n"
     ]
    },
    {
     "name": "stderr",
     "output_type": "stream",
     "text": [
      "[swscaler @ 0x5db1a80] Warning: data is not aligned! This can lead to a speed loss\n"
     ]
    },
    {
     "name": "stdout",
     "output_type": "stream",
     "text": [
      "360.0\n",
      "90.0\n",
      "0.0\n",
      "0.0\n",
      "0.0\n",
      "0.0\n",
      "0.0\n",
      "0.0\n",
      "90.0\n",
      "0.0\n"
     ]
    },
    {
     "name": "stderr",
     "output_type": "stream",
     "text": [
      "IMAGEIO FFMPEG_WRITER WARNING: input image is not divisible by macro_block_size=16, resizing from (700, 700) to (704, 704) to ensure video compatibility with most codecs and players. To prevent resizing, make your input image divisible by the macro_block_size or set the macro_block_size to 1 (risking incompatibility).\n"
     ]
    },
    {
     "name": "stdout",
     "output_type": "stream",
     "text": [
      "124\n"
     ]
    },
    {
     "name": "stderr",
     "output_type": "stream",
     "text": [
      "[swscaler @ 0x694ba80] Warning: data is not aligned! This can lead to a speed loss\n"
     ]
    },
    {
     "name": "stdout",
     "output_type": "stream",
     "text": [
      "0.0\n",
      "0.0\n",
      "60.0\n",
      "420.0\n",
      "90.0\n",
      "60.0\n",
      "90.0\n",
      "60.0\n",
      "0.0\n",
      "150.0\n"
     ]
    },
    {
     "name": "stderr",
     "output_type": "stream",
     "text": [
      "IMAGEIO FFMPEG_WRITER WARNING: input image is not divisible by macro_block_size=16, resizing from (700, 700) to (704, 704) to ensure video compatibility with most codecs and players. To prevent resizing, make your input image divisible by the macro_block_size or set the macro_block_size to 1 (risking incompatibility).\n"
     ]
    },
    {
     "name": "stdout",
     "output_type": "stream",
     "text": [
      "124\n"
     ]
    },
    {
     "name": "stderr",
     "output_type": "stream",
     "text": [
      "[swscaler @ 0x5a93a80] Warning: data is not aligned! This can lead to a speed loss\n"
     ]
    },
    {
     "name": "stdout",
     "output_type": "stream",
     "text": [
      "0.0\n",
      "60.0\n",
      "0.0\n",
      "0.0\n",
      "0.0\n",
      "60.0\n",
      "60.0\n",
      "90.0\n",
      "0.0\n",
      "0.0\n"
     ]
    },
    {
     "name": "stderr",
     "output_type": "stream",
     "text": [
      "IMAGEIO FFMPEG_WRITER WARNING: input image is not divisible by macro_block_size=16, resizing from (700, 700) to (704, 704) to ensure video compatibility with most codecs and players. To prevent resizing, make your input image divisible by the macro_block_size or set the macro_block_size to 1 (risking incompatibility).\n"
     ]
    },
    {
     "name": "stdout",
     "output_type": "stream",
     "text": [
      "124\n"
     ]
    },
    {
     "name": "stderr",
     "output_type": "stream",
     "text": [
      "[swscaler @ 0x6b8ea80] Warning: data is not aligned! This can lead to a speed loss\n"
     ]
    },
    {
     "name": "stdout",
     "output_type": "stream",
     "text": [
      "30.0\n",
      "0.0\n",
      "0.0\n",
      "0.0\n",
      "0.0\n",
      "0.0\n",
      "0.0\n",
      "0.0\n",
      "0.0\n",
      "0.0\n"
     ]
    },
    {
     "name": "stderr",
     "output_type": "stream",
     "text": [
      "IMAGEIO FFMPEG_WRITER WARNING: input image is not divisible by macro_block_size=16, resizing from (700, 700) to (704, 704) to ensure video compatibility with most codecs and players. To prevent resizing, make your input image divisible by the macro_block_size or set the macro_block_size to 1 (risking incompatibility).\n"
     ]
    },
    {
     "name": "stdout",
     "output_type": "stream",
     "text": [
      "124\n"
     ]
    },
    {
     "name": "stderr",
     "output_type": "stream",
     "text": [
      "[swscaler @ 0x598aa80] Warning: data is not aligned! This can lead to a speed loss\n"
     ]
    },
    {
     "name": "stdout",
     "output_type": "stream",
     "text": [
      "0.0\n",
      "0.0\n",
      "0.0\n",
      "0.0\n",
      "30.0\n",
      "0.0\n",
      "0.0\n",
      "60.0\n",
      "90.0\n",
      "0.0\n"
     ]
    },
    {
     "name": "stderr",
     "output_type": "stream",
     "text": [
      "IMAGEIO FFMPEG_WRITER WARNING: input image is not divisible by macro_block_size=16, resizing from (700, 700) to (704, 704) to ensure video compatibility with most codecs and players. To prevent resizing, make your input image divisible by the macro_block_size or set the macro_block_size to 1 (risking incompatibility).\n"
     ]
    },
    {
     "name": "stdout",
     "output_type": "stream",
     "text": [
      "124\n"
     ]
    },
    {
     "name": "stderr",
     "output_type": "stream",
     "text": [
      "[swscaler @ 0x553aa80] Warning: data is not aligned! This can lead to a speed loss\n"
     ]
    },
    {
     "name": "stdout",
     "output_type": "stream",
     "text": [
      "60.0\n",
      "390.0\n",
      "270.0\n",
      "0.0\n",
      "30.0\n",
      "150.0\n",
      "0.0\n",
      "0.0\n",
      "0.0\n",
      "0.0\n"
     ]
    },
    {
     "name": "stderr",
     "output_type": "stream",
     "text": [
      "IMAGEIO FFMPEG_WRITER WARNING: input image is not divisible by macro_block_size=16, resizing from (700, 700) to (704, 704) to ensure video compatibility with most codecs and players. To prevent resizing, make your input image divisible by the macro_block_size or set the macro_block_size to 1 (risking incompatibility).\n"
     ]
    },
    {
     "name": "stdout",
     "output_type": "stream",
     "text": [
      "124\n"
     ]
    },
    {
     "name": "stderr",
     "output_type": "stream",
     "text": [
      "[swscaler @ 0x704da80] Warning: data is not aligned! This can lead to a speed loss\n"
     ]
    },
    {
     "name": "stdout",
     "output_type": "stream",
     "text": [
      "0.0\n",
      "60.0\n",
      "0.0\n",
      "0.0\n",
      "0.0\n",
      "90.0\n",
      "0.0\n",
      "0.0\n",
      "0.0\n",
      "180.0\n"
     ]
    },
    {
     "name": "stderr",
     "output_type": "stream",
     "text": [
      "IMAGEIO FFMPEG_WRITER WARNING: input image is not divisible by macro_block_size=16, resizing from (700, 700) to (704, 704) to ensure video compatibility with most codecs and players. To prevent resizing, make your input image divisible by the macro_block_size or set the macro_block_size to 1 (risking incompatibility).\n"
     ]
    },
    {
     "name": "stdout",
     "output_type": "stream",
     "text": [
      "124\n"
     ]
    },
    {
     "name": "stderr",
     "output_type": "stream",
     "text": [
      "[swscaler @ 0x7464a80] Warning: data is not aligned! This can lead to a speed loss\n"
     ]
    },
    {
     "name": "stdout",
     "output_type": "stream",
     "text": [
      "0.0\n",
      "90.0\n",
      "0.0\n",
      "0.0\n",
      "0.0\n",
      "0.0\n",
      "0.0\n",
      "0.0\n",
      "0.0\n",
      "0.0\n"
     ]
    },
    {
     "name": "stderr",
     "output_type": "stream",
     "text": [
      "IMAGEIO FFMPEG_WRITER WARNING: input image is not divisible by macro_block_size=16, resizing from (700, 700) to (704, 704) to ensure video compatibility with most codecs and players. To prevent resizing, make your input image divisible by the macro_block_size or set the macro_block_size to 1 (risking incompatibility).\n"
     ]
    },
    {
     "name": "stdout",
     "output_type": "stream",
     "text": [
      "124\n"
     ]
    },
    {
     "name": "stderr",
     "output_type": "stream",
     "text": [
      "[swscaler @ 0x6254a80] Warning: data is not aligned! This can lead to a speed loss\n"
     ]
    },
    {
     "name": "stdout",
     "output_type": "stream",
     "text": [
      "540.0\n",
      "90.0\n",
      "0.0\n",
      "420.0\n",
      "0.0\n",
      "0.0\n",
      "0.0\n",
      "0.0\n",
      "0.0\n",
      "60.0\n",
      "Evaluation Reward for episode 500 is: 44.7\n",
      "on episode 512, curr epsilon 0.7330058717129788 (time taken so far: 0-00:01:43.0)\n",
      "     mean loss: adversary 329.1995131455725\n",
      "     mean reward: adversary 42.14008064190912, agent -38.73967580654051\n",
      "on episode 544, curr epsilon 0.7236813358889278 (time taken so far: 0-00:01:49.0)\n",
      "     mean loss: adversary 241.31795519791146\n",
      "     mean reward: adversary 31.294894737209027, agent -38.237873936745885\n",
      "on episode 576, curr epsilon 0.7144754170796777 (time taken so far: 0-00:01:55.0)\n",
      "     mean loss: adversary 235.62354192602805\n",
      "     mean reward: adversary 35.16067158834328, agent -34.39376325496161\n",
      "on episode 608, curr epsilon 0.7053866063633399 (time taken so far: 0-00:02:1.0)\n",
      "     mean loss: adversary 144.89217204250394\n",
      "     mean reward: adversary 22.661528792091424, agent -36.64461307206503\n",
      "on episode 640, curr epsilon 0.6964134140129569 (time taken so far: 0-00:02:7.0)\n",
      "     mean loss: adversary 250.52145815093388\n",
      "     mean reward: adversary 35.16315231186735, agent -43.66515720680294\n",
      "on episode 672, curr epsilon 0.6875543692523218 (time taken so far: 0-00:02:13.0)\n",
      "     mean loss: adversary 321.8883480944462\n",
      "     mean reward: adversary 31.257446120675247, agent -45.49382710029907\n",
      "on episode 704, curr epsilon 0.6788080200149088 (time taken so far: 0-00:02:19.0)\n",
      "     mean loss: adversary 178.66154379562798\n",
      "     mean reward: adversary 28.167193999740284, agent -37.48218185681355\n",
      "on episode 736, curr epsilon 0.6701729327058668 (time taken so far: 0-00:02:25.0)\n",
      "     mean loss: adversary 306.40185581156845\n",
      "     mean reward: adversary 41.30136647146241, agent -43.56455693476163\n",
      "on episode 768, curr epsilon 0.6616476919670418 (time taken so far: 0-00:02:32.0)\n",
      "     mean loss: adversary 352.395118822926\n",
      "     mean reward: adversary 43.83139918278015, agent -45.35542582451578\n",
      "on episode 800, curr epsilon 0.6532309004449909 (time taken so far: 0-00:02:38.0)\n",
      "     mean loss: adversary 493.64361765285105\n",
      "     mean reward: adversary 50.943536933776926, agent -42.87426440392162\n",
      "on episode 832, curr epsilon 0.644921178561942 (time taken so far: 0-00:02:43.0)\n",
      "     mean loss: adversary 312.2472389596684\n",
      "     mean reward: adversary 41.64619074045654, agent -44.837683280557606\n",
      "on episode 864, curr epsilon 0.6367171642896731 (time taken so far: 0-00:02:49.0)\n",
      "     mean loss: adversary 517.9325627361424\n",
      "     mean reward: adversary 51.248641703944294, agent -42.75173244815517\n",
      "on episode 896, curr epsilon 0.6286175129262631 (time taken so far: 0-00:02:55.0)\n",
      "     mean loss: adversary 507.57696131055144\n",
      "     mean reward: adversary 54.95827116046689, agent -42.40045430082389\n",
      "on episode 928, curr epsilon 0.6206208968756868 (time taken so far: 0-00:03:1.0)\n",
      "     mean loss: adversary 476.5622176587258\n",
      "     mean reward: adversary 48.32392984643948, agent -46.7270642119981\n",
      "on episode 960, curr epsilon 0.6127260054302089 (time taken so far: 0-00:03:6.0)\n",
      "     mean loss: adversary 352.12387811688177\n",
      "     mean reward: adversary 32.17870977329927, agent -42.33324524388657\n",
      "on episode 992, curr epsilon 0.6049315445555506 (time taken so far: 0-00:03:12.0)\n",
      "     mean loss: adversary 585.5450851897117\n",
      "     mean reward: adversary 60.689028404223706, agent -50.86922687121251\n"
     ]
    },
    {
     "name": "stderr",
     "output_type": "stream",
     "text": [
      "IMAGEIO FFMPEG_WRITER WARNING: input image is not divisible by macro_block_size=16, resizing from (700, 700) to (704, 704) to ensure video compatibility with most codecs and players. To prevent resizing, make your input image divisible by the macro_block_size or set the macro_block_size to 1 (risking incompatibility).\n"
     ]
    },
    {
     "name": "stdout",
     "output_type": "stream",
     "text": [
      "124\n"
     ]
    },
    {
     "name": "stderr",
     "output_type": "stream",
     "text": [
      "[swscaler @ 0x6013a80] Warning: data is not aligned! This can lead to a speed loss\n"
     ]
    },
    {
     "name": "stdout",
     "output_type": "stream",
     "text": [
      "0.0\n",
      "0.0\n",
      "0.0\n",
      "0.0\n",
      "120.0\n",
      "270.0\n",
      "0.0\n",
      "60.0\n",
      "0.0\n",
      "120.0\n"
     ]
    },
    {
     "name": "stderr",
     "output_type": "stream",
     "text": [
      "IMAGEIO FFMPEG_WRITER WARNING: input image is not divisible by macro_block_size=16, resizing from (700, 700) to (704, 704) to ensure video compatibility with most codecs and players. To prevent resizing, make your input image divisible by the macro_block_size or set the macro_block_size to 1 (risking incompatibility).\n"
     ]
    },
    {
     "name": "stdout",
     "output_type": "stream",
     "text": [
      "124\n"
     ]
    },
    {
     "name": "stderr",
     "output_type": "stream",
     "text": [
      "[swscaler @ 0x5d71a80] Warning: data is not aligned! This can lead to a speed loss\n"
     ]
    },
    {
     "name": "stdout",
     "output_type": "stream",
     "text": [
      "120.0\n",
      "0.0\n",
      "60.0\n",
      "0.0\n",
      "120.0\n",
      "0.0\n",
      "30.0\n",
      "0.0\n",
      "30.0\n",
      "60.0\n"
     ]
    },
    {
     "name": "stderr",
     "output_type": "stream",
     "text": [
      "IMAGEIO FFMPEG_WRITER WARNING: input image is not divisible by macro_block_size=16, resizing from (700, 700) to (704, 704) to ensure video compatibility with most codecs and players. To prevent resizing, make your input image divisible by the macro_block_size or set the macro_block_size to 1 (risking incompatibility).\n"
     ]
    },
    {
     "name": "stdout",
     "output_type": "stream",
     "text": [
      "124\n"
     ]
    },
    {
     "name": "stderr",
     "output_type": "stream",
     "text": [
      "[swscaler @ 0x741fa80] Warning: data is not aligned! This can lead to a speed loss\n"
     ]
    },
    {
     "name": "stdout",
     "output_type": "stream",
     "text": [
      "90.0\n",
      "30.0\n",
      "0.0\n",
      "30.0\n",
      "0.0\n",
      "60.0\n",
      "0.0\n",
      "30.0\n",
      "0.0\n",
      "0.0\n"
     ]
    },
    {
     "name": "stderr",
     "output_type": "stream",
     "text": [
      "IMAGEIO FFMPEG_WRITER WARNING: input image is not divisible by macro_block_size=16, resizing from (700, 700) to (704, 704) to ensure video compatibility with most codecs and players. To prevent resizing, make your input image divisible by the macro_block_size or set the macro_block_size to 1 (risking incompatibility).\n"
     ]
    },
    {
     "name": "stdout",
     "output_type": "stream",
     "text": [
      "124\n"
     ]
    },
    {
     "name": "stderr",
     "output_type": "stream",
     "text": [
      "[swscaler @ 0x56d9a80] Warning: data is not aligned! This can lead to a speed loss\n"
     ]
    },
    {
     "name": "stdout",
     "output_type": "stream",
     "text": [
      "30.0\n",
      "0.0\n",
      "0.0\n",
      "240.0\n",
      "0.0\n",
      "150.0\n",
      "90.0\n",
      "60.0\n",
      "0.0\n",
      "60.0\n"
     ]
    },
    {
     "name": "stderr",
     "output_type": "stream",
     "text": [
      "IMAGEIO FFMPEG_WRITER WARNING: input image is not divisible by macro_block_size=16, resizing from (700, 700) to (704, 704) to ensure video compatibility with most codecs and players. To prevent resizing, make your input image divisible by the macro_block_size or set the macro_block_size to 1 (risking incompatibility).\n"
     ]
    },
    {
     "name": "stdout",
     "output_type": "stream",
     "text": [
      "124\n"
     ]
    },
    {
     "name": "stderr",
     "output_type": "stream",
     "text": [
      "[swscaler @ 0x5fcba80] Warning: data is not aligned! This can lead to a speed loss\n"
     ]
    },
    {
     "name": "stdout",
     "output_type": "stream",
     "text": [
      "210.0\n",
      "60.0\n",
      "300.0\n",
      "0.0\n",
      "0.0\n",
      "60.0\n",
      "150.0\n",
      "0.0\n",
      "0.0\n",
      "60.0\n"
     ]
    },
    {
     "name": "stderr",
     "output_type": "stream",
     "text": [
      "IMAGEIO FFMPEG_WRITER WARNING: input image is not divisible by macro_block_size=16, resizing from (700, 700) to (704, 704) to ensure video compatibility with most codecs and players. To prevent resizing, make your input image divisible by the macro_block_size or set the macro_block_size to 1 (risking incompatibility).\n"
     ]
    },
    {
     "name": "stdout",
     "output_type": "stream",
     "text": [
      "124\n"
     ]
    },
    {
     "name": "stderr",
     "output_type": "stream",
     "text": [
      "[swscaler @ 0x7085a80] Warning: data is not aligned! This can lead to a speed loss\n"
     ]
    },
    {
     "name": "stdout",
     "output_type": "stream",
     "text": [
      "0.0\n",
      "0.0\n",
      "0.0\n",
      "180.0\n",
      "0.0\n",
      "0.0\n",
      "0.0\n",
      "120.0\n",
      "30.0\n",
      "0.0\n"
     ]
    },
    {
     "name": "stderr",
     "output_type": "stream",
     "text": [
      "IMAGEIO FFMPEG_WRITER WARNING: input image is not divisible by macro_block_size=16, resizing from (700, 700) to (704, 704) to ensure video compatibility with most codecs and players. To prevent resizing, make your input image divisible by the macro_block_size or set the macro_block_size to 1 (risking incompatibility).\n"
     ]
    },
    {
     "name": "stdout",
     "output_type": "stream",
     "text": [
      "124\n"
     ]
    },
    {
     "name": "stderr",
     "output_type": "stream",
     "text": [
      "[swscaler @ 0x634ca80] Warning: data is not aligned! This can lead to a speed loss\n"
     ]
    },
    {
     "name": "stdout",
     "output_type": "stream",
     "text": [
      "0.0\n",
      "150.0\n",
      "120.0\n",
      "0.0\n",
      "90.0\n",
      "60.0\n",
      "270.0\n",
      "0.0\n",
      "0.0\n",
      "0.0\n"
     ]
    },
    {
     "name": "stderr",
     "output_type": "stream",
     "text": [
      "IMAGEIO FFMPEG_WRITER WARNING: input image is not divisible by macro_block_size=16, resizing from (700, 700) to (704, 704) to ensure video compatibility with most codecs and players. To prevent resizing, make your input image divisible by the macro_block_size or set the macro_block_size to 1 (risking incompatibility).\n"
     ]
    },
    {
     "name": "stdout",
     "output_type": "stream",
     "text": [
      "124\n"
     ]
    },
    {
     "name": "stderr",
     "output_type": "stream",
     "text": [
      "[swscaler @ 0x5830a80] Warning: data is not aligned! This can lead to a speed loss\n"
     ]
    },
    {
     "name": "stdout",
     "output_type": "stream",
     "text": [
      "0.0\n",
      "60.0\n",
      "150.0\n",
      "150.0\n",
      "210.0\n",
      "0.0\n",
      "0.0\n",
      "0.0\n",
      "0.0\n",
      "0.0\n"
     ]
    },
    {
     "name": "stderr",
     "output_type": "stream",
     "text": [
      "IMAGEIO FFMPEG_WRITER WARNING: input image is not divisible by macro_block_size=16, resizing from (700, 700) to (704, 704) to ensure video compatibility with most codecs and players. To prevent resizing, make your input image divisible by the macro_block_size or set the macro_block_size to 1 (risking incompatibility).\n"
     ]
    },
    {
     "name": "stdout",
     "output_type": "stream",
     "text": [
      "124\n"
     ]
    },
    {
     "name": "stderr",
     "output_type": "stream",
     "text": [
      "[swscaler @ 0x71c2a80] Warning: data is not aligned! This can lead to a speed loss\n"
     ]
    },
    {
     "name": "stdout",
     "output_type": "stream",
     "text": [
      "270.0\n",
      "0.0\n",
      "240.0\n",
      "0.0\n",
      "0.0\n",
      "0.0\n",
      "210.0\n",
      "90.0\n",
      "0.0\n",
      "0.0\n"
     ]
    },
    {
     "name": "stderr",
     "output_type": "stream",
     "text": [
      "IMAGEIO FFMPEG_WRITER WARNING: input image is not divisible by macro_block_size=16, resizing from (700, 700) to (704, 704) to ensure video compatibility with most codecs and players. To prevent resizing, make your input image divisible by the macro_block_size or set the macro_block_size to 1 (risking incompatibility).\n"
     ]
    },
    {
     "name": "stdout",
     "output_type": "stream",
     "text": [
      "124\n"
     ]
    },
    {
     "name": "stderr",
     "output_type": "stream",
     "text": [
      "[swscaler @ 0x63afa80] Warning: data is not aligned! This can lead to a speed loss\n"
     ]
    },
    {
     "name": "stdout",
     "output_type": "stream",
     "text": [
      "0.0\n",
      "0.0\n",
      "0.0\n",
      "0.0\n",
      "0.0\n",
      "150.0\n",
      "270.0\n",
      "0.0\n",
      "60.0\n",
      "0.0\n",
      "Evaluation Reward for episode 1000 is: 55.8\n",
      "on episode 1024, curr epsilon 0.5972362366787872 (time taken so far: 0-00:03:30.0)\n",
      "     mean loss: adversary 371.7893388817893\n",
      "     mean reward: adversary 21.369563967103847, agent -35.37354930178836\n",
      "on episode 1056, curr epsilon 0.5896388204789431 (time taken so far: 0-00:03:35.0)\n",
      "     mean loss: adversary 580.0813712678081\n",
      "     mean reward: adversary 48.320103850925264, agent -45.337006497813896\n",
      "on episode 1088, curr epsilon 0.5821380506802529 (time taken so far: 0-00:03:41.0)\n",
      "     mean loss: adversary 700.3841547261758\n",
      "     mean reward: adversary 57.75947903033185, agent -44.775958223121215\n",
      "on episode 1120, curr epsilon 0.5747326978480498 (time taken so far: 0-00:03:47.0)\n",
      "     mean loss: adversary 622.1675774926248\n",
      "     mean reward: adversary 50.94281174971336, agent -47.89334486009437\n",
      "on episode 1152, curr epsilon 0.5674215481872513 (time taken so far: 0-00:03:53.0)\n",
      "     mean loss: adversary 937.8308884724916\n",
      "     mean reward: adversary 81.17503866666073, agent -54.06705309191704\n",
      "on episode 1184, curr epsilon 0.5602034033434099 (time taken so far: 0-00:03:58.0)\n",
      "     mean loss: adversary 681.0369444171553\n",
      "     mean reward: adversary 46.60261399829316, agent -44.50199672575745\n",
      "on episode 1216, curr epsilon 0.5530770802062928 (time taken so far: 0-00:04:4.0)\n",
      "     mean loss: adversary 980.2353105974081\n",
      "     mean reward: adversary 87.08362595447271, agent -59.151395659465756\n",
      "on episode 1248, curr epsilon 0.5460414107159606 (time taken so far: 0-00:04:9.0)\n",
      "     mean loss: adversary 951.3082383544659\n",
      "     mean reward: adversary 77.73489816433313, agent -58.68599769770814\n",
      "on episode 1280, curr epsilon 0.5390952416713145 (time taken so far: 0-00:04:15.0)\n",
      "     mean loss: adversary 757.4332988766894\n",
      "     mean reward: adversary 45.1195012709968, agent -47.49563528447395\n",
      "on episode 1312, curr epsilon 0.5322374345410761 (time taken so far: 0-00:04:20.0)\n",
      "     mean loss: adversary 1083.453723252667\n",
      "     mean reward: adversary 75.55025865843818, agent -56.42286900813648\n",
      "on episode 1344, curr epsilon 0.5254668652771747 (time taken so far: 0-00:04:26.0)\n",
      "     mean loss: adversary 1229.3916758608445\n",
      "     mean reward: adversary 93.42735995677937, agent -65.98066717577592\n",
      "on episode 1376, curr epsilon 0.5187824241305049 (time taken so far: 0-00:04:32.0)\n",
      "     mean loss: adversary 1363.0259253963359\n",
      "     mean reward: adversary 91.60636718174248, agent -61.76000580935225\n",
      "on episode 1408, curr epsilon 0.5121830154690322 (time taken so far: 0-00:04:37.0)\n",
      "     mean loss: adversary 1457.069775039653\n",
      "     mean reward: adversary 116.0194175440236, agent -71.77149034602876\n",
      "on episode 1440, curr epsilon 0.5056675575982097 (time taken so far: 0-00:04:43.0)\n",
      "     mean loss: adversary 1486.5945067134949\n",
      "     mean reward: adversary 93.56105888215968, agent -65.81120624787499\n",
      "on episode 1472, curr epsilon 0.49923498258367954 (time taken so far: 0-00:04:49.0)\n",
      "     mean loss: adversary 1369.888638585775\n",
      "     mean reward: adversary 84.08087238814794, agent -61.879409793707815\n"
     ]
    },
    {
     "name": "stderr",
     "output_type": "stream",
     "text": [
      "IMAGEIO FFMPEG_WRITER WARNING: input image is not divisible by macro_block_size=16, resizing from (700, 700) to (704, 704) to ensure video compatibility with most codecs and players. To prevent resizing, make your input image divisible by the macro_block_size or set the macro_block_size to 1 (risking incompatibility).\n"
     ]
    },
    {
     "name": "stdout",
     "output_type": "stream",
     "text": [
      "124\n"
     ]
    },
    {
     "name": "stderr",
     "output_type": "stream",
     "text": [
      "[swscaler @ 0x5771a80] Warning: data is not aligned! This can lead to a speed loss\n"
     ]
    },
    {
     "name": "stdout",
     "output_type": "stream",
     "text": [
      "0.0\n",
      "0.0\n",
      "30.0\n",
      "0.0\n",
      "90.0\n",
      "60.0\n",
      "210.0\n",
      "60.0\n",
      "0.0\n",
      "270.0\n"
     ]
    },
    {
     "name": "stderr",
     "output_type": "stream",
     "text": [
      "IMAGEIO FFMPEG_WRITER WARNING: input image is not divisible by macro_block_size=16, resizing from (700, 700) to (704, 704) to ensure video compatibility with most codecs and players. To prevent resizing, make your input image divisible by the macro_block_size or set the macro_block_size to 1 (risking incompatibility).\n"
     ]
    },
    {
     "name": "stdout",
     "output_type": "stream",
     "text": [
      "124\n"
     ]
    },
    {
     "name": "stderr",
     "output_type": "stream",
     "text": [
      "[swscaler @ 0x5e19a80] Warning: data is not aligned! This can lead to a speed loss\n"
     ]
    },
    {
     "name": "stdout",
     "output_type": "stream",
     "text": [
      "0.0\n",
      "30.0\n",
      "0.0\n",
      "0.0\n",
      "60.0\n",
      "120.0\n",
      "0.0\n",
      "0.0\n",
      "60.0\n",
      "0.0\n"
     ]
    },
    {
     "name": "stderr",
     "output_type": "stream",
     "text": [
      "IMAGEIO FFMPEG_WRITER WARNING: input image is not divisible by macro_block_size=16, resizing from (700, 700) to (704, 704) to ensure video compatibility with most codecs and players. To prevent resizing, make your input image divisible by the macro_block_size or set the macro_block_size to 1 (risking incompatibility).\n"
     ]
    },
    {
     "name": "stdout",
     "output_type": "stream",
     "text": [
      "124\n"
     ]
    },
    {
     "name": "stderr",
     "output_type": "stream",
     "text": [
      "[swscaler @ 0x7075a80] Warning: data is not aligned! This can lead to a speed loss\n"
     ]
    },
    {
     "name": "stdout",
     "output_type": "stream",
     "text": [
      "0.0\n",
      "90.0\n",
      "90.0\n",
      "0.0\n",
      "30.0\n",
      "0.0\n",
      "0.0\n",
      "0.0\n",
      "60.0\n",
      "0.0\n"
     ]
    },
    {
     "name": "stderr",
     "output_type": "stream",
     "text": [
      "IMAGEIO FFMPEG_WRITER WARNING: input image is not divisible by macro_block_size=16, resizing from (700, 700) to (704, 704) to ensure video compatibility with most codecs and players. To prevent resizing, make your input image divisible by the macro_block_size or set the macro_block_size to 1 (risking incompatibility).\n"
     ]
    },
    {
     "name": "stdout",
     "output_type": "stream",
     "text": [
      "124\n"
     ]
    },
    {
     "name": "stderr",
     "output_type": "stream",
     "text": [
      "[swscaler @ 0x56b6a80] Warning: data is not aligned! This can lead to a speed loss\n"
     ]
    },
    {
     "name": "stdout",
     "output_type": "stream",
     "text": [
      "120.0\n",
      "60.0\n",
      "60.0\n",
      "0.0\n",
      "0.0\n",
      "0.0\n",
      "30.0\n",
      "240.0\n",
      "0.0\n",
      "0.0\n"
     ]
    },
    {
     "name": "stderr",
     "output_type": "stream",
     "text": [
      "IMAGEIO FFMPEG_WRITER WARNING: input image is not divisible by macro_block_size=16, resizing from (700, 700) to (704, 704) to ensure video compatibility with most codecs and players. To prevent resizing, make your input image divisible by the macro_block_size or set the macro_block_size to 1 (risking incompatibility).\n"
     ]
    },
    {
     "name": "stdout",
     "output_type": "stream",
     "text": [
      "124\n"
     ]
    },
    {
     "name": "stderr",
     "output_type": "stream",
     "text": [
      "[swscaler @ 0x6ab0a80] Warning: data is not aligned! This can lead to a speed loss\n"
     ]
    },
    {
     "name": "stdout",
     "output_type": "stream",
     "text": [
      "0.0\n",
      "60.0\n",
      "0.0\n",
      "30.0\n",
      "60.0\n",
      "30.0\n",
      "0.0\n",
      "0.0\n",
      "0.0\n",
      "0.0\n"
     ]
    },
    {
     "name": "stderr",
     "output_type": "stream",
     "text": [
      "IMAGEIO FFMPEG_WRITER WARNING: input image is not divisible by macro_block_size=16, resizing from (700, 700) to (704, 704) to ensure video compatibility with most codecs and players. To prevent resizing, make your input image divisible by the macro_block_size or set the macro_block_size to 1 (risking incompatibility).\n"
     ]
    },
    {
     "name": "stdout",
     "output_type": "stream",
     "text": [
      "124\n"
     ]
    },
    {
     "name": "stderr",
     "output_type": "stream",
     "text": [
      "[swscaler @ 0x5a4ea80] Warning: data is not aligned! This can lead to a speed loss\n"
     ]
    },
    {
     "name": "stdout",
     "output_type": "stream",
     "text": [
      "0.0\n",
      "0.0\n",
      "30.0\n",
      "0.0\n",
      "0.0\n",
      "0.0\n",
      "0.0\n",
      "0.0\n",
      "180.0\n",
      "150.0\n"
     ]
    },
    {
     "name": "stderr",
     "output_type": "stream",
     "text": [
      "IMAGEIO FFMPEG_WRITER WARNING: input image is not divisible by macro_block_size=16, resizing from (700, 700) to (704, 704) to ensure video compatibility with most codecs and players. To prevent resizing, make your input image divisible by the macro_block_size or set the macro_block_size to 1 (risking incompatibility).\n"
     ]
    },
    {
     "name": "stdout",
     "output_type": "stream",
     "text": [
      "124\n"
     ]
    },
    {
     "name": "stderr",
     "output_type": "stream",
     "text": [
      "[swscaler @ 0x6399a80] Warning: data is not aligned! This can lead to a speed loss\n"
     ]
    },
    {
     "name": "stdout",
     "output_type": "stream",
     "text": [
      "0.0\n",
      "180.0\n",
      "90.0\n",
      "0.0\n",
      "120.0\n",
      "90.0\n",
      "0.0\n",
      "0.0\n",
      "120.0\n",
      "0.0\n"
     ]
    },
    {
     "name": "stderr",
     "output_type": "stream",
     "text": [
      "IMAGEIO FFMPEG_WRITER WARNING: input image is not divisible by macro_block_size=16, resizing from (700, 700) to (704, 704) to ensure video compatibility with most codecs and players. To prevent resizing, make your input image divisible by the macro_block_size or set the macro_block_size to 1 (risking incompatibility).\n"
     ]
    },
    {
     "name": "stdout",
     "output_type": "stream",
     "text": [
      "124\n"
     ]
    },
    {
     "name": "stderr",
     "output_type": "stream",
     "text": [
      "[swscaler @ 0x56d5a80] Warning: data is not aligned! This can lead to a speed loss\n"
     ]
    },
    {
     "name": "stdout",
     "output_type": "stream",
     "text": [
      "60.0\n",
      "0.0\n",
      "0.0\n",
      "0.0\n",
      "0.0\n",
      "60.0\n",
      "30.0\n",
      "30.0\n",
      "240.0\n",
      "0.0\n"
     ]
    },
    {
     "name": "stderr",
     "output_type": "stream",
     "text": [
      "IMAGEIO FFMPEG_WRITER WARNING: input image is not divisible by macro_block_size=16, resizing from (700, 700) to (704, 704) to ensure video compatibility with most codecs and players. To prevent resizing, make your input image divisible by the macro_block_size or set the macro_block_size to 1 (risking incompatibility).\n"
     ]
    },
    {
     "name": "stdout",
     "output_type": "stream",
     "text": [
      "124\n"
     ]
    },
    {
     "name": "stderr",
     "output_type": "stream",
     "text": [
      "[swscaler @ 0x6ad6a80] Warning: data is not aligned! This can lead to a speed loss\n"
     ]
    },
    {
     "name": "stdout",
     "output_type": "stream",
     "text": [
      "90.0\n",
      "0.0\n",
      "0.0\n",
      "0.0\n",
      "0.0\n",
      "330.0\n",
      "0.0\n",
      "0.0\n",
      "0.0\n",
      "30.0\n"
     ]
    },
    {
     "name": "stderr",
     "output_type": "stream",
     "text": [
      "IMAGEIO FFMPEG_WRITER WARNING: input image is not divisible by macro_block_size=16, resizing from (700, 700) to (704, 704) to ensure video compatibility with most codecs and players. To prevent resizing, make your input image divisible by the macro_block_size or set the macro_block_size to 1 (risking incompatibility).\n"
     ]
    },
    {
     "name": "stdout",
     "output_type": "stream",
     "text": [
      "124\n"
     ]
    },
    {
     "name": "stderr",
     "output_type": "stream",
     "text": [
      "[swscaler @ 0x59a3a80] Warning: data is not aligned! This can lead to a speed loss\n"
     ]
    },
    {
     "name": "stdout",
     "output_type": "stream",
     "text": [
      "0.0\n",
      "0.0\n",
      "0.0\n",
      "90.0\n",
      "60.0\n",
      "0.0\n",
      "0.0\n",
      "0.0\n",
      "0.0\n",
      "0.0\n",
      "Evaluation Reward for episode 1500 is: 39.3\n",
      "on episode 1504, curr epsilon 0.4928842360762302 (time taken so far: 0-00:05:6.0)\n",
      "     mean loss: adversary 1301.0815516348557\n",
      "     mean reward: adversary 75.20768168621548, agent -58.89527241504163\n",
      "on episode 1536, curr epsilon 0.4866142771389811 (time taken so far: 0-00:05:11.0)\n",
      "     mean loss: adversary 1530.1105693799313\n",
      "     mean reward: adversary 104.53980631199653, agent -73.42374394693393\n",
      "on episode 1568, curr epsilon 0.4804240780767642 (time taken so far: 0-00:05:17.0)\n",
      "     mean loss: adversary 1657.3633574640528\n",
      "     mean reward: adversary 122.10488552726663, agent -77.70721869187945\n",
      "on episode 1600, curr epsilon 0.47431262426767706 (time taken so far: 0-00:05:23.0)\n",
      "     mean loss: adversary 1536.9012243875889\n",
      "     mean reward: adversary 77.9265217066321, agent -65.60561833784327\n",
      "on episode 1632, curr epsilon 0.46827891399677846 (time taken so far: 0-00:05:29.0)\n",
      "     mean loss: adversary 1634.837547440331\n",
      "     mean reward: adversary 84.28593758153622, agent -64.65511942725567\n",
      "on episode 1664, curr epsilon 0.46232195829189904 (time taken so far: 0-00:05:35.0)\n",
      "     mean loss: adversary 1769.6810720054098\n",
      "     mean reward: adversary 71.7567696599667, agent -55.50041171740088\n",
      "on episode 1696, curr epsilon 0.4564407807615419 (time taken so far: 0-00:05:42.0)\n",
      "     mean loss: adversary 1783.6280758071005\n",
      "     mean reward: adversary 78.11328365028773, agent -55.624080843639305\n",
      "on episode 1728, curr epsilon 0.4506344174348434 (time taken so far: 0-00:05:47.0)\n",
      "     mean loss: adversary 1937.4798651114477\n",
      "     mean reward: adversary 100.46301463588306, agent -68.80709979799506\n",
      "on episode 1760, curr epsilon 0.44490191660357176 (time taken so far: 0-00:05:53.0)\n",
      "     mean loss: adversary 2172.669586937209\n",
      "     mean reward: adversary 101.17560531231514, agent -70.578409543086\n",
      "on episode 1792, curr epsilon 0.4392423386661343 (time taken so far: 0-00:05:59.0)\n",
      "     mean loss: adversary 2129.670382585156\n",
      "     mean reward: adversary 105.09299958387736, agent -73.8243589860271\n",
      "on episode 1824, curr epsilon 0.43365475597356884 (time taken so far: 0-00:06:4.0)\n",
      "     mean loss: adversary 2457.7856120615916\n",
      "     mean reward: adversary 150.8403763022259, agent -83.28311913823624\n",
      "on episode 1856, curr epsilon 0.42813825267749567 (time taken so far: 0-00:06:10.0)\n",
      "     mean loss: adversary 2448.8152170546946\n",
      "     mean reward: adversary 119.13439098836598, agent -81.74493708793968\n",
      "on episode 1888, curr epsilon 0.4226919245800026 (time taken so far: 0-00:06:16.0)\n",
      "     mean loss: adversary 2505.3644265737553\n",
      "     mean reward: adversary 126.20040132550989, agent -77.0588284665119\n",
      "on episode 1920, curr epsilon 0.41731487898543906 (time taken so far: 0-00:06:22.0)\n",
      "     mean loss: adversary 2438.013999752171\n",
      "     mean reward: adversary 106.61254567640769, agent -71.83856506880365\n",
      "on episode 1952, curr epsilon 0.41200623455409824 (time taken so far: 0-00:06:28.0)\n",
      "     mean loss: adversary 2646.711454866295\n",
      "     mean reward: adversary 131.7993675000216, agent -79.3746996833518\n",
      "on episode 1984, curr epsilon 0.40676512115775637 (time taken so far: 0-00:06:34.0)\n",
      "     mean loss: adversary 3048.1473589115367\n",
      "     mean reward: adversary 150.18233810224592, agent -86.5760253098853\n"
     ]
    },
    {
     "name": "stderr",
     "output_type": "stream",
     "text": [
      "IMAGEIO FFMPEG_WRITER WARNING: input image is not divisible by macro_block_size=16, resizing from (700, 700) to (704, 704) to ensure video compatibility with most codecs and players. To prevent resizing, make your input image divisible by the macro_block_size or set the macro_block_size to 1 (risking incompatibility).\n"
     ]
    },
    {
     "name": "stdout",
     "output_type": "stream",
     "text": [
      "124\n"
     ]
    },
    {
     "name": "stderr",
     "output_type": "stream",
     "text": [
      "[swscaler @ 0x5f0aa80] Warning: data is not aligned! This can lead to a speed loss\n"
     ]
    },
    {
     "name": "stdout",
     "output_type": "stream",
     "text": [
      "0.0\n",
      "0.0\n",
      "180.0\n",
      "150.0\n",
      "0.0\n",
      "510.0\n",
      "90.0\n",
      "690.0\n",
      "180.0\n",
      "630.0\n"
     ]
    },
    {
     "name": "stderr",
     "output_type": "stream",
     "text": [
      "IMAGEIO FFMPEG_WRITER WARNING: input image is not divisible by macro_block_size=16, resizing from (700, 700) to (704, 704) to ensure video compatibility with most codecs and players. To prevent resizing, make your input image divisible by the macro_block_size or set the macro_block_size to 1 (risking incompatibility).\n"
     ]
    },
    {
     "name": "stdout",
     "output_type": "stream",
     "text": [
      "124\n"
     ]
    },
    {
     "name": "stderr",
     "output_type": "stream",
     "text": [
      "[swscaler @ 0x55e2a80] Warning: data is not aligned! This can lead to a speed loss\n"
     ]
    },
    {
     "name": "stdout",
     "output_type": "stream",
     "text": [
      "60.0\n",
      "390.0\n",
      "0.0\n",
      "420.0\n",
      "30.0\n",
      "0.0\n",
      "60.0\n",
      "240.0\n",
      "480.0\n",
      "30.0\n"
     ]
    },
    {
     "name": "stderr",
     "output_type": "stream",
     "text": [
      "IMAGEIO FFMPEG_WRITER WARNING: input image is not divisible by macro_block_size=16, resizing from (700, 700) to (704, 704) to ensure video compatibility with most codecs and players. To prevent resizing, make your input image divisible by the macro_block_size or set the macro_block_size to 1 (risking incompatibility).\n"
     ]
    },
    {
     "name": "stdout",
     "output_type": "stream",
     "text": [
      "124\n"
     ]
    },
    {
     "name": "stderr",
     "output_type": "stream",
     "text": [
      "[swscaler @ 0x6242a80] Warning: data is not aligned! This can lead to a speed loss\n"
     ]
    },
    {
     "name": "stdout",
     "output_type": "stream",
     "text": [
      "0.0\n",
      "0.0\n",
      "0.0\n",
      "720.0\n",
      "420.0\n",
      "60.0\n",
      "0.0\n",
      "390.0\n",
      "0.0\n",
      "240.0\n"
     ]
    },
    {
     "name": "stderr",
     "output_type": "stream",
     "text": [
      "IMAGEIO FFMPEG_WRITER WARNING: input image is not divisible by macro_block_size=16, resizing from (700, 700) to (704, 704) to ensure video compatibility with most codecs and players. To prevent resizing, make your input image divisible by the macro_block_size or set the macro_block_size to 1 (risking incompatibility).\n"
     ]
    },
    {
     "name": "stdout",
     "output_type": "stream",
     "text": [
      "124\n"
     ]
    },
    {
     "name": "stderr",
     "output_type": "stream",
     "text": [
      "[swscaler @ 0x60fda80] Warning: data is not aligned! This can lead to a speed loss\n"
     ]
    },
    {
     "name": "stdout",
     "output_type": "stream",
     "text": [
      "0.0\n",
      "120.0\n",
      "30.0\n",
      "0.0\n",
      "0.0\n",
      "0.0\n",
      "0.0\n",
      "300.0\n",
      "0.0\n",
      "150.0\n"
     ]
    },
    {
     "name": "stderr",
     "output_type": "stream",
     "text": [
      "IMAGEIO FFMPEG_WRITER WARNING: input image is not divisible by macro_block_size=16, resizing from (700, 700) to (704, 704) to ensure video compatibility with most codecs and players. To prevent resizing, make your input image divisible by the macro_block_size or set the macro_block_size to 1 (risking incompatibility).\n"
     ]
    },
    {
     "name": "stdout",
     "output_type": "stream",
     "text": [
      "124\n"
     ]
    },
    {
     "name": "stderr",
     "output_type": "stream",
     "text": [
      "[swscaler @ 0x5777a80] Warning: data is not aligned! This can lead to a speed loss\n"
     ]
    },
    {
     "name": "stdout",
     "output_type": "stream",
     "text": [
      "0.0\n",
      "360.0\n",
      "420.0\n",
      "390.0\n",
      "270.0\n",
      "0.0\n",
      "270.0\n",
      "30.0\n",
      "60.0\n",
      "0.0\n"
     ]
    },
    {
     "name": "stderr",
     "output_type": "stream",
     "text": [
      "IMAGEIO FFMPEG_WRITER WARNING: input image is not divisible by macro_block_size=16, resizing from (700, 700) to (704, 704) to ensure video compatibility with most codecs and players. To prevent resizing, make your input image divisible by the macro_block_size or set the macro_block_size to 1 (risking incompatibility).\n"
     ]
    },
    {
     "name": "stdout",
     "output_type": "stream",
     "text": [
      "124\n"
     ]
    },
    {
     "name": "stderr",
     "output_type": "stream",
     "text": [
      "[swscaler @ 0x64bba80] Warning: data is not aligned! This can lead to a speed loss\n"
     ]
    },
    {
     "name": "stdout",
     "output_type": "stream",
     "text": [
      "0.0\n",
      "990.0\n",
      "390.0\n",
      "30.0\n",
      "30.0\n",
      "0.0\n",
      "0.0\n",
      "60.0\n",
      "0.0\n",
      "0.0\n"
     ]
    },
    {
     "name": "stderr",
     "output_type": "stream",
     "text": [
      "IMAGEIO FFMPEG_WRITER WARNING: input image is not divisible by macro_block_size=16, resizing from (700, 700) to (704, 704) to ensure video compatibility with most codecs and players. To prevent resizing, make your input image divisible by the macro_block_size or set the macro_block_size to 1 (risking incompatibility).\n"
     ]
    },
    {
     "name": "stdout",
     "output_type": "stream",
     "text": [
      "124\n"
     ]
    },
    {
     "name": "stderr",
     "output_type": "stream",
     "text": [
      "[swscaler @ 0x5aa5a80] Warning: data is not aligned! This can lead to a speed loss\n"
     ]
    },
    {
     "name": "stdout",
     "output_type": "stream",
     "text": [
      "150.0\n",
      "270.0\n",
      "330.0\n",
      "0.0\n",
      "570.0\n",
      "90.0\n",
      "0.0\n",
      "180.0\n",
      "300.0\n",
      "0.0\n"
     ]
    },
    {
     "name": "stderr",
     "output_type": "stream",
     "text": [
      "IMAGEIO FFMPEG_WRITER WARNING: input image is not divisible by macro_block_size=16, resizing from (700, 700) to (704, 704) to ensure video compatibility with most codecs and players. To prevent resizing, make your input image divisible by the macro_block_size or set the macro_block_size to 1 (risking incompatibility).\n"
     ]
    },
    {
     "name": "stdout",
     "output_type": "stream",
     "text": [
      "124\n"
     ]
    },
    {
     "name": "stderr",
     "output_type": "stream",
     "text": [
      "[swscaler @ 0x69c3a80] Warning: data is not aligned! This can lead to a speed loss\n"
     ]
    },
    {
     "name": "stdout",
     "output_type": "stream",
     "text": [
      "0.0\n",
      "180.0\n",
      "90.0\n",
      "0.0\n",
      "60.0\n",
      "270.0\n",
      "30.0\n",
      "330.0\n",
      "420.0\n",
      "90.0\n"
     ]
    },
    {
     "name": "stderr",
     "output_type": "stream",
     "text": [
      "IMAGEIO FFMPEG_WRITER WARNING: input image is not divisible by macro_block_size=16, resizing from (700, 700) to (704, 704) to ensure video compatibility with most codecs and players. To prevent resizing, make your input image divisible by the macro_block_size or set the macro_block_size to 1 (risking incompatibility).\n"
     ]
    },
    {
     "name": "stdout",
     "output_type": "stream",
     "text": [
      "124\n"
     ]
    },
    {
     "name": "stderr",
     "output_type": "stream",
     "text": [
      "[swscaler @ 0x73a6a80] Warning: data is not aligned! This can lead to a speed loss\n"
     ]
    },
    {
     "name": "stdout",
     "output_type": "stream",
     "text": [
      "390.0\n",
      "960.0\n",
      "660.0\n",
      "420.0\n",
      "0.0\n",
      "0.0\n",
      "0.0\n",
      "540.0\n",
      "120.0\n",
      "150.0\n"
     ]
    },
    {
     "name": "stderr",
     "output_type": "stream",
     "text": [
      "IMAGEIO FFMPEG_WRITER WARNING: input image is not divisible by macro_block_size=16, resizing from (700, 700) to (704, 704) to ensure video compatibility with most codecs and players. To prevent resizing, make your input image divisible by the macro_block_size or set the macro_block_size to 1 (risking incompatibility).\n"
     ]
    },
    {
     "name": "stdout",
     "output_type": "stream",
     "text": [
      "124\n"
     ]
    },
    {
     "name": "stderr",
     "output_type": "stream",
     "text": [
      "[swscaler @ 0x6e18a80] Warning: data is not aligned! This can lead to a speed loss\n"
     ]
    },
    {
     "name": "stdout",
     "output_type": "stream",
     "text": [
      "720.0\n",
      "600.0\n",
      "600.0\n",
      "0.0\n",
      "480.0\n",
      "30.0\n",
      "360.0\n",
      "0.0\n",
      "360.0\n",
      "0.0\n",
      "Evaluation Reward for episode 2000 is: 196.2\n",
      "on episode 2016, curr epsilon 0.40159067973705354 (time taken so far: 0-00:06:51.0)\n",
      "     mean loss: adversary 2787.4791223316925\n",
      "     mean reward: adversary 136.7335666281909, agent -86.35864039227924\n",
      "on episode 2048, curr epsilon 0.3964820621606865 (time taken so far: 0-00:06:57.0)\n",
      "     mean loss: adversary 3274.465634629496\n",
      "     mean reward: adversary 149.07444658701405, agent -89.52354079928307\n",
      "on episode 2080, curr epsilon 0.3914384310863933 (time taken so far: 0-00:07:3.0)\n",
      "     mean loss: adversary 3407.369266575468\n",
      "     mean reward: adversary 98.72716953064787, agent -68.58694547140627\n",
      "on episode 2112, curr epsilon 0.3864589598237064 (time taken so far: 0-00:07:9.0)\n",
      "     mean loss: adversary 3418.636614822806\n",
      "     mean reward: adversary 94.34243177866969, agent -69.31701190426796\n",
      "on episode 2144, curr epsilon 0.3815428321984522 (time taken so far: 0-00:07:15.0)\n",
      "     mean loss: adversary 3428.742541465802\n",
      "     mean reward: adversary 117.46430789294358, agent -75.879964239804\n",
      "on episode 2176, curr epsilon 0.376689242418973 (time taken so far: 0-00:07:21.0)\n",
      "     mean loss: adversary 3911.3790736110454\n",
      "     mean reward: adversary 136.60334150768574, agent -82.70263770691611\n",
      "on episode 2208, curr epsilon 0.3718973949440517 (time taken so far: 0-00:07:27.0)\n",
      "     mean loss: adversary 3882.9752065238335\n",
      "     mean reward: adversary 134.38265569586875, agent -82.01266032179898\n",
      "on episode 2240, curr epsilon 0.3671665043525163 (time taken so far: 0-00:07:33.0)\n",
      "     mean loss: adversary 3793.049476614616\n",
      "     mean reward: adversary 111.88604784975311, agent -76.46701058987568\n",
      "on episode 2272, curr epsilon 0.36249579521450376 (time taken so far: 0-00:07:38.0)\n",
      "     mean loss: adversary 4153.429194826278\n",
      "     mean reward: adversary 130.09699116100018, agent -80.21949404485937\n",
      "on episode 2304, curr epsilon 0.35788450196436034 (time taken so far: 0-00:07:44.0)\n",
      "     mean loss: adversary 4048.488717578615\n",
      "     mean reward: adversary 157.42475587319134, agent -90.61757910768006\n",
      "on episode 2336, curr epsilon 0.35333186877516004 (time taken so far: 0-00:07:50.0)\n",
      "     mean loss: adversary 4312.749136974067\n",
      "     mean reward: adversary 156.44275098821734, agent -97.35771417613341\n",
      "on episode 2368, curr epsilon 0.34883714943481753 (time taken so far: 0-00:07:56.0)\n",
      "     mean loss: adversary 4461.261593910969\n",
      "     mean reward: adversary 144.84656950874944, agent -89.25474809814719\n",
      "on episode 2400, curr epsilon 0.3443996072237799 (time taken so far: 0-00:08:2.0)\n",
      "     mean loss: adversary 4532.040868236311\n",
      "     mean reward: adversary 117.80962899900304, agent -78.97627454028337\n",
      "on episode 2432, curr epsilon 0.3400185147942709 (time taken so far: 0-00:08:7.0)\n",
      "     mean loss: adversary 5272.893771434828\n",
      "     mean reward: adversary 153.71003420392438, agent -92.07988729205641\n",
      "on episode 2464, curr epsilon 0.3356931540510745 (time taken so far: 0-00:08:13.0)\n",
      "     mean loss: adversary 4968.73089425439\n",
      "     mean reward: adversary 139.7397872346836, agent -85.6286497197826\n",
      "on episode 2496, curr epsilon 0.331422816033832 (time taken so far: 0-00:08:19.0)\n",
      "     mean loss: adversary 5780.005300098399\n",
      "     mean reward: adversary 193.44353956751718, agent -111.8527560487721\n"
     ]
    },
    {
     "name": "stderr",
     "output_type": "stream",
     "text": [
      "IMAGEIO FFMPEG_WRITER WARNING: input image is not divisible by macro_block_size=16, resizing from (700, 700) to (704, 704) to ensure video compatibility with most codecs and players. To prevent resizing, make your input image divisible by the macro_block_size or set the macro_block_size to 1 (risking incompatibility).\n"
     ]
    },
    {
     "name": "stdout",
     "output_type": "stream",
     "text": [
      "124\n"
     ]
    },
    {
     "name": "stderr",
     "output_type": "stream",
     "text": [
      "[swscaler @ 0x7510a80] Warning: data is not aligned! This can lead to a speed loss\n"
     ]
    },
    {
     "name": "stdout",
     "output_type": "stream",
     "text": [
      "300.0\n",
      "300.0\n",
      "390.0\n",
      "840.0\n",
      "180.0\n",
      "240.0\n",
      "240.0\n",
      "90.0\n",
      "540.0\n",
      "390.0\n"
     ]
    },
    {
     "name": "stderr",
     "output_type": "stream",
     "text": [
      "IMAGEIO FFMPEG_WRITER WARNING: input image is not divisible by macro_block_size=16, resizing from (700, 700) to (704, 704) to ensure video compatibility with most codecs and players. To prevent resizing, make your input image divisible by the macro_block_size or set the macro_block_size to 1 (risking incompatibility).\n"
     ]
    },
    {
     "name": "stdout",
     "output_type": "stream",
     "text": [
      "124\n"
     ]
    },
    {
     "name": "stderr",
     "output_type": "stream",
     "text": [
      "[swscaler @ 0x58f7a80] Warning: data is not aligned! This can lead to a speed loss\n"
     ]
    },
    {
     "name": "stdout",
     "output_type": "stream",
     "text": [
      "120.0\n",
      "810.0\n",
      "330.0\n",
      "330.0\n",
      "420.0\n",
      "210.0\n",
      "180.0\n",
      "540.0\n",
      "60.0\n",
      "510.0\n"
     ]
    },
    {
     "name": "stderr",
     "output_type": "stream",
     "text": [
      "IMAGEIO FFMPEG_WRITER WARNING: input image is not divisible by macro_block_size=16, resizing from (700, 700) to (704, 704) to ensure video compatibility with most codecs and players. To prevent resizing, make your input image divisible by the macro_block_size or set the macro_block_size to 1 (risking incompatibility).\n"
     ]
    },
    {
     "name": "stdout",
     "output_type": "stream",
     "text": [
      "124\n"
     ]
    },
    {
     "name": "stderr",
     "output_type": "stream",
     "text": [
      "[swscaler @ 0x71ada80] Warning: data is not aligned! This can lead to a speed loss\n"
     ]
    },
    {
     "name": "stdout",
     "output_type": "stream",
     "text": [
      "480.0\n",
      "90.0\n",
      "630.0\n",
      "90.0\n",
      "60.0\n",
      "150.0\n",
      "210.0\n",
      "1350.0\n",
      "210.0\n",
      "150.0\n"
     ]
    },
    {
     "name": "stderr",
     "output_type": "stream",
     "text": [
      "IMAGEIO FFMPEG_WRITER WARNING: input image is not divisible by macro_block_size=16, resizing from (700, 700) to (704, 704) to ensure video compatibility with most codecs and players. To prevent resizing, make your input image divisible by the macro_block_size or set the macro_block_size to 1 (risking incompatibility).\n"
     ]
    },
    {
     "name": "stdout",
     "output_type": "stream",
     "text": [
      "124\n"
     ]
    },
    {
     "name": "stderr",
     "output_type": "stream",
     "text": [
      "[swscaler @ 0x655aa80] Warning: data is not aligned! This can lead to a speed loss\n"
     ]
    },
    {
     "name": "stdout",
     "output_type": "stream",
     "text": [
      "1140.0\n",
      "180.0\n",
      "1350.0\n",
      "1020.0\n",
      "180.0\n",
      "180.0\n",
      "330.0\n",
      "120.0\n",
      "240.0\n",
      "90.0\n"
     ]
    },
    {
     "name": "stderr",
     "output_type": "stream",
     "text": [
      "IMAGEIO FFMPEG_WRITER WARNING: input image is not divisible by macro_block_size=16, resizing from (700, 700) to (704, 704) to ensure video compatibility with most codecs and players. To prevent resizing, make your input image divisible by the macro_block_size or set the macro_block_size to 1 (risking incompatibility).\n"
     ]
    },
    {
     "name": "stdout",
     "output_type": "stream",
     "text": [
      "124\n"
     ]
    },
    {
     "name": "stderr",
     "output_type": "stream",
     "text": [
      "[swscaler @ 0x712da80] Warning: data is not aligned! This can lead to a speed loss\n"
     ]
    },
    {
     "name": "stdout",
     "output_type": "stream",
     "text": [
      "180.0\n",
      "120.0\n",
      "480.0\n",
      "240.0\n",
      "420.0\n",
      "630.0\n",
      "480.0\n",
      "330.0\n",
      "150.0\n",
      "300.0\n"
     ]
    },
    {
     "name": "stderr",
     "output_type": "stream",
     "text": [
      "IMAGEIO FFMPEG_WRITER WARNING: input image is not divisible by macro_block_size=16, resizing from (700, 700) to (704, 704) to ensure video compatibility with most codecs and players. To prevent resizing, make your input image divisible by the macro_block_size or set the macro_block_size to 1 (risking incompatibility).\n"
     ]
    },
    {
     "name": "stdout",
     "output_type": "stream",
     "text": [
      "124\n"
     ]
    },
    {
     "name": "stderr",
     "output_type": "stream",
     "text": [
      "[swscaler @ 0x71e0a80] Warning: data is not aligned! This can lead to a speed loss\n"
     ]
    },
    {
     "name": "stdout",
     "output_type": "stream",
     "text": [
      "180.0\n",
      "480.0\n",
      "90.0\n",
      "390.0\n",
      "150.0\n",
      "780.0\n",
      "660.0\n",
      "450.0\n",
      "480.0\n",
      "510.0\n"
     ]
    },
    {
     "name": "stderr",
     "output_type": "stream",
     "text": [
      "IMAGEIO FFMPEG_WRITER WARNING: input image is not divisible by macro_block_size=16, resizing from (700, 700) to (704, 704) to ensure video compatibility with most codecs and players. To prevent resizing, make your input image divisible by the macro_block_size or set the macro_block_size to 1 (risking incompatibility).\n"
     ]
    },
    {
     "name": "stdout",
     "output_type": "stream",
     "text": [
      "124\n"
     ]
    },
    {
     "name": "stderr",
     "output_type": "stream",
     "text": [
      "[swscaler @ 0x739da80] Warning: data is not aligned! This can lead to a speed loss\n"
     ]
    },
    {
     "name": "stdout",
     "output_type": "stream",
     "text": [
      "1110.0\n",
      "270.0\n",
      "240.0\n",
      "390.0\n",
      "300.0\n",
      "210.0\n",
      "360.0\n",
      "270.0\n",
      "210.0\n",
      "210.0\n"
     ]
    },
    {
     "name": "stderr",
     "output_type": "stream",
     "text": [
      "IMAGEIO FFMPEG_WRITER WARNING: input image is not divisible by macro_block_size=16, resizing from (700, 700) to (704, 704) to ensure video compatibility with most codecs and players. To prevent resizing, make your input image divisible by the macro_block_size or set the macro_block_size to 1 (risking incompatibility).\n"
     ]
    },
    {
     "name": "stdout",
     "output_type": "stream",
     "text": [
      "124\n"
     ]
    },
    {
     "name": "stderr",
     "output_type": "stream",
     "text": [
      "[swscaler @ 0x5632a80] Warning: data is not aligned! This can lead to a speed loss\n"
     ]
    },
    {
     "name": "stdout",
     "output_type": "stream",
     "text": [
      "450.0\n",
      "930.0\n",
      "570.0\n",
      "390.0\n",
      "240.0\n",
      "750.0\n",
      "420.0\n",
      "270.0\n",
      "450.0\n",
      "240.0\n"
     ]
    },
    {
     "name": "stderr",
     "output_type": "stream",
     "text": [
      "IMAGEIO FFMPEG_WRITER WARNING: input image is not divisible by macro_block_size=16, resizing from (700, 700) to (704, 704) to ensure video compatibility with most codecs and players. To prevent resizing, make your input image divisible by the macro_block_size or set the macro_block_size to 1 (risking incompatibility).\n"
     ]
    },
    {
     "name": "stdout",
     "output_type": "stream",
     "text": [
      "124\n"
     ]
    },
    {
     "name": "stderr",
     "output_type": "stream",
     "text": [
      "[swscaler @ 0x646da80] Warning: data is not aligned! This can lead to a speed loss\n"
     ]
    },
    {
     "name": "stdout",
     "output_type": "stream",
     "text": [
      "300.0\n",
      "330.0\n",
      "510.0\n",
      "600.0\n",
      "150.0\n",
      "1140.0\n",
      "420.0\n",
      "450.0\n",
      "600.0\n",
      "210.0\n"
     ]
    },
    {
     "name": "stderr",
     "output_type": "stream",
     "text": [
      "IMAGEIO FFMPEG_WRITER WARNING: input image is not divisible by macro_block_size=16, resizing from (700, 700) to (704, 704) to ensure video compatibility with most codecs and players. To prevent resizing, make your input image divisible by the macro_block_size or set the macro_block_size to 1 (risking incompatibility).\n"
     ]
    },
    {
     "name": "stdout",
     "output_type": "stream",
     "text": [
      "124\n"
     ]
    },
    {
     "name": "stderr",
     "output_type": "stream",
     "text": [
      "[swscaler @ 0x65eba80] Warning: data is not aligned! This can lead to a speed loss\n"
     ]
    },
    {
     "name": "stdout",
     "output_type": "stream",
     "text": [
      "360.0\n",
      "390.0\n",
      "360.0\n",
      "270.0\n",
      "390.0\n",
      "360.0\n",
      "390.0\n",
      "210.0\n",
      "150.0\n",
      "450.0\n",
      "Evaluation Reward for episode 2500 is: 390.9\n",
      "on episode 2528, curr epsilon 0.3272068008008388 (time taken so far: 0-00:08:36.0)\n",
      "     mean loss: adversary 5233.934803429174\n",
      "     mean reward: adversary 137.61362853130927, agent -82.28129064620603\n",
      "on episode 2560, curr epsilon 0.32304441731431843 (time taken so far: 0-00:08:42.0)\n",
      "     mean loss: adversary 4935.679807940882\n",
      "     mean reward: adversary 135.05396279373744, agent -84.48964804317096\n",
      "on episode 2592, curr epsilon 0.31893498332715586 (time taken so far: 0-00:08:48.0)\n",
      "     mean loss: adversary 5426.212608229392\n",
      "     mean reward: adversary 144.72045367319362, agent -91.14794332164834\n",
      "on episode 2624, curr epsilon 0.3148778252710719 (time taken so far: 0-00:08:54.0)\n",
      "     mean loss: adversary 5561.6723415438355\n",
      "     mean reward: adversary 150.71861365008428, agent -93.67073386254391\n",
      "on episode 2656, curr epsilon 0.3108722781462201 (time taken so far: 0-00:09:0.0)\n",
      "     mean loss: adversary 5499.092741055804\n",
      "     mean reward: adversary 154.01824167874065, agent -88.18463255713738\n",
      "on episode 2688, curr epsilon 0.30691768541218833 (time taken so far: 0-00:09:5.0)\n",
      "     mean loss: adversary 5597.48280875335\n",
      "     mean reward: adversary 182.25579047467522, agent -98.48826662194804\n",
      "on episode 2720, curr epsilon 0.30301339888038625 (time taken so far: 0-00:09:11.0)\n",
      "     mean loss: adversary 5529.745295509642\n",
      "     mean reward: adversary 169.579884804969, agent -98.34650367844166\n",
      "on episode 2752, curr epsilon 0.29915877860780254 (time taken so far: 0-00:09:16.0)\n",
      "     mean loss: adversary 6618.284779646827\n",
      "     mean reward: adversary 137.75861744389707, agent -93.93057952099984\n",
      "on episode 2784, curr epsilon 0.2953531927921133 (time taken so far: 0-00:09:23.0)\n",
      "     mean loss: adversary 7265.793408788727\n",
      "     mean reward: adversary 177.27848208443382, agent -105.19356974713813\n",
      "on episode 2816, curr epsilon 0.29159601766812415 (time taken so far: 0-00:09:29.0)\n",
      "     mean loss: adversary 7148.402670091953\n",
      "     mean reward: adversary 172.2871226415519, agent -96.55473807653517\n",
      "on episode 2848, curr epsilon 0.28788663740553105 (time taken so far: 0-00:09:35.0)\n",
      "     mean loss: adversary 6826.02966839252\n",
      "     mean reward: adversary 133.03975250506522, agent -85.08256981643098\n",
      "on episode 2880, curr epsilon 0.28422444400797997 (time taken so far: 0-00:09:40.0)\n",
      "     mean loss: adversary 7228.983241604295\n",
      "     mean reward: adversary 161.29198444414897, agent -92.14903909340539\n",
      "on episode 2912, curr epsilon 0.28060883721341234 (time taken so far: 0-00:09:47.0)\n",
      "     mean loss: adversary 7349.124494999879\n",
      "     mean reward: adversary 155.41091555162947, agent -90.48902337080088\n",
      "on episode 2944, curr epsilon 0.27703922439567724 (time taken so far: 0-00:09:53.0)\n",
      "     mean loss: adversary 7402.775001410808\n",
      "     mean reward: adversary 163.40672764913867, agent -98.19522835895854\n",
      "on episode 2976, curr epsilon 0.273515020467395 (time taken so far: 0-00:09:58.0)\n",
      "     mean loss: adversary 7423.221892193595\n",
      "     mean reward: adversary 150.75178390227077, agent -90.70266386092395\n"
     ]
    },
    {
     "name": "stderr",
     "output_type": "stream",
     "text": [
      "IMAGEIO FFMPEG_WRITER WARNING: input image is not divisible by macro_block_size=16, resizing from (700, 700) to (704, 704) to ensure video compatibility with most codecs and players. To prevent resizing, make your input image divisible by the macro_block_size or set the macro_block_size to 1 (risking incompatibility).\n"
     ]
    },
    {
     "name": "stdout",
     "output_type": "stream",
     "text": [
      "124\n"
     ]
    },
    {
     "name": "stderr",
     "output_type": "stream",
     "text": [
      "[swscaler @ 0x5acaa80] Warning: data is not aligned! This can lead to a speed loss\n"
     ]
    },
    {
     "name": "stdout",
     "output_type": "stream",
     "text": [
      "0.0\n",
      "60.0\n",
      "150.0\n",
      "180.0\n",
      "30.0\n",
      "0.0\n",
      "450.0\n",
      "180.0\n",
      "330.0\n",
      "90.0\n"
     ]
    },
    {
     "name": "stderr",
     "output_type": "stream",
     "text": [
      "IMAGEIO FFMPEG_WRITER WARNING: input image is not divisible by macro_block_size=16, resizing from (700, 700) to (704, 704) to ensure video compatibility with most codecs and players. To prevent resizing, make your input image divisible by the macro_block_size or set the macro_block_size to 1 (risking incompatibility).\n"
     ]
    },
    {
     "name": "stdout",
     "output_type": "stream",
     "text": [
      "124\n"
     ]
    },
    {
     "name": "stderr",
     "output_type": "stream",
     "text": [
      "[swscaler @ 0x6c60a80] Warning: data is not aligned! This can lead to a speed loss\n"
     ]
    },
    {
     "name": "stdout",
     "output_type": "stream",
     "text": [
      "180.0\n",
      "0.0\n",
      "0.0\n",
      "90.0\n",
      "90.0\n",
      "60.0\n",
      "240.0\n",
      "60.0\n",
      "30.0\n",
      "30.0\n"
     ]
    },
    {
     "name": "stderr",
     "output_type": "stream",
     "text": [
      "IMAGEIO FFMPEG_WRITER WARNING: input image is not divisible by macro_block_size=16, resizing from (700, 700) to (704, 704) to ensure video compatibility with most codecs and players. To prevent resizing, make your input image divisible by the macro_block_size or set the macro_block_size to 1 (risking incompatibility).\n"
     ]
    },
    {
     "name": "stdout",
     "output_type": "stream",
     "text": [
      "124\n"
     ]
    },
    {
     "name": "stderr",
     "output_type": "stream",
     "text": [
      "[swscaler @ 0x5881a80] Warning: data is not aligned! This can lead to a speed loss\n"
     ]
    },
    {
     "name": "stdout",
     "output_type": "stream",
     "text": [
      "150.0\n",
      "150.0\n",
      "90.0\n",
      "0.0\n",
      "90.0\n",
      "210.0\n",
      "30.0\n",
      "300.0\n",
      "90.0\n",
      "210.0\n"
     ]
    },
    {
     "name": "stderr",
     "output_type": "stream",
     "text": [
      "IMAGEIO FFMPEG_WRITER WARNING: input image is not divisible by macro_block_size=16, resizing from (700, 700) to (704, 704) to ensure video compatibility with most codecs and players. To prevent resizing, make your input image divisible by the macro_block_size or set the macro_block_size to 1 (risking incompatibility).\n"
     ]
    },
    {
     "name": "stdout",
     "output_type": "stream",
     "text": [
      "124\n"
     ]
    },
    {
     "name": "stderr",
     "output_type": "stream",
     "text": [
      "[swscaler @ 0x6143a80] Warning: data is not aligned! This can lead to a speed loss\n"
     ]
    },
    {
     "name": "stdout",
     "output_type": "stream",
     "text": [
      "90.0\n",
      "120.0\n",
      "60.0\n",
      "240.0\n",
      "90.0\n",
      "30.0\n",
      "60.0\n",
      "0.0\n",
      "150.0\n",
      "180.0\n"
     ]
    },
    {
     "name": "stderr",
     "output_type": "stream",
     "text": [
      "IMAGEIO FFMPEG_WRITER WARNING: input image is not divisible by macro_block_size=16, resizing from (700, 700) to (704, 704) to ensure video compatibility with most codecs and players. To prevent resizing, make your input image divisible by the macro_block_size or set the macro_block_size to 1 (risking incompatibility).\n"
     ]
    },
    {
     "name": "stdout",
     "output_type": "stream",
     "text": [
      "124\n"
     ]
    },
    {
     "name": "stderr",
     "output_type": "stream",
     "text": [
      "[swscaler @ 0x6944a80] Warning: data is not aligned! This can lead to a speed loss\n"
     ]
    },
    {
     "name": "stdout",
     "output_type": "stream",
     "text": [
      "30.0\n",
      "180.0\n",
      "30.0\n",
      "240.0\n",
      "90.0\n",
      "0.0\n",
      "120.0\n",
      "0.0\n",
      "0.0\n",
      "300.0\n"
     ]
    },
    {
     "name": "stderr",
     "output_type": "stream",
     "text": [
      "IMAGEIO FFMPEG_WRITER WARNING: input image is not divisible by macro_block_size=16, resizing from (700, 700) to (704, 704) to ensure video compatibility with most codecs and players. To prevent resizing, make your input image divisible by the macro_block_size or set the macro_block_size to 1 (risking incompatibility).\n"
     ]
    },
    {
     "name": "stdout",
     "output_type": "stream",
     "text": [
      "124\n"
     ]
    },
    {
     "name": "stderr",
     "output_type": "stream",
     "text": [
      "[swscaler @ 0x5b6aa80] Warning: data is not aligned! This can lead to a speed loss\n"
     ]
    },
    {
     "name": "stdout",
     "output_type": "stream",
     "text": [
      "90.0\n",
      "90.0\n",
      "90.0\n",
      "90.0\n",
      "60.0\n",
      "0.0\n",
      "30.0\n",
      "0.0\n",
      "180.0\n",
      "150.0\n"
     ]
    },
    {
     "name": "stderr",
     "output_type": "stream",
     "text": [
      "IMAGEIO FFMPEG_WRITER WARNING: input image is not divisible by macro_block_size=16, resizing from (700, 700) to (704, 704) to ensure video compatibility with most codecs and players. To prevent resizing, make your input image divisible by the macro_block_size or set the macro_block_size to 1 (risking incompatibility).\n"
     ]
    },
    {
     "name": "stdout",
     "output_type": "stream",
     "text": [
      "124\n"
     ]
    },
    {
     "name": "stderr",
     "output_type": "stream",
     "text": [
      "[swscaler @ 0x729ea80] Warning: data is not aligned! This can lead to a speed loss\n"
     ]
    },
    {
     "name": "stdout",
     "output_type": "stream",
     "text": [
      "150.0\n",
      "180.0\n",
      "0.0\n",
      "120.0\n",
      "60.0\n",
      "90.0\n",
      "30.0\n",
      "0.0\n",
      "0.0\n",
      "300.0\n"
     ]
    },
    {
     "name": "stderr",
     "output_type": "stream",
     "text": [
      "IMAGEIO FFMPEG_WRITER WARNING: input image is not divisible by macro_block_size=16, resizing from (700, 700) to (704, 704) to ensure video compatibility with most codecs and players. To prevent resizing, make your input image divisible by the macro_block_size or set the macro_block_size to 1 (risking incompatibility).\n"
     ]
    },
    {
     "name": "stdout",
     "output_type": "stream",
     "text": [
      "124\n"
     ]
    },
    {
     "name": "stderr",
     "output_type": "stream",
     "text": [
      "[swscaler @ 0x5c6fa80] Warning: data is not aligned! This can lead to a speed loss\n"
     ]
    },
    {
     "name": "stdout",
     "output_type": "stream",
     "text": [
      "0.0\n",
      "180.0\n",
      "570.0\n",
      "330.0\n",
      "30.0\n",
      "0.0\n",
      "330.0\n",
      "30.0\n",
      "120.0\n",
      "0.0\n"
     ]
    },
    {
     "name": "stderr",
     "output_type": "stream",
     "text": [
      "IMAGEIO FFMPEG_WRITER WARNING: input image is not divisible by macro_block_size=16, resizing from (700, 700) to (704, 704) to ensure video compatibility with most codecs and players. To prevent resizing, make your input image divisible by the macro_block_size or set the macro_block_size to 1 (risking incompatibility).\n"
     ]
    },
    {
     "name": "stdout",
     "output_type": "stream",
     "text": [
      "124\n"
     ]
    },
    {
     "name": "stderr",
     "output_type": "stream",
     "text": [
      "[swscaler @ 0x5d57a80] Warning: data is not aligned! This can lead to a speed loss\n"
     ]
    },
    {
     "name": "stdout",
     "output_type": "stream",
     "text": [
      "90.0\n",
      "90.0\n",
      "90.0\n",
      "150.0\n",
      "120.0\n",
      "0.0\n",
      "60.0\n",
      "0.0\n",
      "60.0\n",
      "60.0\n"
     ]
    },
    {
     "name": "stderr",
     "output_type": "stream",
     "text": [
      "IMAGEIO FFMPEG_WRITER WARNING: input image is not divisible by macro_block_size=16, resizing from (700, 700) to (704, 704) to ensure video compatibility with most codecs and players. To prevent resizing, make your input image divisible by the macro_block_size or set the macro_block_size to 1 (risking incompatibility).\n"
     ]
    },
    {
     "name": "stdout",
     "output_type": "stream",
     "text": [
      "124\n"
     ]
    },
    {
     "name": "stderr",
     "output_type": "stream",
     "text": [
      "[swscaler @ 0x5bf7a80] Warning: data is not aligned! This can lead to a speed loss\n"
     ]
    },
    {
     "name": "stdout",
     "output_type": "stream",
     "text": [
      "0.0\n",
      "0.0\n",
      "90.0\n",
      "30.0\n",
      "60.0\n",
      "210.0\n",
      "330.0\n",
      "150.0\n",
      "270.0\n",
      "0.0\n",
      "Evaluation Reward for episode 3000 is: 107.4\n",
      "on episode 3008, curr epsilon 0.2700356477840573 (time taken so far: 0-00:10:16.0)\n",
      "     mean loss: adversary 7747.787257004478\n",
      "     mean reward: adversary 173.33914883175407, agent -96.31268638855784\n",
      "on episode 3040, curr epsilon 0.2666005360493463 (time taken so far: 0-00:10:22.0)\n",
      "     mean loss: adversary 8182.527290369084\n",
      "     mean reward: adversary 161.41193543546177, agent -97.87931114050174\n",
      "on episode 3072, curr epsilon 0.2632091222216591 (time taken so far: 0-00:10:28.0)\n",
      "     mean loss: adversary 7970.416515040952\n",
      "     mean reward: adversary 180.20209953413766, agent -106.29674262329762\n",
      "on episode 3104, curr epsilon 0.2598608504218202 (time taken so far: 0-00:10:34.0)\n",
      "     mean loss: adversary 8646.872768377485\n",
      "     mean reward: adversary 187.59487251883107, agent -104.73449622738615\n",
      "on episode 3136, curr epsilon 0.256555171841969 (time taken so far: 0-00:10:40.0)\n",
      "     mean loss: adversary 8149.6359494107155\n",
      "     mean reward: adversary 138.39589789844317, agent -87.21132823335897\n",
      "on episode 3168, curr epsilon 0.25329154465560627 (time taken so far: 0-00:10:46.0)\n",
      "     mean loss: adversary 8317.82010874393\n",
      "     mean reward: adversary 127.68348052652358, agent -85.86610243477672\n",
      "on episode 3200, curr epsilon 0.2500694339287835 (time taken so far: 0-00:10:52.0)\n",
      "     mean loss: adversary 8865.550982343622\n",
      "     mean reward: adversary 181.79821981773713, agent -107.00438658209332\n",
      "on episode 3232, curr epsilon 0.24688831153242402 (time taken so far: 0-00:10:58.0)\n",
      "     mean loss: adversary 8310.806066479468\n",
      "     mean reward: adversary 191.5827045699731, agent -107.72439397217192\n",
      "on episode 3264, curr epsilon 0.24374765605575818 (time taken so far: 0-00:11:4.0)\n",
      "     mean loss: adversary 9178.304256978221\n",
      "     mean reward: adversary 237.13650072829685, agent -120.34578470268633\n",
      "on episode 3296, curr epsilon 0.24064695272086 (time taken so far: 0-00:11:10.0)\n",
      "     mean loss: adversary 8273.000829307279\n",
      "     mean reward: adversary 161.51720900492901, agent -90.59236746098004\n",
      "on episode 3328, curr epsilon 0.2375856932982711 (time taken so far: 0-00:11:15.0)\n",
      "     mean loss: adversary 9122.715254207991\n",
      "     mean reward: adversary 208.95121721693627, agent -113.41953383942709\n",
      "on episode 3360, curr epsilon 0.23456337602369784 (time taken so far: 0-00:11:21.0)\n",
      "     mean loss: adversary 10827.97080094974\n",
      "     mean reward: adversary 132.5686564739641, agent -85.67740770405466\n",
      "on episode 3392, curr epsilon 0.23157950551576859 (time taken so far: 0-00:11:27.0)\n",
      "     mean loss: adversary 11056.86612470037\n",
      "     mean reward: adversary 167.26738011387275, agent -91.99243302127375\n",
      "on episode 3424, curr epsilon 0.22863359269483632 (time taken so far: 0-00:11:32.0)\n",
      "     mean loss: adversary 10847.832097121656\n",
      "     mean reward: adversary 139.58556710779203, agent -88.7523221285706\n",
      "on episode 3456, curr epsilon 0.2257251547028153 (time taken so far: 0-00:11:39.0)\n",
      "     mean loss: adversary 11425.547123414402\n",
      "     mean reward: adversary 161.0488104674385, agent -95.39191049090049\n",
      "on episode 3488, curr epsilon 0.22285371482403624 (time taken so far: 0-00:11:45.0)\n",
      "     mean loss: adversary 13344.85783292769\n",
      "     mean reward: adversary 128.02824287864902, agent -88.75315151580153\n"
     ]
    },
    {
     "name": "stderr",
     "output_type": "stream",
     "text": [
      "IMAGEIO FFMPEG_WRITER WARNING: input image is not divisible by macro_block_size=16, resizing from (700, 700) to (704, 704) to ensure video compatibility with most codecs and players. To prevent resizing, make your input image divisible by the macro_block_size or set the macro_block_size to 1 (risking incompatibility).\n"
     ]
    },
    {
     "name": "stdout",
     "output_type": "stream",
     "text": [
      "124\n"
     ]
    },
    {
     "name": "stderr",
     "output_type": "stream",
     "text": [
      "[swscaler @ 0x693aa80] Warning: data is not aligned! This can lead to a speed loss\n"
     ]
    },
    {
     "name": "stdout",
     "output_type": "stream",
     "text": [
      "0.0\n",
      "0.0\n",
      "0.0\n",
      "0.0\n",
      "0.0\n",
      "0.0\n",
      "150.0\n",
      "0.0\n",
      "0.0\n",
      "0.0\n"
     ]
    },
    {
     "name": "stderr",
     "output_type": "stream",
     "text": [
      "IMAGEIO FFMPEG_WRITER WARNING: input image is not divisible by macro_block_size=16, resizing from (700, 700) to (704, 704) to ensure video compatibility with most codecs and players. To prevent resizing, make your input image divisible by the macro_block_size or set the macro_block_size to 1 (risking incompatibility).\n"
     ]
    },
    {
     "name": "stdout",
     "output_type": "stream",
     "text": [
      "124\n"
     ]
    },
    {
     "name": "stderr",
     "output_type": "stream",
     "text": [
      "[swscaler @ 0x583ba80] Warning: data is not aligned! This can lead to a speed loss\n"
     ]
    },
    {
     "name": "stdout",
     "output_type": "stream",
     "text": [
      "0.0\n",
      "30.0\n",
      "0.0\n",
      "0.0\n",
      "0.0\n",
      "30.0\n",
      "0.0\n",
      "0.0\n",
      "0.0\n",
      "60.0\n"
     ]
    },
    {
     "name": "stderr",
     "output_type": "stream",
     "text": [
      "IMAGEIO FFMPEG_WRITER WARNING: input image is not divisible by macro_block_size=16, resizing from (700, 700) to (704, 704) to ensure video compatibility with most codecs and players. To prevent resizing, make your input image divisible by the macro_block_size or set the macro_block_size to 1 (risking incompatibility).\n"
     ]
    },
    {
     "name": "stdout",
     "output_type": "stream",
     "text": [
      "124\n"
     ]
    },
    {
     "name": "stderr",
     "output_type": "stream",
     "text": [
      "[swscaler @ 0x63bca80] Warning: data is not aligned! This can lead to a speed loss\n"
     ]
    },
    {
     "name": "stdout",
     "output_type": "stream",
     "text": [
      "30.0\n",
      "0.0\n",
      "0.0\n",
      "0.0\n",
      "30.0\n",
      "0.0\n",
      "0.0\n",
      "60.0\n",
      "0.0\n",
      "60.0\n"
     ]
    },
    {
     "name": "stderr",
     "output_type": "stream",
     "text": [
      "IMAGEIO FFMPEG_WRITER WARNING: input image is not divisible by macro_block_size=16, resizing from (700, 700) to (704, 704) to ensure video compatibility with most codecs and players. To prevent resizing, make your input image divisible by the macro_block_size or set the macro_block_size to 1 (risking incompatibility).\n"
     ]
    },
    {
     "name": "stdout",
     "output_type": "stream",
     "text": [
      "124\n"
     ]
    },
    {
     "name": "stderr",
     "output_type": "stream",
     "text": [
      "[swscaler @ 0x6252a80] Warning: data is not aligned! This can lead to a speed loss\n"
     ]
    },
    {
     "name": "stdout",
     "output_type": "stream",
     "text": [
      "0.0\n",
      "0.0\n",
      "0.0\n",
      "0.0\n",
      "30.0\n",
      "120.0\n",
      "0.0\n",
      "0.0\n",
      "0.0\n",
      "0.0\n"
     ]
    },
    {
     "name": "stderr",
     "output_type": "stream",
     "text": [
      "IMAGEIO FFMPEG_WRITER WARNING: input image is not divisible by macro_block_size=16, resizing from (700, 700) to (704, 704) to ensure video compatibility with most codecs and players. To prevent resizing, make your input image divisible by the macro_block_size or set the macro_block_size to 1 (risking incompatibility).\n"
     ]
    },
    {
     "name": "stdout",
     "output_type": "stream",
     "text": [
      "124\n"
     ]
    },
    {
     "name": "stderr",
     "output_type": "stream",
     "text": [
      "[swscaler @ 0x6f0ca80] Warning: data is not aligned! This can lead to a speed loss\n"
     ]
    },
    {
     "name": "stdout",
     "output_type": "stream",
     "text": [
      "0.0\n",
      "120.0\n",
      "0.0\n",
      "0.0\n",
      "0.0\n",
      "0.0\n",
      "0.0\n",
      "0.0\n",
      "0.0\n",
      "0.0\n"
     ]
    },
    {
     "name": "stderr",
     "output_type": "stream",
     "text": [
      "IMAGEIO FFMPEG_WRITER WARNING: input image is not divisible by macro_block_size=16, resizing from (700, 700) to (704, 704) to ensure video compatibility with most codecs and players. To prevent resizing, make your input image divisible by the macro_block_size or set the macro_block_size to 1 (risking incompatibility).\n"
     ]
    },
    {
     "name": "stdout",
     "output_type": "stream",
     "text": [
      "124\n"
     ]
    },
    {
     "name": "stderr",
     "output_type": "stream",
     "text": [
      "[swscaler @ 0x704ba80] Warning: data is not aligned! This can lead to a speed loss\n"
     ]
    },
    {
     "name": "stdout",
     "output_type": "stream",
     "text": [
      "0.0\n",
      "0.0\n",
      "0.0\n",
      "0.0\n",
      "30.0\n",
      "0.0\n",
      "0.0\n",
      "0.0\n",
      "0.0\n",
      "0.0\n"
     ]
    },
    {
     "name": "stderr",
     "output_type": "stream",
     "text": [
      "IMAGEIO FFMPEG_WRITER WARNING: input image is not divisible by macro_block_size=16, resizing from (700, 700) to (704, 704) to ensure video compatibility with most codecs and players. To prevent resizing, make your input image divisible by the macro_block_size or set the macro_block_size to 1 (risking incompatibility).\n"
     ]
    },
    {
     "name": "stdout",
     "output_type": "stream",
     "text": [
      "124\n"
     ]
    },
    {
     "name": "stderr",
     "output_type": "stream",
     "text": [
      "[swscaler @ 0x6f78a80] Warning: data is not aligned! This can lead to a speed loss\n"
     ]
    },
    {
     "name": "stdout",
     "output_type": "stream",
     "text": [
      "0.0\n",
      "0.0\n",
      "0.0\n",
      "0.0\n",
      "0.0\n",
      "0.0\n",
      "0.0\n",
      "0.0\n",
      "0.0\n",
      "30.0\n"
     ]
    },
    {
     "name": "stderr",
     "output_type": "stream",
     "text": [
      "IMAGEIO FFMPEG_WRITER WARNING: input image is not divisible by macro_block_size=16, resizing from (700, 700) to (704, 704) to ensure video compatibility with most codecs and players. To prevent resizing, make your input image divisible by the macro_block_size or set the macro_block_size to 1 (risking incompatibility).\n"
     ]
    },
    {
     "name": "stdout",
     "output_type": "stream",
     "text": [
      "124\n"
     ]
    },
    {
     "name": "stderr",
     "output_type": "stream",
     "text": [
      "[swscaler @ 0x5d62a80] Warning: data is not aligned! This can lead to a speed loss\n"
     ]
    },
    {
     "name": "stdout",
     "output_type": "stream",
     "text": [
      "0.0\n",
      "0.0\n",
      "0.0\n",
      "0.0\n",
      "30.0\n",
      "0.0\n",
      "0.0\n",
      "0.0\n",
      "0.0\n",
      "0.0\n"
     ]
    },
    {
     "name": "stderr",
     "output_type": "stream",
     "text": [
      "IMAGEIO FFMPEG_WRITER WARNING: input image is not divisible by macro_block_size=16, resizing from (700, 700) to (704, 704) to ensure video compatibility with most codecs and players. To prevent resizing, make your input image divisible by the macro_block_size or set the macro_block_size to 1 (risking incompatibility).\n"
     ]
    },
    {
     "name": "stdout",
     "output_type": "stream",
     "text": [
      "124\n"
     ]
    },
    {
     "name": "stderr",
     "output_type": "stream",
     "text": [
      "[swscaler @ 0x7143a80] Warning: data is not aligned! This can lead to a speed loss\n"
     ]
    },
    {
     "name": "stdout",
     "output_type": "stream",
     "text": [
      "0.0\n",
      "0.0\n",
      "30.0\n",
      "0.0\n",
      "0.0\n",
      "0.0\n",
      "30.0\n",
      "0.0\n",
      "0.0\n",
      "0.0\n"
     ]
    },
    {
     "name": "stderr",
     "output_type": "stream",
     "text": [
      "IMAGEIO FFMPEG_WRITER WARNING: input image is not divisible by macro_block_size=16, resizing from (700, 700) to (704, 704) to ensure video compatibility with most codecs and players. To prevent resizing, make your input image divisible by the macro_block_size or set the macro_block_size to 1 (risking incompatibility).\n"
     ]
    },
    {
     "name": "stdout",
     "output_type": "stream",
     "text": [
      "124\n"
     ]
    },
    {
     "name": "stderr",
     "output_type": "stream",
     "text": [
      "[swscaler @ 0x5fbda80] Warning: data is not aligned! This can lead to a speed loss\n"
     ]
    },
    {
     "name": "stdout",
     "output_type": "stream",
     "text": [
      "0.0\n",
      "0.0\n",
      "0.0\n",
      "60.0\n",
      "0.0\n",
      "0.0\n",
      "0.0\n",
      "0.0\n",
      "0.0\n",
      "0.0\n",
      "Evaluation Reward for episode 3500 is: 9.3\n",
      "on episode 3520, curr epsilon 0.22001880240710908 (time taken so far: 0-00:12:2.0)\n",
      "     mean loss: adversary 13902.393478923292\n",
      "     mean reward: adversary 135.74646902240463, agent -88.88475534411045\n",
      "on episode 3552, curr epsilon 0.2172199527877799 (time taken so far: 0-00:12:8.0)\n",
      "     mean loss: adversary 13551.39388283055\n",
      "     mean reward: adversary 170.8142270760938, agent -97.26639829373457\n",
      "on episode 3584, curr epsilon 0.2144567072127684 (time taken so far: 0-00:12:14.0)\n",
      "     mean loss: adversary 13530.7100799595\n",
      "     mean reward: adversary 154.87911266217236, agent -91.3814687061312\n",
      "on episode 3616, curr epsilon 0.21172861276457478 (time taken so far: 0-00:12:21.0)\n",
      "     mean loss: adversary 13846.07066301943\n",
      "     mean reward: adversary 179.0676012502902, agent -103.49267172568167\n",
      "on episode 3648, curr epsilon 0.20903522228724314 (time taken so far: 0-00:12:27.0)\n",
      "     mean loss: adversary 13799.640532565998\n",
      "     mean reward: adversary 174.57763252865865, agent -100.95334182968861\n",
      "on episode 3680, curr epsilon 0.206376094313069 (time taken so far: 0-00:12:32.0)\n",
      "     mean loss: adversary 15591.679978294947\n",
      "     mean reward: adversary 135.6014261523574, agent -85.20163737891403\n",
      "on episode 3712, curr epsilon 0.2037507929902394 (time taken so far: 0-00:12:38.0)\n",
      "     mean loss: adversary 14690.672450723738\n",
      "     mean reward: adversary 170.31920805858874, agent -97.21173461983322\n",
      "on episode 3744, curr epsilon 0.20115888801139334 (time taken so far: 0-00:12:44.0)\n",
      "     mean loss: adversary 15729.87400902994\n",
      "     mean reward: adversary 202.60240479964483, agent -107.84463341473584\n",
      "on episode 3776, curr epsilon 0.19859995454309098 (time taken so far: 0-00:12:50.0)\n",
      "     mean loss: adversary 14272.32409024313\n",
      "     mean reward: adversary 155.76467951448555, agent -90.44587796534034\n",
      "on episode 3808, curr epsilon 0.19607357315618018 (time taken so far: 0-00:12:56.0)\n",
      "     mean loss: adversary 16093.815107713306\n",
      "     mean reward: adversary 148.33079336338383, agent -92.95043201926796\n",
      "on episode 3840, curr epsilon 0.19357932975704892 (time taken so far: 0-00:13:2.0)\n",
      "     mean loss: adversary 16742.254454619302\n",
      "     mean reward: adversary 177.59890656646604, agent -110.17342897045465\n",
      "on episode 3872, curr epsilon 0.19111681551975207 (time taken so far: 0-00:13:8.0)\n",
      "     mean loss: adversary 18775.910232581264\n",
      "     mean reward: adversary 114.68950711565287, agent -73.22269506250446\n",
      "on episode 3904, curr epsilon 0.18868562681900133 (time taken so far: 0-00:13:14.0)\n",
      "     mean loss: adversary 19440.67504259265\n",
      "     mean reward: adversary 177.9313070196224, agent -102.04412513365793\n",
      "on episode 3936, curr epsilon 0.18628536516400837 (time taken so far: 0-00:13:19.0)\n",
      "     mean loss: adversary 19073.22062639447\n",
      "     mean reward: adversary 142.1677610117423, agent -87.17393620716034\n",
      "on episode 3968, curr epsilon 0.18391563713316872 (time taken so far: 0-00:13:25.0)\n",
      "     mean loss: adversary 18910.611119989822\n",
      "     mean reward: adversary 184.6224231841769, agent -101.32380475945254\n",
      "on episode 4000, curr epsilon 0.18157605430957724 (time taken so far: 0-00:13:31.0)\n",
      "     mean loss: adversary 19260.042957171154\n",
      "     mean reward: adversary 164.808332907654, agent -96.19354035206518\n"
     ]
    },
    {
     "name": "stderr",
     "output_type": "stream",
     "text": [
      "IMAGEIO FFMPEG_WRITER WARNING: input image is not divisible by macro_block_size=16, resizing from (700, 700) to (704, 704) to ensure video compatibility with most codecs and players. To prevent resizing, make your input image divisible by the macro_block_size or set the macro_block_size to 1 (risking incompatibility).\n"
     ]
    },
    {
     "name": "stdout",
     "output_type": "stream",
     "text": [
      "124\n"
     ]
    },
    {
     "name": "stderr",
     "output_type": "stream",
     "text": [
      "[swscaler @ 0x61c6a80] Warning: data is not aligned! This can lead to a speed loss\n"
     ]
    },
    {
     "name": "stdout",
     "output_type": "stream",
     "text": [
      "30.0\n",
      "630.0\n",
      "120.0\n",
      "690.0\n",
      "420.0\n",
      "210.0\n",
      "300.0\n",
      "840.0\n",
      "720.0\n",
      "60.0\n"
     ]
    },
    {
     "name": "stderr",
     "output_type": "stream",
     "text": [
      "IMAGEIO FFMPEG_WRITER WARNING: input image is not divisible by macro_block_size=16, resizing from (700, 700) to (704, 704) to ensure video compatibility with most codecs and players. To prevent resizing, make your input image divisible by the macro_block_size or set the macro_block_size to 1 (risking incompatibility).\n"
     ]
    },
    {
     "name": "stdout",
     "output_type": "stream",
     "text": [
      "124\n"
     ]
    },
    {
     "name": "stderr",
     "output_type": "stream",
     "text": [
      "[swscaler @ 0x59cea80] Warning: data is not aligned! This can lead to a speed loss\n"
     ]
    },
    {
     "name": "stdout",
     "output_type": "stream",
     "text": [
      "330.0\n",
      "150.0\n",
      "30.0\n",
      "120.0\n",
      "90.0\n",
      "60.0\n",
      "360.0\n",
      "330.0\n",
      "630.0\n",
      "180.0\n"
     ]
    },
    {
     "name": "stderr",
     "output_type": "stream",
     "text": [
      "IMAGEIO FFMPEG_WRITER WARNING: input image is not divisible by macro_block_size=16, resizing from (700, 700) to (704, 704) to ensure video compatibility with most codecs and players. To prevent resizing, make your input image divisible by the macro_block_size or set the macro_block_size to 1 (risking incompatibility).\n"
     ]
    },
    {
     "name": "stdout",
     "output_type": "stream",
     "text": [
      "124\n"
     ]
    },
    {
     "name": "stderr",
     "output_type": "stream",
     "text": [
      "[swscaler @ 0x6fdda80] Warning: data is not aligned! This can lead to a speed loss\n"
     ]
    },
    {
     "name": "stdout",
     "output_type": "stream",
     "text": [
      "420.0\n",
      "210.0\n",
      "60.0\n",
      "0.0\n",
      "180.0\n",
      "390.0\n",
      "570.0\n",
      "90.0\n",
      "450.0\n",
      "780.0\n"
     ]
    },
    {
     "name": "stderr",
     "output_type": "stream",
     "text": [
      "IMAGEIO FFMPEG_WRITER WARNING: input image is not divisible by macro_block_size=16, resizing from (700, 700) to (704, 704) to ensure video compatibility with most codecs and players. To prevent resizing, make your input image divisible by the macro_block_size or set the macro_block_size to 1 (risking incompatibility).\n"
     ]
    },
    {
     "name": "stdout",
     "output_type": "stream",
     "text": [
      "124\n"
     ]
    },
    {
     "name": "stderr",
     "output_type": "stream",
     "text": [
      "[swscaler @ 0x714ba80] Warning: data is not aligned! This can lead to a speed loss\n"
     ]
    },
    {
     "name": "stdout",
     "output_type": "stream",
     "text": [
      "360.0\n",
      "60.0\n",
      "150.0\n",
      "150.0\n",
      "180.0\n",
      "180.0\n",
      "60.0\n",
      "30.0\n",
      "180.0\n",
      "480.0\n"
     ]
    },
    {
     "name": "stderr",
     "output_type": "stream",
     "text": [
      "IMAGEIO FFMPEG_WRITER WARNING: input image is not divisible by macro_block_size=16, resizing from (700, 700) to (704, 704) to ensure video compatibility with most codecs and players. To prevent resizing, make your input image divisible by the macro_block_size or set the macro_block_size to 1 (risking incompatibility).\n"
     ]
    },
    {
     "name": "stdout",
     "output_type": "stream",
     "text": [
      "124\n"
     ]
    },
    {
     "name": "stderr",
     "output_type": "stream",
     "text": [
      "[swscaler @ 0x556ea80] Warning: data is not aligned! This can lead to a speed loss\n"
     ]
    },
    {
     "name": "stdout",
     "output_type": "stream",
     "text": [
      "240.0\n",
      "930.0\n",
      "150.0\n",
      "270.0\n",
      "180.0\n",
      "660.0\n",
      "150.0\n",
      "450.0\n",
      "420.0\n",
      "720.0\n"
     ]
    },
    {
     "name": "stderr",
     "output_type": "stream",
     "text": [
      "IMAGEIO FFMPEG_WRITER WARNING: input image is not divisible by macro_block_size=16, resizing from (700, 700) to (704, 704) to ensure video compatibility with most codecs and players. To prevent resizing, make your input image divisible by the macro_block_size or set the macro_block_size to 1 (risking incompatibility).\n"
     ]
    },
    {
     "name": "stdout",
     "output_type": "stream",
     "text": [
      "124\n"
     ]
    },
    {
     "name": "stderr",
     "output_type": "stream",
     "text": [
      "[swscaler @ 0x61f9a80] Warning: data is not aligned! This can lead to a speed loss\n"
     ]
    },
    {
     "name": "stdout",
     "output_type": "stream",
     "text": [
      "210.0\n",
      "120.0\n",
      "420.0\n",
      "240.0\n",
      "480.0\n",
      "1170.0\n",
      "90.0\n",
      "150.0\n",
      "90.0\n",
      "240.0\n"
     ]
    },
    {
     "name": "stderr",
     "output_type": "stream",
     "text": [
      "IMAGEIO FFMPEG_WRITER WARNING: input image is not divisible by macro_block_size=16, resizing from (700, 700) to (704, 704) to ensure video compatibility with most codecs and players. To prevent resizing, make your input image divisible by the macro_block_size or set the macro_block_size to 1 (risking incompatibility).\n"
     ]
    },
    {
     "name": "stdout",
     "output_type": "stream",
     "text": [
      "124\n"
     ]
    },
    {
     "name": "stderr",
     "output_type": "stream",
     "text": [
      "[swscaler @ 0x564ba80] Warning: data is not aligned! This can lead to a speed loss\n"
     ]
    },
    {
     "name": "stdout",
     "output_type": "stream",
     "text": [
      "90.0\n",
      "240.0\n",
      "90.0\n",
      "630.0\n",
      "300.0\n",
      "90.0\n",
      "570.0\n",
      "180.0\n",
      "300.0\n",
      "690.0\n"
     ]
    },
    {
     "name": "stderr",
     "output_type": "stream",
     "text": [
      "IMAGEIO FFMPEG_WRITER WARNING: input image is not divisible by macro_block_size=16, resizing from (700, 700) to (704, 704) to ensure video compatibility with most codecs and players. To prevent resizing, make your input image divisible by the macro_block_size or set the macro_block_size to 1 (risking incompatibility).\n"
     ]
    },
    {
     "name": "stdout",
     "output_type": "stream",
     "text": [
      "124\n"
     ]
    },
    {
     "name": "stderr",
     "output_type": "stream",
     "text": [
      "[swscaler @ 0x56d8a80] Warning: data is not aligned! This can lead to a speed loss\n"
     ]
    },
    {
     "name": "stdout",
     "output_type": "stream",
     "text": [
      "90.0\n",
      "300.0\n",
      "450.0\n",
      "840.0\n",
      "150.0\n",
      "510.0\n",
      "210.0\n",
      "270.0\n",
      "330.0\n",
      "480.0\n"
     ]
    },
    {
     "name": "stderr",
     "output_type": "stream",
     "text": [
      "IMAGEIO FFMPEG_WRITER WARNING: input image is not divisible by macro_block_size=16, resizing from (700, 700) to (704, 704) to ensure video compatibility with most codecs and players. To prevent resizing, make your input image divisible by the macro_block_size or set the macro_block_size to 1 (risking incompatibility).\n"
     ]
    },
    {
     "name": "stdout",
     "output_type": "stream",
     "text": [
      "124\n"
     ]
    },
    {
     "name": "stderr",
     "output_type": "stream",
     "text": [
      "[swscaler @ 0x6e20a80] Warning: data is not aligned! This can lead to a speed loss\n"
     ]
    },
    {
     "name": "stdout",
     "output_type": "stream",
     "text": [
      "60.0\n",
      "150.0\n",
      "270.0\n",
      "90.0\n",
      "630.0\n",
      "480.0\n",
      "540.0\n",
      "810.0\n",
      "180.0\n",
      "450.0\n"
     ]
    },
    {
     "name": "stderr",
     "output_type": "stream",
     "text": [
      "IMAGEIO FFMPEG_WRITER WARNING: input image is not divisible by macro_block_size=16, resizing from (700, 700) to (704, 704) to ensure video compatibility with most codecs and players. To prevent resizing, make your input image divisible by the macro_block_size or set the macro_block_size to 1 (risking incompatibility).\n"
     ]
    },
    {
     "name": "stdout",
     "output_type": "stream",
     "text": [
      "124\n"
     ]
    },
    {
     "name": "stderr",
     "output_type": "stream",
     "text": [
      "[swscaler @ 0x7338a80] Warning: data is not aligned! This can lead to a speed loss\n"
     ]
    },
    {
     "name": "stdout",
     "output_type": "stream",
     "text": [
      "330.0\n",
      "750.0\n",
      "120.0\n",
      "120.0\n",
      "90.0\n",
      "90.0\n",
      "270.0\n",
      "0.0\n",
      "240.0\n",
      "60.0\n",
      "Evaluation Reward for episode 4000 is: 312.0\n",
      "on episode 4032, curr epsilon 0.17926623321736299 (time taken so far: 0-00:13:49.0)\n",
      "     mean loss: adversary 19191.976967550596\n",
      "     mean reward: adversary 188.28355917615562, agent -105.58862278994401\n",
      "on episode 4064, curr epsilon 0.17698579525883532 (time taken so far: 0-00:13:54.0)\n",
      "     mean loss: adversary 19918.40409395456\n",
      "     mean reward: adversary 213.97941458686626, agent -115.9930050817246\n",
      "on episode 4096, curr epsilon 0.17473436665242795 (time taken so far: 0-00:14:0.0)\n",
      "     mean loss: adversary 20809.039380937462\n",
      "     mean reward: adversary 168.93244582434642, agent -93.12371453824825\n",
      "on episode 4128, curr epsilon 0.1725115783714339 (time taken so far: 0-00:14:6.0)\n",
      "     mean loss: adversary 22101.908625457818\n",
      "     mean reward: adversary 256.97586151618094, agent -140.48987154435835\n",
      "on episode 4160, curr epsilon 0.17031706608351888 (time taken so far: 0-00:14:11.0)\n",
      "     mean loss: adversary 21616.855923719813\n",
      "     mean reward: adversary 198.2233564438084, agent -111.1904001564821\n",
      "on episode 4192, curr epsilon 0.16815047009100414 (time taken so far: 0-00:14:17.0)\n",
      "     mean loss: adversary 23351.611645361067\n",
      "     mean reward: adversary 124.45339166511313, agent -79.72655113685576\n",
      "on episode 4224, curr epsilon 0.16601143527190995 (time taken so far: 0-00:14:23.0)\n",
      "     mean loss: adversary 23567.54624070484\n",
      "     mean reward: adversary 135.95181238455518, agent -86.92451309237391\n",
      "on episode 4256, curr epsilon 0.16389961102174738 (time taken so far: 0-00:14:29.0)\n",
      "     mean loss: adversary 23317.864632770237\n",
      "     mean reward: adversary 139.35961030801704, agent -90.66416770870147\n",
      "on episode 4288, curr epsilon 0.16181465119605207 (time taken so far: 0-00:14:35.0)\n",
      "     mean loss: adversary 24432.824638263024\n",
      "     mean reward: adversary 179.11388141945486, agent -102.85711039153023\n",
      "on episode 4320, curr epsilon 0.15975621405364848 (time taken so far: 0-00:14:40.0)\n",
      "     mean loss: adversary 23437.533455828816\n",
      "     mean reward: adversary 131.7247098399736, agent -86.54199784362453\n",
      "on episode 4352, curr epsilon 0.15772396220063564 (time taken so far: 0-00:14:46.0)\n",
      "     mean loss: adversary 24159.035994458194\n",
      "     mean reward: adversary 174.00002216631327, agent -98.82708414366763\n",
      "on episode 4384, curr epsilon 0.15571756253508565 (time taken so far: 0-00:14:52.0)\n",
      "     mean loss: adversary 23971.116178833126\n",
      "     mean reward: adversary 145.04171896859782, agent -86.82897956832775\n",
      "on episode 4416, curr epsilon 0.15373668619244582 (time taken so far: 0-00:14:58.0)\n",
      "     mean loss: adversary 24775.311050905802\n",
      "     mean reward: adversary 160.00013045307688, agent -92.29724922302209\n",
      "on episode 4448, curr epsilon 0.1517810084916351 (time taken so far: 0-00:15:4.0)\n",
      "     mean loss: adversary 23765.771516952635\n",
      "     mean reward: adversary 164.1535745458644, agent -103.91006451116569\n",
      "on episode 4480, curr epsilon 0.14985020888182646 (time taken so far: 0-00:15:9.0)\n",
      "     mean loss: adversary 27922.918350891952\n",
      "     mean reward: adversary 143.91892326543461, agent -88.86956552911334\n"
     ]
    },
    {
     "name": "stderr",
     "output_type": "stream",
     "text": [
      "IMAGEIO FFMPEG_WRITER WARNING: input image is not divisible by macro_block_size=16, resizing from (700, 700) to (704, 704) to ensure video compatibility with most codecs and players. To prevent resizing, make your input image divisible by the macro_block_size or set the macro_block_size to 1 (risking incompatibility).\n"
     ]
    },
    {
     "name": "stdout",
     "output_type": "stream",
     "text": [
      "124\n"
     ]
    },
    {
     "name": "stderr",
     "output_type": "stream",
     "text": [
      "[swscaler @ 0x6c47a80] Warning: data is not aligned! This can lead to a speed loss\n"
     ]
    },
    {
     "name": "stdout",
     "output_type": "stream",
     "text": [
      "330.0\n",
      "120.0\n",
      "120.0\n",
      "150.0\n",
      "150.0\n",
      "180.0\n",
      "300.0\n",
      "120.0\n",
      "690.0\n",
      "510.0\n"
     ]
    },
    {
     "name": "stderr",
     "output_type": "stream",
     "text": [
      "IMAGEIO FFMPEG_WRITER WARNING: input image is not divisible by macro_block_size=16, resizing from (700, 700) to (704, 704) to ensure video compatibility with most codecs and players. To prevent resizing, make your input image divisible by the macro_block_size or set the macro_block_size to 1 (risking incompatibility).\n"
     ]
    },
    {
     "name": "stdout",
     "output_type": "stream",
     "text": [
      "124\n"
     ]
    },
    {
     "name": "stderr",
     "output_type": "stream",
     "text": [
      "[swscaler @ 0x63dea80] Warning: data is not aligned! This can lead to a speed loss\n"
     ]
    },
    {
     "name": "stdout",
     "output_type": "stream",
     "text": [
      "600.0\n",
      "210.0\n",
      "150.0\n",
      "570.0\n",
      "60.0\n",
      "90.0\n",
      "270.0\n",
      "180.0\n",
      "300.0\n",
      "420.0\n"
     ]
    },
    {
     "name": "stderr",
     "output_type": "stream",
     "text": [
      "IMAGEIO FFMPEG_WRITER WARNING: input image is not divisible by macro_block_size=16, resizing from (700, 700) to (704, 704) to ensure video compatibility with most codecs and players. To prevent resizing, make your input image divisible by the macro_block_size or set the macro_block_size to 1 (risking incompatibility).\n"
     ]
    },
    {
     "name": "stdout",
     "output_type": "stream",
     "text": [
      "124\n"
     ]
    },
    {
     "name": "stderr",
     "output_type": "stream",
     "text": [
      "[swscaler @ 0x6c12a80] Warning: data is not aligned! This can lead to a speed loss\n"
     ]
    },
    {
     "name": "stdout",
     "output_type": "stream",
     "text": [
      "420.0\n",
      "630.0\n",
      "180.0\n",
      "450.0\n",
      "300.0\n",
      "180.0\n",
      "120.0\n",
      "150.0\n",
      "270.0\n",
      "330.0\n"
     ]
    },
    {
     "name": "stderr",
     "output_type": "stream",
     "text": [
      "IMAGEIO FFMPEG_WRITER WARNING: input image is not divisible by macro_block_size=16, resizing from (700, 700) to (704, 704) to ensure video compatibility with most codecs and players. To prevent resizing, make your input image divisible by the macro_block_size or set the macro_block_size to 1 (risking incompatibility).\n"
     ]
    },
    {
     "name": "stdout",
     "output_type": "stream",
     "text": [
      "124\n"
     ]
    },
    {
     "name": "stderr",
     "output_type": "stream",
     "text": [
      "[swscaler @ 0x659da80] Warning: data is not aligned! This can lead to a speed loss\n"
     ]
    },
    {
     "name": "stdout",
     "output_type": "stream",
     "text": [
      "90.0\n",
      "60.0\n",
      "180.0\n",
      "210.0\n",
      "210.0\n",
      "240.0\n",
      "480.0\n",
      "180.0\n",
      "720.0\n",
      "60.0\n"
     ]
    },
    {
     "name": "stderr",
     "output_type": "stream",
     "text": [
      "IMAGEIO FFMPEG_WRITER WARNING: input image is not divisible by macro_block_size=16, resizing from (700, 700) to (704, 704) to ensure video compatibility with most codecs and players. To prevent resizing, make your input image divisible by the macro_block_size or set the macro_block_size to 1 (risking incompatibility).\n"
     ]
    },
    {
     "name": "stdout",
     "output_type": "stream",
     "text": [
      "124\n"
     ]
    },
    {
     "name": "stderr",
     "output_type": "stream",
     "text": [
      "[swscaler @ 0x5c5aa80] Warning: data is not aligned! This can lead to a speed loss\n"
     ]
    },
    {
     "name": "stdout",
     "output_type": "stream",
     "text": [
      "90.0\n",
      "450.0\n",
      "810.0\n",
      "450.0\n",
      "300.0\n",
      "210.0\n",
      "90.0\n",
      "330.0\n",
      "300.0\n",
      "240.0\n"
     ]
    },
    {
     "name": "stderr",
     "output_type": "stream",
     "text": [
      "IMAGEIO FFMPEG_WRITER WARNING: input image is not divisible by macro_block_size=16, resizing from (700, 700) to (704, 704) to ensure video compatibility with most codecs and players. To prevent resizing, make your input image divisible by the macro_block_size or set the macro_block_size to 1 (risking incompatibility).\n"
     ]
    },
    {
     "name": "stdout",
     "output_type": "stream",
     "text": [
      "124\n"
     ]
    },
    {
     "name": "stderr",
     "output_type": "stream",
     "text": [
      "[swscaler @ 0x586fa80] Warning: data is not aligned! This can lead to a speed loss\n"
     ]
    },
    {
     "name": "stdout",
     "output_type": "stream",
     "text": [
      "630.0\n",
      "0.0\n",
      "330.0\n",
      "630.0\n",
      "240.0\n",
      "120.0\n",
      "330.0\n",
      "690.0\n",
      "420.0\n",
      "150.0\n"
     ]
    },
    {
     "name": "stderr",
     "output_type": "stream",
     "text": [
      "IMAGEIO FFMPEG_WRITER WARNING: input image is not divisible by macro_block_size=16, resizing from (700, 700) to (704, 704) to ensure video compatibility with most codecs and players. To prevent resizing, make your input image divisible by the macro_block_size or set the macro_block_size to 1 (risking incompatibility).\n"
     ]
    },
    {
     "name": "stdout",
     "output_type": "stream",
     "text": [
      "124\n"
     ]
    },
    {
     "name": "stderr",
     "output_type": "stream",
     "text": [
      "[swscaler @ 0x690da80] Warning: data is not aligned! This can lead to a speed loss\n"
     ]
    },
    {
     "name": "stdout",
     "output_type": "stream",
     "text": [
      "210.0\n",
      "120.0\n",
      "840.0\n",
      "450.0\n",
      "210.0\n",
      "240.0\n",
      "300.0\n",
      "240.0\n",
      "90.0\n",
      "330.0\n"
     ]
    },
    {
     "name": "stderr",
     "output_type": "stream",
     "text": [
      "IMAGEIO FFMPEG_WRITER WARNING: input image is not divisible by macro_block_size=16, resizing from (700, 700) to (704, 704) to ensure video compatibility with most codecs and players. To prevent resizing, make your input image divisible by the macro_block_size or set the macro_block_size to 1 (risking incompatibility).\n"
     ]
    },
    {
     "name": "stdout",
     "output_type": "stream",
     "text": [
      "124\n"
     ]
    },
    {
     "name": "stderr",
     "output_type": "stream",
     "text": [
      "[swscaler @ 0x6485a80] Warning: data is not aligned! This can lead to a speed loss\n"
     ]
    },
    {
     "name": "stdout",
     "output_type": "stream",
     "text": [
      "330.0\n",
      "480.0\n",
      "360.0\n",
      "810.0\n",
      "180.0\n",
      "420.0\n",
      "150.0\n",
      "150.0\n",
      "330.0\n",
      "210.0\n"
     ]
    },
    {
     "name": "stderr",
     "output_type": "stream",
     "text": [
      "IMAGEIO FFMPEG_WRITER WARNING: input image is not divisible by macro_block_size=16, resizing from (700, 700) to (704, 704) to ensure video compatibility with most codecs and players. To prevent resizing, make your input image divisible by the macro_block_size or set the macro_block_size to 1 (risking incompatibility).\n"
     ]
    },
    {
     "name": "stdout",
     "output_type": "stream",
     "text": [
      "124\n"
     ]
    },
    {
     "name": "stderr",
     "output_type": "stream",
     "text": [
      "[swscaler @ 0x5a74a80] Warning: data is not aligned! This can lead to a speed loss\n"
     ]
    },
    {
     "name": "stdout",
     "output_type": "stream",
     "text": [
      "450.0\n",
      "420.0\n",
      "90.0\n",
      "540.0\n",
      "150.0\n",
      "150.0\n",
      "300.0\n",
      "300.0\n",
      "210.0\n",
      "690.0\n"
     ]
    },
    {
     "name": "stderr",
     "output_type": "stream",
     "text": [
      "IMAGEIO FFMPEG_WRITER WARNING: input image is not divisible by macro_block_size=16, resizing from (700, 700) to (704, 704) to ensure video compatibility with most codecs and players. To prevent resizing, make your input image divisible by the macro_block_size or set the macro_block_size to 1 (risking incompatibility).\n"
     ]
    },
    {
     "name": "stdout",
     "output_type": "stream",
     "text": [
      "124\n"
     ]
    },
    {
     "name": "stderr",
     "output_type": "stream",
     "text": [
      "[swscaler @ 0x73f6a80] Warning: data is not aligned! This can lead to a speed loss\n"
     ]
    },
    {
     "name": "stdout",
     "output_type": "stream",
     "text": [
      "210.0\n",
      "900.0\n",
      "150.0\n",
      "270.0\n",
      "390.0\n",
      "660.0\n",
      "450.0\n",
      "330.0\n",
      "480.0\n",
      "420.0\n",
      "Evaluation Reward for episode 4500 is: 318.0\n",
      "on episode 4512, curr epsilon 0.1479439708899059 (time taken so far: 0-00:15:27.0)\n",
      "     mean loss: adversary 31091.712911680246\n",
      "     mean reward: adversary 172.21422436744342, agent -93.50682139250554\n",
      "on episode 4544, curr epsilon 0.1460619820686001 (time taken so far: 0-00:15:32.0)\n",
      "     mean loss: adversary 30484.281284478227\n",
      "     mean reward: adversary 142.50789046333617, agent -85.19709851633012\n",
      "on episode 4576, curr epsilon 0.14420393394526412 (time taken so far: 0-00:15:38.0)\n",
      "     mean loss: adversary 30387.755029911496\n",
      "     mean reward: adversary 182.96305098653517, agent -105.13567588959431\n",
      "on episode 4608, curr epsilon 0.1423695219713199 (time taken so far: 0-00:15:44.0)\n",
      "     mean loss: adversary 29899.534610598424\n",
      "     mean reward: adversary 183.00988887827145, agent -103.44431799720633\n",
      "on episode 4640, curr epsilon 0.14055844547233876 (time taken so far: 0-00:15:50.0)\n",
      "     mean loss: adversary 30482.618715756005\n",
      "     mean reward: adversary 148.74417237906323, agent -84.17431628649466\n",
      "on episode 4672, curr epsilon 0.13877040759875825 (time taken so far: 0-00:15:56.0)\n",
      "     mean loss: adversary 31060.469262538874\n",
      "     mean reward: adversary 154.56733856287028, agent -95.83142336626659\n",
      "on episode 4704, curr epsilon 0.1370051152772262 (time taken so far: 0-00:16:1.0)\n",
      "     mean loss: adversary 31308.252039801337\n",
      "     mean reward: adversary 193.62902914145516, agent -109.76870774375072\n",
      "on episode 4736, curr epsilon 0.13526227916256414 (time taken so far: 0-00:16:7.0)\n",
      "     mean loss: adversary 32205.702139845976\n",
      "     mean reward: adversary 185.53768418774973, agent -106.5181862451912\n",
      "on episode 4768, curr epsilon 0.13354161359034072 (time taken so far: 0-00:16:13.0)\n",
      "     mean loss: adversary 34182.32691314425\n",
      "     mean reward: adversary 170.88034188142936, agent -98.3509783586759\n",
      "on episode 4800, curr epsilon 0.13184283653004963 (time taken so far: 0-00:16:19.0)\n",
      "     mean loss: adversary 34676.864441292404\n",
      "     mean reward: adversary 174.7673583961297, agent -99.42762247071381\n",
      "on episode 4832, curr epsilon 0.13016566953888212 (time taken so far: 0-00:16:24.0)\n",
      "     mean loss: adversary 35357.95055177904\n",
      "     mean reward: adversary 171.1856922516277, agent -95.1213201513766\n",
      "on episode 4864, curr epsilon 0.1285098377160886 (time taken so far: 0-00:16:30.0)\n",
      "     mean loss: adversary 35749.81175268679\n",
      "     mean reward: adversary 195.54660716474575, agent -104.5580296801202\n",
      "on episode 4896, curr epsilon 0.1268750696579196 (time taken so far: 0-00:16:36.0)\n",
      "     mean loss: adversary 36289.81501519133\n",
      "     mean reward: adversary 174.57010475700486, agent -98.34006931844897\n",
      "on episode 4928, curr epsilon 0.1252610974131413 (time taken so far: 0-00:16:41.0)\n",
      "     mean loss: adversary 35448.53509653328\n",
      "     mean reward: adversary 172.47639694537398, agent -101.00915783390273\n",
      "on episode 4960, curr epsilon 0.12366765643911572 (time taken so far: 0-00:16:47.0)\n",
      "     mean loss: adversary 36711.19095081832\n",
      "     mean reward: adversary 144.93283116944087, agent -94.16282709091008\n",
      "on episode 4992, curr epsilon 0.12209448555844032 (time taken so far: 0-00:16:53.0)\n",
      "     mean loss: adversary 36505.92803914759\n",
      "     mean reward: adversary 159.53658623299305, agent -96.60755397224212\n"
     ]
    },
    {
     "name": "stderr",
     "output_type": "stream",
     "text": [
      "IMAGEIO FFMPEG_WRITER WARNING: input image is not divisible by macro_block_size=16, resizing from (700, 700) to (704, 704) to ensure video compatibility with most codecs and players. To prevent resizing, make your input image divisible by the macro_block_size or set the macro_block_size to 1 (risking incompatibility).\n"
     ]
    },
    {
     "name": "stdout",
     "output_type": "stream",
     "text": [
      "124\n"
     ]
    },
    {
     "name": "stderr",
     "output_type": "stream",
     "text": [
      "[swscaler @ 0x5f70a80] Warning: data is not aligned! This can lead to a speed loss\n"
     ]
    },
    {
     "name": "stdout",
     "output_type": "stream",
     "text": [
      "60.0\n",
      "0.0\n",
      "0.0\n",
      "0.0\n",
      "0.0\n",
      "0.0\n",
      "60.0\n",
      "0.0\n",
      "0.0\n",
      "30.0\n"
     ]
    },
    {
     "name": "stderr",
     "output_type": "stream",
     "text": [
      "IMAGEIO FFMPEG_WRITER WARNING: input image is not divisible by macro_block_size=16, resizing from (700, 700) to (704, 704) to ensure video compatibility with most codecs and players. To prevent resizing, make your input image divisible by the macro_block_size or set the macro_block_size to 1 (risking incompatibility).\n"
     ]
    },
    {
     "name": "stdout",
     "output_type": "stream",
     "text": [
      "124\n"
     ]
    },
    {
     "name": "stderr",
     "output_type": "stream",
     "text": [
      "[swscaler @ 0x5a5da80] Warning: data is not aligned! This can lead to a speed loss\n"
     ]
    },
    {
     "name": "stdout",
     "output_type": "stream",
     "text": [
      "30.0\n",
      "0.0\n",
      "0.0\n",
      "0.0\n",
      "0.0\n",
      "0.0\n",
      "0.0\n",
      "0.0\n",
      "0.0\n",
      "30.0\n"
     ]
    },
    {
     "name": "stderr",
     "output_type": "stream",
     "text": [
      "IMAGEIO FFMPEG_WRITER WARNING: input image is not divisible by macro_block_size=16, resizing from (700, 700) to (704, 704) to ensure video compatibility with most codecs and players. To prevent resizing, make your input image divisible by the macro_block_size or set the macro_block_size to 1 (risking incompatibility).\n"
     ]
    },
    {
     "name": "stdout",
     "output_type": "stream",
     "text": [
      "124\n"
     ]
    },
    {
     "name": "stderr",
     "output_type": "stream",
     "text": [
      "[swscaler @ 0x6bfea80] Warning: data is not aligned! This can lead to a speed loss\n"
     ]
    },
    {
     "name": "stdout",
     "output_type": "stream",
     "text": [
      "30.0\n",
      "0.0\n",
      "0.0\n",
      "0.0\n",
      "0.0\n",
      "0.0\n",
      "60.0\n",
      "0.0\n",
      "0.0\n",
      "0.0\n"
     ]
    },
    {
     "name": "stderr",
     "output_type": "stream",
     "text": [
      "IMAGEIO FFMPEG_WRITER WARNING: input image is not divisible by macro_block_size=16, resizing from (700, 700) to (704, 704) to ensure video compatibility with most codecs and players. To prevent resizing, make your input image divisible by the macro_block_size or set the macro_block_size to 1 (risking incompatibility).\n"
     ]
    },
    {
     "name": "stdout",
     "output_type": "stream",
     "text": [
      "124\n"
     ]
    },
    {
     "name": "stderr",
     "output_type": "stream",
     "text": [
      "[swscaler @ 0x7324a80] Warning: data is not aligned! This can lead to a speed loss\n"
     ]
    },
    {
     "name": "stdout",
     "output_type": "stream",
     "text": [
      "0.0\n",
      "0.0\n",
      "0.0\n",
      "0.0\n",
      "0.0\n",
      "0.0\n",
      "0.0\n",
      "240.0\n",
      "0.0\n",
      "0.0\n"
     ]
    },
    {
     "name": "stderr",
     "output_type": "stream",
     "text": [
      "IMAGEIO FFMPEG_WRITER WARNING: input image is not divisible by macro_block_size=16, resizing from (700, 700) to (704, 704) to ensure video compatibility with most codecs and players. To prevent resizing, make your input image divisible by the macro_block_size or set the macro_block_size to 1 (risking incompatibility).\n"
     ]
    },
    {
     "name": "stdout",
     "output_type": "stream",
     "text": [
      "124\n"
     ]
    },
    {
     "name": "stderr",
     "output_type": "stream",
     "text": [
      "[swscaler @ 0x699ba80] Warning: data is not aligned! This can lead to a speed loss\n"
     ]
    },
    {
     "name": "stdout",
     "output_type": "stream",
     "text": [
      "0.0\n",
      "0.0\n",
      "30.0\n",
      "0.0\n",
      "0.0\n",
      "0.0\n",
      "0.0\n",
      "0.0\n",
      "0.0\n",
      "0.0\n"
     ]
    },
    {
     "name": "stderr",
     "output_type": "stream",
     "text": [
      "IMAGEIO FFMPEG_WRITER WARNING: input image is not divisible by macro_block_size=16, resizing from (700, 700) to (704, 704) to ensure video compatibility with most codecs and players. To prevent resizing, make your input image divisible by the macro_block_size or set the macro_block_size to 1 (risking incompatibility).\n"
     ]
    },
    {
     "name": "stdout",
     "output_type": "stream",
     "text": [
      "124\n"
     ]
    },
    {
     "name": "stderr",
     "output_type": "stream",
     "text": [
      "[swscaler @ 0x7058a80] Warning: data is not aligned! This can lead to a speed loss\n"
     ]
    },
    {
     "name": "stdout",
     "output_type": "stream",
     "text": [
      "0.0\n",
      "30.0\n",
      "30.0\n",
      "0.0\n",
      "0.0\n",
      "60.0\n",
      "0.0\n",
      "60.0\n",
      "0.0\n",
      "0.0\n"
     ]
    },
    {
     "name": "stderr",
     "output_type": "stream",
     "text": [
      "IMAGEIO FFMPEG_WRITER WARNING: input image is not divisible by macro_block_size=16, resizing from (700, 700) to (704, 704) to ensure video compatibility with most codecs and players. To prevent resizing, make your input image divisible by the macro_block_size or set the macro_block_size to 1 (risking incompatibility).\n"
     ]
    },
    {
     "name": "stdout",
     "output_type": "stream",
     "text": [
      "124\n"
     ]
    },
    {
     "name": "stderr",
     "output_type": "stream",
     "text": [
      "[swscaler @ 0x5cd9a80] Warning: data is not aligned! This can lead to a speed loss\n"
     ]
    },
    {
     "name": "stdout",
     "output_type": "stream",
     "text": [
      "0.0\n",
      "0.0\n",
      "0.0\n",
      "0.0\n",
      "60.0\n",
      "60.0\n",
      "30.0\n",
      "0.0\n",
      "0.0\n",
      "0.0\n"
     ]
    },
    {
     "name": "stderr",
     "output_type": "stream",
     "text": [
      "IMAGEIO FFMPEG_WRITER WARNING: input image is not divisible by macro_block_size=16, resizing from (700, 700) to (704, 704) to ensure video compatibility with most codecs and players. To prevent resizing, make your input image divisible by the macro_block_size or set the macro_block_size to 1 (risking incompatibility).\n"
     ]
    },
    {
     "name": "stdout",
     "output_type": "stream",
     "text": [
      "124\n"
     ]
    },
    {
     "name": "stderr",
     "output_type": "stream",
     "text": [
      "[swscaler @ 0x62dda80] Warning: data is not aligned! This can lead to a speed loss\n"
     ]
    },
    {
     "name": "stdout",
     "output_type": "stream",
     "text": [
      "0.0\n",
      "0.0\n",
      "30.0\n",
      "0.0\n",
      "0.0\n",
      "0.0\n",
      "0.0\n",
      "30.0\n",
      "60.0\n",
      "0.0\n"
     ]
    },
    {
     "name": "stderr",
     "output_type": "stream",
     "text": [
      "IMAGEIO FFMPEG_WRITER WARNING: input image is not divisible by macro_block_size=16, resizing from (700, 700) to (704, 704) to ensure video compatibility with most codecs and players. To prevent resizing, make your input image divisible by the macro_block_size or set the macro_block_size to 1 (risking incompatibility).\n"
     ]
    },
    {
     "name": "stdout",
     "output_type": "stream",
     "text": [
      "124\n"
     ]
    },
    {
     "name": "stderr",
     "output_type": "stream",
     "text": [
      "[swscaler @ 0x6982a80] Warning: data is not aligned! This can lead to a speed loss\n"
     ]
    },
    {
     "name": "stdout",
     "output_type": "stream",
     "text": [
      "0.0\n",
      "0.0\n",
      "0.0\n",
      "0.0\n",
      "120.0\n",
      "0.0\n",
      "0.0\n",
      "0.0\n",
      "0.0\n",
      "60.0\n"
     ]
    },
    {
     "name": "stderr",
     "output_type": "stream",
     "text": [
      "IMAGEIO FFMPEG_WRITER WARNING: input image is not divisible by macro_block_size=16, resizing from (700, 700) to (704, 704) to ensure video compatibility with most codecs and players. To prevent resizing, make your input image divisible by the macro_block_size or set the macro_block_size to 1 (risking incompatibility).\n"
     ]
    },
    {
     "name": "stdout",
     "output_type": "stream",
     "text": [
      "124\n"
     ]
    },
    {
     "name": "stderr",
     "output_type": "stream",
     "text": [
      "[swscaler @ 0x5a15a80] Warning: data is not aligned! This can lead to a speed loss\n"
     ]
    },
    {
     "name": "stdout",
     "output_type": "stream",
     "text": [
      "120.0\n",
      "30.0\n",
      "0.0\n",
      "0.0\n",
      "0.0\n",
      "0.0\n",
      "0.0\n",
      "0.0\n",
      "0.0\n",
      "0.0\n",
      "Evaluation Reward for episode 5000 is: 13.5\n",
      "on episode 5024, curr epsilon 0.12054132691613881 (time taken so far: 0-00:17:10.0)\n",
      "     mean loss: adversary 35095.25393719695\n",
      "     mean reward: adversary 156.06449810134603, agent -96.62220679125143\n",
      "on episode 5056, curr epsilon 0.11900792593739698 (time taken so far: 0-00:17:16.0)\n",
      "     mean loss: adversary 35418.42795134049\n",
      "     mean reward: adversary 183.35092242020795, agent -103.45383538631901\n",
      "on episode 5088, curr epsilon 0.11749403128583571 (time taken so far: 0-00:17:22.0)\n",
      "     mean loss: adversary 36557.33317387071\n",
      "     mean reward: adversary 164.89519264430373, agent -99.84384581401882\n",
      "on episode 5120, curr epsilon 0.11599939482231508 (time taken so far: 0-00:17:28.0)\n",
      "     mean loss: adversary 35402.853131961005\n",
      "     mean reward: adversary 178.65311165017957, agent -103.11652508785215\n",
      "on episode 5152, curr epsilon 0.11452377156426229 (time taken so far: 0-00:17:34.0)\n",
      "     mean loss: adversary 37197.94537488714\n",
      "     mean reward: adversary 111.13776071727744, agent -75.28837014173064\n",
      "on episode 5184, curr epsilon 0.1130669196455173 (time taken so far: 0-00:17:40.0)\n",
      "     mean loss: adversary 36550.09092834256\n",
      "     mean reward: adversary 175.38447299548793, agent -99.7401115189686\n",
      "on episode 5216, curr epsilon 0.11162860027668889 (time taken so far: 0-00:17:45.0)\n",
      "     mean loss: adversary 37090.24473604077\n",
      "     mean reward: adversary 171.21659764687308, agent -97.81678491455925\n",
      "on episode 5248, curr epsilon 0.11020857770601533 (time taken so far: 0-00:17:51.0)\n",
      "     mean loss: adversary 36350.455134244985\n",
      "     mean reward: adversary 142.0598880781222, agent -91.01753918952642\n",
      "on episode 5280, curr epsilon 0.10880661918072287 (time taken so far: 0-00:17:57.0)\n",
      "     mean loss: adversary 35104.42116063126\n",
      "     mean reward: adversary 150.4717938620216, agent -88.0739071455144\n",
      "on episode 5312, curr epsilon 0.10742249490887563 (time taken so far: 0-00:18:3.0)\n",
      "     mean loss: adversary 35519.32956778577\n",
      "     mean reward: adversary 139.5540843279395, agent -84.22569337919116\n",
      "on episode 5344, curr epsilon 0.10605597802171082 (time taken so far: 0-00:18:9.0)\n",
      "     mean loss: adversary 34328.69813804418\n",
      "     mean reward: adversary 199.4111913704617, agent -105.8370049393497\n",
      "on episode 5376, curr epsilon 0.10470684453645349 (time taken so far: 0-00:18:14.0)\n",
      "     mean loss: adversary 36626.192535863476\n",
      "     mean reward: adversary 194.51677940141013, agent -103.7848695828156\n",
      "on episode 5408, curr epsilon 0.1033748733196038 (time taken so far: 0-00:18:20.0)\n",
      "     mean loss: adversary 39308.32311267042\n",
      "     mean reward: adversary 138.1378986870369, agent -85.38097860861897\n",
      "on episode 5440, curr epsilon 0.10205984605069153 (time taken so far: 0-00:18:26.0)\n",
      "     mean loss: adversary 39157.05381792377\n",
      "     mean reward: adversary 173.62691599015517, agent -98.98912984635245\n",
      "on episode 5472, curr epsilon 0.10076154718649166 (time taken so far: 0-00:18:31.0)\n",
      "     mean loss: adversary 39775.35791482126\n",
      "     mean reward: adversary 187.60455494714282, agent -111.80353953512467\n"
     ]
    },
    {
     "name": "stderr",
     "output_type": "stream",
     "text": [
      "IMAGEIO FFMPEG_WRITER WARNING: input image is not divisible by macro_block_size=16, resizing from (700, 700) to (704, 704) to ensure video compatibility with most codecs and players. To prevent resizing, make your input image divisible by the macro_block_size or set the macro_block_size to 1 (risking incompatibility).\n"
     ]
    },
    {
     "name": "stdout",
     "output_type": "stream",
     "text": [
      "124\n"
     ]
    },
    {
     "name": "stderr",
     "output_type": "stream",
     "text": [
      "[swscaler @ 0x7218a80] Warning: data is not aligned! This can lead to a speed loss\n"
     ]
    },
    {
     "name": "stdout",
     "output_type": "stream",
     "text": [
      "30.0\n",
      "0.0\n",
      "150.0\n",
      "0.0\n",
      "30.0\n",
      "0.0\n",
      "0.0\n",
      "0.0\n",
      "0.0\n",
      "0.0\n"
     ]
    },
    {
     "name": "stderr",
     "output_type": "stream",
     "text": [
      "IMAGEIO FFMPEG_WRITER WARNING: input image is not divisible by macro_block_size=16, resizing from (700, 700) to (704, 704) to ensure video compatibility with most codecs and players. To prevent resizing, make your input image divisible by the macro_block_size or set the macro_block_size to 1 (risking incompatibility).\n"
     ]
    },
    {
     "name": "stdout",
     "output_type": "stream",
     "text": [
      "124\n"
     ]
    },
    {
     "name": "stderr",
     "output_type": "stream",
     "text": [
      "[swscaler @ 0x7235a80] Warning: data is not aligned! This can lead to a speed loss\n"
     ]
    },
    {
     "name": "stdout",
     "output_type": "stream",
     "text": [
      "0.0\n",
      "0.0\n",
      "0.0\n",
      "120.0\n",
      "0.0\n",
      "0.0\n",
      "0.0\n",
      "30.0\n",
      "0.0\n",
      "0.0\n"
     ]
    },
    {
     "name": "stderr",
     "output_type": "stream",
     "text": [
      "IMAGEIO FFMPEG_WRITER WARNING: input image is not divisible by macro_block_size=16, resizing from (700, 700) to (704, 704) to ensure video compatibility with most codecs and players. To prevent resizing, make your input image divisible by the macro_block_size or set the macro_block_size to 1 (risking incompatibility).\n"
     ]
    },
    {
     "name": "stdout",
     "output_type": "stream",
     "text": [
      "124\n"
     ]
    },
    {
     "name": "stderr",
     "output_type": "stream",
     "text": [
      "[swscaler @ 0x6a5fa80] Warning: data is not aligned! This can lead to a speed loss\n"
     ]
    },
    {
     "name": "stdout",
     "output_type": "stream",
     "text": [
      "0.0\n",
      "0.0\n",
      "0.0\n",
      "0.0\n",
      "0.0\n",
      "30.0\n",
      "0.0\n",
      "0.0\n",
      "660.0\n",
      "0.0\n"
     ]
    },
    {
     "name": "stderr",
     "output_type": "stream",
     "text": [
      "IMAGEIO FFMPEG_WRITER WARNING: input image is not divisible by macro_block_size=16, resizing from (700, 700) to (704, 704) to ensure video compatibility with most codecs and players. To prevent resizing, make your input image divisible by the macro_block_size or set the macro_block_size to 1 (risking incompatibility).\n"
     ]
    },
    {
     "name": "stdout",
     "output_type": "stream",
     "text": [
      "124\n"
     ]
    },
    {
     "name": "stderr",
     "output_type": "stream",
     "text": [
      "[swscaler @ 0x5f53a80] Warning: data is not aligned! This can lead to a speed loss\n"
     ]
    },
    {
     "name": "stdout",
     "output_type": "stream",
     "text": [
      "0.0\n",
      "0.0\n",
      "60.0\n",
      "0.0\n",
      "0.0\n",
      "0.0\n",
      "0.0\n",
      "30.0\n",
      "60.0\n",
      "0.0\n"
     ]
    },
    {
     "name": "stderr",
     "output_type": "stream",
     "text": [
      "IMAGEIO FFMPEG_WRITER WARNING: input image is not divisible by macro_block_size=16, resizing from (700, 700) to (704, 704) to ensure video compatibility with most codecs and players. To prevent resizing, make your input image divisible by the macro_block_size or set the macro_block_size to 1 (risking incompatibility).\n"
     ]
    },
    {
     "name": "stdout",
     "output_type": "stream",
     "text": [
      "124\n"
     ]
    },
    {
     "name": "stderr",
     "output_type": "stream",
     "text": [
      "[swscaler @ 0x6b3da80] Warning: data is not aligned! This can lead to a speed loss\n"
     ]
    },
    {
     "name": "stdout",
     "output_type": "stream",
     "text": [
      "60.0\n",
      "30.0\n",
      "0.0\n",
      "0.0\n",
      "0.0\n",
      "0.0\n",
      "0.0\n",
      "0.0\n",
      "360.0\n",
      "0.0\n"
     ]
    },
    {
     "name": "stderr",
     "output_type": "stream",
     "text": [
      "IMAGEIO FFMPEG_WRITER WARNING: input image is not divisible by macro_block_size=16, resizing from (700, 700) to (704, 704) to ensure video compatibility with most codecs and players. To prevent resizing, make your input image divisible by the macro_block_size or set the macro_block_size to 1 (risking incompatibility).\n"
     ]
    },
    {
     "name": "stdout",
     "output_type": "stream",
     "text": [
      "124\n"
     ]
    },
    {
     "name": "stderr",
     "output_type": "stream",
     "text": [
      "[swscaler @ 0x5ea6a80] Warning: data is not aligned! This can lead to a speed loss\n"
     ]
    },
    {
     "name": "stdout",
     "output_type": "stream",
     "text": [
      "120.0\n",
      "30.0\n",
      "60.0\n",
      "90.0\n",
      "150.0\n",
      "30.0\n",
      "0.0\n",
      "60.0\n",
      "0.0\n",
      "0.0\n"
     ]
    },
    {
     "name": "stderr",
     "output_type": "stream",
     "text": [
      "IMAGEIO FFMPEG_WRITER WARNING: input image is not divisible by macro_block_size=16, resizing from (700, 700) to (704, 704) to ensure video compatibility with most codecs and players. To prevent resizing, make your input image divisible by the macro_block_size or set the macro_block_size to 1 (risking incompatibility).\n"
     ]
    },
    {
     "name": "stdout",
     "output_type": "stream",
     "text": [
      "124\n"
     ]
    },
    {
     "name": "stderr",
     "output_type": "stream",
     "text": [
      "[swscaler @ 0x6c2aa80] Warning: data is not aligned! This can lead to a speed loss\n"
     ]
    },
    {
     "name": "stdout",
     "output_type": "stream",
     "text": [
      "0.0\n",
      "60.0\n",
      "0.0\n",
      "60.0\n",
      "0.0\n",
      "0.0\n",
      "30.0\n",
      "60.0\n",
      "0.0\n",
      "0.0\n"
     ]
    },
    {
     "name": "stderr",
     "output_type": "stream",
     "text": [
      "IMAGEIO FFMPEG_WRITER WARNING: input image is not divisible by macro_block_size=16, resizing from (700, 700) to (704, 704) to ensure video compatibility with most codecs and players. To prevent resizing, make your input image divisible by the macro_block_size or set the macro_block_size to 1 (risking incompatibility).\n"
     ]
    },
    {
     "name": "stdout",
     "output_type": "stream",
     "text": [
      "124\n"
     ]
    },
    {
     "name": "stderr",
     "output_type": "stream",
     "text": [
      "[swscaler @ 0x7352a80] Warning: data is not aligned! This can lead to a speed loss\n"
     ]
    },
    {
     "name": "stdout",
     "output_type": "stream",
     "text": [
      "300.0\n",
      "0.0\n",
      "0.0\n",
      "60.0\n",
      "30.0\n",
      "60.0\n",
      "90.0\n",
      "0.0\n",
      "180.0\n",
      "300.0\n"
     ]
    },
    {
     "name": "stderr",
     "output_type": "stream",
     "text": [
      "IMAGEIO FFMPEG_WRITER WARNING: input image is not divisible by macro_block_size=16, resizing from (700, 700) to (704, 704) to ensure video compatibility with most codecs and players. To prevent resizing, make your input image divisible by the macro_block_size or set the macro_block_size to 1 (risking incompatibility).\n"
     ]
    },
    {
     "name": "stdout",
     "output_type": "stream",
     "text": [
      "124\n"
     ]
    },
    {
     "name": "stderr",
     "output_type": "stream",
     "text": [
      "[swscaler @ 0x6495a80] Warning: data is not aligned! This can lead to a speed loss\n"
     ]
    },
    {
     "name": "stdout",
     "output_type": "stream",
     "text": [
      "60.0\n",
      "0.0\n",
      "0.0\n",
      "0.0\n",
      "0.0\n",
      "120.0\n",
      "30.0\n",
      "30.0\n",
      "0.0\n",
      "30.0\n"
     ]
    },
    {
     "name": "stderr",
     "output_type": "stream",
     "text": [
      "IMAGEIO FFMPEG_WRITER WARNING: input image is not divisible by macro_block_size=16, resizing from (700, 700) to (704, 704) to ensure video compatibility with most codecs and players. To prevent resizing, make your input image divisible by the macro_block_size or set the macro_block_size to 1 (risking incompatibility).\n"
     ]
    },
    {
     "name": "stdout",
     "output_type": "stream",
     "text": [
      "124\n"
     ]
    },
    {
     "name": "stderr",
     "output_type": "stream",
     "text": [
      "[swscaler @ 0x64d5a80] Warning: data is not aligned! This can lead to a speed loss\n"
     ]
    },
    {
     "name": "stdout",
     "output_type": "stream",
     "text": [
      "0.0\n",
      "0.0\n",
      "60.0\n",
      "0.0\n",
      "0.0\n",
      "0.0\n",
      "60.0\n",
      "0.0\n",
      "0.0\n",
      "0.0\n",
      "Evaluation Reward for episode 5500 is: 38.1\n",
      "on episode 5504, curr epsilon 0.09947976392569516 (time taken so far: 0-00:18:49.0)\n",
      "     mean loss: adversary 40372.81513438822\n",
      "     mean reward: adversary 194.7303345393664, agent -98.82802803958562\n",
      "on episode 5536, curr epsilon 0.09821428617402919 (time taken so far: 0-00:18:55.0)\n",
      "     mean loss: adversary 45293.82873807111\n",
      "     mean reward: adversary 115.58760737223798, agent -76.2712195296116\n",
      "on episode 5568, curr epsilon 0.09696490650982102 (time taken so far: 0-00:19:1.0)\n",
      "     mean loss: adversary 48049.35569836061\n",
      "     mean reward: adversary 123.54424192600986, agent -79.1459002836007\n",
      "on episode 5600, curr epsilon 0.09573142015000011 (time taken so far: 0-00:19:7.0)\n",
      "     mean loss: adversary 48341.5689175935\n",
      "     mean reward: adversary 94.91475455093929, agent -74.21109046394761\n",
      "on episode 5632, curr epsilon 0.09451362491653233 (time taken so far: 0-00:19:12.0)\n",
      "     mean loss: adversary 47456.25525375433\n",
      "     mean reward: adversary 163.50860704767285, agent -94.07651266345736\n",
      "on episode 5664, curr epsilon 0.09331132120328155 (time taken so far: 0-00:19:18.0)\n",
      "     mean loss: adversary 47169.04069244302\n",
      "     mean reward: adversary 168.38005492163185, agent -99.6632672042375\n",
      "on episode 5696, curr epsilon 0.09212431194329264 (time taken so far: 0-00:19:24.0)\n",
      "     mean loss: adversary 47520.533445700436\n",
      "     mean reward: adversary 152.78983948430246, agent -94.6621768001273\n",
      "on episode 5728, curr epsilon 0.09095240257649068 (time taken so far: 0-00:19:30.0)\n",
      "     mean loss: adversary 47776.696962656715\n",
      "     mean reward: adversary 136.55553482204238, agent -86.75351118583876\n",
      "on episode 5760, curr epsilon 0.08979540101779092 (time taken so far: 0-00:19:36.0)\n",
      "     mean loss: adversary 48206.70829875092\n",
      "     mean reward: adversary 129.7598414000955, agent -82.57025522445022\n",
      "on episode 5792, curr epsilon 0.08865311762561465 (time taken so far: 0-00:19:41.0)\n",
      "     mean loss: adversary 47772.21120920088\n",
      "     mean reward: adversary 162.64771743303, agent -92.7385331191395\n",
      "on episode 5824, curr epsilon 0.08752536517080546 (time taken so far: 0-00:19:47.0)\n",
      "     mean loss: adversary 52220.90912736895\n",
      "     mean reward: adversary 137.09042245916626, agent -83.20922450985836\n",
      "on episode 5856, curr epsilon 0.08641195880594087 (time taken so far: 0-00:19:53.0)\n",
      "     mean loss: adversary 51298.21598152185\n",
      "     mean reward: adversary 146.1340041902526, agent -85.27152305435779\n",
      "on episode 5888, curr epsilon 0.0853127160350345 (time taken so far: 0-00:19:59.0)\n",
      "     mean loss: adversary 51168.33340666998\n",
      "     mean reward: adversary 157.39686622026338, agent -94.87631365613389\n",
      "on episode 5920, curr epsilon 0.08422745668362337 (time taken so far: 0-00:20:4.0)\n",
      "     mean loss: adversary 49376.17718588746\n",
      "     mean reward: adversary 160.48296677765123, agent -91.78964950167861\n",
      "on episode 5952, curr epsilon 0.08315600286923606 (time taken so far: 0-00:20:10.0)\n",
      "     mean loss: adversary 50421.532144598\n",
      "     mean reward: adversary 176.387948514071, agent -100.0082411294674\n",
      "on episode 5984, curr epsilon 0.08209817897223637 (time taken so far: 0-00:20:16.0)\n",
      "     mean loss: adversary 48748.27548428286\n",
      "     mean reward: adversary 156.53991486374719, agent -94.41026993355108\n"
     ]
    },
    {
     "name": "stderr",
     "output_type": "stream",
     "text": [
      "IMAGEIO FFMPEG_WRITER WARNING: input image is not divisible by macro_block_size=16, resizing from (700, 700) to (704, 704) to ensure video compatibility with most codecs and players. To prevent resizing, make your input image divisible by the macro_block_size or set the macro_block_size to 1 (risking incompatibility).\n"
     ]
    },
    {
     "name": "stdout",
     "output_type": "stream",
     "text": [
      "124\n"
     ]
    },
    {
     "name": "stderr",
     "output_type": "stream",
     "text": [
      "[swscaler @ 0x5d3ea80] Warning: data is not aligned! This can lead to a speed loss\n"
     ]
    },
    {
     "name": "stdout",
     "output_type": "stream",
     "text": [
      "0.0\n",
      "0.0\n",
      "0.0\n",
      "60.0\n",
      "0.0\n",
      "0.0\n",
      "0.0\n",
      "0.0\n",
      "0.0\n",
      "0.0\n"
     ]
    },
    {
     "name": "stderr",
     "output_type": "stream",
     "text": [
      "IMAGEIO FFMPEG_WRITER WARNING: input image is not divisible by macro_block_size=16, resizing from (700, 700) to (704, 704) to ensure video compatibility with most codecs and players. To prevent resizing, make your input image divisible by the macro_block_size or set the macro_block_size to 1 (risking incompatibility).\n"
     ]
    },
    {
     "name": "stdout",
     "output_type": "stream",
     "text": [
      "124\n"
     ]
    },
    {
     "name": "stderr",
     "output_type": "stream",
     "text": [
      "[swscaler @ 0x6bb8a80] Warning: data is not aligned! This can lead to a speed loss\n"
     ]
    },
    {
     "name": "stdout",
     "output_type": "stream",
     "text": [
      "180.0\n",
      "0.0\n",
      "0.0\n",
      "0.0\n",
      "0.0\n",
      "0.0\n",
      "0.0\n",
      "0.0\n",
      "0.0\n",
      "0.0\n"
     ]
    },
    {
     "name": "stderr",
     "output_type": "stream",
     "text": [
      "IMAGEIO FFMPEG_WRITER WARNING: input image is not divisible by macro_block_size=16, resizing from (700, 700) to (704, 704) to ensure video compatibility with most codecs and players. To prevent resizing, make your input image divisible by the macro_block_size or set the macro_block_size to 1 (risking incompatibility).\n"
     ]
    },
    {
     "name": "stdout",
     "output_type": "stream",
     "text": [
      "124\n"
     ]
    },
    {
     "name": "stderr",
     "output_type": "stream",
     "text": [
      "[swscaler @ 0x59eaa80] Warning: data is not aligned! This can lead to a speed loss\n"
     ]
    },
    {
     "name": "stdout",
     "output_type": "stream",
     "text": [
      "0.0\n",
      "0.0\n",
      "0.0\n",
      "60.0\n",
      "0.0\n",
      "0.0\n",
      "0.0\n",
      "0.0\n",
      "0.0\n",
      "0.0\n"
     ]
    },
    {
     "name": "stderr",
     "output_type": "stream",
     "text": [
      "IMAGEIO FFMPEG_WRITER WARNING: input image is not divisible by macro_block_size=16, resizing from (700, 700) to (704, 704) to ensure video compatibility with most codecs and players. To prevent resizing, make your input image divisible by the macro_block_size or set the macro_block_size to 1 (risking incompatibility).\n"
     ]
    },
    {
     "name": "stdout",
     "output_type": "stream",
     "text": [
      "124\n"
     ]
    },
    {
     "name": "stderr",
     "output_type": "stream",
     "text": [
      "[swscaler @ 0x5e5ba80] Warning: data is not aligned! This can lead to a speed loss\n"
     ]
    },
    {
     "name": "stdout",
     "output_type": "stream",
     "text": [
      "0.0\n",
      "0.0\n",
      "60.0\n",
      "0.0\n",
      "0.0\n",
      "0.0\n",
      "0.0\n",
      "0.0\n",
      "0.0\n",
      "0.0\n"
     ]
    },
    {
     "name": "stderr",
     "output_type": "stream",
     "text": [
      "IMAGEIO FFMPEG_WRITER WARNING: input image is not divisible by macro_block_size=16, resizing from (700, 700) to (704, 704) to ensure video compatibility with most codecs and players. To prevent resizing, make your input image divisible by the macro_block_size or set the macro_block_size to 1 (risking incompatibility).\n"
     ]
    },
    {
     "name": "stdout",
     "output_type": "stream",
     "text": [
      "124\n"
     ]
    },
    {
     "name": "stderr",
     "output_type": "stream",
     "text": [
      "[swscaler @ 0x7082a80] Warning: data is not aligned! This can lead to a speed loss\n"
     ]
    },
    {
     "name": "stdout",
     "output_type": "stream",
     "text": [
      "0.0\n",
      "0.0\n",
      "0.0\n",
      "0.0\n",
      "0.0\n",
      "30.0\n",
      "0.0\n",
      "0.0\n",
      "60.0\n",
      "60.0\n"
     ]
    },
    {
     "name": "stderr",
     "output_type": "stream",
     "text": [
      "IMAGEIO FFMPEG_WRITER WARNING: input image is not divisible by macro_block_size=16, resizing from (700, 700) to (704, 704) to ensure video compatibility with most codecs and players. To prevent resizing, make your input image divisible by the macro_block_size or set the macro_block_size to 1 (risking incompatibility).\n"
     ]
    },
    {
     "name": "stdout",
     "output_type": "stream",
     "text": [
      "124\n"
     ]
    },
    {
     "name": "stderr",
     "output_type": "stream",
     "text": [
      "[swscaler @ 0x67fca80] Warning: data is not aligned! This can lead to a speed loss\n"
     ]
    },
    {
     "name": "stdout",
     "output_type": "stream",
     "text": [
      "60.0\n",
      "0.0\n",
      "0.0\n",
      "0.0\n",
      "60.0\n",
      "0.0\n",
      "0.0\n",
      "0.0\n",
      "0.0\n",
      "0.0\n"
     ]
    },
    {
     "name": "stderr",
     "output_type": "stream",
     "text": [
      "IMAGEIO FFMPEG_WRITER WARNING: input image is not divisible by macro_block_size=16, resizing from (700, 700) to (704, 704) to ensure video compatibility with most codecs and players. To prevent resizing, make your input image divisible by the macro_block_size or set the macro_block_size to 1 (risking incompatibility).\n"
     ]
    },
    {
     "name": "stdout",
     "output_type": "stream",
     "text": [
      "124\n"
     ]
    },
    {
     "name": "stderr",
     "output_type": "stream",
     "text": [
      "[swscaler @ 0x6f5da80] Warning: data is not aligned! This can lead to a speed loss\n"
     ]
    },
    {
     "name": "stdout",
     "output_type": "stream",
     "text": [
      "0.0\n",
      "30.0\n",
      "0.0\n",
      "0.0\n",
      "60.0\n",
      "30.0\n",
      "0.0\n",
      "0.0\n",
      "0.0\n",
      "0.0\n"
     ]
    },
    {
     "name": "stderr",
     "output_type": "stream",
     "text": [
      "IMAGEIO FFMPEG_WRITER WARNING: input image is not divisible by macro_block_size=16, resizing from (700, 700) to (704, 704) to ensure video compatibility with most codecs and players. To prevent resizing, make your input image divisible by the macro_block_size or set the macro_block_size to 1 (risking incompatibility).\n"
     ]
    },
    {
     "name": "stdout",
     "output_type": "stream",
     "text": [
      "124\n"
     ]
    },
    {
     "name": "stderr",
     "output_type": "stream",
     "text": [
      "[swscaler @ 0x63c3a80] Warning: data is not aligned! This can lead to a speed loss\n"
     ]
    },
    {
     "name": "stdout",
     "output_type": "stream",
     "text": [
      "0.0\n",
      "0.0\n",
      "0.0\n",
      "0.0\n",
      "0.0\n",
      "0.0\n",
      "0.0\n",
      "0.0\n",
      "0.0\n",
      "0.0\n"
     ]
    },
    {
     "name": "stderr",
     "output_type": "stream",
     "text": [
      "IMAGEIO FFMPEG_WRITER WARNING: input image is not divisible by macro_block_size=16, resizing from (700, 700) to (704, 704) to ensure video compatibility with most codecs and players. To prevent resizing, make your input image divisible by the macro_block_size or set the macro_block_size to 1 (risking incompatibility).\n"
     ]
    },
    {
     "name": "stdout",
     "output_type": "stream",
     "text": [
      "124\n"
     ]
    },
    {
     "name": "stderr",
     "output_type": "stream",
     "text": [
      "[swscaler @ 0x567ea80] Warning: data is not aligned! This can lead to a speed loss\n"
     ]
    },
    {
     "name": "stdout",
     "output_type": "stream",
     "text": [
      "60.0\n",
      "0.0\n",
      "0.0\n",
      "0.0\n",
      "0.0\n",
      "0.0\n",
      "0.0\n",
      "30.0\n",
      "0.0\n",
      "0.0\n"
     ]
    },
    {
     "name": "stderr",
     "output_type": "stream",
     "text": [
      "IMAGEIO FFMPEG_WRITER WARNING: input image is not divisible by macro_block_size=16, resizing from (700, 700) to (704, 704) to ensure video compatibility with most codecs and players. To prevent resizing, make your input image divisible by the macro_block_size or set the macro_block_size to 1 (risking incompatibility).\n"
     ]
    },
    {
     "name": "stdout",
     "output_type": "stream",
     "text": [
      "124\n"
     ]
    },
    {
     "name": "stderr",
     "output_type": "stream",
     "text": [
      "[swscaler @ 0x5d70a80] Warning: data is not aligned! This can lead to a speed loss\n"
     ]
    },
    {
     "name": "stdout",
     "output_type": "stream",
     "text": [
      "0.0\n",
      "30.0\n",
      "0.0\n",
      "0.0\n",
      "0.0\n",
      "0.0\n",
      "0.0\n",
      "0.0\n",
      "0.0\n",
      "0.0\n",
      "Evaluation Reward for episode 6000 is: 8.7\n",
      "on episode 6016, curr epsilon 0.08105381160703781 (time taken so far: 0-00:20:33.0)\n",
      "     mean loss: adversary 52507.8376779378\n",
      "     mean reward: adversary 152.42202377886613, agent -95.7792476387458\n",
      "on episode 6048, curr epsilon 0.08002272959368441 (time taken so far: 0-00:20:39.0)\n",
      "     mean loss: adversary 53246.65915132554\n",
      "     mean reward: adversary 172.81808473287134, agent -96.94006752377197\n",
      "on episode 6080, curr epsilon 0.07900476392979293 (time taken so far: 0-00:20:45.0)\n",
      "     mean loss: adversary 54386.75489367741\n",
      "     mean reward: adversary 116.06419807709858, agent -75.14942433286818\n",
      "on episode 6112, curr epsilon 0.07799974776285219 (time taken so far: 0-00:20:51.0)\n",
      "     mean loss: adversary 55140.06761182907\n",
      "     mean reward: adversary 135.72736369904652, agent -87.20953333874257\n",
      "on episode 6144, curr epsilon 0.07700751636287444 (time taken so far: 0-00:20:57.0)\n",
      "     mean loss: adversary 56458.79226300256\n",
      "     mean reward: adversary 134.2925389386493, agent -83.51098490538814\n",
      "on episode 6176, curr epsilon 0.07602790709539506 (time taken so far: 0-00:21:2.0)\n",
      "     mean loss: adversary 54592.08011969627\n",
      "     mean reward: adversary 167.8963727220855, agent -100.44933907979654\n",
      "on episode 6208, curr epsilon 0.07506075939481534 (time taken so far: 0-00:21:8.0)\n",
      "     mean loss: adversary 55286.687777537125\n",
      "     mean reward: adversary 252.74364889277317, agent -126.06674419435716\n",
      "on episode 6240, curr epsilon 0.07410591473808455 (time taken so far: 0-00:21:14.0)\n",
      "     mean loss: adversary 53826.715600389405\n",
      "     mean reward: adversary 223.20925074141192, agent -123.84475786769191\n",
      "on episode 6272, curr epsilon 0.07316321661871679 (time taken so far: 0-00:21:19.0)\n",
      "     mean loss: adversary 53961.31675246308\n",
      "     mean reward: adversary 194.24986466159035, agent -117.29588572467966\n",
      "on episode 6304, curr epsilon 0.07223251052113842 (time taken so far: 0-00:21:25.0)\n",
      "     mean loss: adversary 52225.037852345384\n",
      "     mean reward: adversary 159.76054915516585, agent -93.28057847337391\n",
      "on episode 6336, curr epsilon 0.0713136438953616 (time taken so far: 0-00:21:31.0)\n",
      "     mean loss: adversary 52318.056242808176\n",
      "     mean reward: adversary 177.1234516443183, agent -109.6137232257474\n",
      "on episode 6368, curr epsilon 0.0704064661319803 (time taken so far: 0-00:21:37.0)\n",
      "     mean loss: adversary 52148.90400377549\n",
      "     mean reward: adversary 166.4541856799892, agent -101.33140814888083\n",
      "on episode 6400, curr epsilon 0.06951082853748429 (time taken so far: 0-00:21:42.0)\n",
      "     mean loss: adversary 51532.02498643191\n",
      "     mean reward: adversary 200.57818687093112, agent -104.60039162618578\n",
      "on episode 6432, curr epsilon 0.06862658430988682 (time taken so far: 0-00:21:48.0)\n",
      "     mean loss: adversary 49598.9068045599\n",
      "     mean reward: adversary 131.98237937732526, agent -84.07289404232083\n",
      "on episode 6464, curr epsilon 0.06775358851466302 (time taken so far: 0-00:21:54.0)\n",
      "     mean loss: adversary 52256.56910136706\n",
      "     mean reward: adversary 172.17269973117487, agent -101.59478760187649\n",
      "on episode 6496, curr epsilon 0.06689169806099372 (time taken so far: 0-00:21:59.0)\n",
      "     mean loss: adversary 49702.42203457321\n",
      "     mean reward: adversary 230.7683636974674, agent -120.56648102836513\n"
     ]
    },
    {
     "name": "stderr",
     "output_type": "stream",
     "text": [
      "IMAGEIO FFMPEG_WRITER WARNING: input image is not divisible by macro_block_size=16, resizing from (700, 700) to (704, 704) to ensure video compatibility with most codecs and players. To prevent resizing, make your input image divisible by the macro_block_size or set the macro_block_size to 1 (risking incompatibility).\n"
     ]
    },
    {
     "name": "stdout",
     "output_type": "stream",
     "text": [
      "124\n"
     ]
    },
    {
     "name": "stderr",
     "output_type": "stream",
     "text": [
      "[swscaler @ 0x56aea80] Warning: data is not aligned! This can lead to a speed loss\n"
     ]
    },
    {
     "name": "stdout",
     "output_type": "stream",
     "text": [
      "510.0\n",
      "60.0\n",
      "120.0\n",
      "330.0\n",
      "180.0\n",
      "300.0\n",
      "210.0\n",
      "390.0\n",
      "60.0\n",
      "120.0\n"
     ]
    },
    {
     "name": "stderr",
     "output_type": "stream",
     "text": [
      "IMAGEIO FFMPEG_WRITER WARNING: input image is not divisible by macro_block_size=16, resizing from (700, 700) to (704, 704) to ensure video compatibility with most codecs and players. To prevent resizing, make your input image divisible by the macro_block_size or set the macro_block_size to 1 (risking incompatibility).\n"
     ]
    },
    {
     "name": "stdout",
     "output_type": "stream",
     "text": [
      "124\n"
     ]
    },
    {
     "name": "stderr",
     "output_type": "stream",
     "text": [
      "[swscaler @ 0x55dca80] Warning: data is not aligned! This can lead to a speed loss\n"
     ]
    },
    {
     "name": "stdout",
     "output_type": "stream",
     "text": [
      "150.0\n",
      "240.0\n",
      "630.0\n",
      "360.0\n",
      "150.0\n",
      "90.0\n",
      "210.0\n",
      "30.0\n",
      "810.0\n",
      "300.0\n"
     ]
    },
    {
     "name": "stderr",
     "output_type": "stream",
     "text": [
      "IMAGEIO FFMPEG_WRITER WARNING: input image is not divisible by macro_block_size=16, resizing from (700, 700) to (704, 704) to ensure video compatibility with most codecs and players. To prevent resizing, make your input image divisible by the macro_block_size or set the macro_block_size to 1 (risking incompatibility).\n"
     ]
    },
    {
     "name": "stdout",
     "output_type": "stream",
     "text": [
      "124\n"
     ]
    },
    {
     "name": "stderr",
     "output_type": "stream",
     "text": [
      "[swscaler @ 0x6d77a80] Warning: data is not aligned! This can lead to a speed loss\n"
     ]
    },
    {
     "name": "stdout",
     "output_type": "stream",
     "text": [
      "510.0\n",
      "210.0\n",
      "420.0\n",
      "180.0\n",
      "180.0\n",
      "300.0\n",
      "240.0\n",
      "30.0\n",
      "0.0\n",
      "150.0\n"
     ]
    },
    {
     "name": "stderr",
     "output_type": "stream",
     "text": [
      "IMAGEIO FFMPEG_WRITER WARNING: input image is not divisible by macro_block_size=16, resizing from (700, 700) to (704, 704) to ensure video compatibility with most codecs and players. To prevent resizing, make your input image divisible by the macro_block_size or set the macro_block_size to 1 (risking incompatibility).\n"
     ]
    },
    {
     "name": "stdout",
     "output_type": "stream",
     "text": [
      "124\n"
     ]
    },
    {
     "name": "stderr",
     "output_type": "stream",
     "text": [
      "[swscaler @ 0x5a14a80] Warning: data is not aligned! This can lead to a speed loss\n"
     ]
    },
    {
     "name": "stdout",
     "output_type": "stream",
     "text": [
      "0.0\n",
      "150.0\n",
      "60.0\n",
      "0.0\n",
      "120.0\n",
      "90.0\n",
      "420.0\n",
      "180.0\n",
      "330.0\n",
      "120.0\n"
     ]
    },
    {
     "name": "stderr",
     "output_type": "stream",
     "text": [
      "IMAGEIO FFMPEG_WRITER WARNING: input image is not divisible by macro_block_size=16, resizing from (700, 700) to (704, 704) to ensure video compatibility with most codecs and players. To prevent resizing, make your input image divisible by the macro_block_size or set the macro_block_size to 1 (risking incompatibility).\n"
     ]
    },
    {
     "name": "stdout",
     "output_type": "stream",
     "text": [
      "124\n"
     ]
    },
    {
     "name": "stderr",
     "output_type": "stream",
     "text": [
      "[swscaler @ 0x5904a80] Warning: data is not aligned! This can lead to a speed loss\n"
     ]
    },
    {
     "name": "stdout",
     "output_type": "stream",
     "text": [
      "180.0\n",
      "120.0\n",
      "60.0\n",
      "330.0\n",
      "60.0\n",
      "90.0\n",
      "240.0\n",
      "270.0\n",
      "120.0\n",
      "390.0\n"
     ]
    },
    {
     "name": "stderr",
     "output_type": "stream",
     "text": [
      "IMAGEIO FFMPEG_WRITER WARNING: input image is not divisible by macro_block_size=16, resizing from (700, 700) to (704, 704) to ensure video compatibility with most codecs and players. To prevent resizing, make your input image divisible by the macro_block_size or set the macro_block_size to 1 (risking incompatibility).\n"
     ]
    },
    {
     "name": "stdout",
     "output_type": "stream",
     "text": [
      "124\n"
     ]
    },
    {
     "name": "stderr",
     "output_type": "stream",
     "text": [
      "[swscaler @ 0x66c1a80] Warning: data is not aligned! This can lead to a speed loss\n"
     ]
    },
    {
     "name": "stdout",
     "output_type": "stream",
     "text": [
      "180.0\n",
      "330.0\n",
      "0.0\n",
      "240.0\n",
      "210.0\n",
      "120.0\n",
      "390.0\n",
      "180.0\n",
      "330.0\n",
      "60.0\n"
     ]
    },
    {
     "name": "stderr",
     "output_type": "stream",
     "text": [
      "IMAGEIO FFMPEG_WRITER WARNING: input image is not divisible by macro_block_size=16, resizing from (700, 700) to (704, 704) to ensure video compatibility with most codecs and players. To prevent resizing, make your input image divisible by the macro_block_size or set the macro_block_size to 1 (risking incompatibility).\n"
     ]
    },
    {
     "name": "stdout",
     "output_type": "stream",
     "text": [
      "124\n"
     ]
    },
    {
     "name": "stderr",
     "output_type": "stream",
     "text": [
      "[swscaler @ 0x7109a80] Warning: data is not aligned! This can lead to a speed loss\n"
     ]
    },
    {
     "name": "stdout",
     "output_type": "stream",
     "text": [
      "0.0\n",
      "180.0\n",
      "180.0\n",
      "270.0\n",
      "360.0\n",
      "360.0\n",
      "180.0\n",
      "420.0\n",
      "420.0\n",
      "180.0\n"
     ]
    },
    {
     "name": "stderr",
     "output_type": "stream",
     "text": [
      "IMAGEIO FFMPEG_WRITER WARNING: input image is not divisible by macro_block_size=16, resizing from (700, 700) to (704, 704) to ensure video compatibility with most codecs and players. To prevent resizing, make your input image divisible by the macro_block_size or set the macro_block_size to 1 (risking incompatibility).\n"
     ]
    },
    {
     "name": "stdout",
     "output_type": "stream",
     "text": [
      "124\n"
     ]
    },
    {
     "name": "stderr",
     "output_type": "stream",
     "text": [
      "[swscaler @ 0x5668a80] Warning: data is not aligned! This can lead to a speed loss\n"
     ]
    },
    {
     "name": "stdout",
     "output_type": "stream",
     "text": [
      "60.0\n",
      "420.0\n",
      "210.0\n",
      "120.0\n",
      "30.0\n",
      "120.0\n",
      "0.0\n",
      "270.0\n",
      "90.0\n",
      "300.0\n"
     ]
    },
    {
     "name": "stderr",
     "output_type": "stream",
     "text": [
      "IMAGEIO FFMPEG_WRITER WARNING: input image is not divisible by macro_block_size=16, resizing from (700, 700) to (704, 704) to ensure video compatibility with most codecs and players. To prevent resizing, make your input image divisible by the macro_block_size or set the macro_block_size to 1 (risking incompatibility).\n"
     ]
    },
    {
     "name": "stdout",
     "output_type": "stream",
     "text": [
      "124\n"
     ]
    },
    {
     "name": "stderr",
     "output_type": "stream",
     "text": [
      "[swscaler @ 0x7029a80] Warning: data is not aligned! This can lead to a speed loss\n"
     ]
    },
    {
     "name": "stdout",
     "output_type": "stream",
     "text": [
      "150.0\n",
      "270.0\n",
      "210.0\n",
      "0.0\n",
      "0.0\n",
      "90.0\n",
      "60.0\n",
      "480.0\n",
      "60.0\n",
      "240.0\n"
     ]
    },
    {
     "name": "stderr",
     "output_type": "stream",
     "text": [
      "IMAGEIO FFMPEG_WRITER WARNING: input image is not divisible by macro_block_size=16, resizing from (700, 700) to (704, 704) to ensure video compatibility with most codecs and players. To prevent resizing, make your input image divisible by the macro_block_size or set the macro_block_size to 1 (risking incompatibility).\n"
     ]
    },
    {
     "name": "stdout",
     "output_type": "stream",
     "text": [
      "124\n"
     ]
    },
    {
     "name": "stderr",
     "output_type": "stream",
     "text": [
      "[swscaler @ 0x5778a80] Warning: data is not aligned! This can lead to a speed loss\n"
     ]
    },
    {
     "name": "stdout",
     "output_type": "stream",
     "text": [
      "180.0\n",
      "330.0\n",
      "90.0\n",
      "60.0\n",
      "480.0\n",
      "510.0\n",
      "60.0\n",
      "360.0\n",
      "330.0\n",
      "240.0\n",
      "Evaluation Reward for episode 6500 is: 212.1\n",
      "on episode 6528, curr epsilon 0.0660407716783118 (time taken so far: 0-00:22:17.0)\n",
      "     mean loss: adversary 51556.689013407886\n",
      "     mean reward: adversary 198.30601277152428, agent -109.66303888228997\n",
      "on episode 6560, curr epsilon 0.06520066989314696 (time taken so far: 0-00:22:23.0)\n",
      "     mean loss: adversary 50576.01617562982\n",
      "     mean reward: adversary 201.69058068838567, agent -114.38521518048229\n",
      "on episode 6592, curr epsilon 0.0643712550062648 (time taken so far: 0-00:22:28.0)\n",
      "     mean loss: adversary 52404.760280143244\n",
      "     mean reward: adversary 228.0735051328859, agent -112.37382137619103\n",
      "on episode 6624, curr epsilon 0.06355239107009693 (time taken so far: 0-00:22:34.0)\n",
      "     mean loss: adversary 60929.4602843281\n",
      "     mean reward: adversary 202.0106902465403, agent -108.46664146392614\n",
      "on episode 6656, curr epsilon 0.06274394386645807 (time taken so far: 0-00:22:40.0)\n",
      "     mean loss: adversary 64309.12939884483\n",
      "     mean reward: adversary 175.53443966222537, agent -99.33291069932821\n",
      "on episode 6688, curr epsilon 0.06194578088454661 (time taken so far: 0-00:22:46.0)\n",
      "     mean loss: adversary 63077.298926969015\n",
      "     mean reward: adversary 128.5090845005729, agent -81.9714030318821\n",
      "on episode 6720, curr epsilon 0.061157771299225096 (time taken so far: 0-00:22:51.0)\n",
      "     mean loss: adversary 62071.24589200711\n",
      "     mean reward: adversary 172.9518029694461, agent -96.42969497029814\n",
      "on episode 6752, curr epsilon 0.060379785949576964 (time taken so far: 0-00:22:57.0)\n",
      "     mean loss: adversary 62425.352691986925\n",
      "     mean reward: adversary 150.81508715599463, agent -87.40947816220347\n",
      "on episode 6784, curr epsilon 0.05961169731773604 (time taken so far: 0-00:23:3.0)\n",
      "     mean loss: adversary 62019.44510646323\n",
      "     mean reward: adversary 138.03665423177247, agent -93.83992823200613\n",
      "on episode 6816, curr epsilon 0.058853379507985436 (time taken so far: 0-00:23:9.0)\n",
      "     mean loss: adversary 59858.384483436676\n",
      "     mean reward: adversary 172.4628791321062, agent -104.19391982862638\n",
      "on episode 6848, curr epsilon 0.05810470822612213 (time taken so far: 0-00:23:14.0)\n",
      "     mean loss: adversary 61098.95312011675\n",
      "     mean reward: adversary 126.28727965142261, agent -81.57938771254716\n",
      "on episode 6880, curr epsilon 0.0573655607590843 (time taken so far: 0-00:23:20.0)\n",
      "     mean loss: adversary 58903.6564266748\n",
      "     mean reward: adversary 156.82786078009397, agent -91.41744395539442\n",
      "on episode 6912, curr epsilon 0.0566358159548376 (time taken so far: 0-00:23:26.0)\n",
      "     mean loss: adversary 59415.38680551165\n",
      "     mean reward: adversary 164.11872142787436, agent -91.23921788010341\n",
      "on episode 6944, curr epsilon 0.05591535420251751 (time taken so far: 0-00:23:32.0)\n",
      "     mean loss: adversary 58426.46153631941\n",
      "     mean reward: adversary 184.70825455773547, agent -112.0725883106119\n",
      "on episode 6976, curr epsilon 0.05520405741282407 (time taken so far: 0-00:23:38.0)\n",
      "     mean loss: adversary 59828.48951298833\n",
      "     mean reward: adversary 153.16540585130252, agent -85.22604650903793\n"
     ]
    },
    {
     "name": "stderr",
     "output_type": "stream",
     "text": [
      "IMAGEIO FFMPEG_WRITER WARNING: input image is not divisible by macro_block_size=16, resizing from (700, 700) to (704, 704) to ensure video compatibility with most codecs and players. To prevent resizing, make your input image divisible by the macro_block_size or set the macro_block_size to 1 (risking incompatibility).\n"
     ]
    },
    {
     "name": "stdout",
     "output_type": "stream",
     "text": [
      "124\n"
     ]
    },
    {
     "name": "stderr",
     "output_type": "stream",
     "text": [
      "[swscaler @ 0x5845a80] Warning: data is not aligned! This can lead to a speed loss\n"
     ]
    },
    {
     "name": "stdout",
     "output_type": "stream",
     "text": [
      "240.0\n",
      "0.0\n",
      "150.0\n",
      "90.0\n",
      "0.0\n",
      "150.0\n",
      "30.0\n",
      "60.0\n",
      "120.0\n",
      "0.0\n"
     ]
    },
    {
     "name": "stderr",
     "output_type": "stream",
     "text": [
      "IMAGEIO FFMPEG_WRITER WARNING: input image is not divisible by macro_block_size=16, resizing from (700, 700) to (704, 704) to ensure video compatibility with most codecs and players. To prevent resizing, make your input image divisible by the macro_block_size or set the macro_block_size to 1 (risking incompatibility).\n"
     ]
    },
    {
     "name": "stdout",
     "output_type": "stream",
     "text": [
      "124\n"
     ]
    },
    {
     "name": "stderr",
     "output_type": "stream",
     "text": [
      "[swscaler @ 0x7426a80] Warning: data is not aligned! This can lead to a speed loss\n"
     ]
    },
    {
     "name": "stdout",
     "output_type": "stream",
     "text": [
      "120.0\n",
      "60.0\n",
      "60.0\n",
      "30.0\n",
      "60.0\n",
      "30.0\n",
      "240.0\n",
      "0.0\n",
      "0.0\n",
      "0.0\n"
     ]
    },
    {
     "name": "stderr",
     "output_type": "stream",
     "text": [
      "IMAGEIO FFMPEG_WRITER WARNING: input image is not divisible by macro_block_size=16, resizing from (700, 700) to (704, 704) to ensure video compatibility with most codecs and players. To prevent resizing, make your input image divisible by the macro_block_size or set the macro_block_size to 1 (risking incompatibility).\n"
     ]
    },
    {
     "name": "stdout",
     "output_type": "stream",
     "text": [
      "124\n"
     ]
    },
    {
     "name": "stderr",
     "output_type": "stream",
     "text": [
      "[swscaler @ 0x6d5fa80] Warning: data is not aligned! This can lead to a speed loss\n"
     ]
    },
    {
     "name": "stdout",
     "output_type": "stream",
     "text": [
      "150.0\n",
      "30.0\n",
      "30.0\n",
      "30.0\n",
      "150.0\n",
      "90.0\n",
      "30.0\n",
      "150.0\n",
      "0.0\n",
      "30.0\n"
     ]
    },
    {
     "name": "stderr",
     "output_type": "stream",
     "text": [
      "IMAGEIO FFMPEG_WRITER WARNING: input image is not divisible by macro_block_size=16, resizing from (700, 700) to (704, 704) to ensure video compatibility with most codecs and players. To prevent resizing, make your input image divisible by the macro_block_size or set the macro_block_size to 1 (risking incompatibility).\n"
     ]
    },
    {
     "name": "stdout",
     "output_type": "stream",
     "text": [
      "124\n"
     ]
    },
    {
     "name": "stderr",
     "output_type": "stream",
     "text": [
      "[swscaler @ 0x61a6a80] Warning: data is not aligned! This can lead to a speed loss\n"
     ]
    },
    {
     "name": "stdout",
     "output_type": "stream",
     "text": [
      "120.0\n",
      "0.0\n",
      "0.0\n",
      "60.0\n",
      "90.0\n",
      "60.0\n",
      "0.0\n",
      "90.0\n",
      "60.0\n",
      "30.0\n"
     ]
    },
    {
     "name": "stderr",
     "output_type": "stream",
     "text": [
      "IMAGEIO FFMPEG_WRITER WARNING: input image is not divisible by macro_block_size=16, resizing from (700, 700) to (704, 704) to ensure video compatibility with most codecs and players. To prevent resizing, make your input image divisible by the macro_block_size or set the macro_block_size to 1 (risking incompatibility).\n"
     ]
    },
    {
     "name": "stdout",
     "output_type": "stream",
     "text": [
      "124\n"
     ]
    },
    {
     "name": "stderr",
     "output_type": "stream",
     "text": [
      "[swscaler @ 0x6b5ba80] Warning: data is not aligned! This can lead to a speed loss\n"
     ]
    },
    {
     "name": "stdout",
     "output_type": "stream",
     "text": [
      "0.0\n",
      "0.0\n",
      "150.0\n",
      "0.0\n",
      "90.0\n",
      "0.0\n",
      "120.0\n",
      "0.0\n",
      "90.0\n",
      "90.0\n"
     ]
    },
    {
     "name": "stderr",
     "output_type": "stream",
     "text": [
      "IMAGEIO FFMPEG_WRITER WARNING: input image is not divisible by macro_block_size=16, resizing from (700, 700) to (704, 704) to ensure video compatibility with most codecs and players. To prevent resizing, make your input image divisible by the macro_block_size or set the macro_block_size to 1 (risking incompatibility).\n"
     ]
    },
    {
     "name": "stdout",
     "output_type": "stream",
     "text": [
      "124\n"
     ]
    },
    {
     "name": "stderr",
     "output_type": "stream",
     "text": [
      "[swscaler @ 0x5683a80] Warning: data is not aligned! This can lead to a speed loss\n"
     ]
    },
    {
     "name": "stdout",
     "output_type": "stream",
     "text": [
      "60.0\n",
      "0.0\n",
      "180.0\n",
      "30.0\n",
      "120.0\n",
      "120.0\n",
      "30.0\n",
      "120.0\n",
      "0.0\n",
      "330.0\n"
     ]
    },
    {
     "name": "stderr",
     "output_type": "stream",
     "text": [
      "IMAGEIO FFMPEG_WRITER WARNING: input image is not divisible by macro_block_size=16, resizing from (700, 700) to (704, 704) to ensure video compatibility with most codecs and players. To prevent resizing, make your input image divisible by the macro_block_size or set the macro_block_size to 1 (risking incompatibility).\n"
     ]
    },
    {
     "name": "stdout",
     "output_type": "stream",
     "text": [
      "124\n"
     ]
    },
    {
     "name": "stderr",
     "output_type": "stream",
     "text": [
      "[swscaler @ 0x61b4a80] Warning: data is not aligned! This can lead to a speed loss\n"
     ]
    },
    {
     "name": "stdout",
     "output_type": "stream",
     "text": [
      "0.0\n",
      "0.0\n",
      "30.0\n",
      "30.0\n",
      "60.0\n",
      "150.0\n",
      "0.0\n",
      "30.0\n",
      "0.0\n",
      "210.0\n"
     ]
    },
    {
     "name": "stderr",
     "output_type": "stream",
     "text": [
      "IMAGEIO FFMPEG_WRITER WARNING: input image is not divisible by macro_block_size=16, resizing from (700, 700) to (704, 704) to ensure video compatibility with most codecs and players. To prevent resizing, make your input image divisible by the macro_block_size or set the macro_block_size to 1 (risking incompatibility).\n"
     ]
    },
    {
     "name": "stdout",
     "output_type": "stream",
     "text": [
      "124\n"
     ]
    },
    {
     "name": "stderr",
     "output_type": "stream",
     "text": [
      "[swscaler @ 0x674aa80] Warning: data is not aligned! This can lead to a speed loss\n"
     ]
    },
    {
     "name": "stdout",
     "output_type": "stream",
     "text": [
      "90.0\n",
      "180.0\n",
      "60.0\n",
      "0.0\n",
      "120.0\n",
      "60.0\n",
      "30.0\n",
      "90.0\n",
      "0.0\n",
      "90.0\n"
     ]
    },
    {
     "name": "stderr",
     "output_type": "stream",
     "text": [
      "IMAGEIO FFMPEG_WRITER WARNING: input image is not divisible by macro_block_size=16, resizing from (700, 700) to (704, 704) to ensure video compatibility with most codecs and players. To prevent resizing, make your input image divisible by the macro_block_size or set the macro_block_size to 1 (risking incompatibility).\n"
     ]
    },
    {
     "name": "stdout",
     "output_type": "stream",
     "text": [
      "124\n"
     ]
    },
    {
     "name": "stderr",
     "output_type": "stream",
     "text": [
      "[swscaler @ 0x7331a80] Warning: data is not aligned! This can lead to a speed loss\n"
     ]
    },
    {
     "name": "stdout",
     "output_type": "stream",
     "text": [
      "60.0\n",
      "150.0\n",
      "210.0\n",
      "120.0\n",
      "90.0\n",
      "30.0\n",
      "60.0\n",
      "180.0\n",
      "90.0\n",
      "30.0\n"
     ]
    },
    {
     "name": "stderr",
     "output_type": "stream",
     "text": [
      "IMAGEIO FFMPEG_WRITER WARNING: input image is not divisible by macro_block_size=16, resizing from (700, 700) to (704, 704) to ensure video compatibility with most codecs and players. To prevent resizing, make your input image divisible by the macro_block_size or set the macro_block_size to 1 (risking incompatibility).\n"
     ]
    },
    {
     "name": "stdout",
     "output_type": "stream",
     "text": [
      "124\n"
     ]
    },
    {
     "name": "stderr",
     "output_type": "stream",
     "text": [
      "[swscaler @ 0x73caa80] Warning: data is not aligned! This can lead to a speed loss\n"
     ]
    },
    {
     "name": "stdout",
     "output_type": "stream",
     "text": [
      "30.0\n",
      "120.0\n",
      "0.0\n",
      "0.0\n",
      "30.0\n",
      "120.0\n",
      "0.0\n",
      "90.0\n",
      "30.0\n",
      "60.0\n",
      "Evaluation Reward for episode 7000 is: 69.0\n",
      "on episode 7008, curr epsilon 0.0545018089986662 (time taken so far: 0-00:23:55.0)\n",
      "     mean loss: adversary 61648.885393540426\n",
      "     mean reward: adversary 162.8766889982985, agent -94.29058566092984\n",
      "on episode 7040, curr epsilon 0.05380849385605209 (time taken so far: 0-00:24:1.0)\n",
      "     mean loss: adversary 60876.72821711682\n",
      "     mean reward: adversary 169.87723091354934, agent -99.5186645916945\n",
      "on episode 7072, curr epsilon 0.05312399834522287 (time taken so far: 0-00:24:7.0)\n",
      "     mean loss: adversary 63385.336052324325\n",
      "     mean reward: adversary 186.13191701540427, agent -112.01379651868596\n",
      "on episode 7104, curr epsilon 0.05244821027202605 (time taken so far: 0-00:24:13.0)\n",
      "     mean loss: adversary 69037.6660707183\n",
      "     mean reward: adversary 151.79232049958063, agent -93.15656568877317\n",
      "on episode 7136, curr epsilon 0.051781018869526116 (time taken so far: 0-00:24:18.0)\n",
      "     mean loss: adversary 73876.04809100015\n",
      "     mean reward: adversary 112.30864984702168, agent -73.30071872781286\n",
      "on episode 7168, curr epsilon 0.051122314779848875 (time taken so far: 0-00:24:24.0)\n",
      "     mean loss: adversary 74613.48821842525\n",
      "     mean reward: adversary 166.9280008230952, agent -95.76751652313723\n",
      "on episode 7200, curr epsilon 0.050471990036256964 (time taken so far: 0-00:24:30.0)\n",
      "     mean loss: adversary 75438.98537747664\n",
      "     mean reward: adversary 87.09195564298452, agent -72.62847377397199\n",
      "on episode 7232, curr epsilon 0.05 (time taken so far: 0-00:24:36.0)\n",
      "     mean loss: adversary 74880.16383647415\n",
      "     mean reward: adversary 101.97183770256663, agent -71.00353398430742\n",
      "on episode 7264, curr epsilon 0.05 (time taken so far: 0-00:24:42.0)\n",
      "     mean loss: adversary 73371.88963498168\n",
      "     mean reward: adversary 134.64969097780974, agent -83.42383142742956\n",
      "on episode 7296, curr epsilon 0.05 (time taken so far: 0-00:24:48.0)\n",
      "     mean loss: adversary 71385.99194271573\n",
      "     mean reward: adversary 135.87823783225414, agent -84.12452458786248\n",
      "on episode 7328, curr epsilon 0.05 (time taken so far: 0-00:24:54.0)\n",
      "     mean loss: adversary 73014.56115982933\n",
      "     mean reward: adversary 130.72676186707713, agent -89.6175435684284\n",
      "on episode 7360, curr epsilon 0.05 (time taken so far: 0-00:25:0.0)\n",
      "     mean loss: adversary 72864.8945188571\n",
      "     mean reward: adversary 161.9824587152039, agent -95.1284143381844\n",
      "on episode 7392, curr epsilon 0.05 (time taken so far: 0-00:25:6.0)\n",
      "     mean loss: adversary 73239.13539453811\n",
      "     mean reward: adversary 181.12996717690177, agent -105.30672429305089\n",
      "on episode 7424, curr epsilon 0.05 (time taken so far: 0-00:25:11.0)\n",
      "     mean loss: adversary 74446.52755400169\n",
      "     mean reward: adversary 183.44828056177576, agent -106.8853956372426\n",
      "on episode 7456, curr epsilon 0.05 (time taken so far: 0-00:25:17.0)\n",
      "     mean loss: adversary 73156.8872000762\n",
      "     mean reward: adversary 166.7098445533597, agent -96.18561915960817\n",
      "on episode 7488, curr epsilon 0.05 (time taken so far: 0-00:25:23.0)\n",
      "     mean loss: adversary 78147.3400976935\n",
      "     mean reward: adversary 165.8630289190985, agent -98.59980533902608\n"
     ]
    },
    {
     "name": "stderr",
     "output_type": "stream",
     "text": [
      "IMAGEIO FFMPEG_WRITER WARNING: input image is not divisible by macro_block_size=16, resizing from (700, 700) to (704, 704) to ensure video compatibility with most codecs and players. To prevent resizing, make your input image divisible by the macro_block_size or set the macro_block_size to 1 (risking incompatibility).\n"
     ]
    },
    {
     "name": "stdout",
     "output_type": "stream",
     "text": [
      "124\n"
     ]
    },
    {
     "name": "stderr",
     "output_type": "stream",
     "text": [
      "[swscaler @ 0x6426a80] Warning: data is not aligned! This can lead to a speed loss\n"
     ]
    },
    {
     "name": "stdout",
     "output_type": "stream",
     "text": [
      "0.0\n",
      "210.0\n",
      "30.0\n",
      "0.0\n",
      "300.0\n",
      "0.0\n",
      "60.0\n",
      "30.0\n",
      "90.0\n",
      "210.0\n"
     ]
    },
    {
     "name": "stderr",
     "output_type": "stream",
     "text": [
      "IMAGEIO FFMPEG_WRITER WARNING: input image is not divisible by macro_block_size=16, resizing from (700, 700) to (704, 704) to ensure video compatibility with most codecs and players. To prevent resizing, make your input image divisible by the macro_block_size or set the macro_block_size to 1 (risking incompatibility).\n"
     ]
    },
    {
     "name": "stdout",
     "output_type": "stream",
     "text": [
      "124\n"
     ]
    },
    {
     "name": "stderr",
     "output_type": "stream",
     "text": [
      "[swscaler @ 0x55aba80] Warning: data is not aligned! This can lead to a speed loss\n"
     ]
    },
    {
     "name": "stdout",
     "output_type": "stream",
     "text": [
      "0.0\n",
      "0.0\n",
      "0.0\n",
      "0.0\n",
      "0.0\n",
      "0.0\n",
      "0.0\n",
      "90.0\n",
      "0.0\n",
      "0.0\n"
     ]
    },
    {
     "name": "stderr",
     "output_type": "stream",
     "text": [
      "IMAGEIO FFMPEG_WRITER WARNING: input image is not divisible by macro_block_size=16, resizing from (700, 700) to (704, 704) to ensure video compatibility with most codecs and players. To prevent resizing, make your input image divisible by the macro_block_size or set the macro_block_size to 1 (risking incompatibility).\n"
     ]
    },
    {
     "name": "stdout",
     "output_type": "stream",
     "text": [
      "124\n"
     ]
    },
    {
     "name": "stderr",
     "output_type": "stream",
     "text": [
      "[swscaler @ 0x5d23a80] Warning: data is not aligned! This can lead to a speed loss\n"
     ]
    },
    {
     "name": "stdout",
     "output_type": "stream",
     "text": [
      "60.0\n",
      "0.0\n",
      "0.0\n",
      "0.0\n",
      "60.0\n",
      "0.0\n",
      "0.0\n",
      "0.0\n",
      "0.0\n",
      "150.0\n"
     ]
    },
    {
     "name": "stderr",
     "output_type": "stream",
     "text": [
      "IMAGEIO FFMPEG_WRITER WARNING: input image is not divisible by macro_block_size=16, resizing from (700, 700) to (704, 704) to ensure video compatibility with most codecs and players. To prevent resizing, make your input image divisible by the macro_block_size or set the macro_block_size to 1 (risking incompatibility).\n"
     ]
    },
    {
     "name": "stdout",
     "output_type": "stream",
     "text": [
      "124\n"
     ]
    },
    {
     "name": "stderr",
     "output_type": "stream",
     "text": [
      "[swscaler @ 0x688aa80] Warning: data is not aligned! This can lead to a speed loss\n"
     ]
    },
    {
     "name": "stdout",
     "output_type": "stream",
     "text": [
      "0.0\n",
      "0.0\n",
      "0.0\n",
      "90.0\n",
      "0.0\n",
      "0.0\n",
      "0.0\n",
      "0.0\n",
      "60.0\n",
      "0.0\n"
     ]
    },
    {
     "name": "stderr",
     "output_type": "stream",
     "text": [
      "IMAGEIO FFMPEG_WRITER WARNING: input image is not divisible by macro_block_size=16, resizing from (700, 700) to (704, 704) to ensure video compatibility with most codecs and players. To prevent resizing, make your input image divisible by the macro_block_size or set the macro_block_size to 1 (risking incompatibility).\n"
     ]
    },
    {
     "name": "stdout",
     "output_type": "stream",
     "text": [
      "124\n"
     ]
    },
    {
     "name": "stderr",
     "output_type": "stream",
     "text": [
      "[swscaler @ 0x690da80] Warning: data is not aligned! This can lead to a speed loss\n"
     ]
    },
    {
     "name": "stdout",
     "output_type": "stream",
     "text": [
      "0.0\n",
      "0.0\n",
      "0.0\n",
      "0.0\n",
      "0.0\n",
      "60.0\n",
      "360.0\n",
      "0.0\n",
      "150.0\n",
      "0.0\n"
     ]
    },
    {
     "name": "stderr",
     "output_type": "stream",
     "text": [
      "IMAGEIO FFMPEG_WRITER WARNING: input image is not divisible by macro_block_size=16, resizing from (700, 700) to (704, 704) to ensure video compatibility with most codecs and players. To prevent resizing, make your input image divisible by the macro_block_size or set the macro_block_size to 1 (risking incompatibility).\n"
     ]
    },
    {
     "name": "stdout",
     "output_type": "stream",
     "text": [
      "124\n"
     ]
    },
    {
     "name": "stderr",
     "output_type": "stream",
     "text": [
      "[swscaler @ 0x5782a80] Warning: data is not aligned! This can lead to a speed loss\n"
     ]
    },
    {
     "name": "stdout",
     "output_type": "stream",
     "text": [
      "0.0\n",
      "0.0\n",
      "0.0\n",
      "0.0\n",
      "90.0\n",
      "0.0\n",
      "0.0\n",
      "0.0\n",
      "0.0\n",
      "0.0\n"
     ]
    },
    {
     "name": "stderr",
     "output_type": "stream",
     "text": [
      "IMAGEIO FFMPEG_WRITER WARNING: input image is not divisible by macro_block_size=16, resizing from (700, 700) to (704, 704) to ensure video compatibility with most codecs and players. To prevent resizing, make your input image divisible by the macro_block_size or set the macro_block_size to 1 (risking incompatibility).\n"
     ]
    },
    {
     "name": "stdout",
     "output_type": "stream",
     "text": [
      "124\n"
     ]
    },
    {
     "name": "stderr",
     "output_type": "stream",
     "text": [
      "[swscaler @ 0x61c8a80] Warning: data is not aligned! This can lead to a speed loss\n"
     ]
    },
    {
     "name": "stdout",
     "output_type": "stream",
     "text": [
      "0.0\n",
      "240.0\n",
      "0.0\n",
      "60.0\n",
      "0.0\n",
      "180.0\n",
      "90.0\n",
      "30.0\n",
      "30.0\n",
      "0.0\n"
     ]
    },
    {
     "name": "stderr",
     "output_type": "stream",
     "text": [
      "IMAGEIO FFMPEG_WRITER WARNING: input image is not divisible by macro_block_size=16, resizing from (700, 700) to (704, 704) to ensure video compatibility with most codecs and players. To prevent resizing, make your input image divisible by the macro_block_size or set the macro_block_size to 1 (risking incompatibility).\n"
     ]
    },
    {
     "name": "stdout",
     "output_type": "stream",
     "text": [
      "124\n"
     ]
    },
    {
     "name": "stderr",
     "output_type": "stream",
     "text": [
      "[swscaler @ 0x5ca1a80] Warning: data is not aligned! This can lead to a speed loss\n"
     ]
    },
    {
     "name": "stdout",
     "output_type": "stream",
     "text": [
      "0.0\n",
      "0.0\n",
      "0.0\n",
      "510.0\n",
      "0.0\n",
      "0.0\n",
      "0.0\n",
      "150.0\n",
      "0.0\n",
      "120.0\n"
     ]
    },
    {
     "name": "stderr",
     "output_type": "stream",
     "text": [
      "IMAGEIO FFMPEG_WRITER WARNING: input image is not divisible by macro_block_size=16, resizing from (700, 700) to (704, 704) to ensure video compatibility with most codecs and players. To prevent resizing, make your input image divisible by the macro_block_size or set the macro_block_size to 1 (risking incompatibility).\n"
     ]
    },
    {
     "name": "stdout",
     "output_type": "stream",
     "text": [
      "124\n"
     ]
    },
    {
     "name": "stderr",
     "output_type": "stream",
     "text": [
      "[swscaler @ 0x6c55a80] Warning: data is not aligned! This can lead to a speed loss\n"
     ]
    },
    {
     "name": "stdout",
     "output_type": "stream",
     "text": [
      "0.0\n",
      "0.0\n",
      "240.0\n",
      "90.0\n",
      "0.0\n",
      "0.0\n",
      "0.0\n",
      "0.0\n",
      "60.0\n",
      "0.0\n"
     ]
    },
    {
     "name": "stderr",
     "output_type": "stream",
     "text": [
      "IMAGEIO FFMPEG_WRITER WARNING: input image is not divisible by macro_block_size=16, resizing from (700, 700) to (704, 704) to ensure video compatibility with most codecs and players. To prevent resizing, make your input image divisible by the macro_block_size or set the macro_block_size to 1 (risking incompatibility).\n"
     ]
    },
    {
     "name": "stdout",
     "output_type": "stream",
     "text": [
      "124\n"
     ]
    },
    {
     "name": "stderr",
     "output_type": "stream",
     "text": [
      "[swscaler @ 0x64aaa80] Warning: data is not aligned! This can lead to a speed loss\n"
     ]
    },
    {
     "name": "stdout",
     "output_type": "stream",
     "text": [
      "0.0\n",
      "0.0\n",
      "0.0\n",
      "0.0\n",
      "30.0\n",
      "90.0\n",
      "0.0\n",
      "0.0\n",
      "0.0\n",
      "0.0\n",
      "Evaluation Reward for episode 7500 is: 40.2\n",
      "on episode 7520, curr epsilon 0.05 (time taken so far: 0-00:25:41.0)\n",
      "     mean loss: adversary 79323.43340877295\n",
      "     mean reward: adversary 162.00607340715175, agent -96.68589624604479\n",
      "on episode 7552, curr epsilon 0.05 (time taken so far: 0-00:25:47.0)\n",
      "     mean loss: adversary 77460.1652591606\n",
      "     mean reward: adversary 149.40279272943215, agent -87.73455676192634\n",
      "on episode 7584, curr epsilon 0.05 (time taken so far: 0-00:25:53.0)\n",
      "     mean loss: adversary 77382.82654129388\n",
      "     mean reward: adversary 159.71016445070595, agent -98.30869801400333\n",
      "on episode 7616, curr epsilon 0.05 (time taken so far: 0-00:25:59.0)\n",
      "     mean loss: adversary 76393.10924088355\n",
      "     mean reward: adversary 211.6108966110641, agent -112.34889735935676\n",
      "on episode 7648, curr epsilon 0.05 (time taken so far: 0-00:26:5.0)\n",
      "     mean loss: adversary 75719.54480660673\n",
      "     mean reward: adversary 210.53934368732084, agent -112.52846189235468\n",
      "on episode 7680, curr epsilon 0.05 (time taken so far: 0-00:26:11.0)\n",
      "     mean loss: adversary 79075.19037566718\n",
      "     mean reward: adversary 147.9104880428915, agent -83.34270732779675\n",
      "on episode 7712, curr epsilon 0.05 (time taken so far: 0-00:26:17.0)\n",
      "     mean loss: adversary 78712.16295588734\n",
      "     mean reward: adversary 158.25626312351648, agent -93.44261440197567\n",
      "on episode 7744, curr epsilon 0.05 (time taken so far: 0-00:26:23.0)\n",
      "     mean loss: adversary 85849.98997280152\n",
      "     mean reward: adversary 148.33561329818602, agent -92.5626210808301\n",
      "on episode 7776, curr epsilon 0.05 (time taken so far: 0-00:26:29.0)\n",
      "     mean loss: adversary 86841.730893025\n",
      "     mean reward: adversary 147.33307003193713, agent -85.5566510925102\n",
      "on episode 7808, curr epsilon 0.05 (time taken so far: 0-00:26:35.0)\n",
      "     mean loss: adversary 88314.65008766469\n",
      "     mean reward: adversary 150.24905733100368, agent -87.07385208903985\n",
      "on episode 7840, curr epsilon 0.05 (time taken so far: 0-00:26:41.0)\n",
      "     mean loss: adversary 88994.0582323593\n",
      "     mean reward: adversary 160.15450989320246, agent -99.7054808431785\n",
      "on episode 7872, curr epsilon 0.05 (time taken so far: 0-00:26:47.0)\n",
      "     mean loss: adversary 87981.7247598601\n",
      "     mean reward: adversary 182.9604602257252, agent -102.50981351019043\n",
      "on episode 7904, curr epsilon 0.05 (time taken so far: 0-00:26:53.0)\n",
      "     mean loss: adversary 89867.51800306639\n",
      "     mean reward: adversary 175.32380050627557, agent -104.03683834104996\n",
      "on episode 7936, curr epsilon 0.05 (time taken so far: 0-00:26:59.0)\n",
      "     mean loss: adversary 90280.35103145332\n",
      "     mean reward: adversary 153.52880751268506, agent -98.37393095167957\n",
      "on episode 7968, curr epsilon 0.05 (time taken so far: 0-00:27:5.0)\n",
      "     mean loss: adversary 90304.52265764633\n",
      "     mean reward: adversary 216.56845927207806, agent -125.39423258357432\n",
      "on episode 8000, curr epsilon 0.05 (time taken so far: 0-00:27:11.0)\n",
      "     mean loss: adversary 98357.13568617351\n",
      "     mean reward: adversary 174.4237554702604, agent -103.28596104201353\n"
     ]
    },
    {
     "name": "stderr",
     "output_type": "stream",
     "text": [
      "IMAGEIO FFMPEG_WRITER WARNING: input image is not divisible by macro_block_size=16, resizing from (700, 700) to (704, 704) to ensure video compatibility with most codecs and players. To prevent resizing, make your input image divisible by the macro_block_size or set the macro_block_size to 1 (risking incompatibility).\n"
     ]
    },
    {
     "name": "stdout",
     "output_type": "stream",
     "text": [
      "124\n"
     ]
    },
    {
     "name": "stderr",
     "output_type": "stream",
     "text": [
      "[swscaler @ 0x70aaa80] Warning: data is not aligned! This can lead to a speed loss\n"
     ]
    },
    {
     "name": "stdout",
     "output_type": "stream",
     "text": [
      "0.0\n",
      "0.0\n",
      "0.0\n",
      "0.0\n",
      "0.0\n",
      "0.0\n",
      "0.0\n",
      "0.0\n",
      "0.0\n",
      "0.0\n"
     ]
    },
    {
     "name": "stderr",
     "output_type": "stream",
     "text": [
      "IMAGEIO FFMPEG_WRITER WARNING: input image is not divisible by macro_block_size=16, resizing from (700, 700) to (704, 704) to ensure video compatibility with most codecs and players. To prevent resizing, make your input image divisible by the macro_block_size or set the macro_block_size to 1 (risking incompatibility).\n"
     ]
    },
    {
     "name": "stdout",
     "output_type": "stream",
     "text": [
      "124\n"
     ]
    },
    {
     "name": "stderr",
     "output_type": "stream",
     "text": [
      "[swscaler @ 0x67a0a80] Warning: data is not aligned! This can lead to a speed loss\n"
     ]
    },
    {
     "name": "stdout",
     "output_type": "stream",
     "text": [
      "0.0\n",
      "60.0\n",
      "0.0\n",
      "0.0\n",
      "0.0\n",
      "30.0\n",
      "0.0\n",
      "0.0\n",
      "0.0\n",
      "0.0\n"
     ]
    },
    {
     "name": "stderr",
     "output_type": "stream",
     "text": [
      "IMAGEIO FFMPEG_WRITER WARNING: input image is not divisible by macro_block_size=16, resizing from (700, 700) to (704, 704) to ensure video compatibility with most codecs and players. To prevent resizing, make your input image divisible by the macro_block_size or set the macro_block_size to 1 (risking incompatibility).\n"
     ]
    },
    {
     "name": "stdout",
     "output_type": "stream",
     "text": [
      "124\n"
     ]
    },
    {
     "name": "stderr",
     "output_type": "stream",
     "text": [
      "[swscaler @ 0x6314a80] Warning: data is not aligned! This can lead to a speed loss\n"
     ]
    },
    {
     "name": "stdout",
     "output_type": "stream",
     "text": [
      "0.0\n",
      "0.0\n",
      "90.0\n",
      "60.0\n",
      "0.0\n",
      "0.0\n",
      "0.0\n",
      "0.0\n",
      "0.0\n",
      "30.0\n"
     ]
    },
    {
     "name": "stderr",
     "output_type": "stream",
     "text": [
      "IMAGEIO FFMPEG_WRITER WARNING: input image is not divisible by macro_block_size=16, resizing from (700, 700) to (704, 704) to ensure video compatibility with most codecs and players. To prevent resizing, make your input image divisible by the macro_block_size or set the macro_block_size to 1 (risking incompatibility).\n"
     ]
    },
    {
     "name": "stdout",
     "output_type": "stream",
     "text": [
      "124\n"
     ]
    },
    {
     "name": "stderr",
     "output_type": "stream",
     "text": [
      "[swscaler @ 0x634ba80] Warning: data is not aligned! This can lead to a speed loss\n"
     ]
    },
    {
     "name": "stdout",
     "output_type": "stream",
     "text": [
      "0.0\n",
      "60.0\n",
      "0.0\n",
      "0.0\n",
      "0.0\n",
      "0.0\n",
      "0.0\n",
      "0.0\n",
      "0.0\n",
      "0.0\n"
     ]
    },
    {
     "name": "stderr",
     "output_type": "stream",
     "text": [
      "IMAGEIO FFMPEG_WRITER WARNING: input image is not divisible by macro_block_size=16, resizing from (700, 700) to (704, 704) to ensure video compatibility with most codecs and players. To prevent resizing, make your input image divisible by the macro_block_size or set the macro_block_size to 1 (risking incompatibility).\n"
     ]
    },
    {
     "name": "stdout",
     "output_type": "stream",
     "text": [
      "124\n"
     ]
    },
    {
     "name": "stderr",
     "output_type": "stream",
     "text": [
      "[swscaler @ 0x74f0a80] Warning: data is not aligned! This can lead to a speed loss\n"
     ]
    },
    {
     "name": "stdout",
     "output_type": "stream",
     "text": [
      "0.0\n",
      "30.0\n",
      "0.0\n",
      "0.0\n",
      "0.0\n",
      "0.0\n",
      "30.0\n",
      "0.0\n",
      "0.0\n",
      "0.0\n"
     ]
    },
    {
     "name": "stderr",
     "output_type": "stream",
     "text": [
      "IMAGEIO FFMPEG_WRITER WARNING: input image is not divisible by macro_block_size=16, resizing from (700, 700) to (704, 704) to ensure video compatibility with most codecs and players. To prevent resizing, make your input image divisible by the macro_block_size or set the macro_block_size to 1 (risking incompatibility).\n"
     ]
    },
    {
     "name": "stdout",
     "output_type": "stream",
     "text": [
      "124\n"
     ]
    },
    {
     "name": "stderr",
     "output_type": "stream",
     "text": [
      "[swscaler @ 0x6462a80] Warning: data is not aligned! This can lead to a speed loss\n"
     ]
    },
    {
     "name": "stdout",
     "output_type": "stream",
     "text": [
      "0.0\n",
      "0.0\n",
      "0.0\n",
      "0.0\n",
      "0.0\n",
      "0.0\n",
      "0.0\n",
      "30.0\n",
      "0.0\n",
      "0.0\n"
     ]
    },
    {
     "name": "stderr",
     "output_type": "stream",
     "text": [
      "IMAGEIO FFMPEG_WRITER WARNING: input image is not divisible by macro_block_size=16, resizing from (700, 700) to (704, 704) to ensure video compatibility with most codecs and players. To prevent resizing, make your input image divisible by the macro_block_size or set the macro_block_size to 1 (risking incompatibility).\n"
     ]
    },
    {
     "name": "stdout",
     "output_type": "stream",
     "text": [
      "124\n"
     ]
    },
    {
     "name": "stderr",
     "output_type": "stream",
     "text": [
      "[swscaler @ 0x6ccfa80] Warning: data is not aligned! This can lead to a speed loss\n"
     ]
    },
    {
     "name": "stdout",
     "output_type": "stream",
     "text": [
      "0.0\n",
      "0.0\n",
      "0.0\n",
      "0.0\n",
      "90.0\n",
      "0.0\n",
      "0.0\n",
      "0.0\n",
      "0.0\n",
      "0.0\n"
     ]
    },
    {
     "name": "stderr",
     "output_type": "stream",
     "text": [
      "IMAGEIO FFMPEG_WRITER WARNING: input image is not divisible by macro_block_size=16, resizing from (700, 700) to (704, 704) to ensure video compatibility with most codecs and players. To prevent resizing, make your input image divisible by the macro_block_size or set the macro_block_size to 1 (risking incompatibility).\n"
     ]
    },
    {
     "name": "stdout",
     "output_type": "stream",
     "text": [
      "124\n"
     ]
    },
    {
     "name": "stderr",
     "output_type": "stream",
     "text": [
      "[swscaler @ 0x69d9a80] Warning: data is not aligned! This can lead to a speed loss\n"
     ]
    },
    {
     "name": "stdout",
     "output_type": "stream",
     "text": [
      "0.0\n",
      "0.0\n",
      "0.0\n",
      "0.0\n",
      "0.0\n",
      "0.0\n",
      "0.0\n",
      "60.0\n",
      "0.0\n",
      "0.0\n"
     ]
    },
    {
     "name": "stderr",
     "output_type": "stream",
     "text": [
      "IMAGEIO FFMPEG_WRITER WARNING: input image is not divisible by macro_block_size=16, resizing from (700, 700) to (704, 704) to ensure video compatibility with most codecs and players. To prevent resizing, make your input image divisible by the macro_block_size or set the macro_block_size to 1 (risking incompatibility).\n"
     ]
    },
    {
     "name": "stdout",
     "output_type": "stream",
     "text": [
      "124\n"
     ]
    },
    {
     "name": "stderr",
     "output_type": "stream",
     "text": [
      "[swscaler @ 0x5689a80] Warning: data is not aligned! This can lead to a speed loss\n"
     ]
    },
    {
     "name": "stdout",
     "output_type": "stream",
     "text": [
      "30.0\n",
      "0.0\n",
      "0.0\n",
      "30.0\n",
      "30.0\n",
      "30.0\n",
      "0.0\n",
      "0.0\n",
      "0.0\n",
      "0.0\n"
     ]
    },
    {
     "name": "stderr",
     "output_type": "stream",
     "text": [
      "IMAGEIO FFMPEG_WRITER WARNING: input image is not divisible by macro_block_size=16, resizing from (700, 700) to (704, 704) to ensure video compatibility with most codecs and players. To prevent resizing, make your input image divisible by the macro_block_size or set the macro_block_size to 1 (risking incompatibility).\n"
     ]
    },
    {
     "name": "stdout",
     "output_type": "stream",
     "text": [
      "124\n"
     ]
    },
    {
     "name": "stderr",
     "output_type": "stream",
     "text": [
      "[swscaler @ 0x7389a80] Warning: data is not aligned! This can lead to a speed loss\n"
     ]
    },
    {
     "name": "stdout",
     "output_type": "stream",
     "text": [
      "0.0\n",
      "0.0\n",
      "0.0\n",
      "0.0\n",
      "0.0\n",
      "0.0\n",
      "0.0\n",
      "30.0\n",
      "0.0\n",
      "0.0\n",
      "Evaluation Reward for episode 8000 is: 7.2\n",
      "on episode 8032, curr epsilon 0.05 (time taken so far: 0-00:27:29.0)\n",
      "     mean loss: adversary 101520.05925465864\n",
      "     mean reward: adversary 145.21037323512968, agent -81.09320965784453\n",
      "on episode 8064, curr epsilon 0.05 (time taken so far: 0-00:27:35.0)\n",
      "     mean loss: adversary 100447.72880018302\n",
      "     mean reward: adversary 119.54480575267746, agent -81.69844899749894\n",
      "on episode 8096, curr epsilon 0.05 (time taken so far: 0-00:27:41.0)\n",
      "     mean loss: adversary 99714.77284690746\n",
      "     mean reward: adversary 151.2018544259406, agent -94.00744474162613\n",
      "on episode 8128, curr epsilon 0.05 (time taken so far: 0-00:27:47.0)\n",
      "     mean loss: adversary 99502.07116154092\n",
      "     mean reward: adversary 159.8097369454763, agent -97.33695042513554\n",
      "on episode 8160, curr epsilon 0.05 (time taken so far: 0-00:27:54.0)\n",
      "     mean loss: adversary 104019.2677788106\n",
      "     mean reward: adversary 141.72101879717422, agent -88.90155490300326\n",
      "on episode 8192, curr epsilon 0.05 (time taken so far: 0-00:28:0.0)\n",
      "     mean loss: adversary 103560.6656448014\n",
      "     mean reward: adversary 233.33113982720292, agent -116.5288709875407\n",
      "on episode 8224, curr epsilon 0.05 (time taken so far: 0-00:28:7.0)\n",
      "     mean loss: adversary 110623.99503670877\n",
      "     mean reward: adversary 119.8797339736914, agent -80.10245196364251\n",
      "on episode 8256, curr epsilon 0.05 (time taken so far: 0-00:28:13.0)\n",
      "     mean loss: adversary 109166.37192836014\n",
      "     mean reward: adversary 184.36477160608328, agent -109.31908481555953\n",
      "on episode 8288, curr epsilon 0.05 (time taken so far: 0-00:28:19.0)\n",
      "     mean loss: adversary 108860.24623215452\n",
      "     mean reward: adversary 201.29279247398136, agent -105.34448542769849\n",
      "on episode 8320, curr epsilon 0.05 (time taken so far: 0-00:28:25.0)\n",
      "     mean loss: adversary 115869.7774062636\n",
      "     mean reward: adversary 126.46346246008918, agent -84.16973078515034\n",
      "on episode 8352, curr epsilon 0.05 (time taken so far: 0-00:28:32.0)\n",
      "     mean loss: adversary 115208.357630416\n",
      "     mean reward: adversary 182.08363716734289, agent -96.74207650983224\n",
      "on episode 8384, curr epsilon 0.05 (time taken so far: 0-00:28:38.0)\n",
      "     mean loss: adversary 116813.3703530831\n",
      "     mean reward: adversary 157.02926732957133, agent -88.53207875298818\n",
      "on episode 8416, curr epsilon 0.05 (time taken so far: 0-00:28:44.0)\n",
      "     mean loss: adversary 111978.97418455669\n",
      "     mean reward: adversary 149.31098973595624, agent -92.064748665108\n",
      "on episode 8448, curr epsilon 0.05 (time taken so far: 0-00:28:50.0)\n",
      "     mean loss: adversary 115451.49842877507\n",
      "     mean reward: adversary 182.00551096515753, agent -95.856120364796\n",
      "on episode 8480, curr epsilon 0.05 (time taken so far: 0-00:28:56.0)\n",
      "     mean loss: adversary 110257.30373477645\n",
      "     mean reward: adversary 157.70627712045712, agent -92.80363769654771\n"
     ]
    },
    {
     "name": "stderr",
     "output_type": "stream",
     "text": [
      "IMAGEIO FFMPEG_WRITER WARNING: input image is not divisible by macro_block_size=16, resizing from (700, 700) to (704, 704) to ensure video compatibility with most codecs and players. To prevent resizing, make your input image divisible by the macro_block_size or set the macro_block_size to 1 (risking incompatibility).\n"
     ]
    },
    {
     "name": "stdout",
     "output_type": "stream",
     "text": [
      "124\n"
     ]
    },
    {
     "name": "stderr",
     "output_type": "stream",
     "text": [
      "[swscaler @ 0x73ffa80] Warning: data is not aligned! This can lead to a speed loss\n"
     ]
    },
    {
     "name": "stdout",
     "output_type": "stream",
     "text": [
      "0.0\n",
      "0.0\n",
      "60.0\n",
      "0.0\n",
      "0.0\n",
      "0.0\n",
      "0.0\n",
      "0.0\n",
      "0.0\n",
      "0.0\n"
     ]
    },
    {
     "name": "stderr",
     "output_type": "stream",
     "text": [
      "IMAGEIO FFMPEG_WRITER WARNING: input image is not divisible by macro_block_size=16, resizing from (700, 700) to (704, 704) to ensure video compatibility with most codecs and players. To prevent resizing, make your input image divisible by the macro_block_size or set the macro_block_size to 1 (risking incompatibility).\n"
     ]
    },
    {
     "name": "stdout",
     "output_type": "stream",
     "text": [
      "124\n"
     ]
    },
    {
     "name": "stderr",
     "output_type": "stream",
     "text": [
      "[swscaler @ 0x6407a80] Warning: data is not aligned! This can lead to a speed loss\n"
     ]
    },
    {
     "name": "stdout",
     "output_type": "stream",
     "text": [
      "30.0\n",
      "0.0\n",
      "0.0\n",
      "0.0\n",
      "0.0\n",
      "0.0\n",
      "0.0\n",
      "0.0\n",
      "0.0\n",
      "0.0\n"
     ]
    },
    {
     "name": "stderr",
     "output_type": "stream",
     "text": [
      "IMAGEIO FFMPEG_WRITER WARNING: input image is not divisible by macro_block_size=16, resizing from (700, 700) to (704, 704) to ensure video compatibility with most codecs and players. To prevent resizing, make your input image divisible by the macro_block_size or set the macro_block_size to 1 (risking incompatibility).\n"
     ]
    },
    {
     "name": "stdout",
     "output_type": "stream",
     "text": [
      "124\n"
     ]
    },
    {
     "name": "stderr",
     "output_type": "stream",
     "text": [
      "[swscaler @ 0x58e5a80] Warning: data is not aligned! This can lead to a speed loss\n"
     ]
    },
    {
     "name": "stdout",
     "output_type": "stream",
     "text": [
      "30.0\n",
      "0.0\n",
      "60.0\n",
      "0.0\n",
      "0.0\n",
      "60.0\n",
      "0.0\n",
      "0.0\n",
      "60.0\n",
      "0.0\n"
     ]
    },
    {
     "name": "stderr",
     "output_type": "stream",
     "text": [
      "IMAGEIO FFMPEG_WRITER WARNING: input image is not divisible by macro_block_size=16, resizing from (700, 700) to (704, 704) to ensure video compatibility with most codecs and players. To prevent resizing, make your input image divisible by the macro_block_size or set the macro_block_size to 1 (risking incompatibility).\n"
     ]
    },
    {
     "name": "stdout",
     "output_type": "stream",
     "text": [
      "124\n"
     ]
    },
    {
     "name": "stderr",
     "output_type": "stream",
     "text": [
      "[swscaler @ 0x59baa80] Warning: data is not aligned! This can lead to a speed loss\n"
     ]
    },
    {
     "name": "stdout",
     "output_type": "stream",
     "text": [
      "60.0\n",
      "0.0\n",
      "0.0\n",
      "0.0\n",
      "0.0\n",
      "0.0\n",
      "0.0\n",
      "0.0\n",
      "0.0\n",
      "0.0\n"
     ]
    },
    {
     "name": "stderr",
     "output_type": "stream",
     "text": [
      "IMAGEIO FFMPEG_WRITER WARNING: input image is not divisible by macro_block_size=16, resizing from (700, 700) to (704, 704) to ensure video compatibility with most codecs and players. To prevent resizing, make your input image divisible by the macro_block_size or set the macro_block_size to 1 (risking incompatibility).\n"
     ]
    },
    {
     "name": "stdout",
     "output_type": "stream",
     "text": [
      "124\n"
     ]
    },
    {
     "name": "stderr",
     "output_type": "stream",
     "text": [
      "[swscaler @ 0x6ef3a80] Warning: data is not aligned! This can lead to a speed loss\n"
     ]
    },
    {
     "name": "stdout",
     "output_type": "stream",
     "text": [
      "0.0\n",
      "0.0\n",
      "0.0\n",
      "0.0\n",
      "0.0\n",
      "0.0\n",
      "0.0\n",
      "0.0\n",
      "0.0\n",
      "0.0\n"
     ]
    },
    {
     "name": "stderr",
     "output_type": "stream",
     "text": [
      "IMAGEIO FFMPEG_WRITER WARNING: input image is not divisible by macro_block_size=16, resizing from (700, 700) to (704, 704) to ensure video compatibility with most codecs and players. To prevent resizing, make your input image divisible by the macro_block_size or set the macro_block_size to 1 (risking incompatibility).\n"
     ]
    },
    {
     "name": "stdout",
     "output_type": "stream",
     "text": [
      "124\n"
     ]
    },
    {
     "name": "stderr",
     "output_type": "stream",
     "text": [
      "[swscaler @ 0x592ca80] Warning: data is not aligned! This can lead to a speed loss\n"
     ]
    },
    {
     "name": "stdout",
     "output_type": "stream",
     "text": [
      "0.0\n",
      "0.0\n",
      "0.0\n",
      "0.0\n",
      "0.0\n",
      "120.0\n",
      "0.0\n",
      "0.0\n",
      "0.0\n",
      "0.0\n"
     ]
    },
    {
     "name": "stderr",
     "output_type": "stream",
     "text": [
      "IMAGEIO FFMPEG_WRITER WARNING: input image is not divisible by macro_block_size=16, resizing from (700, 700) to (704, 704) to ensure video compatibility with most codecs and players. To prevent resizing, make your input image divisible by the macro_block_size or set the macro_block_size to 1 (risking incompatibility).\n"
     ]
    },
    {
     "name": "stdout",
     "output_type": "stream",
     "text": [
      "124\n"
     ]
    },
    {
     "name": "stderr",
     "output_type": "stream",
     "text": [
      "[swscaler @ 0x58c1a80] Warning: data is not aligned! This can lead to a speed loss\n"
     ]
    },
    {
     "name": "stdout",
     "output_type": "stream",
     "text": [
      "0.0\n",
      "0.0\n",
      "0.0\n",
      "0.0\n",
      "30.0\n",
      "0.0\n",
      "0.0\n",
      "120.0\n",
      "0.0\n",
      "0.0\n"
     ]
    },
    {
     "name": "stderr",
     "output_type": "stream",
     "text": [
      "IMAGEIO FFMPEG_WRITER WARNING: input image is not divisible by macro_block_size=16, resizing from (700, 700) to (704, 704) to ensure video compatibility with most codecs and players. To prevent resizing, make your input image divisible by the macro_block_size or set the macro_block_size to 1 (risking incompatibility).\n"
     ]
    },
    {
     "name": "stdout",
     "output_type": "stream",
     "text": [
      "124\n"
     ]
    },
    {
     "name": "stderr",
     "output_type": "stream",
     "text": [
      "[swscaler @ 0x6ca5a80] Warning: data is not aligned! This can lead to a speed loss\n"
     ]
    },
    {
     "name": "stdout",
     "output_type": "stream",
     "text": [
      "120.0\n",
      "0.0\n",
      "0.0\n",
      "0.0\n",
      "0.0\n",
      "0.0\n",
      "30.0\n",
      "0.0\n",
      "30.0\n",
      "0.0\n"
     ]
    },
    {
     "name": "stderr",
     "output_type": "stream",
     "text": [
      "IMAGEIO FFMPEG_WRITER WARNING: input image is not divisible by macro_block_size=16, resizing from (700, 700) to (704, 704) to ensure video compatibility with most codecs and players. To prevent resizing, make your input image divisible by the macro_block_size or set the macro_block_size to 1 (risking incompatibility).\n"
     ]
    },
    {
     "name": "stdout",
     "output_type": "stream",
     "text": [
      "124\n"
     ]
    },
    {
     "name": "stderr",
     "output_type": "stream",
     "text": [
      "[swscaler @ 0x5f52a80] Warning: data is not aligned! This can lead to a speed loss\n"
     ]
    },
    {
     "name": "stdout",
     "output_type": "stream",
     "text": [
      "60.0\n",
      "0.0\n",
      "0.0\n",
      "0.0\n",
      "0.0\n",
      "0.0\n",
      "0.0\n",
      "0.0\n",
      "0.0\n",
      "0.0\n"
     ]
    },
    {
     "name": "stderr",
     "output_type": "stream",
     "text": [
      "IMAGEIO FFMPEG_WRITER WARNING: input image is not divisible by macro_block_size=16, resizing from (700, 700) to (704, 704) to ensure video compatibility with most codecs and players. To prevent resizing, make your input image divisible by the macro_block_size or set the macro_block_size to 1 (risking incompatibility).\n"
     ]
    },
    {
     "name": "stdout",
     "output_type": "stream",
     "text": [
      "124\n"
     ]
    },
    {
     "name": "stderr",
     "output_type": "stream",
     "text": [
      "[swscaler @ 0x6642a80] Warning: data is not aligned! This can lead to a speed loss\n"
     ]
    },
    {
     "name": "stdout",
     "output_type": "stream",
     "text": [
      "0.0\n",
      "0.0\n",
      "0.0\n",
      "0.0\n",
      "0.0\n",
      "0.0\n",
      "0.0\n",
      "0.0\n",
      "0.0\n",
      "0.0\n",
      "Evaluation Reward for episode 8500 is: 8.7\n",
      "on episode 8512, curr epsilon 0.05 (time taken so far: 0-00:29:14.0)\n",
      "     mean loss: adversary 108795.66717959428\n",
      "     mean reward: adversary 218.02989839348973, agent -116.60911312089267\n",
      "on episode 8544, curr epsilon 0.05 (time taken so far: 0-00:29:20.0)\n",
      "     mean loss: adversary 110643.29321442684\n",
      "     mean reward: adversary 141.4308582689446, agent -87.82549190678634\n",
      "on episode 8576, curr epsilon 0.05 (time taken so far: 0-00:29:26.0)\n",
      "     mean loss: adversary 107462.11138942602\n",
      "     mean reward: adversary 186.1141307012185, agent -107.76022863100575\n",
      "on episode 8608, curr epsilon 0.05 (time taken so far: 0-00:29:32.0)\n",
      "     mean loss: adversary 107566.1660096827\n",
      "     mean reward: adversary 133.70553903407207, agent -85.31010332596631\n",
      "on episode 8640, curr epsilon 0.05 (time taken so far: 0-00:29:38.0)\n",
      "     mean loss: adversary 106874.30414729798\n",
      "     mean reward: adversary 155.05438545785373, agent -89.074269145369\n",
      "on episode 8672, curr epsilon 0.05 (time taken so far: 0-00:29:43.0)\n",
      "     mean loss: adversary 105063.34907183915\n",
      "     mean reward: adversary 222.2882153885882, agent -118.63003668332226\n",
      "on episode 8704, curr epsilon 0.05 (time taken so far: 0-00:29:49.0)\n",
      "     mean loss: adversary 105026.44729143823\n",
      "     mean reward: adversary 164.22657944230113, agent -91.6566842870768\n",
      "on episode 8736, curr epsilon 0.05 (time taken so far: 0-00:29:55.0)\n",
      "     mean loss: adversary 117837.27127341539\n",
      "     mean reward: adversary 137.4110593614459, agent -84.70460213769573\n",
      "on episode 8768, curr epsilon 0.05 (time taken so far: 0-00:30:1.0)\n",
      "     mean loss: adversary 114149.49812773484\n",
      "     mean reward: adversary 165.35701366799563, agent -94.50475139056444\n",
      "on episode 8800, curr epsilon 0.05 (time taken so far: 0-00:30:7.0)\n",
      "     mean loss: adversary 114358.32398745781\n",
      "     mean reward: adversary 192.4468950284666, agent -105.12373287408329\n",
      "on episode 8832, curr epsilon 0.05 (time taken so far: 0-00:30:13.0)\n",
      "     mean loss: adversary 112715.96273660747\n",
      "     mean reward: adversary 187.848101194962, agent -117.26114039886014\n",
      "on episode 8864, curr epsilon 0.05 (time taken so far: 0-00:30:20.0)\n",
      "     mean loss: adversary 113768.5139686688\n",
      "     mean reward: adversary 182.28316578692042, agent -110.29750375619042\n",
      "on episode 8896, curr epsilon 0.05 (time taken so far: 0-00:30:26.0)\n",
      "     mean loss: adversary 111625.57922847441\n",
      "     mean reward: adversary 164.71959860100597, agent -92.91715034711929\n",
      "on episode 8928, curr epsilon 0.05 (time taken so far: 0-00:30:32.0)\n",
      "     mean loss: adversary 116237.07069273686\n",
      "     mean reward: adversary 181.09459880182226, agent -104.20090415030435\n",
      "on episode 8960, curr epsilon 0.05 (time taken so far: 0-00:30:38.0)\n",
      "     mean loss: adversary 112768.5100629717\n",
      "     mean reward: adversary 211.9911945381136, agent -113.96401538518313\n",
      "on episode 8992, curr epsilon 0.05 (time taken so far: 0-00:30:44.0)\n",
      "     mean loss: adversary 114202.82297727262\n",
      "     mean reward: adversary 156.65761448280344, agent -93.36762100242221\n"
     ]
    },
    {
     "name": "stderr",
     "output_type": "stream",
     "text": [
      "IMAGEIO FFMPEG_WRITER WARNING: input image is not divisible by macro_block_size=16, resizing from (700, 700) to (704, 704) to ensure video compatibility with most codecs and players. To prevent resizing, make your input image divisible by the macro_block_size or set the macro_block_size to 1 (risking incompatibility).\n"
     ]
    },
    {
     "name": "stdout",
     "output_type": "stream",
     "text": [
      "124\n"
     ]
    },
    {
     "name": "stderr",
     "output_type": "stream",
     "text": [
      "[swscaler @ 0x5b05a80] Warning: data is not aligned! This can lead to a speed loss\n"
     ]
    },
    {
     "name": "stdout",
     "output_type": "stream",
     "text": [
      "0.0\n",
      "0.0\n",
      "0.0\n",
      "0.0\n",
      "0.0\n",
      "0.0\n",
      "0.0\n",
      "0.0\n",
      "60.0\n",
      "0.0\n"
     ]
    },
    {
     "name": "stderr",
     "output_type": "stream",
     "text": [
      "IMAGEIO FFMPEG_WRITER WARNING: input image is not divisible by macro_block_size=16, resizing from (700, 700) to (704, 704) to ensure video compatibility with most codecs and players. To prevent resizing, make your input image divisible by the macro_block_size or set the macro_block_size to 1 (risking incompatibility).\n"
     ]
    },
    {
     "name": "stdout",
     "output_type": "stream",
     "text": [
      "124\n"
     ]
    },
    {
     "name": "stderr",
     "output_type": "stream",
     "text": [
      "[swscaler @ 0x710ea80] Warning: data is not aligned! This can lead to a speed loss\n"
     ]
    },
    {
     "name": "stdout",
     "output_type": "stream",
     "text": [
      "30.0\n",
      "0.0\n",
      "0.0\n",
      "0.0\n",
      "0.0\n",
      "0.0\n",
      "0.0\n",
      "0.0\n",
      "0.0\n",
      "0.0\n"
     ]
    },
    {
     "name": "stderr",
     "output_type": "stream",
     "text": [
      "IMAGEIO FFMPEG_WRITER WARNING: input image is not divisible by macro_block_size=16, resizing from (700, 700) to (704, 704) to ensure video compatibility with most codecs and players. To prevent resizing, make your input image divisible by the macro_block_size or set the macro_block_size to 1 (risking incompatibility).\n"
     ]
    },
    {
     "name": "stdout",
     "output_type": "stream",
     "text": [
      "124\n"
     ]
    },
    {
     "name": "stderr",
     "output_type": "stream",
     "text": [
      "[swscaler @ 0x71e2a80] Warning: data is not aligned! This can lead to a speed loss\n"
     ]
    },
    {
     "name": "stdout",
     "output_type": "stream",
     "text": [
      "0.0\n",
      "0.0\n",
      "0.0\n",
      "0.0\n",
      "90.0\n",
      "0.0\n",
      "0.0\n",
      "0.0\n",
      "0.0\n",
      "0.0\n"
     ]
    },
    {
     "name": "stderr",
     "output_type": "stream",
     "text": [
      "IMAGEIO FFMPEG_WRITER WARNING: input image is not divisible by macro_block_size=16, resizing from (700, 700) to (704, 704) to ensure video compatibility with most codecs and players. To prevent resizing, make your input image divisible by the macro_block_size or set the macro_block_size to 1 (risking incompatibility).\n"
     ]
    },
    {
     "name": "stdout",
     "output_type": "stream",
     "text": [
      "124\n"
     ]
    },
    {
     "name": "stderr",
     "output_type": "stream",
     "text": [
      "[swscaler @ 0x5a64a80] Warning: data is not aligned! This can lead to a speed loss\n"
     ]
    },
    {
     "name": "stdout",
     "output_type": "stream",
     "text": [
      "0.0\n",
      "0.0\n",
      "0.0\n",
      "0.0\n",
      "0.0\n",
      "0.0\n",
      "0.0\n",
      "60.0\n",
      "0.0\n",
      "0.0\n"
     ]
    },
    {
     "name": "stderr",
     "output_type": "stream",
     "text": [
      "IMAGEIO FFMPEG_WRITER WARNING: input image is not divisible by macro_block_size=16, resizing from (700, 700) to (704, 704) to ensure video compatibility with most codecs and players. To prevent resizing, make your input image divisible by the macro_block_size or set the macro_block_size to 1 (risking incompatibility).\n"
     ]
    },
    {
     "name": "stdout",
     "output_type": "stream",
     "text": [
      "124\n"
     ]
    },
    {
     "name": "stderr",
     "output_type": "stream",
     "text": [
      "[swscaler @ 0x6703a80] Warning: data is not aligned! This can lead to a speed loss\n"
     ]
    },
    {
     "name": "stdout",
     "output_type": "stream",
     "text": [
      "0.0\n",
      "0.0\n",
      "0.0\n",
      "0.0\n",
      "0.0\n",
      "0.0\n",
      "0.0\n",
      "60.0\n",
      "0.0\n",
      "0.0\n"
     ]
    },
    {
     "name": "stderr",
     "output_type": "stream",
     "text": [
      "IMAGEIO FFMPEG_WRITER WARNING: input image is not divisible by macro_block_size=16, resizing from (700, 700) to (704, 704) to ensure video compatibility with most codecs and players. To prevent resizing, make your input image divisible by the macro_block_size or set the macro_block_size to 1 (risking incompatibility).\n"
     ]
    },
    {
     "name": "stdout",
     "output_type": "stream",
     "text": [
      "124\n"
     ]
    },
    {
     "name": "stderr",
     "output_type": "stream",
     "text": [
      "[swscaler @ 0x7109a80] Warning: data is not aligned! This can lead to a speed loss\n"
     ]
    },
    {
     "name": "stdout",
     "output_type": "stream",
     "text": [
      "0.0\n",
      "0.0\n",
      "0.0\n",
      "0.0\n",
      "0.0\n",
      "90.0\n",
      "0.0\n",
      "0.0\n",
      "0.0\n",
      "0.0\n"
     ]
    },
    {
     "name": "stderr",
     "output_type": "stream",
     "text": [
      "IMAGEIO FFMPEG_WRITER WARNING: input image is not divisible by macro_block_size=16, resizing from (700, 700) to (704, 704) to ensure video compatibility with most codecs and players. To prevent resizing, make your input image divisible by the macro_block_size or set the macro_block_size to 1 (risking incompatibility).\n"
     ]
    },
    {
     "name": "stdout",
     "output_type": "stream",
     "text": [
      "124\n"
     ]
    },
    {
     "name": "stderr",
     "output_type": "stream",
     "text": [
      "[swscaler @ 0x6865a80] Warning: data is not aligned! This can lead to a speed loss\n"
     ]
    },
    {
     "name": "stdout",
     "output_type": "stream",
     "text": [
      "0.0\n",
      "90.0\n",
      "0.0\n",
      "0.0\n",
      "0.0\n",
      "0.0\n",
      "0.0\n",
      "0.0\n",
      "0.0\n",
      "0.0\n"
     ]
    },
    {
     "name": "stderr",
     "output_type": "stream",
     "text": [
      "IMAGEIO FFMPEG_WRITER WARNING: input image is not divisible by macro_block_size=16, resizing from (700, 700) to (704, 704) to ensure video compatibility with most codecs and players. To prevent resizing, make your input image divisible by the macro_block_size or set the macro_block_size to 1 (risking incompatibility).\n"
     ]
    },
    {
     "name": "stdout",
     "output_type": "stream",
     "text": [
      "124\n"
     ]
    },
    {
     "name": "stderr",
     "output_type": "stream",
     "text": [
      "[swscaler @ 0x72c1a80] Warning: data is not aligned! This can lead to a speed loss\n"
     ]
    },
    {
     "name": "stdout",
     "output_type": "stream",
     "text": [
      "0.0\n",
      "0.0\n",
      "0.0\n",
      "0.0\n",
      "0.0\n",
      "60.0\n",
      "0.0\n",
      "0.0\n",
      "0.0\n",
      "0.0\n"
     ]
    },
    {
     "name": "stderr",
     "output_type": "stream",
     "text": [
      "IMAGEIO FFMPEG_WRITER WARNING: input image is not divisible by macro_block_size=16, resizing from (700, 700) to (704, 704) to ensure video compatibility with most codecs and players. To prevent resizing, make your input image divisible by the macro_block_size or set the macro_block_size to 1 (risking incompatibility).\n"
     ]
    },
    {
     "name": "stdout",
     "output_type": "stream",
     "text": [
      "124\n"
     ]
    },
    {
     "name": "stderr",
     "output_type": "stream",
     "text": [
      "[swscaler @ 0x74f8a80] Warning: data is not aligned! This can lead to a speed loss\n"
     ]
    },
    {
     "name": "stdout",
     "output_type": "stream",
     "text": [
      "0.0\n",
      "0.0\n",
      "0.0\n",
      "0.0\n",
      "60.0\n",
      "0.0\n",
      "0.0\n",
      "0.0\n",
      "0.0\n",
      "30.0\n"
     ]
    },
    {
     "name": "stderr",
     "output_type": "stream",
     "text": [
      "IMAGEIO FFMPEG_WRITER WARNING: input image is not divisible by macro_block_size=16, resizing from (700, 700) to (704, 704) to ensure video compatibility with most codecs and players. To prevent resizing, make your input image divisible by the macro_block_size or set the macro_block_size to 1 (risking incompatibility).\n"
     ]
    },
    {
     "name": "stdout",
     "output_type": "stream",
     "text": [
      "124\n"
     ]
    },
    {
     "name": "stderr",
     "output_type": "stream",
     "text": [
      "[swscaler @ 0x5782a80] Warning: data is not aligned! This can lead to a speed loss\n"
     ]
    },
    {
     "name": "stdout",
     "output_type": "stream",
     "text": [
      "0.0\n",
      "0.0\n",
      "0.0\n",
      "0.0\n",
      "0.0\n",
      "0.0\n",
      "0.0\n",
      "0.0\n",
      "0.0\n",
      "0.0\n",
      "Evaluation Reward for episode 9000 is: 6.3\n",
      "on episode 9024, curr epsilon 0.05 (time taken so far: 0-00:31:3.0)\n",
      "     mean loss: adversary 111277.98080770615\n",
      "     mean reward: adversary 145.0050941637249, agent -85.81945761052917\n",
      "on episode 9056, curr epsilon 0.05 (time taken so far: 0-00:31:9.0)\n",
      "     mean loss: adversary 112599.19226291138\n",
      "     mean reward: adversary 162.3166713825179, agent -93.844215454319\n",
      "on episode 9088, curr epsilon 0.05 (time taken so far: 0-00:31:15.0)\n",
      "     mean loss: adversary 112094.62945050164\n",
      "     mean reward: adversary 204.4653888171477, agent -106.99253718586873\n",
      "on episode 9120, curr epsilon 0.05 (time taken so far: 0-00:31:20.0)\n",
      "     mean loss: adversary 110458.35014144698\n",
      "     mean reward: adversary 190.76836188183955, agent -109.93017212679993\n",
      "on episode 9152, curr epsilon 0.05 (time taken so far: 0-00:31:26.0)\n",
      "     mean loss: adversary 109660.7463862215\n",
      "     mean reward: adversary 176.19993750850497, agent -97.88077918027281\n",
      "on episode 9184, curr epsilon 0.05 (time taken so far: 0-00:31:32.0)\n",
      "     mean loss: adversary 108422.37628471406\n",
      "     mean reward: adversary 160.06686765536955, agent -91.57507901095704\n",
      "on episode 9216, curr epsilon 0.05 (time taken so far: 0-00:31:38.0)\n",
      "     mean loss: adversary 104128.39332413289\n",
      "     mean reward: adversary 191.85440253120586, agent -101.08435114395903\n",
      "on episode 9248, curr epsilon 0.05 (time taken so far: 0-00:31:44.0)\n",
      "     mean loss: adversary 102559.25160507251\n",
      "     mean reward: adversary 183.06296329669578, agent -101.84266033277338\n",
      "on episode 9280, curr epsilon 0.05 (time taken so far: 0-00:31:50.0)\n",
      "     mean loss: adversary 112802.5069912201\n",
      "     mean reward: adversary 152.7050032486991, agent -98.06553531768041\n",
      "on episode 9312, curr epsilon 0.05 (time taken so far: 0-00:31:56.0)\n",
      "     mean loss: adversary 109212.7440931391\n",
      "     mean reward: adversary 197.8518798463614, agent -109.37225844107168\n",
      "on episode 9344, curr epsilon 0.05 (time taken so far: 0-00:32:2.0)\n",
      "     mean loss: adversary 109118.25434957288\n",
      "     mean reward: adversary 189.50458893676787, agent -109.73167227869746\n",
      "on episode 9376, curr epsilon 0.05 (time taken so far: 0-00:32:8.0)\n",
      "     mean loss: adversary 108817.076019155\n",
      "     mean reward: adversary 165.35742630827133, agent -94.30736784958799\n",
      "on episode 9408, curr epsilon 0.05 (time taken so far: 0-00:32:13.0)\n",
      "     mean loss: adversary 107246.66707287682\n",
      "     mean reward: adversary 165.7874546172323, agent -95.70340256992657\n",
      "on episode 9440, curr epsilon 0.05 (time taken so far: 0-00:32:19.0)\n",
      "     mean loss: adversary 103263.95152679458\n",
      "     mean reward: adversary 129.54584663033947, agent -90.2679104320163\n",
      "on episode 9472, curr epsilon 0.05 (time taken so far: 0-00:32:25.0)\n",
      "     mean loss: adversary 104641.30706775171\n",
      "     mean reward: adversary 141.23314783769789, agent -89.93649638979896\n"
     ]
    },
    {
     "name": "stderr",
     "output_type": "stream",
     "text": [
      "IMAGEIO FFMPEG_WRITER WARNING: input image is not divisible by macro_block_size=16, resizing from (700, 700) to (704, 704) to ensure video compatibility with most codecs and players. To prevent resizing, make your input image divisible by the macro_block_size or set the macro_block_size to 1 (risking incompatibility).\n"
     ]
    },
    {
     "name": "stdout",
     "output_type": "stream",
     "text": [
      "124\n"
     ]
    },
    {
     "name": "stderr",
     "output_type": "stream",
     "text": [
      "[swscaler @ 0x7258a80] Warning: data is not aligned! This can lead to a speed loss\n"
     ]
    },
    {
     "name": "stdout",
     "output_type": "stream",
     "text": [
      "0.0\n",
      "0.0\n",
      "0.0\n",
      "0.0\n",
      "0.0\n",
      "0.0\n",
      "90.0\n",
      "60.0\n",
      "0.0\n",
      "60.0\n"
     ]
    },
    {
     "name": "stderr",
     "output_type": "stream",
     "text": [
      "IMAGEIO FFMPEG_WRITER WARNING: input image is not divisible by macro_block_size=16, resizing from (700, 700) to (704, 704) to ensure video compatibility with most codecs and players. To prevent resizing, make your input image divisible by the macro_block_size or set the macro_block_size to 1 (risking incompatibility).\n"
     ]
    },
    {
     "name": "stdout",
     "output_type": "stream",
     "text": [
      "124\n"
     ]
    },
    {
     "name": "stderr",
     "output_type": "stream",
     "text": [
      "[swscaler @ 0x6efea80] Warning: data is not aligned! This can lead to a speed loss\n"
     ]
    },
    {
     "name": "stdout",
     "output_type": "stream",
     "text": [
      "30.0\n",
      "60.0\n",
      "0.0\n",
      "0.0\n",
      "0.0\n",
      "0.0\n",
      "0.0\n",
      "0.0\n",
      "0.0\n",
      "0.0\n"
     ]
    },
    {
     "name": "stderr",
     "output_type": "stream",
     "text": [
      "IMAGEIO FFMPEG_WRITER WARNING: input image is not divisible by macro_block_size=16, resizing from (700, 700) to (704, 704) to ensure video compatibility with most codecs and players. To prevent resizing, make your input image divisible by the macro_block_size or set the macro_block_size to 1 (risking incompatibility).\n"
     ]
    },
    {
     "name": "stdout",
     "output_type": "stream",
     "text": [
      "124\n"
     ]
    },
    {
     "name": "stderr",
     "output_type": "stream",
     "text": [
      "[swscaler @ 0x6b27a80] Warning: data is not aligned! This can lead to a speed loss\n"
     ]
    },
    {
     "name": "stdout",
     "output_type": "stream",
     "text": [
      "0.0\n",
      "0.0\n",
      "0.0\n",
      "30.0\n",
      "0.0\n",
      "0.0\n",
      "0.0\n",
      "0.0\n",
      "90.0\n",
      "30.0\n"
     ]
    },
    {
     "name": "stderr",
     "output_type": "stream",
     "text": [
      "IMAGEIO FFMPEG_WRITER WARNING: input image is not divisible by macro_block_size=16, resizing from (700, 700) to (704, 704) to ensure video compatibility with most codecs and players. To prevent resizing, make your input image divisible by the macro_block_size or set the macro_block_size to 1 (risking incompatibility).\n"
     ]
    },
    {
     "name": "stdout",
     "output_type": "stream",
     "text": [
      "124\n"
     ]
    },
    {
     "name": "stderr",
     "output_type": "stream",
     "text": [
      "[swscaler @ 0x68f7a80] Warning: data is not aligned! This can lead to a speed loss\n"
     ]
    },
    {
     "name": "stdout",
     "output_type": "stream",
     "text": [
      "30.0\n",
      "0.0\n",
      "0.0\n",
      "120.0\n",
      "0.0\n",
      "0.0\n",
      "0.0\n",
      "0.0\n",
      "0.0\n",
      "0.0\n"
     ]
    },
    {
     "name": "stderr",
     "output_type": "stream",
     "text": [
      "IMAGEIO FFMPEG_WRITER WARNING: input image is not divisible by macro_block_size=16, resizing from (700, 700) to (704, 704) to ensure video compatibility with most codecs and players. To prevent resizing, make your input image divisible by the macro_block_size or set the macro_block_size to 1 (risking incompatibility).\n"
     ]
    },
    {
     "name": "stdout",
     "output_type": "stream",
     "text": [
      "124\n"
     ]
    },
    {
     "name": "stderr",
     "output_type": "stream",
     "text": [
      "[swscaler @ 0x69daa80] Warning: data is not aligned! This can lead to a speed loss\n"
     ]
    },
    {
     "name": "stdout",
     "output_type": "stream",
     "text": [
      "0.0\n",
      "0.0\n",
      "30.0\n",
      "0.0\n",
      "0.0\n",
      "0.0\n",
      "0.0\n",
      "0.0\n",
      "30.0\n",
      "0.0\n"
     ]
    },
    {
     "name": "stderr",
     "output_type": "stream",
     "text": [
      "IMAGEIO FFMPEG_WRITER WARNING: input image is not divisible by macro_block_size=16, resizing from (700, 700) to (704, 704) to ensure video compatibility with most codecs and players. To prevent resizing, make your input image divisible by the macro_block_size or set the macro_block_size to 1 (risking incompatibility).\n"
     ]
    },
    {
     "name": "stdout",
     "output_type": "stream",
     "text": [
      "124\n"
     ]
    },
    {
     "name": "stderr",
     "output_type": "stream",
     "text": [
      "[swscaler @ 0x6dada80] Warning: data is not aligned! This can lead to a speed loss\n"
     ]
    },
    {
     "name": "stdout",
     "output_type": "stream",
     "text": [
      "0.0\n",
      "0.0\n",
      "0.0\n",
      "0.0\n",
      "0.0\n",
      "0.0\n",
      "0.0\n",
      "30.0\n",
      "0.0\n",
      "0.0\n"
     ]
    },
    {
     "name": "stderr",
     "output_type": "stream",
     "text": [
      "IMAGEIO FFMPEG_WRITER WARNING: input image is not divisible by macro_block_size=16, resizing from (700, 700) to (704, 704) to ensure video compatibility with most codecs and players. To prevent resizing, make your input image divisible by the macro_block_size or set the macro_block_size to 1 (risking incompatibility).\n"
     ]
    },
    {
     "name": "stdout",
     "output_type": "stream",
     "text": [
      "124\n"
     ]
    },
    {
     "name": "stderr",
     "output_type": "stream",
     "text": [
      "[swscaler @ 0x7331a80] Warning: data is not aligned! This can lead to a speed loss\n"
     ]
    },
    {
     "name": "stdout",
     "output_type": "stream",
     "text": [
      "60.0\n",
      "0.0\n",
      "0.0\n",
      "0.0\n",
      "0.0\n",
      "60.0\n",
      "0.0\n",
      "0.0\n",
      "0.0\n",
      "0.0\n"
     ]
    },
    {
     "name": "stderr",
     "output_type": "stream",
     "text": [
      "IMAGEIO FFMPEG_WRITER WARNING: input image is not divisible by macro_block_size=16, resizing from (700, 700) to (704, 704) to ensure video compatibility with most codecs and players. To prevent resizing, make your input image divisible by the macro_block_size or set the macro_block_size to 1 (risking incompatibility).\n"
     ]
    },
    {
     "name": "stdout",
     "output_type": "stream",
     "text": [
      "124\n"
     ]
    },
    {
     "name": "stderr",
     "output_type": "stream",
     "text": [
      "[swscaler @ 0x60ada80] Warning: data is not aligned! This can lead to a speed loss\n"
     ]
    },
    {
     "name": "stdout",
     "output_type": "stream",
     "text": [
      "0.0\n",
      "60.0\n",
      "0.0\n",
      "0.0\n",
      "0.0\n",
      "30.0\n",
      "0.0\n",
      "0.0\n",
      "0.0\n",
      "0.0\n"
     ]
    },
    {
     "name": "stderr",
     "output_type": "stream",
     "text": [
      "IMAGEIO FFMPEG_WRITER WARNING: input image is not divisible by macro_block_size=16, resizing from (700, 700) to (704, 704) to ensure video compatibility with most codecs and players. To prevent resizing, make your input image divisible by the macro_block_size or set the macro_block_size to 1 (risking incompatibility).\n"
     ]
    },
    {
     "name": "stdout",
     "output_type": "stream",
     "text": [
      "124\n"
     ]
    },
    {
     "name": "stderr",
     "output_type": "stream",
     "text": [
      "[swscaler @ 0x5639a80] Warning: data is not aligned! This can lead to a speed loss\n"
     ]
    },
    {
     "name": "stdout",
     "output_type": "stream",
     "text": [
      "0.0\n",
      "0.0\n",
      "0.0\n",
      "0.0\n",
      "0.0\n",
      "0.0\n",
      "0.0\n",
      "0.0\n",
      "0.0\n",
      "0.0\n"
     ]
    },
    {
     "name": "stderr",
     "output_type": "stream",
     "text": [
      "IMAGEIO FFMPEG_WRITER WARNING: input image is not divisible by macro_block_size=16, resizing from (700, 700) to (704, 704) to ensure video compatibility with most codecs and players. To prevent resizing, make your input image divisible by the macro_block_size or set the macro_block_size to 1 (risking incompatibility).\n"
     ]
    },
    {
     "name": "stdout",
     "output_type": "stream",
     "text": [
      "124\n"
     ]
    },
    {
     "name": "stderr",
     "output_type": "stream",
     "text": [
      "[swscaler @ 0x6e6aa80] Warning: data is not aligned! This can lead to a speed loss\n"
     ]
    },
    {
     "name": "stdout",
     "output_type": "stream",
     "text": [
      "0.0\n",
      "0.0\n",
      "0.0\n",
      "0.0\n",
      "0.0\n",
      "30.0\n",
      "0.0\n",
      "0.0\n",
      "60.0\n",
      "0.0\n",
      "Evaluation Reward for episode 9500 is: 9.9\n",
      "on episode 9504, curr epsilon 0.05 (time taken so far: 0-00:32:43.0)\n",
      "     mean loss: adversary 101865.89771631075\n",
      "     mean reward: adversary 171.85853139893374, agent -98.37157858214563\n",
      "on episode 9536, curr epsilon 0.05 (time taken so far: 0-00:32:49.0)\n",
      "     mean loss: adversary 108966.16221627983\n",
      "     mean reward: adversary 157.52075880810358, agent -91.39810597225471\n",
      "on episode 9568, curr epsilon 0.05 (time taken so far: 0-00:32:54.0)\n",
      "     mean loss: adversary 106793.92270767203\n",
      "     mean reward: adversary 200.75074893574777, agent -108.06452475649866\n",
      "on episode 9600, curr epsilon 0.05 (time taken so far: 0-00:33:0.0)\n",
      "     mean loss: adversary 105822.1379597345\n",
      "     mean reward: adversary 90.75534924242962, agent -66.8304466458987\n",
      "on episode 9632, curr epsilon 0.05 (time taken so far: 0-00:33:6.0)\n",
      "     mean loss: adversary 105220.78897330648\n",
      "     mean reward: adversary 172.62236505405568, agent -99.49370816715245\n",
      "on episode 9664, curr epsilon 0.05 (time taken so far: 0-00:33:12.0)\n",
      "     mean loss: adversary 103133.62955439475\n",
      "     mean reward: adversary 186.48592512334181, agent -98.85924521009557\n",
      "on episode 9696, curr epsilon 0.05 (time taken so far: 0-00:33:17.0)\n",
      "     mean loss: adversary 104177.7382030043\n",
      "     mean reward: adversary 133.17800444551227, agent -84.96705527531734\n",
      "on episode 9728, curr epsilon 0.05 (time taken so far: 0-00:33:23.0)\n",
      "     mean loss: adversary 104507.59724968989\n",
      "     mean reward: adversary 166.1576077525933, agent -93.98948290644631\n",
      "on episode 9760, curr epsilon 0.05 (time taken so far: 0-00:33:29.0)\n",
      "     mean loss: adversary 104424.21351994813\n",
      "     mean reward: adversary 204.17214931676978, agent -106.47844312473613\n",
      "on episode 9792, curr epsilon 0.05 (time taken so far: 0-00:33:35.0)\n",
      "     mean loss: adversary 103183.8472142577\n",
      "     mean reward: adversary 169.83886234474545, agent -96.49425982947454\n",
      "on episode 9824, curr epsilon 0.05 (time taken so far: 0-00:33:41.0)\n",
      "     mean loss: adversary 100505.69822464818\n",
      "     mean reward: adversary 211.55943236781945, agent -106.74548843842874\n",
      "on episode 9856, curr epsilon 0.05 (time taken so far: 0-00:33:46.0)\n",
      "     mean loss: adversary 100464.79300483805\n",
      "     mean reward: adversary 226.7594430254322, agent -122.81450803132532\n",
      "on episode 9888, curr epsilon 0.05 (time taken so far: 0-00:33:53.0)\n",
      "     mean loss: adversary 99089.22671822051\n",
      "     mean reward: adversary 147.46470110648525, agent -88.69747943092865\n",
      "on episode 9920, curr epsilon 0.05 (time taken so far: 0-00:33:59.0)\n",
      "     mean loss: adversary 99826.94348353677\n",
      "     mean reward: adversary 176.4472808277552, agent -100.8286123150579\n",
      "on episode 9952, curr epsilon 0.05 (time taken so far: 0-00:34:4.0)\n",
      "     mean loss: adversary 98448.65195891561\n",
      "     mean reward: adversary 194.8088775282895, agent -109.1541191579796\n",
      "on episode 9984, curr epsilon 0.05 (time taken so far: 0-00:34:10.0)\n",
      "     mean loss: adversary 97378.33382514432\n",
      "     mean reward: adversary 209.40284799546257, agent -109.8520733185147\n"
     ]
    },
    {
     "name": "stderr",
     "output_type": "stream",
     "text": [
      "IMAGEIO FFMPEG_WRITER WARNING: input image is not divisible by macro_block_size=16, resizing from (700, 700) to (704, 704) to ensure video compatibility with most codecs and players. To prevent resizing, make your input image divisible by the macro_block_size or set the macro_block_size to 1 (risking incompatibility).\n"
     ]
    },
    {
     "name": "stdout",
     "output_type": "stream",
     "text": [
      "124\n"
     ]
    },
    {
     "name": "stderr",
     "output_type": "stream",
     "text": [
      "[swscaler @ 0x5fc4a80] Warning: data is not aligned! This can lead to a speed loss\n"
     ]
    },
    {
     "name": "stdout",
     "output_type": "stream",
     "text": [
      "0.0\n",
      "0.0\n",
      "0.0\n",
      "0.0\n",
      "60.0\n",
      "60.0\n",
      "0.0\n",
      "0.0\n",
      "30.0\n",
      "0.0\n"
     ]
    },
    {
     "name": "stderr",
     "output_type": "stream",
     "text": [
      "IMAGEIO FFMPEG_WRITER WARNING: input image is not divisible by macro_block_size=16, resizing from (700, 700) to (704, 704) to ensure video compatibility with most codecs and players. To prevent resizing, make your input image divisible by the macro_block_size or set the macro_block_size to 1 (risking incompatibility).\n"
     ]
    },
    {
     "name": "stdout",
     "output_type": "stream",
     "text": [
      "124\n"
     ]
    },
    {
     "name": "stderr",
     "output_type": "stream",
     "text": [
      "[swscaler @ 0x716fa80] Warning: data is not aligned! This can lead to a speed loss\n"
     ]
    },
    {
     "name": "stdout",
     "output_type": "stream",
     "text": [
      "0.0\n",
      "0.0\n",
      "0.0\n",
      "0.0\n",
      "0.0\n",
      "0.0\n",
      "0.0\n",
      "0.0\n",
      "60.0\n",
      "0.0\n"
     ]
    },
    {
     "name": "stderr",
     "output_type": "stream",
     "text": [
      "IMAGEIO FFMPEG_WRITER WARNING: input image is not divisible by macro_block_size=16, resizing from (700, 700) to (704, 704) to ensure video compatibility with most codecs and players. To prevent resizing, make your input image divisible by the macro_block_size or set the macro_block_size to 1 (risking incompatibility).\n"
     ]
    },
    {
     "name": "stdout",
     "output_type": "stream",
     "text": [
      "124\n"
     ]
    },
    {
     "name": "stderr",
     "output_type": "stream",
     "text": [
      "[swscaler @ 0x6de1a80] Warning: data is not aligned! This can lead to a speed loss\n"
     ]
    },
    {
     "name": "stdout",
     "output_type": "stream",
     "text": [
      "0.0\n",
      "0.0\n",
      "0.0\n",
      "0.0\n",
      "30.0\n",
      "30.0\n",
      "0.0\n",
      "0.0\n",
      "30.0\n",
      "0.0\n"
     ]
    },
    {
     "name": "stderr",
     "output_type": "stream",
     "text": [
      "IMAGEIO FFMPEG_WRITER WARNING: input image is not divisible by macro_block_size=16, resizing from (700, 700) to (704, 704) to ensure video compatibility with most codecs and players. To prevent resizing, make your input image divisible by the macro_block_size or set the macro_block_size to 1 (risking incompatibility).\n"
     ]
    },
    {
     "name": "stdout",
     "output_type": "stream",
     "text": [
      "124\n"
     ]
    },
    {
     "name": "stderr",
     "output_type": "stream",
     "text": [
      "[swscaler @ 0x62bba80] Warning: data is not aligned! This can lead to a speed loss\n"
     ]
    },
    {
     "name": "stdout",
     "output_type": "stream",
     "text": [
      "0.0\n",
      "60.0\n",
      "0.0\n",
      "0.0\n",
      "0.0\n",
      "0.0\n",
      "0.0\n",
      "30.0\n",
      "0.0\n",
      "0.0\n"
     ]
    },
    {
     "name": "stderr",
     "output_type": "stream",
     "text": [
      "IMAGEIO FFMPEG_WRITER WARNING: input image is not divisible by macro_block_size=16, resizing from (700, 700) to (704, 704) to ensure video compatibility with most codecs and players. To prevent resizing, make your input image divisible by the macro_block_size or set the macro_block_size to 1 (risking incompatibility).\n"
     ]
    },
    {
     "name": "stdout",
     "output_type": "stream",
     "text": [
      "124\n"
     ]
    },
    {
     "name": "stderr",
     "output_type": "stream",
     "text": [
      "[swscaler @ 0x67a7a80] Warning: data is not aligned! This can lead to a speed loss\n"
     ]
    },
    {
     "name": "stdout",
     "output_type": "stream",
     "text": [
      "60.0\n",
      "0.0\n",
      "0.0\n",
      "0.0\n",
      "0.0\n",
      "0.0\n",
      "0.0\n",
      "0.0\n",
      "0.0\n",
      "0.0\n"
     ]
    },
    {
     "name": "stderr",
     "output_type": "stream",
     "text": [
      "IMAGEIO FFMPEG_WRITER WARNING: input image is not divisible by macro_block_size=16, resizing from (700, 700) to (704, 704) to ensure video compatibility with most codecs and players. To prevent resizing, make your input image divisible by the macro_block_size or set the macro_block_size to 1 (risking incompatibility).\n"
     ]
    },
    {
     "name": "stdout",
     "output_type": "stream",
     "text": [
      "124\n"
     ]
    },
    {
     "name": "stderr",
     "output_type": "stream",
     "text": [
      "[swscaler @ 0x658ca80] Warning: data is not aligned! This can lead to a speed loss\n"
     ]
    },
    {
     "name": "stdout",
     "output_type": "stream",
     "text": [
      "0.0\n",
      "0.0\n",
      "0.0\n",
      "0.0\n",
      "0.0\n",
      "0.0\n",
      "60.0\n",
      "0.0\n",
      "0.0\n",
      "0.0\n"
     ]
    },
    {
     "name": "stderr",
     "output_type": "stream",
     "text": [
      "IMAGEIO FFMPEG_WRITER WARNING: input image is not divisible by macro_block_size=16, resizing from (700, 700) to (704, 704) to ensure video compatibility with most codecs and players. To prevent resizing, make your input image divisible by the macro_block_size or set the macro_block_size to 1 (risking incompatibility).\n"
     ]
    },
    {
     "name": "stdout",
     "output_type": "stream",
     "text": [
      "124\n"
     ]
    },
    {
     "name": "stderr",
     "output_type": "stream",
     "text": [
      "[swscaler @ 0x6869a80] Warning: data is not aligned! This can lead to a speed loss\n"
     ]
    },
    {
     "name": "stdout",
     "output_type": "stream",
     "text": [
      "0.0\n",
      "0.0\n",
      "0.0\n",
      "0.0\n",
      "0.0\n",
      "0.0\n",
      "0.0\n",
      "0.0\n",
      "0.0\n",
      "60.0\n"
     ]
    },
    {
     "name": "stderr",
     "output_type": "stream",
     "text": [
      "IMAGEIO FFMPEG_WRITER WARNING: input image is not divisible by macro_block_size=16, resizing from (700, 700) to (704, 704) to ensure video compatibility with most codecs and players. To prevent resizing, make your input image divisible by the macro_block_size or set the macro_block_size to 1 (risking incompatibility).\n"
     ]
    },
    {
     "name": "stdout",
     "output_type": "stream",
     "text": [
      "124\n"
     ]
    },
    {
     "name": "stderr",
     "output_type": "stream",
     "text": [
      "[swscaler @ 0x6eeda80] Warning: data is not aligned! This can lead to a speed loss\n"
     ]
    },
    {
     "name": "stdout",
     "output_type": "stream",
     "text": [
      "0.0\n",
      "0.0\n",
      "0.0\n",
      "0.0\n",
      "60.0\n",
      "0.0\n",
      "0.0\n",
      "0.0\n",
      "90.0\n",
      "0.0\n"
     ]
    },
    {
     "name": "stderr",
     "output_type": "stream",
     "text": [
      "IMAGEIO FFMPEG_WRITER WARNING: input image is not divisible by macro_block_size=16, resizing from (700, 700) to (704, 704) to ensure video compatibility with most codecs and players. To prevent resizing, make your input image divisible by the macro_block_size or set the macro_block_size to 1 (risking incompatibility).\n"
     ]
    },
    {
     "name": "stdout",
     "output_type": "stream",
     "text": [
      "124\n"
     ]
    },
    {
     "name": "stderr",
     "output_type": "stream",
     "text": [
      "[swscaler @ 0x6168a80] Warning: data is not aligned! This can lead to a speed loss\n"
     ]
    },
    {
     "name": "stdout",
     "output_type": "stream",
     "text": [
      "0.0\n",
      "0.0\n",
      "0.0\n",
      "0.0\n",
      "0.0\n",
      "0.0\n",
      "0.0\n",
      "0.0\n",
      "0.0\n",
      "0.0\n"
     ]
    },
    {
     "name": "stderr",
     "output_type": "stream",
     "text": [
      "IMAGEIO FFMPEG_WRITER WARNING: input image is not divisible by macro_block_size=16, resizing from (700, 700) to (704, 704) to ensure video compatibility with most codecs and players. To prevent resizing, make your input image divisible by the macro_block_size or set the macro_block_size to 1 (risking incompatibility).\n"
     ]
    },
    {
     "name": "stdout",
     "output_type": "stream",
     "text": [
      "124\n"
     ]
    },
    {
     "name": "stderr",
     "output_type": "stream",
     "text": [
      "[swscaler @ 0x5d1aa80] Warning: data is not aligned! This can lead to a speed loss\n"
     ]
    },
    {
     "name": "stdout",
     "output_type": "stream",
     "text": [
      "0.0\n",
      "0.0\n",
      "0.0\n",
      "0.0\n",
      "0.0\n",
      "0.0\n",
      "0.0\n",
      "0.0\n",
      "0.0\n",
      "0.0\n",
      "Evaluation Reward for episode 10000 is: 7.2\n",
      "on episode 10016, curr epsilon 0.05 (time taken so far: 0-00:34:28.0)\n",
      "     mean loss: adversary 100546.33703799313\n",
      "     mean reward: adversary 251.0644900573425, agent -130.1946069477978\n",
      "on episode 10048, curr epsilon 0.05 (time taken so far: 0-00:34:34.0)\n",
      "     mean loss: adversary 107879.4458305323\n",
      "     mean reward: adversary 198.4473441949699, agent -108.85439416248856\n",
      "on episode 10080, curr epsilon 0.05 (time taken so far: 0-00:34:40.0)\n",
      "     mean loss: adversary 104556.6853517067\n",
      "     mean reward: adversary 184.19533320734112, agent -111.01522971090462\n",
      "on episode 10112, curr epsilon 0.05 (time taken so far: 0-00:34:46.0)\n",
      "     mean loss: adversary 104229.9414077863\n",
      "     mean reward: adversary 224.6632162502796, agent -116.20138935766425\n",
      "on episode 10144, curr epsilon 0.05 (time taken so far: 0-00:34:51.0)\n",
      "     mean loss: adversary 114312.80832605259\n",
      "     mean reward: adversary 184.16450346996305, agent -106.12574746182136\n",
      "on episode 10176, curr epsilon 0.05 (time taken so far: 0-00:34:57.0)\n",
      "     mean loss: adversary 119234.20903192455\n",
      "     mean reward: adversary 185.20587134923244, agent -99.64978364022998\n",
      "on episode 10208, curr epsilon 0.05 (time taken so far: 0-00:35:3.0)\n",
      "     mean loss: adversary 119590.99637440873\n",
      "     mean reward: adversary 183.97515531893188, agent -103.96903695966432\n",
      "on episode 10240, curr epsilon 0.05 (time taken so far: 0-00:35:9.0)\n",
      "     mean loss: adversary 129565.62192056124\n",
      "     mean reward: adversary 163.6810350180046, agent -97.4985708177768\n",
      "on episode 10272, curr epsilon 0.05 (time taken so far: 0-00:35:15.0)\n",
      "     mean loss: adversary 136132.04954200657\n",
      "     mean reward: adversary 165.59874036602466, agent -100.2296131670241\n",
      "on episode 10304, curr epsilon 0.05 (time taken so far: 0-00:35:20.0)\n",
      "     mean loss: adversary 135128.66806614757\n",
      "     mean reward: adversary 194.3648451598387, agent -108.72284954428902\n",
      "on episode 10336, curr epsilon 0.05 (time taken so far: 0-00:35:26.0)\n",
      "     mean loss: adversary 132761.8598054264\n",
      "     mean reward: adversary 158.29463345093495, agent -96.89701026186506\n",
      "on episode 10368, curr epsilon 0.05 (time taken so far: 0-00:35:32.0)\n",
      "     mean loss: adversary 132457.7229703716\n",
      "     mean reward: adversary 161.3459431476253, agent -96.18357646137302\n",
      "on episode 10400, curr epsilon 0.05 (time taken so far: 0-00:35:38.0)\n",
      "     mean loss: adversary 136739.10328806727\n",
      "     mean reward: adversary 138.36487520406146, agent -85.58701240193804\n",
      "on episode 10432, curr epsilon 0.05 (time taken so far: 0-00:35:44.0)\n",
      "     mean loss: adversary 135833.35414416052\n",
      "     mean reward: adversary 187.7862700763511, agent -98.93957424698844\n",
      "on episode 10464, curr epsilon 0.05 (time taken so far: 0-00:35:50.0)\n",
      "     mean loss: adversary 132699.7200042667\n",
      "     mean reward: adversary 168.23639379409664, agent -96.53013469175664\n",
      "on episode 10496, curr epsilon 0.05 (time taken so far: 0-00:35:56.0)\n",
      "     mean loss: adversary 130677.28227608486\n",
      "     mean reward: adversary 193.53999002412024, agent -110.5642308615842\n"
     ]
    },
    {
     "name": "stderr",
     "output_type": "stream",
     "text": [
      "IMAGEIO FFMPEG_WRITER WARNING: input image is not divisible by macro_block_size=16, resizing from (700, 700) to (704, 704) to ensure video compatibility with most codecs and players. To prevent resizing, make your input image divisible by the macro_block_size or set the macro_block_size to 1 (risking incompatibility).\n"
     ]
    },
    {
     "name": "stdout",
     "output_type": "stream",
     "text": [
      "124\n"
     ]
    },
    {
     "name": "stderr",
     "output_type": "stream",
     "text": [
      "[swscaler @ 0x6fa9a80] Warning: data is not aligned! This can lead to a speed loss\n"
     ]
    },
    {
     "name": "stdout",
     "output_type": "stream",
     "text": [
      "0.0\n",
      "90.0\n",
      "30.0\n",
      "120.0\n",
      "120.0\n",
      "480.0\n",
      "0.0\n",
      "180.0\n",
      "90.0\n",
      "210.0\n"
     ]
    },
    {
     "name": "stderr",
     "output_type": "stream",
     "text": [
      "IMAGEIO FFMPEG_WRITER WARNING: input image is not divisible by macro_block_size=16, resizing from (700, 700) to (704, 704) to ensure video compatibility with most codecs and players. To prevent resizing, make your input image divisible by the macro_block_size or set the macro_block_size to 1 (risking incompatibility).\n"
     ]
    },
    {
     "name": "stdout",
     "output_type": "stream",
     "text": [
      "124\n"
     ]
    },
    {
     "name": "stderr",
     "output_type": "stream",
     "text": [
      "[swscaler @ 0x720da80] Warning: data is not aligned! This can lead to a speed loss\n"
     ]
    },
    {
     "name": "stdout",
     "output_type": "stream",
     "text": [
      "120.0\n",
      "150.0\n",
      "180.0\n",
      "150.0\n",
      "0.0\n",
      "300.0\n",
      "0.0\n",
      "60.0\n",
      "90.0\n",
      "0.0\n"
     ]
    },
    {
     "name": "stderr",
     "output_type": "stream",
     "text": [
      "IMAGEIO FFMPEG_WRITER WARNING: input image is not divisible by macro_block_size=16, resizing from (700, 700) to (704, 704) to ensure video compatibility with most codecs and players. To prevent resizing, make your input image divisible by the macro_block_size or set the macro_block_size to 1 (risking incompatibility).\n"
     ]
    },
    {
     "name": "stdout",
     "output_type": "stream",
     "text": [
      "124\n"
     ]
    },
    {
     "name": "stderr",
     "output_type": "stream",
     "text": [
      "[swscaler @ 0x63a3a80] Warning: data is not aligned! This can lead to a speed loss\n"
     ]
    },
    {
     "name": "stdout",
     "output_type": "stream",
     "text": [
      "150.0\n",
      "30.0\n",
      "420.0\n",
      "330.0\n",
      "180.0\n",
      "60.0\n",
      "30.0\n",
      "270.0\n",
      "330.0\n",
      "90.0\n"
     ]
    },
    {
     "name": "stderr",
     "output_type": "stream",
     "text": [
      "IMAGEIO FFMPEG_WRITER WARNING: input image is not divisible by macro_block_size=16, resizing from (700, 700) to (704, 704) to ensure video compatibility with most codecs and players. To prevent resizing, make your input image divisible by the macro_block_size or set the macro_block_size to 1 (risking incompatibility).\n"
     ]
    },
    {
     "name": "stdout",
     "output_type": "stream",
     "text": [
      "124\n"
     ]
    },
    {
     "name": "stderr",
     "output_type": "stream",
     "text": [
      "[swscaler @ 0x63bca80] Warning: data is not aligned! This can lead to a speed loss\n"
     ]
    },
    {
     "name": "stdout",
     "output_type": "stream",
     "text": [
      "90.0\n",
      "180.0\n",
      "60.0\n",
      "450.0\n",
      "30.0\n",
      "120.0\n",
      "30.0\n",
      "120.0\n",
      "270.0\n",
      "270.0\n"
     ]
    },
    {
     "name": "stderr",
     "output_type": "stream",
     "text": [
      "IMAGEIO FFMPEG_WRITER WARNING: input image is not divisible by macro_block_size=16, resizing from (700, 700) to (704, 704) to ensure video compatibility with most codecs and players. To prevent resizing, make your input image divisible by the macro_block_size or set the macro_block_size to 1 (risking incompatibility).\n"
     ]
    },
    {
     "name": "stdout",
     "output_type": "stream",
     "text": [
      "124\n"
     ]
    },
    {
     "name": "stderr",
     "output_type": "stream",
     "text": [
      "[swscaler @ 0x6d0ca80] Warning: data is not aligned! This can lead to a speed loss\n"
     ]
    },
    {
     "name": "stdout",
     "output_type": "stream",
     "text": [
      "150.0\n",
      "60.0\n",
      "210.0\n",
      "60.0\n",
      "120.0\n",
      "60.0\n",
      "0.0\n",
      "0.0\n",
      "150.0\n",
      "210.0\n"
     ]
    },
    {
     "name": "stderr",
     "output_type": "stream",
     "text": [
      "IMAGEIO FFMPEG_WRITER WARNING: input image is not divisible by macro_block_size=16, resizing from (700, 700) to (704, 704) to ensure video compatibility with most codecs and players. To prevent resizing, make your input image divisible by the macro_block_size or set the macro_block_size to 1 (risking incompatibility).\n"
     ]
    },
    {
     "name": "stdout",
     "output_type": "stream",
     "text": [
      "124\n"
     ]
    },
    {
     "name": "stderr",
     "output_type": "stream",
     "text": [
      "[swscaler @ 0x71fda80] Warning: data is not aligned! This can lead to a speed loss\n"
     ]
    },
    {
     "name": "stdout",
     "output_type": "stream",
     "text": [
      "0.0\n",
      "270.0\n",
      "120.0\n",
      "420.0\n",
      "0.0\n",
      "0.0\n",
      "330.0\n",
      "210.0\n",
      "150.0\n",
      "90.0\n"
     ]
    },
    {
     "name": "stderr",
     "output_type": "stream",
     "text": [
      "IMAGEIO FFMPEG_WRITER WARNING: input image is not divisible by macro_block_size=16, resizing from (700, 700) to (704, 704) to ensure video compatibility with most codecs and players. To prevent resizing, make your input image divisible by the macro_block_size or set the macro_block_size to 1 (risking incompatibility).\n"
     ]
    },
    {
     "name": "stdout",
     "output_type": "stream",
     "text": [
      "124\n"
     ]
    },
    {
     "name": "stderr",
     "output_type": "stream",
     "text": [
      "[swscaler @ 0x568ea80] Warning: data is not aligned! This can lead to a speed loss\n"
     ]
    },
    {
     "name": "stdout",
     "output_type": "stream",
     "text": [
      "240.0\n",
      "150.0\n",
      "150.0\n",
      "150.0\n",
      "210.0\n",
      "120.0\n",
      "240.0\n",
      "300.0\n",
      "90.0\n",
      "150.0\n"
     ]
    },
    {
     "name": "stderr",
     "output_type": "stream",
     "text": [
      "IMAGEIO FFMPEG_WRITER WARNING: input image is not divisible by macro_block_size=16, resizing from (700, 700) to (704, 704) to ensure video compatibility with most codecs and players. To prevent resizing, make your input image divisible by the macro_block_size or set the macro_block_size to 1 (risking incompatibility).\n"
     ]
    },
    {
     "name": "stdout",
     "output_type": "stream",
     "text": [
      "124\n"
     ]
    },
    {
     "name": "stderr",
     "output_type": "stream",
     "text": [
      "[swscaler @ 0x58f3a80] Warning: data is not aligned! This can lead to a speed loss\n"
     ]
    },
    {
     "name": "stdout",
     "output_type": "stream",
     "text": [
      "30.0\n",
      "60.0\n",
      "30.0\n",
      "150.0\n",
      "450.0\n",
      "60.0\n",
      "480.0\n",
      "0.0\n",
      "240.0\n",
      "0.0\n"
     ]
    },
    {
     "name": "stderr",
     "output_type": "stream",
     "text": [
      "IMAGEIO FFMPEG_WRITER WARNING: input image is not divisible by macro_block_size=16, resizing from (700, 700) to (704, 704) to ensure video compatibility with most codecs and players. To prevent resizing, make your input image divisible by the macro_block_size or set the macro_block_size to 1 (risking incompatibility).\n"
     ]
    },
    {
     "name": "stdout",
     "output_type": "stream",
     "text": [
      "124\n"
     ]
    },
    {
     "name": "stderr",
     "output_type": "stream",
     "text": [
      "[swscaler @ 0x65dfa80] Warning: data is not aligned! This can lead to a speed loss\n"
     ]
    },
    {
     "name": "stdout",
     "output_type": "stream",
     "text": [
      "0.0\n",
      "0.0\n",
      "30.0\n",
      "150.0\n",
      "30.0\n",
      "0.0\n",
      "540.0\n",
      "270.0\n",
      "90.0\n",
      "570.0\n"
     ]
    },
    {
     "name": "stderr",
     "output_type": "stream",
     "text": [
      "IMAGEIO FFMPEG_WRITER WARNING: input image is not divisible by macro_block_size=16, resizing from (700, 700) to (704, 704) to ensure video compatibility with most codecs and players. To prevent resizing, make your input image divisible by the macro_block_size or set the macro_block_size to 1 (risking incompatibility).\n"
     ]
    },
    {
     "name": "stdout",
     "output_type": "stream",
     "text": [
      "124\n"
     ]
    },
    {
     "name": "stderr",
     "output_type": "stream",
     "text": [
      "[swscaler @ 0x57f8a80] Warning: data is not aligned! This can lead to a speed loss\n"
     ]
    },
    {
     "name": "stdout",
     "output_type": "stream",
     "text": [
      "30.0\n",
      "180.0\n",
      "30.0\n",
      "270.0\n",
      "150.0\n",
      "120.0\n",
      "150.0\n",
      "60.0\n",
      "60.0\n",
      "300.0\n",
      "Evaluation Reward for episode 10500 is: 148.2\n",
      "on episode 10528, curr epsilon 0.05 (time taken so far: 0-00:36:14.0)\n",
      "     mean loss: adversary 127614.55538750679\n",
      "     mean reward: adversary 171.51801878181246, agent -99.07550836889358\n",
      "on episode 10560, curr epsilon 0.05 (time taken so far: 0-00:36:20.0)\n",
      "     mean loss: adversary 126701.57885844138\n",
      "     mean reward: adversary 205.89849995569276, agent -110.5560518769658\n",
      "on episode 10592, curr epsilon 0.05 (time taken so far: 0-00:36:26.0)\n",
      "     mean loss: adversary 129630.33731808519\n",
      "     mean reward: adversary 190.31258826623105, agent -99.8629230123048\n",
      "on episode 10624, curr epsilon 0.05 (time taken so far: 0-00:36:32.0)\n",
      "     mean loss: adversary 136593.1758706934\n",
      "     mean reward: adversary 156.58839385978763, agent -96.95333585953713\n",
      "on episode 10656, curr epsilon 0.05 (time taken so far: 0-00:36:38.0)\n",
      "     mean loss: adversary 132067.44666978982\n",
      "     mean reward: adversary 156.9127713138684, agent -89.21446294884892\n",
      "on episode 10688, curr epsilon 0.05 (time taken so far: 0-00:36:43.0)\n",
      "     mean loss: adversary 132281.12468187386\n",
      "     mean reward: adversary 171.17302475046375, agent -99.36539715909637\n",
      "on episode 10720, curr epsilon 0.05 (time taken so far: 0-00:36:49.0)\n",
      "     mean loss: adversary 129990.29379955036\n",
      "     mean reward: adversary 196.96231310652786, agent -113.22935674134769\n",
      "on episode 10752, curr epsilon 0.05 (time taken so far: 0-00:36:55.0)\n",
      "     mean loss: adversary 137260.71387522836\n",
      "     mean reward: adversary 170.78038380249959, agent -98.76113620830391\n",
      "on episode 10784, curr epsilon 0.05 (time taken so far: 0-00:37:1.0)\n",
      "     mean loss: adversary 145058.09592778963\n",
      "     mean reward: adversary 116.20927530997406, agent -75.99722484962298\n",
      "on episode 10816, curr epsilon 0.05 (time taken so far: 0-00:37:7.0)\n",
      "     mean loss: adversary 146346.27416237842\n",
      "     mean reward: adversary 154.21405994708334, agent -92.27022036525759\n",
      "on episode 10848, curr epsilon 0.05 (time taken so far: 0-00:37:13.0)\n",
      "     mean loss: adversary 153987.51433414122\n",
      "     mean reward: adversary 132.30808437881265, agent -85.80753062542254\n",
      "on episode 10880, curr epsilon 0.05 (time taken so far: 0-00:37:18.0)\n",
      "     mean loss: adversary 151666.44888010976\n",
      "     mean reward: adversary 193.40978048410474, agent -105.73937279439811\n",
      "on episode 10912, curr epsilon 0.05 (time taken so far: 0-00:37:24.0)\n",
      "     mean loss: adversary 145826.33184338346\n",
      "     mean reward: adversary 197.3278811833571, agent -113.0963132264593\n",
      "on episode 10944, curr epsilon 0.05 (time taken so far: 0-00:37:30.0)\n",
      "     mean loss: adversary 150700.48266150226\n",
      "     mean reward: adversary 202.04709967069036, agent -108.27066576881658\n",
      "on episode 10976, curr epsilon 0.05 (time taken so far: 0-00:37:36.0)\n",
      "     mean loss: adversary 154364.88372027094\n",
      "     mean reward: adversary 151.07149925860008, agent -89.61998793128366\n"
     ]
    },
    {
     "name": "stderr",
     "output_type": "stream",
     "text": [
      "IMAGEIO FFMPEG_WRITER WARNING: input image is not divisible by macro_block_size=16, resizing from (700, 700) to (704, 704) to ensure video compatibility with most codecs and players. To prevent resizing, make your input image divisible by the macro_block_size or set the macro_block_size to 1 (risking incompatibility).\n"
     ]
    },
    {
     "name": "stdout",
     "output_type": "stream",
     "text": [
      "124\n"
     ]
    },
    {
     "name": "stderr",
     "output_type": "stream",
     "text": [
      "[swscaler @ 0x58a0a80] Warning: data is not aligned! This can lead to a speed loss\n"
     ]
    },
    {
     "name": "stdout",
     "output_type": "stream",
     "text": [
      "60.0\n",
      "0.0\n",
      "0.0\n",
      "0.0\n",
      "0.0\n",
      "0.0\n",
      "0.0\n",
      "0.0\n",
      "30.0\n",
      "30.0\n"
     ]
    },
    {
     "name": "stderr",
     "output_type": "stream",
     "text": [
      "IMAGEIO FFMPEG_WRITER WARNING: input image is not divisible by macro_block_size=16, resizing from (700, 700) to (704, 704) to ensure video compatibility with most codecs and players. To prevent resizing, make your input image divisible by the macro_block_size or set the macro_block_size to 1 (risking incompatibility).\n"
     ]
    },
    {
     "name": "stdout",
     "output_type": "stream",
     "text": [
      "124\n"
     ]
    },
    {
     "name": "stderr",
     "output_type": "stream",
     "text": [
      "[swscaler @ 0x6b12a80] Warning: data is not aligned! This can lead to a speed loss\n"
     ]
    },
    {
     "name": "stdout",
     "output_type": "stream",
     "text": [
      "0.0\n",
      "0.0\n",
      "0.0\n",
      "0.0\n",
      "90.0\n",
      "0.0\n",
      "0.0\n",
      "30.0\n",
      "0.0\n",
      "0.0\n"
     ]
    },
    {
     "name": "stderr",
     "output_type": "stream",
     "text": [
      "IMAGEIO FFMPEG_WRITER WARNING: input image is not divisible by macro_block_size=16, resizing from (700, 700) to (704, 704) to ensure video compatibility with most codecs and players. To prevent resizing, make your input image divisible by the macro_block_size or set the macro_block_size to 1 (risking incompatibility).\n"
     ]
    },
    {
     "name": "stdout",
     "output_type": "stream",
     "text": [
      "124\n"
     ]
    },
    {
     "name": "stderr",
     "output_type": "stream",
     "text": [
      "[swscaler @ 0x58a9a80] Warning: data is not aligned! This can lead to a speed loss\n"
     ]
    },
    {
     "name": "stdout",
     "output_type": "stream",
     "text": [
      "0.0\n",
      "0.0\n",
      "90.0\n",
      "0.0\n",
      "90.0\n",
      "30.0\n",
      "0.0\n",
      "0.0\n",
      "0.0\n",
      "0.0\n"
     ]
    },
    {
     "name": "stderr",
     "output_type": "stream",
     "text": [
      "IMAGEIO FFMPEG_WRITER WARNING: input image is not divisible by macro_block_size=16, resizing from (700, 700) to (704, 704) to ensure video compatibility with most codecs and players. To prevent resizing, make your input image divisible by the macro_block_size or set the macro_block_size to 1 (risking incompatibility).\n"
     ]
    },
    {
     "name": "stdout",
     "output_type": "stream",
     "text": [
      "124\n"
     ]
    },
    {
     "name": "stderr",
     "output_type": "stream",
     "text": [
      "[swscaler @ 0x6fbaa80] Warning: data is not aligned! This can lead to a speed loss\n"
     ]
    },
    {
     "name": "stdout",
     "output_type": "stream",
     "text": [
      "0.0\n",
      "0.0\n",
      "0.0\n",
      "30.0\n",
      "0.0\n",
      "0.0\n",
      "0.0\n",
      "0.0\n",
      "0.0\n",
      "60.0\n"
     ]
    },
    {
     "name": "stderr",
     "output_type": "stream",
     "text": [
      "IMAGEIO FFMPEG_WRITER WARNING: input image is not divisible by macro_block_size=16, resizing from (700, 700) to (704, 704) to ensure video compatibility with most codecs and players. To prevent resizing, make your input image divisible by the macro_block_size or set the macro_block_size to 1 (risking incompatibility).\n"
     ]
    },
    {
     "name": "stdout",
     "output_type": "stream",
     "text": [
      "124\n"
     ]
    },
    {
     "name": "stderr",
     "output_type": "stream",
     "text": [
      "[swscaler @ 0x6646a80] Warning: data is not aligned! This can lead to a speed loss\n"
     ]
    },
    {
     "name": "stdout",
     "output_type": "stream",
     "text": [
      "120.0\n",
      "0.0\n",
      "0.0\n",
      "30.0\n",
      "120.0\n",
      "0.0\n",
      "60.0\n",
      "0.0\n",
      "0.0\n",
      "30.0\n"
     ]
    },
    {
     "name": "stderr",
     "output_type": "stream",
     "text": [
      "IMAGEIO FFMPEG_WRITER WARNING: input image is not divisible by macro_block_size=16, resizing from (700, 700) to (704, 704) to ensure video compatibility with most codecs and players. To prevent resizing, make your input image divisible by the macro_block_size or set the macro_block_size to 1 (risking incompatibility).\n"
     ]
    },
    {
     "name": "stdout",
     "output_type": "stream",
     "text": [
      "124\n"
     ]
    },
    {
     "name": "stderr",
     "output_type": "stream",
     "text": [
      "[swscaler @ 0x69d1a80] Warning: data is not aligned! This can lead to a speed loss\n"
     ]
    },
    {
     "name": "stdout",
     "output_type": "stream",
     "text": [
      "0.0\n",
      "60.0\n",
      "0.0\n",
      "0.0\n",
      "0.0\n",
      "0.0\n",
      "120.0\n",
      "0.0\n",
      "0.0\n",
      "60.0\n"
     ]
    },
    {
     "name": "stderr",
     "output_type": "stream",
     "text": [
      "IMAGEIO FFMPEG_WRITER WARNING: input image is not divisible by macro_block_size=16, resizing from (700, 700) to (704, 704) to ensure video compatibility with most codecs and players. To prevent resizing, make your input image divisible by the macro_block_size or set the macro_block_size to 1 (risking incompatibility).\n"
     ]
    },
    {
     "name": "stdout",
     "output_type": "stream",
     "text": [
      "124\n"
     ]
    },
    {
     "name": "stderr",
     "output_type": "stream",
     "text": [
      "[swscaler @ 0x6f65a80] Warning: data is not aligned! This can lead to a speed loss\n"
     ]
    },
    {
     "name": "stdout",
     "output_type": "stream",
     "text": [
      "0.0\n",
      "120.0\n",
      "0.0\n",
      "0.0\n",
      "0.0\n",
      "0.0\n",
      "0.0\n",
      "0.0\n",
      "0.0\n",
      "0.0\n"
     ]
    },
    {
     "name": "stderr",
     "output_type": "stream",
     "text": [
      "IMAGEIO FFMPEG_WRITER WARNING: input image is not divisible by macro_block_size=16, resizing from (700, 700) to (704, 704) to ensure video compatibility with most codecs and players. To prevent resizing, make your input image divisible by the macro_block_size or set the macro_block_size to 1 (risking incompatibility).\n"
     ]
    },
    {
     "name": "stdout",
     "output_type": "stream",
     "text": [
      "124\n"
     ]
    },
    {
     "name": "stderr",
     "output_type": "stream",
     "text": [
      "[swscaler @ 0x5a49a80] Warning: data is not aligned! This can lead to a speed loss\n"
     ]
    },
    {
     "name": "stdout",
     "output_type": "stream",
     "text": [
      "0.0\n",
      "30.0\n",
      "60.0\n",
      "60.0\n",
      "0.0\n",
      "0.0\n",
      "0.0\n",
      "0.0\n",
      "60.0\n",
      "210.0\n"
     ]
    },
    {
     "name": "stderr",
     "output_type": "stream",
     "text": [
      "IMAGEIO FFMPEG_WRITER WARNING: input image is not divisible by macro_block_size=16, resizing from (700, 700) to (704, 704) to ensure video compatibility with most codecs and players. To prevent resizing, make your input image divisible by the macro_block_size or set the macro_block_size to 1 (risking incompatibility).\n"
     ]
    },
    {
     "name": "stdout",
     "output_type": "stream",
     "text": [
      "124\n"
     ]
    },
    {
     "name": "stderr",
     "output_type": "stream",
     "text": [
      "[swscaler @ 0x6392a80] Warning: data is not aligned! This can lead to a speed loss\n"
     ]
    },
    {
     "name": "stdout",
     "output_type": "stream",
     "text": [
      "90.0\n",
      "0.0\n",
      "0.0\n",
      "0.0\n",
      "0.0\n",
      "30.0\n",
      "0.0\n",
      "0.0\n",
      "60.0\n",
      "0.0\n"
     ]
    },
    {
     "name": "stderr",
     "output_type": "stream",
     "text": [
      "IMAGEIO FFMPEG_WRITER WARNING: input image is not divisible by macro_block_size=16, resizing from (700, 700) to (704, 704) to ensure video compatibility with most codecs and players. To prevent resizing, make your input image divisible by the macro_block_size or set the macro_block_size to 1 (risking incompatibility).\n"
     ]
    },
    {
     "name": "stdout",
     "output_type": "stream",
     "text": [
      "124\n"
     ]
    },
    {
     "name": "stderr",
     "output_type": "stream",
     "text": [
      "[swscaler @ 0x5b4ca80] Warning: data is not aligned! This can lead to a speed loss\n"
     ]
    },
    {
     "name": "stdout",
     "output_type": "stream",
     "text": [
      "60.0\n",
      "0.0\n",
      "0.0\n",
      "30.0\n",
      "0.0\n",
      "60.0\n",
      "0.0\n",
      "30.0\n",
      "0.0\n",
      "0.0\n",
      "Evaluation Reward for episode 11000 is: 20.4\n",
      "on episode 11008, curr epsilon 0.05 (time taken so far: 0-00:37:53.0)\n",
      "     mean loss: adversary 158274.79986076563\n",
      "     mean reward: adversary 198.28113027824836, agent -104.49085576634326\n",
      "on episode 11040, curr epsilon 0.05 (time taken so far: 0-00:37:59.0)\n",
      "     mean loss: adversary 156673.71303259625\n",
      "     mean reward: adversary 118.33286004001059, agent -80.46494301321322\n",
      "on episode 11072, curr epsilon 0.05 (time taken so far: 0-00:38:5.0)\n",
      "     mean loss: adversary 157259.89013739693\n",
      "     mean reward: adversary 142.84564448508524, agent -84.79409194898552\n",
      "on episode 11104, curr epsilon 0.05 (time taken so far: 0-00:38:11.0)\n",
      "     mean loss: adversary 153518.29783597053\n",
      "     mean reward: adversary 149.06254820701034, agent -87.99767561430083\n",
      "on episode 11136, curr epsilon 0.05 (time taken so far: 0-00:38:17.0)\n",
      "     mean loss: adversary 153828.2243939839\n",
      "     mean reward: adversary 183.07666496994466, agent -102.37105604922729\n",
      "on episode 11168, curr epsilon 0.05 (time taken so far: 0-00:38:22.0)\n",
      "     mean loss: adversary 149915.60381491465\n",
      "     mean reward: adversary 167.9918027649225, agent -93.15734231439477\n",
      "on episode 11200, curr epsilon 0.05 (time taken so far: 0-00:38:28.0)\n",
      "     mean loss: adversary 154161.04616433752\n",
      "     mean reward: adversary 191.48945748346955, agent -102.77567037679603\n",
      "on episode 11232, curr epsilon 0.05 (time taken so far: 0-00:38:34.0)\n",
      "     mean loss: adversary 151601.13938875607\n",
      "     mean reward: adversary 185.40536484141086, agent -105.75418260911144\n",
      "on episode 11264, curr epsilon 0.05 (time taken so far: 0-00:38:39.0)\n",
      "     mean loss: adversary 154612.73453602527\n",
      "     mean reward: adversary 206.94697615213178, agent -107.99534169796163\n",
      "on episode 11296, curr epsilon 0.05 (time taken so far: 0-00:38:45.0)\n",
      "     mean loss: adversary 159201.68065412235\n",
      "     mean reward: adversary 176.2033611488629, agent -105.60962395974371\n",
      "on episode 11328, curr epsilon 0.05 (time taken so far: 0-00:38:51.0)\n",
      "     mean loss: adversary 157695.46892102482\n",
      "     mean reward: adversary 141.34365454298123, agent -85.7805654963908\n",
      "on episode 11360, curr epsilon 0.05 (time taken so far: 0-00:38:57.0)\n",
      "     mean loss: adversary 153297.89492603415\n",
      "     mean reward: adversary 174.53103041265427, agent -104.04198474662681\n",
      "on episode 11392, curr epsilon 0.05 (time taken so far: 0-00:39:3.0)\n",
      "     mean loss: adversary 156081.23061921724\n",
      "     mean reward: adversary 205.97184937043696, agent -113.43913273466768\n",
      "on episode 11424, curr epsilon 0.05 (time taken so far: 0-00:39:9.0)\n",
      "     mean loss: adversary 157241.49956979736\n",
      "     mean reward: adversary 222.63804962549662, agent -124.1045016396334\n",
      "on episode 11456, curr epsilon 0.05 (time taken so far: 0-00:39:15.0)\n",
      "     mean loss: adversary 151891.60677586694\n",
      "     mean reward: adversary 198.31117684564873, agent -111.12027517155148\n",
      "on episode 11488, curr epsilon 0.05 (time taken so far: 0-00:39:21.0)\n",
      "     mean loss: adversary 156384.12584251526\n",
      "     mean reward: adversary 161.0975795846957, agent -96.18615074568001\n"
     ]
    },
    {
     "name": "stderr",
     "output_type": "stream",
     "text": [
      "IMAGEIO FFMPEG_WRITER WARNING: input image is not divisible by macro_block_size=16, resizing from (700, 700) to (704, 704) to ensure video compatibility with most codecs and players. To prevent resizing, make your input image divisible by the macro_block_size or set the macro_block_size to 1 (risking incompatibility).\n"
     ]
    },
    {
     "name": "stdout",
     "output_type": "stream",
     "text": [
      "124\n"
     ]
    },
    {
     "name": "stderr",
     "output_type": "stream",
     "text": [
      "[swscaler @ 0x5858a80] Warning: data is not aligned! This can lead to a speed loss\n"
     ]
    },
    {
     "name": "stdout",
     "output_type": "stream",
     "text": [
      "450.0\n",
      "540.0\n",
      "330.0\n",
      "150.0\n",
      "240.0\n",
      "270.0\n",
      "450.0\n",
      "480.0\n",
      "780.0\n",
      "420.0\n"
     ]
    },
    {
     "name": "stderr",
     "output_type": "stream",
     "text": [
      "IMAGEIO FFMPEG_WRITER WARNING: input image is not divisible by macro_block_size=16, resizing from (700, 700) to (704, 704) to ensure video compatibility with most codecs and players. To prevent resizing, make your input image divisible by the macro_block_size or set the macro_block_size to 1 (risking incompatibility).\n"
     ]
    },
    {
     "name": "stdout",
     "output_type": "stream",
     "text": [
      "124\n"
     ]
    },
    {
     "name": "stderr",
     "output_type": "stream",
     "text": [
      "[swscaler @ 0x635ca80] Warning: data is not aligned! This can lead to a speed loss\n"
     ]
    },
    {
     "name": "stdout",
     "output_type": "stream",
     "text": [
      "300.0\n",
      "660.0\n",
      "960.0\n",
      "210.0\n",
      "840.0\n",
      "210.0\n",
      "570.0\n",
      "360.0\n",
      "210.0\n",
      "330.0\n"
     ]
    },
    {
     "name": "stderr",
     "output_type": "stream",
     "text": [
      "IMAGEIO FFMPEG_WRITER WARNING: input image is not divisible by macro_block_size=16, resizing from (700, 700) to (704, 704) to ensure video compatibility with most codecs and players. To prevent resizing, make your input image divisible by the macro_block_size or set the macro_block_size to 1 (risking incompatibility).\n"
     ]
    },
    {
     "name": "stdout",
     "output_type": "stream",
     "text": [
      "124\n"
     ]
    },
    {
     "name": "stderr",
     "output_type": "stream",
     "text": [
      "[swscaler @ 0x576ba80] Warning: data is not aligned! This can lead to a speed loss\n"
     ]
    },
    {
     "name": "stdout",
     "output_type": "stream",
     "text": [
      "450.0\n",
      "540.0\n",
      "510.0\n",
      "270.0\n",
      "240.0\n",
      "750.0\n",
      "690.0\n",
      "330.0\n",
      "690.0\n",
      "390.0\n"
     ]
    },
    {
     "name": "stderr",
     "output_type": "stream",
     "text": [
      "IMAGEIO FFMPEG_WRITER WARNING: input image is not divisible by macro_block_size=16, resizing from (700, 700) to (704, 704) to ensure video compatibility with most codecs and players. To prevent resizing, make your input image divisible by the macro_block_size or set the macro_block_size to 1 (risking incompatibility).\n"
     ]
    },
    {
     "name": "stdout",
     "output_type": "stream",
     "text": [
      "124\n"
     ]
    },
    {
     "name": "stderr",
     "output_type": "stream",
     "text": [
      "[swscaler @ 0x5fdaa80] Warning: data is not aligned! This can lead to a speed loss\n"
     ]
    },
    {
     "name": "stdout",
     "output_type": "stream",
     "text": [
      "180.0\n",
      "840.0\n",
      "90.0\n",
      "1110.0\n",
      "300.0\n",
      "690.0\n",
      "360.0\n",
      "780.0\n",
      "630.0\n",
      "900.0\n"
     ]
    },
    {
     "name": "stderr",
     "output_type": "stream",
     "text": [
      "IMAGEIO FFMPEG_WRITER WARNING: input image is not divisible by macro_block_size=16, resizing from (700, 700) to (704, 704) to ensure video compatibility with most codecs and players. To prevent resizing, make your input image divisible by the macro_block_size or set the macro_block_size to 1 (risking incompatibility).\n"
     ]
    },
    {
     "name": "stdout",
     "output_type": "stream",
     "text": [
      "124\n"
     ]
    },
    {
     "name": "stderr",
     "output_type": "stream",
     "text": [
      "[swscaler @ 0x58d1a80] Warning: data is not aligned! This can lead to a speed loss\n"
     ]
    },
    {
     "name": "stdout",
     "output_type": "stream",
     "text": [
      "510.0\n",
      "810.0\n",
      "330.0\n",
      "690.0\n",
      "480.0\n",
      "870.0\n",
      "630.0\n",
      "660.0\n",
      "630.0\n",
      "150.0\n"
     ]
    },
    {
     "name": "stderr",
     "output_type": "stream",
     "text": [
      "IMAGEIO FFMPEG_WRITER WARNING: input image is not divisible by macro_block_size=16, resizing from (700, 700) to (704, 704) to ensure video compatibility with most codecs and players. To prevent resizing, make your input image divisible by the macro_block_size or set the macro_block_size to 1 (risking incompatibility).\n"
     ]
    },
    {
     "name": "stdout",
     "output_type": "stream",
     "text": [
      "124\n"
     ]
    },
    {
     "name": "stderr",
     "output_type": "stream",
     "text": [
      "[swscaler @ 0x6c70a80] Warning: data is not aligned! This can lead to a speed loss\n"
     ]
    },
    {
     "name": "stdout",
     "output_type": "stream",
     "text": [
      "600.0\n",
      "540.0\n",
      "540.0\n",
      "630.0\n",
      "720.0\n",
      "300.0\n",
      "630.0\n",
      "720.0\n",
      "660.0\n",
      "330.0\n"
     ]
    },
    {
     "name": "stderr",
     "output_type": "stream",
     "text": [
      "IMAGEIO FFMPEG_WRITER WARNING: input image is not divisible by macro_block_size=16, resizing from (700, 700) to (704, 704) to ensure video compatibility with most codecs and players. To prevent resizing, make your input image divisible by the macro_block_size or set the macro_block_size to 1 (risking incompatibility).\n"
     ]
    },
    {
     "name": "stdout",
     "output_type": "stream",
     "text": [
      "124\n"
     ]
    },
    {
     "name": "stderr",
     "output_type": "stream",
     "text": [
      "[swscaler @ 0x72d3a80] Warning: data is not aligned! This can lead to a speed loss\n"
     ]
    },
    {
     "name": "stdout",
     "output_type": "stream",
     "text": [
      "420.0\n",
      "540.0\n",
      "780.0\n",
      "570.0\n",
      "960.0\n",
      "270.0\n",
      "300.0\n",
      "420.0\n",
      "600.0\n",
      "270.0\n"
     ]
    },
    {
     "name": "stderr",
     "output_type": "stream",
     "text": [
      "IMAGEIO FFMPEG_WRITER WARNING: input image is not divisible by macro_block_size=16, resizing from (700, 700) to (704, 704) to ensure video compatibility with most codecs and players. To prevent resizing, make your input image divisible by the macro_block_size or set the macro_block_size to 1 (risking incompatibility).\n"
     ]
    },
    {
     "name": "stdout",
     "output_type": "stream",
     "text": [
      "124\n"
     ]
    },
    {
     "name": "stderr",
     "output_type": "stream",
     "text": [
      "[swscaler @ 0x5b7da80] Warning: data is not aligned! This can lead to a speed loss\n"
     ]
    },
    {
     "name": "stdout",
     "output_type": "stream",
     "text": [
      "870.0\n",
      "330.0\n",
      "300.0\n",
      "510.0\n",
      "600.0\n",
      "270.0\n",
      "570.0\n",
      "480.0\n",
      "540.0\n",
      "300.0\n"
     ]
    },
    {
     "name": "stderr",
     "output_type": "stream",
     "text": [
      "IMAGEIO FFMPEG_WRITER WARNING: input image is not divisible by macro_block_size=16, resizing from (700, 700) to (704, 704) to ensure video compatibility with most codecs and players. To prevent resizing, make your input image divisible by the macro_block_size or set the macro_block_size to 1 (risking incompatibility).\n"
     ]
    },
    {
     "name": "stdout",
     "output_type": "stream",
     "text": [
      "124\n"
     ]
    },
    {
     "name": "stderr",
     "output_type": "stream",
     "text": [
      "[swscaler @ 0x5bfda80] Warning: data is not aligned! This can lead to a speed loss\n"
     ]
    },
    {
     "name": "stdout",
     "output_type": "stream",
     "text": [
      "540.0\n",
      "810.0\n",
      "270.0\n",
      "360.0\n",
      "480.0\n",
      "390.0\n",
      "480.0\n",
      "570.0\n",
      "630.0\n",
      "480.0\n"
     ]
    },
    {
     "name": "stderr",
     "output_type": "stream",
     "text": [
      "IMAGEIO FFMPEG_WRITER WARNING: input image is not divisible by macro_block_size=16, resizing from (700, 700) to (704, 704) to ensure video compatibility with most codecs and players. To prevent resizing, make your input image divisible by the macro_block_size or set the macro_block_size to 1 (risking incompatibility).\n"
     ]
    },
    {
     "name": "stdout",
     "output_type": "stream",
     "text": [
      "124\n"
     ]
    },
    {
     "name": "stderr",
     "output_type": "stream",
     "text": [
      "[swscaler @ 0x57cca80] Warning: data is not aligned! This can lead to a speed loss\n"
     ]
    },
    {
     "name": "stdout",
     "output_type": "stream",
     "text": [
      "360.0\n",
      "690.0\n",
      "600.0\n",
      "450.0\n",
      "600.0\n",
      "210.0\n",
      "630.0\n",
      "270.0\n",
      "390.0\n",
      "420.0\n",
      "Evaluation Reward for episode 11500 is: 504.6\n",
      "on episode 11520, curr epsilon 0.05 (time taken so far: 0-00:39:38.0)\n",
      "     mean loss: adversary 154515.60173457215\n",
      "     mean reward: adversary 164.868347999829, agent -92.80811351233153\n",
      "on episode 11552, curr epsilon 0.05 (time taken so far: 0-00:39:44.0)\n",
      "     mean loss: adversary 151385.98910069722\n",
      "     mean reward: adversary 189.7999828970414, agent -105.46149903292822\n",
      "on episode 11584, curr epsilon 0.05 (time taken so far: 0-00:39:50.0)\n",
      "     mean loss: adversary 156095.0360005144\n",
      "     mean reward: adversary 204.67298305146332, agent -107.47497549013491\n",
      "on episode 11616, curr epsilon 0.05 (time taken so far: 0-00:39:56.0)\n",
      "     mean loss: adversary 156253.37086789752\n",
      "     mean reward: adversary 167.6017997989295, agent -98.50724942357066\n",
      "on episode 11648, curr epsilon 0.05 (time taken so far: 0-00:40:2.0)\n",
      "     mean loss: adversary 153590.96402906522\n",
      "     mean reward: adversary 201.28452027023275, agent -116.94792727229253\n",
      "on episode 11680, curr epsilon 0.05 (time taken so far: 0-00:40:8.0)\n",
      "     mean loss: adversary 153847.3979655778\n",
      "     mean reward: adversary 196.5622477671439, agent -109.9735231015823\n",
      "on episode 11712, curr epsilon 0.05 (time taken so far: 0-00:40:14.0)\n",
      "     mean loss: adversary 150867.70106995298\n",
      "     mean reward: adversary 151.53291875236616, agent -94.0536633861756\n",
      "on episode 11744, curr epsilon 0.05 (time taken so far: 0-00:40:21.0)\n",
      "     mean loss: adversary 150115.39860862173\n",
      "     mean reward: adversary 186.98514897043316, agent -103.20790376324605\n",
      "on episode 11776, curr epsilon 0.05 (time taken so far: 0-00:40:27.0)\n",
      "     mean loss: adversary 148881.36591959663\n",
      "     mean reward: adversary 170.4490959988343, agent -96.51089406241341\n",
      "on episode 11808, curr epsilon 0.05 (time taken so far: 0-00:40:32.0)\n",
      "     mean loss: adversary 147136.9809120517\n",
      "     mean reward: adversary 176.68933029963674, agent -105.23201159526337\n",
      "on episode 11840, curr epsilon 0.05 (time taken so far: 0-00:40:38.0)\n",
      "     mean loss: adversary 142465.93365963077\n",
      "     mean reward: adversary 136.80369200408194, agent -85.74983681890392\n",
      "on episode 11872, curr epsilon 0.05 (time taken so far: 0-00:40:44.0)\n",
      "     mean loss: adversary 141392.4273510067\n",
      "     mean reward: adversary 175.54049376639838, agent -96.60304922498055\n",
      "on episode 11904, curr epsilon 0.05 (time taken so far: 0-00:40:50.0)\n",
      "     mean loss: adversary 139399.6155893337\n",
      "     mean reward: adversary 159.7561490967462, agent -91.98003760244166\n",
      "on episode 11936, curr epsilon 0.05 (time taken so far: 0-00:40:56.0)\n",
      "     mean loss: adversary 138937.84994988044\n",
      "     mean reward: adversary 203.03053047980188, agent -110.36076664336032\n",
      "on episode 11968, curr epsilon 0.05 (time taken so far: 0-00:41:1.0)\n",
      "     mean loss: adversary 140321.7238771777\n",
      "     mean reward: adversary 184.23998158319148, agent -105.00592772238615\n",
      "on episode 12000, curr epsilon 0.05 (time taken so far: 0-00:41:7.0)\n",
      "     mean loss: adversary 135168.8691836278\n",
      "     mean reward: adversary 135.8574365564252, agent -82.03894165625685\n"
     ]
    },
    {
     "name": "stderr",
     "output_type": "stream",
     "text": [
      "IMAGEIO FFMPEG_WRITER WARNING: input image is not divisible by macro_block_size=16, resizing from (700, 700) to (704, 704) to ensure video compatibility with most codecs and players. To prevent resizing, make your input image divisible by the macro_block_size or set the macro_block_size to 1 (risking incompatibility).\n"
     ]
    },
    {
     "name": "stdout",
     "output_type": "stream",
     "text": [
      "124\n"
     ]
    },
    {
     "name": "stderr",
     "output_type": "stream",
     "text": [
      "[swscaler @ 0x616ca80] Warning: data is not aligned! This can lead to a speed loss\n"
     ]
    },
    {
     "name": "stdout",
     "output_type": "stream",
     "text": [
      "0.0\n",
      "0.0\n",
      "0.0\n",
      "0.0\n",
      "0.0\n",
      "0.0\n",
      "30.0\n",
      "0.0\n",
      "0.0\n",
      "60.0\n"
     ]
    },
    {
     "name": "stderr",
     "output_type": "stream",
     "text": [
      "IMAGEIO FFMPEG_WRITER WARNING: input image is not divisible by macro_block_size=16, resizing from (700, 700) to (704, 704) to ensure video compatibility with most codecs and players. To prevent resizing, make your input image divisible by the macro_block_size or set the macro_block_size to 1 (risking incompatibility).\n"
     ]
    },
    {
     "name": "stdout",
     "output_type": "stream",
     "text": [
      "124\n"
     ]
    },
    {
     "name": "stderr",
     "output_type": "stream",
     "text": [
      "[swscaler @ 0x5c79a80] Warning: data is not aligned! This can lead to a speed loss\n"
     ]
    },
    {
     "name": "stdout",
     "output_type": "stream",
     "text": [
      "0.0\n",
      "0.0\n",
      "0.0\n",
      "0.0\n",
      "60.0\n",
      "0.0\n",
      "0.0\n",
      "0.0\n",
      "0.0\n",
      "0.0\n"
     ]
    },
    {
     "name": "stderr",
     "output_type": "stream",
     "text": [
      "IMAGEIO FFMPEG_WRITER WARNING: input image is not divisible by macro_block_size=16, resizing from (700, 700) to (704, 704) to ensure video compatibility with most codecs and players. To prevent resizing, make your input image divisible by the macro_block_size or set the macro_block_size to 1 (risking incompatibility).\n"
     ]
    },
    {
     "name": "stdout",
     "output_type": "stream",
     "text": [
      "124\n"
     ]
    },
    {
     "name": "stderr",
     "output_type": "stream",
     "text": [
      "[swscaler @ 0x6697a80] Warning: data is not aligned! This can lead to a speed loss\n"
     ]
    },
    {
     "name": "stdout",
     "output_type": "stream",
     "text": [
      "0.0\n",
      "0.0\n",
      "0.0\n",
      "0.0\n",
      "0.0\n",
      "0.0\n",
      "0.0\n",
      "30.0\n",
      "0.0\n",
      "0.0\n"
     ]
    },
    {
     "name": "stderr",
     "output_type": "stream",
     "text": [
      "IMAGEIO FFMPEG_WRITER WARNING: input image is not divisible by macro_block_size=16, resizing from (700, 700) to (704, 704) to ensure video compatibility with most codecs and players. To prevent resizing, make your input image divisible by the macro_block_size or set the macro_block_size to 1 (risking incompatibility).\n"
     ]
    },
    {
     "name": "stdout",
     "output_type": "stream",
     "text": [
      "124\n"
     ]
    },
    {
     "name": "stderr",
     "output_type": "stream",
     "text": [
      "[swscaler @ 0x6619a80] Warning: data is not aligned! This can lead to a speed loss\n"
     ]
    },
    {
     "name": "stdout",
     "output_type": "stream",
     "text": [
      "60.0\n",
      "0.0\n",
      "0.0\n",
      "0.0\n",
      "0.0\n",
      "0.0\n",
      "0.0\n",
      "0.0\n",
      "0.0\n",
      "0.0\n"
     ]
    },
    {
     "name": "stderr",
     "output_type": "stream",
     "text": [
      "IMAGEIO FFMPEG_WRITER WARNING: input image is not divisible by macro_block_size=16, resizing from (700, 700) to (704, 704) to ensure video compatibility with most codecs and players. To prevent resizing, make your input image divisible by the macro_block_size or set the macro_block_size to 1 (risking incompatibility).\n"
     ]
    },
    {
     "name": "stdout",
     "output_type": "stream",
     "text": [
      "124\n"
     ]
    },
    {
     "name": "stderr",
     "output_type": "stream",
     "text": [
      "[swscaler @ 0x66d2a80] Warning: data is not aligned! This can lead to a speed loss\n"
     ]
    },
    {
     "name": "stdout",
     "output_type": "stream",
     "text": [
      "0.0\n",
      "0.0\n",
      "30.0\n",
      "0.0\n",
      "0.0\n",
      "0.0\n",
      "0.0\n",
      "60.0\n",
      "60.0\n",
      "0.0\n"
     ]
    },
    {
     "name": "stderr",
     "output_type": "stream",
     "text": [
      "IMAGEIO FFMPEG_WRITER WARNING: input image is not divisible by macro_block_size=16, resizing from (700, 700) to (704, 704) to ensure video compatibility with most codecs and players. To prevent resizing, make your input image divisible by the macro_block_size or set the macro_block_size to 1 (risking incompatibility).\n"
     ]
    },
    {
     "name": "stdout",
     "output_type": "stream",
     "text": [
      "124\n"
     ]
    },
    {
     "name": "stderr",
     "output_type": "stream",
     "text": [
      "[swscaler @ 0x70f6a80] Warning: data is not aligned! This can lead to a speed loss\n"
     ]
    },
    {
     "name": "stdout",
     "output_type": "stream",
     "text": [
      "0.0\n",
      "120.0\n",
      "0.0\n",
      "0.0\n",
      "0.0\n",
      "0.0\n",
      "0.0\n",
      "0.0\n",
      "0.0\n",
      "0.0\n"
     ]
    },
    {
     "name": "stderr",
     "output_type": "stream",
     "text": [
      "IMAGEIO FFMPEG_WRITER WARNING: input image is not divisible by macro_block_size=16, resizing from (700, 700) to (704, 704) to ensure video compatibility with most codecs and players. To prevent resizing, make your input image divisible by the macro_block_size or set the macro_block_size to 1 (risking incompatibility).\n"
     ]
    },
    {
     "name": "stdout",
     "output_type": "stream",
     "text": [
      "124\n"
     ]
    },
    {
     "name": "stderr",
     "output_type": "stream",
     "text": [
      "[swscaler @ 0x5652a80] Warning: data is not aligned! This can lead to a speed loss\n"
     ]
    },
    {
     "name": "stdout",
     "output_type": "stream",
     "text": [
      "0.0\n",
      "90.0\n",
      "90.0\n",
      "0.0\n",
      "0.0\n",
      "0.0\n",
      "0.0\n",
      "0.0\n",
      "60.0\n",
      "0.0\n"
     ]
    },
    {
     "name": "stderr",
     "output_type": "stream",
     "text": [
      "IMAGEIO FFMPEG_WRITER WARNING: input image is not divisible by macro_block_size=16, resizing from (700, 700) to (704, 704) to ensure video compatibility with most codecs and players. To prevent resizing, make your input image divisible by the macro_block_size or set the macro_block_size to 1 (risking incompatibility).\n"
     ]
    },
    {
     "name": "stdout",
     "output_type": "stream",
     "text": [
      "124\n"
     ]
    },
    {
     "name": "stderr",
     "output_type": "stream",
     "text": [
      "[swscaler @ 0x5a7ea80] Warning: data is not aligned! This can lead to a speed loss\n"
     ]
    },
    {
     "name": "stdout",
     "output_type": "stream",
     "text": [
      "0.0\n",
      "0.0\n",
      "0.0\n",
      "0.0\n",
      "0.0\n",
      "60.0\n",
      "0.0\n",
      "0.0\n",
      "0.0\n",
      "0.0\n"
     ]
    },
    {
     "name": "stderr",
     "output_type": "stream",
     "text": [
      "IMAGEIO FFMPEG_WRITER WARNING: input image is not divisible by macro_block_size=16, resizing from (700, 700) to (704, 704) to ensure video compatibility with most codecs and players. To prevent resizing, make your input image divisible by the macro_block_size or set the macro_block_size to 1 (risking incompatibility).\n"
     ]
    },
    {
     "name": "stdout",
     "output_type": "stream",
     "text": [
      "124\n"
     ]
    },
    {
     "name": "stderr",
     "output_type": "stream",
     "text": [
      "[swscaler @ 0x6f61a80] Warning: data is not aligned! This can lead to a speed loss\n"
     ]
    },
    {
     "name": "stdout",
     "output_type": "stream",
     "text": [
      "0.0\n",
      "60.0\n",
      "0.0\n",
      "0.0\n",
      "30.0\n",
      "0.0\n",
      "0.0\n",
      "0.0\n",
      "0.0\n",
      "0.0\n"
     ]
    },
    {
     "name": "stderr",
     "output_type": "stream",
     "text": [
      "IMAGEIO FFMPEG_WRITER WARNING: input image is not divisible by macro_block_size=16, resizing from (700, 700) to (704, 704) to ensure video compatibility with most codecs and players. To prevent resizing, make your input image divisible by the macro_block_size or set the macro_block_size to 1 (risking incompatibility).\n"
     ]
    },
    {
     "name": "stdout",
     "output_type": "stream",
     "text": [
      "124\n"
     ]
    },
    {
     "name": "stderr",
     "output_type": "stream",
     "text": [
      "[swscaler @ 0x624ea80] Warning: data is not aligned! This can lead to a speed loss\n"
     ]
    },
    {
     "name": "stdout",
     "output_type": "stream",
     "text": [
      "30.0\n",
      "0.0\n",
      "0.0\n",
      "60.0\n",
      "60.0\n",
      "0.0\n",
      "0.0\n",
      "0.0\n",
      "0.0\n",
      "0.0\n",
      "Evaluation Reward for episode 12000 is: 10.5\n",
      "on episode 12032, curr epsilon 0.05 (time taken so far: 0-00:41:25.0)\n",
      "     mean loss: adversary 142143.24795015494\n",
      "     mean reward: adversary 167.9920614237643, agent -105.18129065695614\n",
      "on episode 12064, curr epsilon 0.05 (time taken so far: 0-00:41:30.0)\n",
      "     mean loss: adversary 138431.16687158018\n",
      "     mean reward: adversary 141.72437374496243, agent -91.8019583948045\n",
      "on episode 12096, curr epsilon 0.05 (time taken so far: 0-00:41:36.0)\n",
      "     mean loss: adversary 135408.45008291389\n",
      "     mean reward: adversary 116.32529984969673, agent -78.43387866938454\n",
      "on episode 12128, curr epsilon 0.05 (time taken so far: 0-00:41:42.0)\n",
      "     mean loss: adversary 138030.31880635142\n",
      "     mean reward: adversary 191.94307058430866, agent -115.15483712431222\n",
      "on episode 12160, curr epsilon 0.05 (time taken so far: 0-00:41:48.0)\n",
      "     mean loss: adversary 133233.67640895938\n",
      "     mean reward: adversary 135.18801921539915, agent -86.67328751546707\n",
      "on episode 12192, curr epsilon 0.05 (time taken so far: 0-00:41:55.0)\n",
      "     mean loss: adversary 132500.9860932965\n",
      "     mean reward: adversary 136.36849488790185, agent -82.85189433548909\n",
      "on episode 12224, curr epsilon 0.05 (time taken so far: 0-00:42:1.0)\n",
      "     mean loss: adversary 127695.42960581223\n",
      "     mean reward: adversary 152.8835761807252, agent -93.44547757640754\n",
      "on episode 12256, curr epsilon 0.05 (time taken so far: 0-00:42:6.0)\n",
      "     mean loss: adversary 135183.0940106222\n",
      "     mean reward: adversary 168.03520787626817, agent -99.508265787876\n",
      "on episode 12288, curr epsilon 0.05 (time taken so far: 0-00:42:12.0)\n",
      "     mean loss: adversary 131761.54037424014\n",
      "     mean reward: adversary 204.7322256739147, agent -116.64217878685226\n",
      "on episode 12320, curr epsilon 0.05 (time taken so far: 0-00:42:18.0)\n",
      "     mean loss: adversary 130426.31652013664\n",
      "     mean reward: adversary 202.41960511476125, agent -106.67890915847357\n",
      "on episode 12352, curr epsilon 0.05 (time taken so far: 0-00:42:24.0)\n",
      "     mean loss: adversary 144159.87017686496\n",
      "     mean reward: adversary 163.20809672294246, agent -98.46893978425094\n",
      "on episode 12384, curr epsilon 0.05 (time taken so far: 0-00:42:30.0)\n",
      "     mean loss: adversary 143372.6777178463\n",
      "     mean reward: adversary 209.92629751084175, agent -107.90052932998647\n",
      "on episode 12416, curr epsilon 0.05 (time taken so far: 0-00:42:35.0)\n",
      "     mean loss: adversary 140279.13248600645\n",
      "     mean reward: adversary 195.49119282159154, agent -115.61060210633529\n",
      "on episode 12448, curr epsilon 0.05 (time taken so far: 0-00:42:41.0)\n",
      "     mean loss: adversary 137729.9618704793\n",
      "     mean reward: adversary 190.21775082028856, agent -112.3203095217181\n",
      "on episode 12480, curr epsilon 0.05 (time taken so far: 0-00:42:47.0)\n",
      "     mean loss: adversary 131508.32470836377\n",
      "     mean reward: adversary 236.5478382163359, agent -120.32764734104448\n"
     ]
    },
    {
     "name": "stderr",
     "output_type": "stream",
     "text": [
      "IMAGEIO FFMPEG_WRITER WARNING: input image is not divisible by macro_block_size=16, resizing from (700, 700) to (704, 704) to ensure video compatibility with most codecs and players. To prevent resizing, make your input image divisible by the macro_block_size or set the macro_block_size to 1 (risking incompatibility).\n"
     ]
    },
    {
     "name": "stdout",
     "output_type": "stream",
     "text": [
      "124\n"
     ]
    },
    {
     "name": "stderr",
     "output_type": "stream",
     "text": [
      "[swscaler @ 0x5692a80] Warning: data is not aligned! This can lead to a speed loss\n"
     ]
    },
    {
     "name": "stdout",
     "output_type": "stream",
     "text": [
      "0.0\n",
      "0.0\n",
      "60.0\n",
      "60.0\n",
      "0.0\n",
      "0.0\n",
      "90.0\n",
      "30.0\n",
      "180.0\n",
      "120.0\n"
     ]
    },
    {
     "name": "stderr",
     "output_type": "stream",
     "text": [
      "IMAGEIO FFMPEG_WRITER WARNING: input image is not divisible by macro_block_size=16, resizing from (700, 700) to (704, 704) to ensure video compatibility with most codecs and players. To prevent resizing, make your input image divisible by the macro_block_size or set the macro_block_size to 1 (risking incompatibility).\n"
     ]
    },
    {
     "name": "stdout",
     "output_type": "stream",
     "text": [
      "124\n"
     ]
    },
    {
     "name": "stderr",
     "output_type": "stream",
     "text": [
      "[swscaler @ 0x6cd6a80] Warning: data is not aligned! This can lead to a speed loss\n"
     ]
    },
    {
     "name": "stdout",
     "output_type": "stream",
     "text": [
      "30.0\n",
      "0.0\n",
      "0.0\n",
      "30.0\n",
      "0.0\n",
      "0.0\n",
      "240.0\n",
      "90.0\n",
      "90.0\n",
      "0.0\n"
     ]
    },
    {
     "name": "stderr",
     "output_type": "stream",
     "text": [
      "IMAGEIO FFMPEG_WRITER WARNING: input image is not divisible by macro_block_size=16, resizing from (700, 700) to (704, 704) to ensure video compatibility with most codecs and players. To prevent resizing, make your input image divisible by the macro_block_size or set the macro_block_size to 1 (risking incompatibility).\n"
     ]
    },
    {
     "name": "stdout",
     "output_type": "stream",
     "text": [
      "124\n"
     ]
    },
    {
     "name": "stderr",
     "output_type": "stream",
     "text": [
      "[swscaler @ 0x5b05a80] Warning: data is not aligned! This can lead to a speed loss\n"
     ]
    },
    {
     "name": "stdout",
     "output_type": "stream",
     "text": [
      "30.0\n",
      "120.0\n",
      "0.0\n",
      "0.0\n",
      "0.0\n",
      "0.0\n",
      "0.0\n",
      "30.0\n",
      "0.0\n",
      "0.0\n"
     ]
    },
    {
     "name": "stderr",
     "output_type": "stream",
     "text": [
      "IMAGEIO FFMPEG_WRITER WARNING: input image is not divisible by macro_block_size=16, resizing from (700, 700) to (704, 704) to ensure video compatibility with most codecs and players. To prevent resizing, make your input image divisible by the macro_block_size or set the macro_block_size to 1 (risking incompatibility).\n"
     ]
    },
    {
     "name": "stdout",
     "output_type": "stream",
     "text": [
      "124\n"
     ]
    },
    {
     "name": "stderr",
     "output_type": "stream",
     "text": [
      "[swscaler @ 0x66cea80] Warning: data is not aligned! This can lead to a speed loss\n"
     ]
    },
    {
     "name": "stdout",
     "output_type": "stream",
     "text": [
      "120.0\n",
      "60.0\n",
      "30.0\n",
      "30.0\n",
      "30.0\n",
      "90.0\n",
      "0.0\n",
      "0.0\n",
      "0.0\n",
      "0.0\n"
     ]
    },
    {
     "name": "stderr",
     "output_type": "stream",
     "text": [
      "IMAGEIO FFMPEG_WRITER WARNING: input image is not divisible by macro_block_size=16, resizing from (700, 700) to (704, 704) to ensure video compatibility with most codecs and players. To prevent resizing, make your input image divisible by the macro_block_size or set the macro_block_size to 1 (risking incompatibility).\n"
     ]
    },
    {
     "name": "stdout",
     "output_type": "stream",
     "text": [
      "124\n"
     ]
    },
    {
     "name": "stderr",
     "output_type": "stream",
     "text": [
      "[swscaler @ 0x6acaa80] Warning: data is not aligned! This can lead to a speed loss\n"
     ]
    },
    {
     "name": "stdout",
     "output_type": "stream",
     "text": [
      "0.0\n",
      "0.0\n",
      "0.0\n",
      "30.0\n",
      "210.0\n",
      "0.0\n",
      "0.0\n",
      "90.0\n",
      "0.0\n",
      "0.0\n"
     ]
    },
    {
     "name": "stderr",
     "output_type": "stream",
     "text": [
      "IMAGEIO FFMPEG_WRITER WARNING: input image is not divisible by macro_block_size=16, resizing from (700, 700) to (704, 704) to ensure video compatibility with most codecs and players. To prevent resizing, make your input image divisible by the macro_block_size or set the macro_block_size to 1 (risking incompatibility).\n"
     ]
    },
    {
     "name": "stdout",
     "output_type": "stream",
     "text": [
      "124\n"
     ]
    },
    {
     "name": "stderr",
     "output_type": "stream",
     "text": [
      "[swscaler @ 0x6c29a80] Warning: data is not aligned! This can lead to a speed loss\n"
     ]
    },
    {
     "name": "stdout",
     "output_type": "stream",
     "text": [
      "0.0\n",
      "0.0\n",
      "60.0\n",
      "0.0\n",
      "0.0\n",
      "0.0\n",
      "0.0\n",
      "0.0\n",
      "0.0\n",
      "30.0\n"
     ]
    },
    {
     "name": "stderr",
     "output_type": "stream",
     "text": [
      "IMAGEIO FFMPEG_WRITER WARNING: input image is not divisible by macro_block_size=16, resizing from (700, 700) to (704, 704) to ensure video compatibility with most codecs and players. To prevent resizing, make your input image divisible by the macro_block_size or set the macro_block_size to 1 (risking incompatibility).\n"
     ]
    },
    {
     "name": "stdout",
     "output_type": "stream",
     "text": [
      "124\n"
     ]
    },
    {
     "name": "stderr",
     "output_type": "stream",
     "text": [
      "[swscaler @ 0x6587a80] Warning: data is not aligned! This can lead to a speed loss\n"
     ]
    },
    {
     "name": "stdout",
     "output_type": "stream",
     "text": [
      "60.0\n",
      "60.0\n",
      "120.0\n",
      "0.0\n",
      "0.0\n",
      "0.0\n",
      "0.0\n",
      "0.0\n",
      "0.0\n",
      "210.0\n"
     ]
    },
    {
     "name": "stderr",
     "output_type": "stream",
     "text": [
      "IMAGEIO FFMPEG_WRITER WARNING: input image is not divisible by macro_block_size=16, resizing from (700, 700) to (704, 704) to ensure video compatibility with most codecs and players. To prevent resizing, make your input image divisible by the macro_block_size or set the macro_block_size to 1 (risking incompatibility).\n"
     ]
    },
    {
     "name": "stdout",
     "output_type": "stream",
     "text": [
      "124\n"
     ]
    },
    {
     "name": "stderr",
     "output_type": "stream",
     "text": [
      "[swscaler @ 0x6328a80] Warning: data is not aligned! This can lead to a speed loss\n"
     ]
    },
    {
     "name": "stdout",
     "output_type": "stream",
     "text": [
      "60.0\n",
      "0.0\n",
      "0.0\n",
      "0.0\n",
      "0.0\n",
      "60.0\n",
      "30.0\n",
      "0.0\n",
      "0.0\n",
      "90.0\n"
     ]
    },
    {
     "name": "stderr",
     "output_type": "stream",
     "text": [
      "IMAGEIO FFMPEG_WRITER WARNING: input image is not divisible by macro_block_size=16, resizing from (700, 700) to (704, 704) to ensure video compatibility with most codecs and players. To prevent resizing, make your input image divisible by the macro_block_size or set the macro_block_size to 1 (risking incompatibility).\n"
     ]
    },
    {
     "name": "stdout",
     "output_type": "stream",
     "text": [
      "124\n"
     ]
    },
    {
     "name": "stderr",
     "output_type": "stream",
     "text": [
      "[swscaler @ 0x5587a80] Warning: data is not aligned! This can lead to a speed loss\n"
     ]
    },
    {
     "name": "stdout",
     "output_type": "stream",
     "text": [
      "0.0\n",
      "0.0\n",
      "60.0\n",
      "0.0\n",
      "0.0\n",
      "60.0\n",
      "0.0\n",
      "60.0\n",
      "0.0\n",
      "60.0\n"
     ]
    },
    {
     "name": "stderr",
     "output_type": "stream",
     "text": [
      "IMAGEIO FFMPEG_WRITER WARNING: input image is not divisible by macro_block_size=16, resizing from (700, 700) to (704, 704) to ensure video compatibility with most codecs and players. To prevent resizing, make your input image divisible by the macro_block_size or set the macro_block_size to 1 (risking incompatibility).\n"
     ]
    },
    {
     "name": "stdout",
     "output_type": "stream",
     "text": [
      "124\n"
     ]
    },
    {
     "name": "stderr",
     "output_type": "stream",
     "text": [
      "[swscaler @ 0x639ea80] Warning: data is not aligned! This can lead to a speed loss\n"
     ]
    },
    {
     "name": "stdout",
     "output_type": "stream",
     "text": [
      "0.0\n",
      "120.0\n",
      "0.0\n",
      "30.0\n",
      "0.0\n",
      "0.0\n",
      "30.0\n",
      "0.0\n",
      "30.0\n",
      "0.0\n",
      "Evaluation Reward for episode 12500 is: 31.2\n",
      "on episode 12512, curr epsilon 0.05 (time taken so far: 0-00:43:4.0)\n",
      "     mean loss: adversary 133320.23154560593\n",
      "     mean reward: adversary 152.98028975897748, agent -100.45728143894064\n",
      "on episode 12544, curr epsilon 0.05 (time taken so far: 0-00:43:10.0)\n",
      "     mean loss: adversary 137407.75984179636\n",
      "     mean reward: adversary 173.4925739762736, agent -104.37166294995586\n",
      "on episode 12576, curr epsilon 0.05 (time taken so far: 0-00:43:16.0)\n",
      "     mean loss: adversary 132270.4080991337\n",
      "     mean reward: adversary 229.48018111771535, agent -124.33610449012089\n",
      "on episode 12608, curr epsilon 0.05 (time taken so far: 0-00:43:21.0)\n",
      "     mean loss: adversary 133914.19849871748\n",
      "     mean reward: adversary 223.15793220529233, agent -120.61146403794997\n",
      "on episode 12640, curr epsilon 0.05 (time taken so far: 0-00:43:27.0)\n",
      "     mean loss: adversary 139403.7135662022\n",
      "     mean reward: adversary 203.0582046235426, agent -112.85419538761552\n",
      "on episode 12672, curr epsilon 0.05 (time taken so far: 0-00:43:33.0)\n",
      "     mean loss: adversary 134705.5688001529\n",
      "     mean reward: adversary 211.53491151542772, agent -109.98250060428605\n",
      "on episode 12704, curr epsilon 0.05 (time taken so far: 0-00:43:39.0)\n",
      "     mean loss: adversary 129978.55617045969\n",
      "     mean reward: adversary 241.2409422041032, agent -126.33971757713685\n",
      "on episode 12736, curr epsilon 0.05 (time taken so far: 0-00:43:45.0)\n",
      "     mean loss: adversary 136668.3753964168\n",
      "     mean reward: adversary 183.4318245297662, agent -102.4600203142466\n",
      "on episode 12768, curr epsilon 0.05 (time taken so far: 0-00:43:50.0)\n",
      "     mean loss: adversary 132381.36975520113\n",
      "     mean reward: adversary 202.1743870201288, agent -114.43059505237758\n",
      "on episode 12800, curr epsilon 0.05 (time taken so far: 0-00:43:56.0)\n",
      "     mean loss: adversary 133091.75266995298\n",
      "     mean reward: adversary 175.27416319416454, agent -104.63455035572582\n",
      "on episode 12832, curr epsilon 0.05 (time taken so far: 0-00:44:2.0)\n",
      "     mean loss: adversary 129431.2102415382\n",
      "     mean reward: adversary 220.34364718072214, agent -117.96015518284992\n",
      "on episode 12864, curr epsilon 0.05 (time taken so far: 0-00:44:7.0)\n",
      "     mean loss: adversary 126934.76213656295\n",
      "     mean reward: adversary 227.79793340046962, agent -119.23743315101049\n",
      "on episode 12896, curr epsilon 0.05 (time taken so far: 0-00:44:13.0)\n",
      "     mean loss: adversary 125736.69980399092\n",
      "     mean reward: adversary 220.64717161821537, agent -118.05754714055308\n",
      "on episode 12928, curr epsilon 0.05 (time taken so far: 0-00:44:19.0)\n",
      "     mean loss: adversary 135136.81444376011\n",
      "     mean reward: adversary 248.5827430220014, agent -127.91953831604616\n",
      "on episode 12960, curr epsilon 0.05 (time taken so far: 0-00:44:25.0)\n",
      "     mean loss: adversary 152647.56685726813\n",
      "     mean reward: adversary 179.83260518283558, agent -107.63900366889347\n",
      "on episode 12992, curr epsilon 0.05 (time taken so far: 0-00:44:31.0)\n",
      "     mean loss: adversary 151176.58287877587\n",
      "     mean reward: adversary 164.37584411338113, agent -98.15716353505643\n"
     ]
    },
    {
     "name": "stderr",
     "output_type": "stream",
     "text": [
      "IMAGEIO FFMPEG_WRITER WARNING: input image is not divisible by macro_block_size=16, resizing from (700, 700) to (704, 704) to ensure video compatibility with most codecs and players. To prevent resizing, make your input image divisible by the macro_block_size or set the macro_block_size to 1 (risking incompatibility).\n"
     ]
    },
    {
     "name": "stdout",
     "output_type": "stream",
     "text": [
      "124\n"
     ]
    },
    {
     "name": "stderr",
     "output_type": "stream",
     "text": [
      "[swscaler @ 0x5daaa80] Warning: data is not aligned! This can lead to a speed loss\n"
     ]
    },
    {
     "name": "stdout",
     "output_type": "stream",
     "text": [
      "120.0\n",
      "90.0\n",
      "150.0\n",
      "30.0\n",
      "0.0\n",
      "90.0\n",
      "300.0\n",
      "60.0\n",
      "90.0\n",
      "60.0\n"
     ]
    },
    {
     "name": "stderr",
     "output_type": "stream",
     "text": [
      "IMAGEIO FFMPEG_WRITER WARNING: input image is not divisible by macro_block_size=16, resizing from (700, 700) to (704, 704) to ensure video compatibility with most codecs and players. To prevent resizing, make your input image divisible by the macro_block_size or set the macro_block_size to 1 (risking incompatibility).\n"
     ]
    },
    {
     "name": "stdout",
     "output_type": "stream",
     "text": [
      "124\n"
     ]
    },
    {
     "name": "stderr",
     "output_type": "stream",
     "text": [
      "[swscaler @ 0x58a5a80] Warning: data is not aligned! This can lead to a speed loss\n"
     ]
    },
    {
     "name": "stdout",
     "output_type": "stream",
     "text": [
      "0.0\n",
      "120.0\n",
      "210.0\n",
      "210.0\n",
      "240.0\n",
      "570.0\n",
      "0.0\n",
      "0.0\n",
      "90.0\n",
      "60.0\n"
     ]
    },
    {
     "name": "stderr",
     "output_type": "stream",
     "text": [
      "IMAGEIO FFMPEG_WRITER WARNING: input image is not divisible by macro_block_size=16, resizing from (700, 700) to (704, 704) to ensure video compatibility with most codecs and players. To prevent resizing, make your input image divisible by the macro_block_size or set the macro_block_size to 1 (risking incompatibility).\n"
     ]
    },
    {
     "name": "stdout",
     "output_type": "stream",
     "text": [
      "124\n"
     ]
    },
    {
     "name": "stderr",
     "output_type": "stream",
     "text": [
      "[swscaler @ 0x56e4a80] Warning: data is not aligned! This can lead to a speed loss\n"
     ]
    },
    {
     "name": "stdout",
     "output_type": "stream",
     "text": [
      "150.0\n",
      "150.0\n",
      "60.0\n",
      "0.0\n",
      "180.0\n",
      "90.0\n",
      "60.0\n",
      "0.0\n",
      "180.0\n",
      "60.0\n"
     ]
    },
    {
     "name": "stderr",
     "output_type": "stream",
     "text": [
      "IMAGEIO FFMPEG_WRITER WARNING: input image is not divisible by macro_block_size=16, resizing from (700, 700) to (704, 704) to ensure video compatibility with most codecs and players. To prevent resizing, make your input image divisible by the macro_block_size or set the macro_block_size to 1 (risking incompatibility).\n"
     ]
    },
    {
     "name": "stdout",
     "output_type": "stream",
     "text": [
      "124\n"
     ]
    },
    {
     "name": "stderr",
     "output_type": "stream",
     "text": [
      "[swscaler @ 0x74a5a80] Warning: data is not aligned! This can lead to a speed loss\n"
     ]
    },
    {
     "name": "stdout",
     "output_type": "stream",
     "text": [
      "210.0\n",
      "0.0\n",
      "180.0\n",
      "120.0\n",
      "90.0\n",
      "90.0\n",
      "180.0\n",
      "30.0\n",
      "120.0\n",
      "60.0\n"
     ]
    },
    {
     "name": "stderr",
     "output_type": "stream",
     "text": [
      "IMAGEIO FFMPEG_WRITER WARNING: input image is not divisible by macro_block_size=16, resizing from (700, 700) to (704, 704) to ensure video compatibility with most codecs and players. To prevent resizing, make your input image divisible by the macro_block_size or set the macro_block_size to 1 (risking incompatibility).\n"
     ]
    },
    {
     "name": "stdout",
     "output_type": "stream",
     "text": [
      "124\n"
     ]
    },
    {
     "name": "stderr",
     "output_type": "stream",
     "text": [
      "[swscaler @ 0x70d9a80] Warning: data is not aligned! This can lead to a speed loss\n"
     ]
    },
    {
     "name": "stdout",
     "output_type": "stream",
     "text": [
      "330.0\n",
      "90.0\n",
      "0.0\n",
      "210.0\n",
      "150.0\n",
      "210.0\n",
      "60.0\n",
      "0.0\n",
      "30.0\n",
      "60.0\n"
     ]
    },
    {
     "name": "stderr",
     "output_type": "stream",
     "text": [
      "IMAGEIO FFMPEG_WRITER WARNING: input image is not divisible by macro_block_size=16, resizing from (700, 700) to (704, 704) to ensure video compatibility with most codecs and players. To prevent resizing, make your input image divisible by the macro_block_size or set the macro_block_size to 1 (risking incompatibility).\n"
     ]
    },
    {
     "name": "stdout",
     "output_type": "stream",
     "text": [
      "124\n"
     ]
    },
    {
     "name": "stderr",
     "output_type": "stream",
     "text": [
      "[swscaler @ 0x5a66a80] Warning: data is not aligned! This can lead to a speed loss\n"
     ]
    },
    {
     "name": "stdout",
     "output_type": "stream",
     "text": [
      "300.0\n",
      "240.0\n",
      "120.0\n",
      "90.0\n",
      "210.0\n",
      "210.0\n",
      "360.0\n",
      "150.0\n",
      "150.0\n",
      "120.0\n"
     ]
    },
    {
     "name": "stderr",
     "output_type": "stream",
     "text": [
      "IMAGEIO FFMPEG_WRITER WARNING: input image is not divisible by macro_block_size=16, resizing from (700, 700) to (704, 704) to ensure video compatibility with most codecs and players. To prevent resizing, make your input image divisible by the macro_block_size or set the macro_block_size to 1 (risking incompatibility).\n"
     ]
    },
    {
     "name": "stdout",
     "output_type": "stream",
     "text": [
      "124\n"
     ]
    },
    {
     "name": "stderr",
     "output_type": "stream",
     "text": [
      "[swscaler @ 0x6547a80] Warning: data is not aligned! This can lead to a speed loss\n"
     ]
    },
    {
     "name": "stdout",
     "output_type": "stream",
     "text": [
      "90.0\n",
      "0.0\n",
      "90.0\n",
      "150.0\n",
      "0.0\n",
      "0.0\n",
      "0.0\n",
      "120.0\n",
      "60.0\n",
      "30.0\n"
     ]
    },
    {
     "name": "stderr",
     "output_type": "stream",
     "text": [
      "IMAGEIO FFMPEG_WRITER WARNING: input image is not divisible by macro_block_size=16, resizing from (700, 700) to (704, 704) to ensure video compatibility with most codecs and players. To prevent resizing, make your input image divisible by the macro_block_size or set the macro_block_size to 1 (risking incompatibility).\n"
     ]
    },
    {
     "name": "stdout",
     "output_type": "stream",
     "text": [
      "124\n"
     ]
    },
    {
     "name": "stderr",
     "output_type": "stream",
     "text": [
      "[swscaler @ 0x6069a80] Warning: data is not aligned! This can lead to a speed loss\n"
     ]
    },
    {
     "name": "stdout",
     "output_type": "stream",
     "text": [
      "0.0\n",
      "90.0\n",
      "270.0\n",
      "0.0\n",
      "0.0\n",
      "210.0\n",
      "90.0\n",
      "60.0\n",
      "210.0\n",
      "120.0\n"
     ]
    },
    {
     "name": "stderr",
     "output_type": "stream",
     "text": [
      "IMAGEIO FFMPEG_WRITER WARNING: input image is not divisible by macro_block_size=16, resizing from (700, 700) to (704, 704) to ensure video compatibility with most codecs and players. To prevent resizing, make your input image divisible by the macro_block_size or set the macro_block_size to 1 (risking incompatibility).\n"
     ]
    },
    {
     "name": "stdout",
     "output_type": "stream",
     "text": [
      "124\n"
     ]
    },
    {
     "name": "stderr",
     "output_type": "stream",
     "text": [
      "[swscaler @ 0x665aa80] Warning: data is not aligned! This can lead to a speed loss\n"
     ]
    },
    {
     "name": "stdout",
     "output_type": "stream",
     "text": [
      "120.0\n",
      "90.0\n",
      "150.0\n",
      "240.0\n",
      "0.0\n",
      "60.0\n",
      "60.0\n",
      "180.0\n",
      "120.0\n",
      "360.0\n"
     ]
    },
    {
     "name": "stderr",
     "output_type": "stream",
     "text": [
      "IMAGEIO FFMPEG_WRITER WARNING: input image is not divisible by macro_block_size=16, resizing from (700, 700) to (704, 704) to ensure video compatibility with most codecs and players. To prevent resizing, make your input image divisible by the macro_block_size or set the macro_block_size to 1 (risking incompatibility).\n"
     ]
    },
    {
     "name": "stdout",
     "output_type": "stream",
     "text": [
      "124\n"
     ]
    },
    {
     "name": "stderr",
     "output_type": "stream",
     "text": [
      "[swscaler @ 0x612ba80] Warning: data is not aligned! This can lead to a speed loss\n"
     ]
    },
    {
     "name": "stdout",
     "output_type": "stream",
     "text": [
      "330.0\n",
      "390.0\n",
      "240.0\n",
      "60.0\n",
      "240.0\n",
      "240.0\n",
      "0.0\n",
      "0.0\n",
      "0.0\n",
      "150.0\n",
      "Evaluation Reward for episode 13000 is: 122.1\n",
      "on episode 13024, curr epsilon 0.05 (time taken so far: 0-00:44:48.0)\n",
      "     mean loss: adversary 147503.5095034668\n",
      "     mean reward: adversary 130.89481525988876, agent -85.43447942181653\n",
      "on episode 13056, curr epsilon 0.05 (time taken so far: 0-00:44:54.0)\n",
      "     mean loss: adversary 146573.78465031364\n",
      "     mean reward: adversary 193.9319187841607, agent -111.0804842286811\n",
      "on episode 13088, curr epsilon 0.05 (time taken so far: 0-00:45:0.0)\n",
      "     mean loss: adversary 147480.89466614497\n",
      "     mean reward: adversary 175.76102669143853, agent -98.08816469753228\n",
      "on episode 13120, curr epsilon 0.05 (time taken so far: 0-00:45:6.0)\n",
      "     mean loss: adversary 139436.83906878124\n",
      "     mean reward: adversary 217.29161182319316, agent -115.01657124677908\n",
      "on episode 13152, curr epsilon 0.05 (time taken so far: 0-00:45:12.0)\n",
      "     mean loss: adversary 142464.17145595927\n",
      "     mean reward: adversary 234.62137175333615, agent -121.82628228840976\n",
      "on episode 13184, curr epsilon 0.05 (time taken so far: 0-00:45:18.0)\n",
      "     mean loss: adversary 134712.6671946934\n",
      "     mean reward: adversary 187.3342328251277, agent -106.40313098514183\n",
      "on episode 13216, curr epsilon 0.05 (time taken so far: 0-00:45:24.0)\n",
      "     mean loss: adversary 144914.88724598035\n",
      "     mean reward: adversary 193.33205645084055, agent -106.2306711281379\n",
      "on episode 13248, curr epsilon 0.05 (time taken so far: 0-00:45:30.0)\n",
      "     mean loss: adversary 148486.59227559686\n",
      "     mean reward: adversary 175.38254172115992, agent -103.05651805390707\n",
      "on episode 13280, curr epsilon 0.05 (time taken so far: 0-00:45:36.0)\n",
      "     mean loss: adversary 140078.84683074872\n",
      "     mean reward: adversary 208.69519643089194, agent -113.13170785829737\n",
      "on episode 13312, curr epsilon 0.05 (time taken so far: 0-00:45:42.0)\n",
      "     mean loss: adversary 145794.4733978754\n",
      "     mean reward: adversary 161.1791037452093, agent -99.17846434178303\n",
      "on episode 13344, curr epsilon 0.05 (time taken so far: 0-00:45:47.0)\n",
      "     mean loss: adversary 147022.48413561183\n",
      "     mean reward: adversary 138.9921971172753, agent -90.93253126788076\n",
      "on episode 13376, curr epsilon 0.05 (time taken so far: 0-00:45:53.0)\n",
      "     mean loss: adversary 143731.3795191686\n",
      "     mean reward: adversary 164.70198751561867, agent -96.11086567789752\n",
      "on episode 13408, curr epsilon 0.05 (time taken so far: 0-00:45:59.0)\n",
      "     mean loss: adversary 143197.49379326875\n",
      "     mean reward: adversary 159.85971808297467, agent -97.05939054714884\n",
      "on episode 13440, curr epsilon 0.05 (time taken so far: 0-00:46:5.0)\n",
      "     mean loss: adversary 144800.93996409097\n",
      "     mean reward: adversary 182.6696011707768, agent -104.09041627036216\n",
      "on episode 13472, curr epsilon 0.05 (time taken so far: 0-00:46:11.0)\n",
      "     mean loss: adversary 138343.51839170343\n",
      "     mean reward: adversary 161.7606648914671, agent -95.85552291974768\n"
     ]
    },
    {
     "name": "stderr",
     "output_type": "stream",
     "text": [
      "IMAGEIO FFMPEG_WRITER WARNING: input image is not divisible by macro_block_size=16, resizing from (700, 700) to (704, 704) to ensure video compatibility with most codecs and players. To prevent resizing, make your input image divisible by the macro_block_size or set the macro_block_size to 1 (risking incompatibility).\n"
     ]
    },
    {
     "name": "stdout",
     "output_type": "stream",
     "text": [
      "124\n"
     ]
    },
    {
     "name": "stderr",
     "output_type": "stream",
     "text": [
      "[swscaler @ 0x5bf9a80] Warning: data is not aligned! This can lead to a speed loss\n"
     ]
    },
    {
     "name": "stdout",
     "output_type": "stream",
     "text": [
      "150.0\n",
      "0.0\n",
      "0.0\n",
      "0.0\n",
      "60.0\n",
      "270.0\n",
      "60.0\n",
      "0.0\n",
      "0.0\n",
      "0.0\n"
     ]
    },
    {
     "name": "stderr",
     "output_type": "stream",
     "text": [
      "IMAGEIO FFMPEG_WRITER WARNING: input image is not divisible by macro_block_size=16, resizing from (700, 700) to (704, 704) to ensure video compatibility with most codecs and players. To prevent resizing, make your input image divisible by the macro_block_size or set the macro_block_size to 1 (risking incompatibility).\n"
     ]
    },
    {
     "name": "stdout",
     "output_type": "stream",
     "text": [
      "124\n"
     ]
    },
    {
     "name": "stderr",
     "output_type": "stream",
     "text": [
      "[swscaler @ 0x709da80] Warning: data is not aligned! This can lead to a speed loss\n"
     ]
    },
    {
     "name": "stdout",
     "output_type": "stream",
     "text": [
      "30.0\n",
      "0.0\n",
      "60.0\n",
      "0.0\n",
      "30.0\n",
      "0.0\n",
      "0.0\n",
      "0.0\n",
      "30.0\n",
      "0.0\n"
     ]
    },
    {
     "name": "stderr",
     "output_type": "stream",
     "text": [
      "IMAGEIO FFMPEG_WRITER WARNING: input image is not divisible by macro_block_size=16, resizing from (700, 700) to (704, 704) to ensure video compatibility with most codecs and players. To prevent resizing, make your input image divisible by the macro_block_size or set the macro_block_size to 1 (risking incompatibility).\n"
     ]
    },
    {
     "name": "stdout",
     "output_type": "stream",
     "text": [
      "124\n"
     ]
    },
    {
     "name": "stderr",
     "output_type": "stream",
     "text": [
      "[swscaler @ 0x6628a80] Warning: data is not aligned! This can lead to a speed loss\n"
     ]
    },
    {
     "name": "stdout",
     "output_type": "stream",
     "text": [
      "0.0\n",
      "30.0\n",
      "0.0\n",
      "0.0\n",
      "0.0\n",
      "0.0\n",
      "0.0\n",
      "0.0\n",
      "0.0\n",
      "0.0\n"
     ]
    },
    {
     "name": "stderr",
     "output_type": "stream",
     "text": [
      "IMAGEIO FFMPEG_WRITER WARNING: input image is not divisible by macro_block_size=16, resizing from (700, 700) to (704, 704) to ensure video compatibility with most codecs and players. To prevent resizing, make your input image divisible by the macro_block_size or set the macro_block_size to 1 (risking incompatibility).\n"
     ]
    },
    {
     "name": "stdout",
     "output_type": "stream",
     "text": [
      "124\n"
     ]
    },
    {
     "name": "stderr",
     "output_type": "stream",
     "text": [
      "[swscaler @ 0x7005a80] Warning: data is not aligned! This can lead to a speed loss\n"
     ]
    },
    {
     "name": "stdout",
     "output_type": "stream",
     "text": [
      "0.0\n",
      "0.0\n",
      "0.0\n",
      "0.0\n",
      "0.0\n",
      "0.0\n",
      "0.0\n",
      "0.0\n",
      "0.0\n",
      "30.0\n"
     ]
    },
    {
     "name": "stderr",
     "output_type": "stream",
     "text": [
      "IMAGEIO FFMPEG_WRITER WARNING: input image is not divisible by macro_block_size=16, resizing from (700, 700) to (704, 704) to ensure video compatibility with most codecs and players. To prevent resizing, make your input image divisible by the macro_block_size or set the macro_block_size to 1 (risking incompatibility).\n"
     ]
    },
    {
     "name": "stdout",
     "output_type": "stream",
     "text": [
      "124\n"
     ]
    },
    {
     "name": "stderr",
     "output_type": "stream",
     "text": [
      "[swscaler @ 0x6581a80] Warning: data is not aligned! This can lead to a speed loss\n"
     ]
    },
    {
     "name": "stdout",
     "output_type": "stream",
     "text": [
      "0.0\n",
      "60.0\n",
      "30.0\n",
      "60.0\n",
      "0.0\n",
      "0.0\n",
      "0.0\n",
      "0.0\n",
      "0.0\n",
      "0.0\n"
     ]
    },
    {
     "name": "stderr",
     "output_type": "stream",
     "text": [
      "IMAGEIO FFMPEG_WRITER WARNING: input image is not divisible by macro_block_size=16, resizing from (700, 700) to (704, 704) to ensure video compatibility with most codecs and players. To prevent resizing, make your input image divisible by the macro_block_size or set the macro_block_size to 1 (risking incompatibility).\n"
     ]
    },
    {
     "name": "stdout",
     "output_type": "stream",
     "text": [
      "124\n"
     ]
    },
    {
     "name": "stderr",
     "output_type": "stream",
     "text": [
      "[swscaler @ 0x6db8a80] Warning: data is not aligned! This can lead to a speed loss\n"
     ]
    },
    {
     "name": "stdout",
     "output_type": "stream",
     "text": [
      "0.0\n",
      "0.0\n",
      "90.0\n",
      "0.0\n",
      "0.0\n",
      "60.0\n",
      "0.0\n",
      "0.0\n",
      "0.0\n",
      "0.0\n"
     ]
    },
    {
     "name": "stderr",
     "output_type": "stream",
     "text": [
      "IMAGEIO FFMPEG_WRITER WARNING: input image is not divisible by macro_block_size=16, resizing from (700, 700) to (704, 704) to ensure video compatibility with most codecs and players. To prevent resizing, make your input image divisible by the macro_block_size or set the macro_block_size to 1 (risking incompatibility).\n"
     ]
    },
    {
     "name": "stdout",
     "output_type": "stream",
     "text": [
      "124\n"
     ]
    },
    {
     "name": "stderr",
     "output_type": "stream",
     "text": [
      "[swscaler @ 0x6fd7a80] Warning: data is not aligned! This can lead to a speed loss\n"
     ]
    },
    {
     "name": "stdout",
     "output_type": "stream",
     "text": [
      "120.0\n",
      "0.0\n",
      "0.0\n",
      "0.0\n",
      "0.0\n",
      "0.0\n",
      "60.0\n",
      "0.0\n",
      "0.0\n",
      "60.0\n"
     ]
    },
    {
     "name": "stderr",
     "output_type": "stream",
     "text": [
      "IMAGEIO FFMPEG_WRITER WARNING: input image is not divisible by macro_block_size=16, resizing from (700, 700) to (704, 704) to ensure video compatibility with most codecs and players. To prevent resizing, make your input image divisible by the macro_block_size or set the macro_block_size to 1 (risking incompatibility).\n"
     ]
    },
    {
     "name": "stdout",
     "output_type": "stream",
     "text": [
      "124\n"
     ]
    },
    {
     "name": "stderr",
     "output_type": "stream",
     "text": [
      "[swscaler @ 0x57d6a80] Warning: data is not aligned! This can lead to a speed loss\n"
     ]
    },
    {
     "name": "stdout",
     "output_type": "stream",
     "text": [
      "0.0\n",
      "0.0\n",
      "0.0\n",
      "90.0\n",
      "210.0\n",
      "180.0\n",
      "30.0\n",
      "0.0\n",
      "0.0\n",
      "0.0\n"
     ]
    },
    {
     "name": "stderr",
     "output_type": "stream",
     "text": [
      "IMAGEIO FFMPEG_WRITER WARNING: input image is not divisible by macro_block_size=16, resizing from (700, 700) to (704, 704) to ensure video compatibility with most codecs and players. To prevent resizing, make your input image divisible by the macro_block_size or set the macro_block_size to 1 (risking incompatibility).\n"
     ]
    },
    {
     "name": "stdout",
     "output_type": "stream",
     "text": [
      "124\n"
     ]
    },
    {
     "name": "stderr",
     "output_type": "stream",
     "text": [
      "[swscaler @ 0x725ba80] Warning: data is not aligned! This can lead to a speed loss\n"
     ]
    },
    {
     "name": "stdout",
     "output_type": "stream",
     "text": [
      "0.0\n",
      "60.0\n",
      "0.0\n",
      "0.0\n",
      "60.0\n",
      "0.0\n",
      "30.0\n",
      "0.0\n",
      "60.0\n",
      "60.0\n"
     ]
    },
    {
     "name": "stderr",
     "output_type": "stream",
     "text": [
      "IMAGEIO FFMPEG_WRITER WARNING: input image is not divisible by macro_block_size=16, resizing from (700, 700) to (704, 704) to ensure video compatibility with most codecs and players. To prevent resizing, make your input image divisible by the macro_block_size or set the macro_block_size to 1 (risking incompatibility).\n"
     ]
    },
    {
     "name": "stdout",
     "output_type": "stream",
     "text": [
      "124\n"
     ]
    },
    {
     "name": "stderr",
     "output_type": "stream",
     "text": [
      "[swscaler @ 0x6501a80] Warning: data is not aligned! This can lead to a speed loss\n"
     ]
    },
    {
     "name": "stdout",
     "output_type": "stream",
     "text": [
      "30.0\n",
      "0.0\n",
      "0.0\n",
      "60.0\n",
      "0.0\n",
      "60.0\n",
      "0.0\n",
      "0.0\n",
      "60.0\n",
      "60.0\n",
      "Evaluation Reward for episode 13500 is: 23.4\n",
      "on episode 13504, curr epsilon 0.05 (time taken so far: 0-00:46:28.0)\n",
      "     mean loss: adversary 132035.56764115518\n",
      "     mean reward: adversary 118.19378365664072, agent -81.19066802486456\n",
      "on episode 13536, curr epsilon 0.05 (time taken so far: 0-00:46:34.0)\n",
      "     mean loss: adversary 136384.52668091859\n",
      "     mean reward: adversary 107.51608901264835, agent -74.64202649650117\n",
      "on episode 13568, curr epsilon 0.05 (time taken so far: 0-00:46:40.0)\n",
      "     mean loss: adversary 129684.32800166214\n",
      "     mean reward: adversary 129.93724271107868, agent -89.58158720364695\n",
      "on episode 13600, curr epsilon 0.05 (time taken so far: 0-00:46:46.0)\n",
      "     mean loss: adversary 126106.23414337178\n",
      "     mean reward: adversary 104.48978148395322, agent -77.54465271826558\n",
      "on episode 13632, curr epsilon 0.05 (time taken so far: 0-00:46:52.0)\n",
      "     mean loss: adversary 128926.25452757915\n",
      "     mean reward: adversary 174.86018683194465, agent -103.34909416372935\n",
      "on episode 13664, curr epsilon 0.05 (time taken so far: 0-00:46:58.0)\n",
      "     mean loss: adversary 122098.57648594746\n",
      "     mean reward: adversary 116.68888665847231, agent -76.66450694588795\n",
      "on episode 13696, curr epsilon 0.05 (time taken so far: 0-00:47:3.0)\n",
      "     mean loss: adversary 124300.96741863186\n",
      "     mean reward: adversary 172.39017037510337, agent -97.3664784301393\n",
      "on episode 13728, curr epsilon 0.05 (time taken so far: 0-00:47:9.0)\n",
      "     mean loss: adversary 122521.45632974643\n",
      "     mean reward: adversary 152.7932830082113, agent -87.43600648469321\n",
      "on episode 13760, curr epsilon 0.05 (time taken so far: 0-00:47:15.0)\n",
      "     mean loss: adversary 121006.0768011808\n",
      "     mean reward: adversary 140.82107266948432, agent -90.80902557799885\n",
      "on episode 13792, curr epsilon 0.05 (time taken so far: 0-00:47:20.0)\n",
      "     mean loss: adversary 120915.12710983117\n",
      "     mean reward: adversary 162.5378830538347, agent -94.60937096001366\n",
      "on episode 13824, curr epsilon 0.05 (time taken so far: 0-00:47:26.0)\n",
      "     mean loss: adversary 114520.37558840486\n",
      "     mean reward: adversary 211.50010106411344, agent -110.29288185036795\n",
      "on episode 13856, curr epsilon 0.05 (time taken so far: 0-00:47:32.0)\n",
      "     mean loss: adversary 114233.72549681777\n",
      "     mean reward: adversary 190.58852818830147, agent -110.97857364002046\n",
      "on episode 13888, curr epsilon 0.05 (time taken so far: 0-00:47:38.0)\n",
      "     mean loss: adversary 118279.96306309494\n",
      "     mean reward: adversary 203.40625330317167, agent -120.16589579119602\n",
      "on episode 13920, curr epsilon 0.05 (time taken so far: 0-00:47:44.0)\n",
      "     mean loss: adversary 118975.13280195977\n",
      "     mean reward: adversary 153.47702679834183, agent -95.62199522800935\n",
      "on episode 13952, curr epsilon 0.05 (time taken so far: 0-00:47:49.0)\n",
      "     mean loss: adversary 116132.81428384341\n",
      "     mean reward: adversary 192.35997465318403, agent -106.84344870388966\n",
      "on episode 13984, curr epsilon 0.05 (time taken so far: 0-00:47:56.0)\n",
      "     mean loss: adversary 116855.02834211756\n",
      "     mean reward: adversary 183.6540383532679, agent -103.32386815694412\n"
     ]
    },
    {
     "name": "stderr",
     "output_type": "stream",
     "text": [
      "IMAGEIO FFMPEG_WRITER WARNING: input image is not divisible by macro_block_size=16, resizing from (700, 700) to (704, 704) to ensure video compatibility with most codecs and players. To prevent resizing, make your input image divisible by the macro_block_size or set the macro_block_size to 1 (risking incompatibility).\n"
     ]
    },
    {
     "name": "stdout",
     "output_type": "stream",
     "text": [
      "124\n"
     ]
    },
    {
     "name": "stderr",
     "output_type": "stream",
     "text": [
      "[swscaler @ 0x6d2ca80] Warning: data is not aligned! This can lead to a speed loss\n"
     ]
    },
    {
     "name": "stdout",
     "output_type": "stream",
     "text": [
      "300.0\n",
      "180.0\n",
      "270.0\n",
      "150.0\n",
      "360.0\n",
      "270.0\n",
      "300.0\n",
      "330.0\n",
      "210.0\n",
      "510.0\n"
     ]
    },
    {
     "name": "stderr",
     "output_type": "stream",
     "text": [
      "IMAGEIO FFMPEG_WRITER WARNING: input image is not divisible by macro_block_size=16, resizing from (700, 700) to (704, 704) to ensure video compatibility with most codecs and players. To prevent resizing, make your input image divisible by the macro_block_size or set the macro_block_size to 1 (risking incompatibility).\n"
     ]
    },
    {
     "name": "stdout",
     "output_type": "stream",
     "text": [
      "124\n"
     ]
    },
    {
     "name": "stderr",
     "output_type": "stream",
     "text": [
      "[swscaler @ 0x6f48a80] Warning: data is not aligned! This can lead to a speed loss\n"
     ]
    },
    {
     "name": "stdout",
     "output_type": "stream",
     "text": [
      "180.0\n",
      "90.0\n",
      "150.0\n",
      "210.0\n",
      "90.0\n",
      "120.0\n",
      "630.0\n",
      "420.0\n",
      "150.0\n",
      "210.0\n"
     ]
    },
    {
     "name": "stderr",
     "output_type": "stream",
     "text": [
      "IMAGEIO FFMPEG_WRITER WARNING: input image is not divisible by macro_block_size=16, resizing from (700, 700) to (704, 704) to ensure video compatibility with most codecs and players. To prevent resizing, make your input image divisible by the macro_block_size or set the macro_block_size to 1 (risking incompatibility).\n"
     ]
    },
    {
     "name": "stdout",
     "output_type": "stream",
     "text": [
      "124\n"
     ]
    },
    {
     "name": "stderr",
     "output_type": "stream",
     "text": [
      "[swscaler @ 0x5cbba80] Warning: data is not aligned! This can lead to a speed loss\n"
     ]
    },
    {
     "name": "stdout",
     "output_type": "stream",
     "text": [
      "120.0\n",
      "150.0\n",
      "180.0\n",
      "120.0\n",
      "360.0\n",
      "600.0\n",
      "90.0\n",
      "60.0\n",
      "390.0\n",
      "120.0\n"
     ]
    },
    {
     "name": "stderr",
     "output_type": "stream",
     "text": [
      "IMAGEIO FFMPEG_WRITER WARNING: input image is not divisible by macro_block_size=16, resizing from (700, 700) to (704, 704) to ensure video compatibility with most codecs and players. To prevent resizing, make your input image divisible by the macro_block_size or set the macro_block_size to 1 (risking incompatibility).\n"
     ]
    },
    {
     "name": "stdout",
     "output_type": "stream",
     "text": [
      "124\n"
     ]
    },
    {
     "name": "stderr",
     "output_type": "stream",
     "text": [
      "[swscaler @ 0x59e3a80] Warning: data is not aligned! This can lead to a speed loss\n"
     ]
    },
    {
     "name": "stdout",
     "output_type": "stream",
     "text": [
      "180.0\n",
      "210.0\n",
      "540.0\n",
      "90.0\n",
      "180.0\n",
      "210.0\n",
      "90.0\n",
      "570.0\n",
      "60.0\n",
      "210.0\n"
     ]
    },
    {
     "name": "stderr",
     "output_type": "stream",
     "text": [
      "IMAGEIO FFMPEG_WRITER WARNING: input image is not divisible by macro_block_size=16, resizing from (700, 700) to (704, 704) to ensure video compatibility with most codecs and players. To prevent resizing, make your input image divisible by the macro_block_size or set the macro_block_size to 1 (risking incompatibility).\n"
     ]
    },
    {
     "name": "stdout",
     "output_type": "stream",
     "text": [
      "124\n"
     ]
    },
    {
     "name": "stderr",
     "output_type": "stream",
     "text": [
      "[swscaler @ 0x6f1ba80] Warning: data is not aligned! This can lead to a speed loss\n"
     ]
    },
    {
     "name": "stdout",
     "output_type": "stream",
     "text": [
      "210.0\n",
      "180.0\n",
      "600.0\n",
      "360.0\n",
      "90.0\n",
      "120.0\n",
      "300.0\n",
      "210.0\n",
      "360.0\n",
      "450.0\n"
     ]
    },
    {
     "name": "stderr",
     "output_type": "stream",
     "text": [
      "IMAGEIO FFMPEG_WRITER WARNING: input image is not divisible by macro_block_size=16, resizing from (700, 700) to (704, 704) to ensure video compatibility with most codecs and players. To prevent resizing, make your input image divisible by the macro_block_size or set the macro_block_size to 1 (risking incompatibility).\n"
     ]
    },
    {
     "name": "stdout",
     "output_type": "stream",
     "text": [
      "124\n"
     ]
    },
    {
     "name": "stderr",
     "output_type": "stream",
     "text": [
      "[swscaler @ 0x559ca80] Warning: data is not aligned! This can lead to a speed loss\n"
     ]
    },
    {
     "name": "stdout",
     "output_type": "stream",
     "text": [
      "360.0\n",
      "360.0\n",
      "120.0\n",
      "360.0\n",
      "390.0\n",
      "270.0\n",
      "210.0\n",
      "150.0\n",
      "270.0\n",
      "390.0\n"
     ]
    },
    {
     "name": "stderr",
     "output_type": "stream",
     "text": [
      "IMAGEIO FFMPEG_WRITER WARNING: input image is not divisible by macro_block_size=16, resizing from (700, 700) to (704, 704) to ensure video compatibility with most codecs and players. To prevent resizing, make your input image divisible by the macro_block_size or set the macro_block_size to 1 (risking incompatibility).\n"
     ]
    },
    {
     "name": "stdout",
     "output_type": "stream",
     "text": [
      "124\n"
     ]
    },
    {
     "name": "stderr",
     "output_type": "stream",
     "text": [
      "[swscaler @ 0x5b6ba80] Warning: data is not aligned! This can lead to a speed loss\n"
     ]
    },
    {
     "name": "stdout",
     "output_type": "stream",
     "text": [
      "420.0\n",
      "150.0\n",
      "270.0\n",
      "600.0\n",
      "360.0\n",
      "270.0\n",
      "180.0\n",
      "180.0\n",
      "540.0\n",
      "120.0\n"
     ]
    },
    {
     "name": "stderr",
     "output_type": "stream",
     "text": [
      "IMAGEIO FFMPEG_WRITER WARNING: input image is not divisible by macro_block_size=16, resizing from (700, 700) to (704, 704) to ensure video compatibility with most codecs and players. To prevent resizing, make your input image divisible by the macro_block_size or set the macro_block_size to 1 (risking incompatibility).\n"
     ]
    },
    {
     "name": "stdout",
     "output_type": "stream",
     "text": [
      "124\n"
     ]
    },
    {
     "name": "stderr",
     "output_type": "stream",
     "text": [
      "[swscaler @ 0x5df8a80] Warning: data is not aligned! This can lead to a speed loss\n"
     ]
    },
    {
     "name": "stdout",
     "output_type": "stream",
     "text": [
      "330.0\n",
      "120.0\n",
      "390.0\n",
      "210.0\n",
      "30.0\n",
      "510.0\n",
      "390.0\n",
      "270.0\n",
      "120.0\n",
      "180.0\n"
     ]
    },
    {
     "name": "stderr",
     "output_type": "stream",
     "text": [
      "IMAGEIO FFMPEG_WRITER WARNING: input image is not divisible by macro_block_size=16, resizing from (700, 700) to (704, 704) to ensure video compatibility with most codecs and players. To prevent resizing, make your input image divisible by the macro_block_size or set the macro_block_size to 1 (risking incompatibility).\n"
     ]
    },
    {
     "name": "stdout",
     "output_type": "stream",
     "text": [
      "124\n"
     ]
    },
    {
     "name": "stderr",
     "output_type": "stream",
     "text": [
      "[swscaler @ 0x59dea80] Warning: data is not aligned! This can lead to a speed loss\n"
     ]
    },
    {
     "name": "stdout",
     "output_type": "stream",
     "text": [
      "270.0\n",
      "150.0\n",
      "270.0\n",
      "300.0\n",
      "60.0\n",
      "150.0\n",
      "120.0\n",
      "390.0\n",
      "210.0\n",
      "360.0\n"
     ]
    },
    {
     "name": "stderr",
     "output_type": "stream",
     "text": [
      "IMAGEIO FFMPEG_WRITER WARNING: input image is not divisible by macro_block_size=16, resizing from (700, 700) to (704, 704) to ensure video compatibility with most codecs and players. To prevent resizing, make your input image divisible by the macro_block_size or set the macro_block_size to 1 (risking incompatibility).\n"
     ]
    },
    {
     "name": "stdout",
     "output_type": "stream",
     "text": [
      "124\n"
     ]
    },
    {
     "name": "stderr",
     "output_type": "stream",
     "text": [
      "[swscaler @ 0x600fa80] Warning: data is not aligned! This can lead to a speed loss\n"
     ]
    },
    {
     "name": "stdout",
     "output_type": "stream",
     "text": [
      "180.0\n",
      "570.0\n",
      "390.0\n",
      "210.0\n",
      "0.0\n",
      "150.0\n",
      "150.0\n",
      "150.0\n",
      "120.0\n",
      "360.0\n",
      "Evaluation Reward for episode 14000 is: 256.2\n",
      "on episode 14016, curr epsilon 0.05 (time taken so far: 0-00:48:13.0)\n",
      "     mean loss: adversary 113474.77658284426\n",
      "     mean reward: adversary 207.31235953862296, agent -114.29758113340871\n",
      "on episode 14048, curr epsilon 0.05 (time taken so far: 0-00:48:19.0)\n",
      "     mean loss: adversary 110847.30803406547\n",
      "     mean reward: adversary 202.09391848111443, agent -112.51397548937288\n",
      "on episode 14080, curr epsilon 0.05 (time taken so far: 0-00:48:25.0)\n",
      "     mean loss: adversary 110812.65307065414\n",
      "     mean reward: adversary 156.58112937542984, agent -87.38407334936916\n",
      "on episode 14112, curr epsilon 0.05 (time taken so far: 0-00:48:30.0)\n",
      "     mean loss: adversary 111510.2413526212\n",
      "     mean reward: adversary 124.25390126536759, agent -83.86606879233884\n",
      "on episode 14144, curr epsilon 0.05 (time taken so far: 0-00:48:36.0)\n",
      "     mean loss: adversary 108337.32480177138\n",
      "     mean reward: adversary 147.53599801100333, agent -88.92175599331478\n",
      "on episode 14176, curr epsilon 0.05 (time taken so far: 0-00:48:42.0)\n",
      "     mean loss: adversary 110940.86786028848\n",
      "     mean reward: adversary 194.99891378522852, agent -105.29852129752845\n",
      "on episode 14208, curr epsilon 0.05 (time taken so far: 0-00:48:48.0)\n",
      "     mean loss: adversary 112093.72578462347\n",
      "     mean reward: adversary 168.94757760149457, agent -105.2159282526748\n",
      "on episode 14240, curr epsilon 0.05 (time taken so far: 0-00:48:53.0)\n",
      "     mean loss: adversary 112718.89326222303\n",
      "     mean reward: adversary 131.11171873557257, agent -89.43546220125303\n",
      "on episode 14272, curr epsilon 0.05 (time taken so far: 0-00:48:59.0)\n",
      "     mean loss: adversary 111043.38280779566\n",
      "     mean reward: adversary 196.17250483761808, agent -106.04846757259179\n",
      "on episode 14304, curr epsilon 0.05 (time taken so far: 0-00:49:5.0)\n",
      "     mean loss: adversary 112967.04994402312\n",
      "     mean reward: adversary 205.3474093793256, agent -114.49634225467685\n",
      "on episode 14336, curr epsilon 0.05 (time taken so far: 0-00:49:11.0)\n",
      "     mean loss: adversary 109762.34577617544\n",
      "     mean reward: adversary 182.54412677783864, agent -107.5500386437675\n",
      "on episode 14368, curr epsilon 0.05 (time taken so far: 0-00:49:17.0)\n",
      "     mean loss: adversary 106296.14671513837\n",
      "     mean reward: adversary 217.50607912933668, agent -117.8152783749514\n",
      "on episode 14400, curr epsilon 0.05 (time taken so far: 0-00:49:22.0)\n",
      "     mean loss: adversary 111289.90421898683\n",
      "     mean reward: adversary 243.1585011791821, agent -123.70364759252499\n",
      "on episode 14432, curr epsilon 0.05 (time taken so far: 0-00:49:28.0)\n",
      "     mean loss: adversary 111251.7776537571\n",
      "     mean reward: adversary 176.65122387559012, agent -98.68827026343953\n",
      "on episode 14464, curr epsilon 0.05 (time taken so far: 0-00:49:34.0)\n",
      "     mean loss: adversary 111537.69267951444\n",
      "     mean reward: adversary 225.17528615810085, agent -118.04726412159492\n",
      "on episode 14496, curr epsilon 0.05 (time taken so far: 0-00:49:39.0)\n",
      "     mean loss: adversary 121133.94702822546\n",
      "     mean reward: adversary 157.3477210243953, agent -98.82517060412678\n"
     ]
    },
    {
     "name": "stderr",
     "output_type": "stream",
     "text": [
      "IMAGEIO FFMPEG_WRITER WARNING: input image is not divisible by macro_block_size=16, resizing from (700, 700) to (704, 704) to ensure video compatibility with most codecs and players. To prevent resizing, make your input image divisible by the macro_block_size or set the macro_block_size to 1 (risking incompatibility).\n"
     ]
    },
    {
     "name": "stdout",
     "output_type": "stream",
     "text": [
      "124\n"
     ]
    },
    {
     "name": "stderr",
     "output_type": "stream",
     "text": [
      "[swscaler @ 0x6777a80] Warning: data is not aligned! This can lead to a speed loss\n"
     ]
    },
    {
     "name": "stdout",
     "output_type": "stream",
     "text": [
      "0.0\n",
      "0.0\n",
      "30.0\n",
      "30.0\n",
      "0.0\n",
      "0.0\n",
      "120.0\n",
      "60.0\n",
      "0.0\n",
      "0.0\n"
     ]
    },
    {
     "name": "stderr",
     "output_type": "stream",
     "text": [
      "IMAGEIO FFMPEG_WRITER WARNING: input image is not divisible by macro_block_size=16, resizing from (700, 700) to (704, 704) to ensure video compatibility with most codecs and players. To prevent resizing, make your input image divisible by the macro_block_size or set the macro_block_size to 1 (risking incompatibility).\n"
     ]
    },
    {
     "name": "stdout",
     "output_type": "stream",
     "text": [
      "124\n"
     ]
    },
    {
     "name": "stderr",
     "output_type": "stream",
     "text": [
      "[swscaler @ 0x6a2fa80] Warning: data is not aligned! This can lead to a speed loss\n"
     ]
    },
    {
     "name": "stdout",
     "output_type": "stream",
     "text": [
      "0.0\n",
      "0.0\n",
      "0.0\n",
      "0.0\n",
      "0.0\n",
      "0.0\n",
      "0.0\n",
      "0.0\n",
      "0.0\n",
      "0.0\n"
     ]
    },
    {
     "name": "stderr",
     "output_type": "stream",
     "text": [
      "IMAGEIO FFMPEG_WRITER WARNING: input image is not divisible by macro_block_size=16, resizing from (700, 700) to (704, 704) to ensure video compatibility with most codecs and players. To prevent resizing, make your input image divisible by the macro_block_size or set the macro_block_size to 1 (risking incompatibility).\n"
     ]
    },
    {
     "name": "stdout",
     "output_type": "stream",
     "text": [
      "124\n"
     ]
    },
    {
     "name": "stderr",
     "output_type": "stream",
     "text": [
      "[swscaler @ 0x5b42a80] Warning: data is not aligned! This can lead to a speed loss\n"
     ]
    },
    {
     "name": "stdout",
     "output_type": "stream",
     "text": [
      "0.0\n",
      "0.0\n",
      "0.0\n",
      "0.0\n",
      "0.0\n",
      "0.0\n",
      "0.0\n",
      "0.0\n",
      "0.0\n",
      "0.0\n"
     ]
    },
    {
     "name": "stderr",
     "output_type": "stream",
     "text": [
      "IMAGEIO FFMPEG_WRITER WARNING: input image is not divisible by macro_block_size=16, resizing from (700, 700) to (704, 704) to ensure video compatibility with most codecs and players. To prevent resizing, make your input image divisible by the macro_block_size or set the macro_block_size to 1 (risking incompatibility).\n"
     ]
    },
    {
     "name": "stdout",
     "output_type": "stream",
     "text": [
      "124\n"
     ]
    },
    {
     "name": "stderr",
     "output_type": "stream",
     "text": [
      "[swscaler @ 0x6f17a80] Warning: data is not aligned! This can lead to a speed loss\n"
     ]
    },
    {
     "name": "stdout",
     "output_type": "stream",
     "text": [
      "0.0\n",
      "0.0\n",
      "0.0\n",
      "0.0\n",
      "0.0\n",
      "0.0\n",
      "0.0\n",
      "0.0\n",
      "0.0\n",
      "60.0\n"
     ]
    },
    {
     "name": "stderr",
     "output_type": "stream",
     "text": [
      "IMAGEIO FFMPEG_WRITER WARNING: input image is not divisible by macro_block_size=16, resizing from (700, 700) to (704, 704) to ensure video compatibility with most codecs and players. To prevent resizing, make your input image divisible by the macro_block_size or set the macro_block_size to 1 (risking incompatibility).\n"
     ]
    },
    {
     "name": "stdout",
     "output_type": "stream",
     "text": [
      "124\n"
     ]
    },
    {
     "name": "stderr",
     "output_type": "stream",
     "text": [
      "[swscaler @ 0x638fa80] Warning: data is not aligned! This can lead to a speed loss\n"
     ]
    },
    {
     "name": "stdout",
     "output_type": "stream",
     "text": [
      "0.0\n",
      "0.0\n",
      "60.0\n",
      "60.0\n",
      "0.0\n",
      "0.0\n",
      "0.0\n",
      "0.0\n",
      "0.0\n",
      "0.0\n"
     ]
    },
    {
     "name": "stderr",
     "output_type": "stream",
     "text": [
      "IMAGEIO FFMPEG_WRITER WARNING: input image is not divisible by macro_block_size=16, resizing from (700, 700) to (704, 704) to ensure video compatibility with most codecs and players. To prevent resizing, make your input image divisible by the macro_block_size or set the macro_block_size to 1 (risking incompatibility).\n"
     ]
    },
    {
     "name": "stdout",
     "output_type": "stream",
     "text": [
      "124\n"
     ]
    },
    {
     "name": "stderr",
     "output_type": "stream",
     "text": [
      "[swscaler @ 0x5e67a80] Warning: data is not aligned! This can lead to a speed loss\n"
     ]
    },
    {
     "name": "stdout",
     "output_type": "stream",
     "text": [
      "0.0\n",
      "60.0\n",
      "180.0\n",
      "30.0\n",
      "0.0\n",
      "0.0\n",
      "60.0\n",
      "30.0\n",
      "0.0\n",
      "0.0\n"
     ]
    },
    {
     "name": "stderr",
     "output_type": "stream",
     "text": [
      "IMAGEIO FFMPEG_WRITER WARNING: input image is not divisible by macro_block_size=16, resizing from (700, 700) to (704, 704) to ensure video compatibility with most codecs and players. To prevent resizing, make your input image divisible by the macro_block_size or set the macro_block_size to 1 (risking incompatibility).\n"
     ]
    },
    {
     "name": "stdout",
     "output_type": "stream",
     "text": [
      "124\n"
     ]
    },
    {
     "name": "stderr",
     "output_type": "stream",
     "text": [
      "[swscaler @ 0x67e8a80] Warning: data is not aligned! This can lead to a speed loss\n"
     ]
    },
    {
     "name": "stdout",
     "output_type": "stream",
     "text": [
      "0.0\n",
      "0.0\n",
      "0.0\n",
      "0.0\n",
      "60.0\n",
      "0.0\n",
      "0.0\n",
      "60.0\n",
      "60.0\n",
      "60.0\n"
     ]
    },
    {
     "name": "stderr",
     "output_type": "stream",
     "text": [
      "IMAGEIO FFMPEG_WRITER WARNING: input image is not divisible by macro_block_size=16, resizing from (700, 700) to (704, 704) to ensure video compatibility with most codecs and players. To prevent resizing, make your input image divisible by the macro_block_size or set the macro_block_size to 1 (risking incompatibility).\n"
     ]
    },
    {
     "name": "stdout",
     "output_type": "stream",
     "text": [
      "124\n"
     ]
    },
    {
     "name": "stderr",
     "output_type": "stream",
     "text": [
      "[swscaler @ 0x64c6a80] Warning: data is not aligned! This can lead to a speed loss\n"
     ]
    },
    {
     "name": "stdout",
     "output_type": "stream",
     "text": [
      "0.0\n",
      "0.0\n",
      "0.0\n",
      "0.0\n",
      "0.0\n",
      "60.0\n",
      "0.0\n",
      "30.0\n",
      "0.0\n",
      "0.0\n"
     ]
    },
    {
     "name": "stderr",
     "output_type": "stream",
     "text": [
      "IMAGEIO FFMPEG_WRITER WARNING: input image is not divisible by macro_block_size=16, resizing from (700, 700) to (704, 704) to ensure video compatibility with most codecs and players. To prevent resizing, make your input image divisible by the macro_block_size or set the macro_block_size to 1 (risking incompatibility).\n"
     ]
    },
    {
     "name": "stdout",
     "output_type": "stream",
     "text": [
      "124\n"
     ]
    },
    {
     "name": "stderr",
     "output_type": "stream",
     "text": [
      "[swscaler @ 0x6ab8a80] Warning: data is not aligned! This can lead to a speed loss\n"
     ]
    },
    {
     "name": "stdout",
     "output_type": "stream",
     "text": [
      "0.0\n",
      "0.0\n",
      "0.0\n",
      "0.0\n",
      "0.0\n",
      "0.0\n",
      "0.0\n",
      "0.0\n",
      "0.0\n",
      "0.0\n"
     ]
    },
    {
     "name": "stderr",
     "output_type": "stream",
     "text": [
      "IMAGEIO FFMPEG_WRITER WARNING: input image is not divisible by macro_block_size=16, resizing from (700, 700) to (704, 704) to ensure video compatibility with most codecs and players. To prevent resizing, make your input image divisible by the macro_block_size or set the macro_block_size to 1 (risking incompatibility).\n"
     ]
    },
    {
     "name": "stdout",
     "output_type": "stream",
     "text": [
      "124\n"
     ]
    },
    {
     "name": "stderr",
     "output_type": "stream",
     "text": [
      "[swscaler @ 0x61ada80] Warning: data is not aligned! This can lead to a speed loss\n"
     ]
    },
    {
     "name": "stdout",
     "output_type": "stream",
     "text": [
      "0.0\n",
      "0.0\n",
      "0.0\n",
      "0.0\n",
      "60.0\n",
      "0.0\n",
      "0.0\n",
      "0.0\n",
      "0.0\n",
      "0.0\n",
      "Evaluation Reward for episode 14500 is: 11.7\n",
      "on episode 14528, curr epsilon 0.05 (time taken so far: 0-00:49:57.0)\n",
      "     mean loss: adversary 126746.39658923028\n",
      "     mean reward: adversary 97.25003885394275, agent -71.23832611853918\n",
      "on episode 14560, curr epsilon 0.05 (time taken so far: 0-00:50:3.0)\n",
      "     mean loss: adversary 126697.0620385918\n",
      "     mean reward: adversary 149.97770584783603, agent -92.99524937790731\n",
      "on episode 14592, curr epsilon 0.05 (time taken so far: 0-00:50:9.0)\n",
      "     mean loss: adversary 125499.49454189876\n",
      "     mean reward: adversary 219.91340773728464, agent -119.58386146154956\n",
      "on episode 14624, curr epsilon 0.05 (time taken so far: 0-00:50:15.0)\n",
      "     mean loss: adversary 121525.24117704987\n",
      "     mean reward: adversary 225.42195395156142, agent -115.77185802790022\n",
      "on episode 14656, curr epsilon 0.05 (time taken so far: 0-00:50:21.0)\n",
      "     mean loss: adversary 129909.46580625587\n",
      "     mean reward: adversary 230.215469632336, agent -119.62624138843005\n",
      "on episode 14688, curr epsilon 0.05 (time taken so far: 0-00:50:27.0)\n",
      "     mean loss: adversary 131879.68914213503\n",
      "     mean reward: adversary 188.77046271415784, agent -98.14437858675477\n",
      "on episode 14720, curr epsilon 0.05 (time taken so far: 0-00:50:32.0)\n",
      "     mean loss: adversary 129139.1231320404\n",
      "     mean reward: adversary 214.66945323327312, agent -117.60416487016643\n",
      "on episode 14752, curr epsilon 0.05 (time taken so far: 0-00:50:38.0)\n",
      "     mean loss: adversary 127597.71492015567\n",
      "     mean reward: adversary 204.79086800624498, agent -110.46522964908726\n",
      "on episode 14784, curr epsilon 0.05 (time taken so far: 0-00:50:44.0)\n",
      "     mean loss: adversary 130195.64228878924\n",
      "     mean reward: adversary 199.94225132531673, agent -111.47362242553805\n",
      "on episode 14816, curr epsilon 0.05 (time taken so far: 0-00:50:50.0)\n",
      "     mean loss: adversary 139949.09677781636\n",
      "     mean reward: adversary 192.8681303899985, agent -107.92075831367518\n",
      "on episode 14848, curr epsilon 0.05 (time taken so far: 0-00:50:56.0)\n",
      "     mean loss: adversary 135997.8574021388\n",
      "     mean reward: adversary 159.60156817626645, agent -95.35685124866201\n",
      "on episode 14880, curr epsilon 0.05 (time taken so far: 0-00:51:2.0)\n",
      "     mean loss: adversary 137765.78906857283\n",
      "     mean reward: adversary 166.23724811659378, agent -94.57970389231515\n",
      "on episode 14912, curr epsilon 0.05 (time taken so far: 0-00:51:8.0)\n",
      "     mean loss: adversary 133775.89789398605\n",
      "     mean reward: adversary 206.47713293728827, agent -113.52418142559812\n",
      "on episode 14944, curr epsilon 0.05 (time taken so far: 0-00:51:14.0)\n",
      "     mean loss: adversary 145118.96519903312\n",
      "     mean reward: adversary 201.63009360231, agent -113.28018866808696\n",
      "on episode 14976, curr epsilon 0.05 (time taken so far: 0-00:51:20.0)\n",
      "     mean loss: adversary 142362.96484335593\n",
      "     mean reward: adversary 166.07145906450782, agent -94.40433095280372\n"
     ]
    },
    {
     "name": "stderr",
     "output_type": "stream",
     "text": [
      "IMAGEIO FFMPEG_WRITER WARNING: input image is not divisible by macro_block_size=16, resizing from (700, 700) to (704, 704) to ensure video compatibility with most codecs and players. To prevent resizing, make your input image divisible by the macro_block_size or set the macro_block_size to 1 (risking incompatibility).\n"
     ]
    },
    {
     "name": "stdout",
     "output_type": "stream",
     "text": [
      "124\n"
     ]
    },
    {
     "name": "stderr",
     "output_type": "stream",
     "text": [
      "[swscaler @ 0x624ca80] Warning: data is not aligned! This can lead to a speed loss\n"
     ]
    },
    {
     "name": "stdout",
     "output_type": "stream",
     "text": [
      "60.0\n",
      "90.0\n",
      "60.0\n",
      "330.0\n",
      "120.0\n",
      "90.0\n",
      "30.0\n",
      "240.0\n",
      "90.0\n",
      "0.0\n"
     ]
    },
    {
     "name": "stderr",
     "output_type": "stream",
     "text": [
      "IMAGEIO FFMPEG_WRITER WARNING: input image is not divisible by macro_block_size=16, resizing from (700, 700) to (704, 704) to ensure video compatibility with most codecs and players. To prevent resizing, make your input image divisible by the macro_block_size or set the macro_block_size to 1 (risking incompatibility).\n"
     ]
    },
    {
     "name": "stdout",
     "output_type": "stream",
     "text": [
      "124\n"
     ]
    },
    {
     "name": "stderr",
     "output_type": "stream",
     "text": [
      "[swscaler @ 0x71f7a80] Warning: data is not aligned! This can lead to a speed loss\n"
     ]
    },
    {
     "name": "stdout",
     "output_type": "stream",
     "text": [
      "30.0\n",
      "30.0\n",
      "120.0\n",
      "30.0\n",
      "270.0\n",
      "180.0\n",
      "60.0\n",
      "330.0\n",
      "30.0\n",
      "120.0\n"
     ]
    },
    {
     "name": "stderr",
     "output_type": "stream",
     "text": [
      "IMAGEIO FFMPEG_WRITER WARNING: input image is not divisible by macro_block_size=16, resizing from (700, 700) to (704, 704) to ensure video compatibility with most codecs and players. To prevent resizing, make your input image divisible by the macro_block_size or set the macro_block_size to 1 (risking incompatibility).\n"
     ]
    },
    {
     "name": "stdout",
     "output_type": "stream",
     "text": [
      "124\n"
     ]
    },
    {
     "name": "stderr",
     "output_type": "stream",
     "text": [
      "[swscaler @ 0x6416a80] Warning: data is not aligned! This can lead to a speed loss\n"
     ]
    },
    {
     "name": "stdout",
     "output_type": "stream",
     "text": [
      "300.0\n",
      "60.0\n",
      "0.0\n",
      "120.0\n",
      "30.0\n",
      "90.0\n",
      "120.0\n",
      "0.0\n",
      "30.0\n",
      "90.0\n"
     ]
    },
    {
     "name": "stderr",
     "output_type": "stream",
     "text": [
      "IMAGEIO FFMPEG_WRITER WARNING: input image is not divisible by macro_block_size=16, resizing from (700, 700) to (704, 704) to ensure video compatibility with most codecs and players. To prevent resizing, make your input image divisible by the macro_block_size or set the macro_block_size to 1 (risking incompatibility).\n"
     ]
    },
    {
     "name": "stdout",
     "output_type": "stream",
     "text": [
      "124\n"
     ]
    },
    {
     "name": "stderr",
     "output_type": "stream",
     "text": [
      "[swscaler @ 0x6e8ea80] Warning: data is not aligned! This can lead to a speed loss\n"
     ]
    },
    {
     "name": "stdout",
     "output_type": "stream",
     "text": [
      "30.0\n",
      "150.0\n",
      "390.0\n",
      "60.0\n",
      "30.0\n",
      "120.0\n",
      "60.0\n",
      "180.0\n",
      "0.0\n",
      "150.0\n"
     ]
    },
    {
     "name": "stderr",
     "output_type": "stream",
     "text": [
      "IMAGEIO FFMPEG_WRITER WARNING: input image is not divisible by macro_block_size=16, resizing from (700, 700) to (704, 704) to ensure video compatibility with most codecs and players. To prevent resizing, make your input image divisible by the macro_block_size or set the macro_block_size to 1 (risking incompatibility).\n"
     ]
    },
    {
     "name": "stdout",
     "output_type": "stream",
     "text": [
      "124\n"
     ]
    },
    {
     "name": "stderr",
     "output_type": "stream",
     "text": [
      "[swscaler @ 0x6d05a80] Warning: data is not aligned! This can lead to a speed loss\n"
     ]
    },
    {
     "name": "stdout",
     "output_type": "stream",
     "text": [
      "0.0\n",
      "60.0\n",
      "0.0\n",
      "150.0\n",
      "150.0\n",
      "90.0\n",
      "90.0\n",
      "180.0\n",
      "120.0\n",
      "60.0\n"
     ]
    },
    {
     "name": "stderr",
     "output_type": "stream",
     "text": [
      "IMAGEIO FFMPEG_WRITER WARNING: input image is not divisible by macro_block_size=16, resizing from (700, 700) to (704, 704) to ensure video compatibility with most codecs and players. To prevent resizing, make your input image divisible by the macro_block_size or set the macro_block_size to 1 (risking incompatibility).\n"
     ]
    },
    {
     "name": "stdout",
     "output_type": "stream",
     "text": [
      "124\n"
     ]
    },
    {
     "name": "stderr",
     "output_type": "stream",
     "text": [
      "[swscaler @ 0x5cd5a80] Warning: data is not aligned! This can lead to a speed loss\n"
     ]
    },
    {
     "name": "stdout",
     "output_type": "stream",
     "text": [
      "210.0\n",
      "0.0\n",
      "300.0\n",
      "60.0\n",
      "240.0\n",
      "0.0\n",
      "210.0\n",
      "240.0\n",
      "150.0\n",
      "390.0\n"
     ]
    },
    {
     "name": "stderr",
     "output_type": "stream",
     "text": [
      "IMAGEIO FFMPEG_WRITER WARNING: input image is not divisible by macro_block_size=16, resizing from (700, 700) to (704, 704) to ensure video compatibility with most codecs and players. To prevent resizing, make your input image divisible by the macro_block_size or set the macro_block_size to 1 (risking incompatibility).\n"
     ]
    },
    {
     "name": "stdout",
     "output_type": "stream",
     "text": [
      "124\n"
     ]
    },
    {
     "name": "stderr",
     "output_type": "stream",
     "text": [
      "[swscaler @ 0x6a6da80] Warning: data is not aligned! This can lead to a speed loss\n"
     ]
    },
    {
     "name": "stdout",
     "output_type": "stream",
     "text": [
      "60.0\n",
      "120.0\n",
      "60.0\n",
      "0.0\n",
      "120.0\n",
      "120.0\n",
      "30.0\n",
      "120.0\n",
      "60.0\n",
      "60.0\n"
     ]
    },
    {
     "name": "stderr",
     "output_type": "stream",
     "text": [
      "IMAGEIO FFMPEG_WRITER WARNING: input image is not divisible by macro_block_size=16, resizing from (700, 700) to (704, 704) to ensure video compatibility with most codecs and players. To prevent resizing, make your input image divisible by the macro_block_size or set the macro_block_size to 1 (risking incompatibility).\n"
     ]
    },
    {
     "name": "stdout",
     "output_type": "stream",
     "text": [
      "124\n"
     ]
    },
    {
     "name": "stderr",
     "output_type": "stream",
     "text": [
      "[swscaler @ 0x55b2a80] Warning: data is not aligned! This can lead to a speed loss\n"
     ]
    },
    {
     "name": "stdout",
     "output_type": "stream",
     "text": [
      "0.0\n",
      "0.0\n",
      "150.0\n",
      "330.0\n",
      "90.0\n",
      "180.0\n",
      "30.0\n",
      "0.0\n",
      "90.0\n",
      "120.0\n"
     ]
    },
    {
     "name": "stderr",
     "output_type": "stream",
     "text": [
      "IMAGEIO FFMPEG_WRITER WARNING: input image is not divisible by macro_block_size=16, resizing from (700, 700) to (704, 704) to ensure video compatibility with most codecs and players. To prevent resizing, make your input image divisible by the macro_block_size or set the macro_block_size to 1 (risking incompatibility).\n"
     ]
    },
    {
     "name": "stdout",
     "output_type": "stream",
     "text": [
      "124\n"
     ]
    },
    {
     "name": "stderr",
     "output_type": "stream",
     "text": [
      "[swscaler @ 0x74bba80] Warning: data is not aligned! This can lead to a speed loss\n"
     ]
    },
    {
     "name": "stdout",
     "output_type": "stream",
     "text": [
      "210.0\n",
      "360.0\n",
      "60.0\n",
      "0.0\n",
      "300.0\n",
      "0.0\n",
      "90.0\n",
      "300.0\n",
      "30.0\n",
      "0.0\n"
     ]
    },
    {
     "name": "stderr",
     "output_type": "stream",
     "text": [
      "IMAGEIO FFMPEG_WRITER WARNING: input image is not divisible by macro_block_size=16, resizing from (700, 700) to (704, 704) to ensure video compatibility with most codecs and players. To prevent resizing, make your input image divisible by the macro_block_size or set the macro_block_size to 1 (risking incompatibility).\n"
     ]
    },
    {
     "name": "stdout",
     "output_type": "stream",
     "text": [
      "124\n"
     ]
    },
    {
     "name": "stderr",
     "output_type": "stream",
     "text": [
      "[swscaler @ 0x7279a80] Warning: data is not aligned! This can lead to a speed loss\n"
     ]
    },
    {
     "name": "stdout",
     "output_type": "stream",
     "text": [
      "120.0\n",
      "90.0\n",
      "30.0\n",
      "120.0\n",
      "90.0\n",
      "30.0\n",
      "60.0\n",
      "150.0\n",
      "60.0\n",
      "0.0\n",
      "Evaluation Reward for episode 15000 is: 108.6\n",
      "on episode 15008, curr epsilon 0.05 (time taken so far: 0-00:51:38.0)\n",
      "     mean loss: adversary 146435.73455686864\n",
      "     mean reward: adversary 144.0344286472152, agent -93.32412225428538\n",
      "on episode 15040, curr epsilon 0.05 (time taken so far: 0-00:51:44.0)\n",
      "     mean loss: adversary 143602.48098460396\n",
      "     mean reward: adversary 151.5056570429947, agent -96.19115861317319\n",
      "on episode 15072, curr epsilon 0.05 (time taken so far: 0-00:51:50.0)\n",
      "     mean loss: adversary 146247.38620125057\n",
      "     mean reward: adversary 128.9529792468808, agent -87.01717690685373\n",
      "on episode 15104, curr epsilon 0.05 (time taken so far: 0-00:51:55.0)\n",
      "     mean loss: adversary 146380.9168107942\n",
      "     mean reward: adversary 206.70207503981666, agent -108.60253333191623\n",
      "on episode 15136, curr epsilon 0.05 (time taken so far: 0-00:52:1.0)\n",
      "     mean loss: adversary 160739.09192384186\n",
      "     mean reward: adversary 140.31222209849918, agent -87.12990358679183\n",
      "on episode 15168, curr epsilon 0.05 (time taken so far: 0-00:52:7.0)\n",
      "     mean loss: adversary 159972.93430708977\n",
      "     mean reward: adversary 144.08029565043037, agent -92.13045674447312\n",
      "on episode 15200, curr epsilon 0.05 (time taken so far: 0-00:52:13.0)\n",
      "     mean loss: adversary 157593.00170119037\n",
      "     mean reward: adversary 136.47195273846094, agent -81.0432246852522\n",
      "on episode 15232, curr epsilon 0.05 (time taken so far: 0-00:52:19.0)\n",
      "     mean loss: adversary 154398.5303105811\n",
      "     mean reward: adversary 234.5780044304933, agent -126.83490971047135\n",
      "on episode 15264, curr epsilon 0.05 (time taken so far: 0-00:52:25.0)\n",
      "     mean loss: adversary 149769.74130499724\n",
      "     mean reward: adversary 171.1454028951033, agent -97.46741385825973\n",
      "on episode 15296, curr epsilon 0.05 (time taken so far: 0-00:52:31.0)\n",
      "     mean loss: adversary 150265.34051956763\n",
      "     mean reward: adversary 184.53839567759627, agent -100.44406747258036\n",
      "on episode 15328, curr epsilon 0.05 (time taken so far: 0-00:52:37.0)\n",
      "     mean loss: adversary 150721.90564425223\n",
      "     mean reward: adversary 151.90887530452278, agent -92.15062195013411\n",
      "on episode 15360, curr epsilon 0.05 (time taken so far: 0-00:52:43.0)\n",
      "     mean loss: adversary 147021.6679006269\n",
      "     mean reward: adversary 179.33336003612627, agent -98.53495167755828\n",
      "on episode 15392, curr epsilon 0.05 (time taken so far: 0-00:52:49.0)\n",
      "     mean loss: adversary 146832.69690199633\n",
      "     mean reward: adversary 216.91689589398598, agent -115.83892967289094\n",
      "on episode 15424, curr epsilon 0.05 (time taken so far: 0-00:52:54.0)\n",
      "     mean loss: adversary 157932.44998682593\n",
      "     mean reward: adversary 172.29337457359202, agent -100.99066144122071\n",
      "on episode 15456, curr epsilon 0.05 (time taken so far: 0-00:53:0.0)\n",
      "     mean loss: adversary 158677.2245552543\n",
      "     mean reward: adversary 181.50510460727173, agent -110.2039619778294\n",
      "on episode 15488, curr epsilon 0.05 (time taken so far: 0-00:53:6.0)\n",
      "     mean loss: adversary 158275.98089276697\n",
      "     mean reward: adversary 161.43999597175275, agent -97.90378222296322\n"
     ]
    },
    {
     "name": "stderr",
     "output_type": "stream",
     "text": [
      "IMAGEIO FFMPEG_WRITER WARNING: input image is not divisible by macro_block_size=16, resizing from (700, 700) to (704, 704) to ensure video compatibility with most codecs and players. To prevent resizing, make your input image divisible by the macro_block_size or set the macro_block_size to 1 (risking incompatibility).\n"
     ]
    },
    {
     "name": "stdout",
     "output_type": "stream",
     "text": [
      "124\n"
     ]
    },
    {
     "name": "stderr",
     "output_type": "stream",
     "text": [
      "[swscaler @ 0x6f80a80] Warning: data is not aligned! This can lead to a speed loss\n"
     ]
    },
    {
     "name": "stdout",
     "output_type": "stream",
     "text": [
      "0.0\n",
      "30.0\n",
      "0.0\n",
      "0.0\n",
      "0.0\n",
      "0.0\n",
      "0.0\n",
      "330.0\n",
      "240.0\n",
      "840.0\n"
     ]
    },
    {
     "name": "stderr",
     "output_type": "stream",
     "text": [
      "IMAGEIO FFMPEG_WRITER WARNING: input image is not divisible by macro_block_size=16, resizing from (700, 700) to (704, 704) to ensure video compatibility with most codecs and players. To prevent resizing, make your input image divisible by the macro_block_size or set the macro_block_size to 1 (risking incompatibility).\n"
     ]
    },
    {
     "name": "stdout",
     "output_type": "stream",
     "text": [
      "124\n"
     ]
    },
    {
     "name": "stderr",
     "output_type": "stream",
     "text": [
      "[swscaler @ 0x684ea80] Warning: data is not aligned! This can lead to a speed loss\n"
     ]
    },
    {
     "name": "stdout",
     "output_type": "stream",
     "text": [
      "210.0\n",
      "60.0\n",
      "480.0\n",
      "0.0\n",
      "390.0\n",
      "0.0\n",
      "360.0\n",
      "0.0\n",
      "150.0\n",
      "90.0\n"
     ]
    },
    {
     "name": "stderr",
     "output_type": "stream",
     "text": [
      "IMAGEIO FFMPEG_WRITER WARNING: input image is not divisible by macro_block_size=16, resizing from (700, 700) to (704, 704) to ensure video compatibility with most codecs and players. To prevent resizing, make your input image divisible by the macro_block_size or set the macro_block_size to 1 (risking incompatibility).\n"
     ]
    },
    {
     "name": "stdout",
     "output_type": "stream",
     "text": [
      "124\n"
     ]
    },
    {
     "name": "stderr",
     "output_type": "stream",
     "text": [
      "[swscaler @ 0x5843a80] Warning: data is not aligned! This can lead to a speed loss\n"
     ]
    },
    {
     "name": "stdout",
     "output_type": "stream",
     "text": [
      "120.0\n",
      "60.0\n",
      "180.0\n",
      "0.0\n",
      "0.0\n",
      "300.0\n",
      "270.0\n",
      "0.0\n",
      "0.0\n",
      "0.0\n"
     ]
    },
    {
     "name": "stderr",
     "output_type": "stream",
     "text": [
      "IMAGEIO FFMPEG_WRITER WARNING: input image is not divisible by macro_block_size=16, resizing from (700, 700) to (704, 704) to ensure video compatibility with most codecs and players. To prevent resizing, make your input image divisible by the macro_block_size or set the macro_block_size to 1 (risking incompatibility).\n"
     ]
    },
    {
     "name": "stdout",
     "output_type": "stream",
     "text": [
      "124\n"
     ]
    },
    {
     "name": "stderr",
     "output_type": "stream",
     "text": [
      "[swscaler @ 0x5b44a80] Warning: data is not aligned! This can lead to a speed loss\n"
     ]
    },
    {
     "name": "stdout",
     "output_type": "stream",
     "text": [
      "0.0\n",
      "0.0\n",
      "120.0\n",
      "30.0\n",
      "30.0\n",
      "30.0\n",
      "600.0\n",
      "0.0\n",
      "0.0\n",
      "0.0\n"
     ]
    },
    {
     "name": "stderr",
     "output_type": "stream",
     "text": [
      "IMAGEIO FFMPEG_WRITER WARNING: input image is not divisible by macro_block_size=16, resizing from (700, 700) to (704, 704) to ensure video compatibility with most codecs and players. To prevent resizing, make your input image divisible by the macro_block_size or set the macro_block_size to 1 (risking incompatibility).\n"
     ]
    },
    {
     "name": "stdout",
     "output_type": "stream",
     "text": [
      "124\n"
     ]
    },
    {
     "name": "stderr",
     "output_type": "stream",
     "text": [
      "[swscaler @ 0x5732a80] Warning: data is not aligned! This can lead to a speed loss\n"
     ]
    },
    {
     "name": "stdout",
     "output_type": "stream",
     "text": [
      "0.0\n",
      "60.0\n",
      "240.0\n",
      "30.0\n",
      "330.0\n",
      "0.0\n",
      "210.0\n",
      "60.0\n",
      "0.0\n",
      "60.0\n"
     ]
    },
    {
     "name": "stderr",
     "output_type": "stream",
     "text": [
      "IMAGEIO FFMPEG_WRITER WARNING: input image is not divisible by macro_block_size=16, resizing from (700, 700) to (704, 704) to ensure video compatibility with most codecs and players. To prevent resizing, make your input image divisible by the macro_block_size or set the macro_block_size to 1 (risking incompatibility).\n"
     ]
    },
    {
     "name": "stdout",
     "output_type": "stream",
     "text": [
      "124\n"
     ]
    },
    {
     "name": "stderr",
     "output_type": "stream",
     "text": [
      "[swscaler @ 0x6de6a80] Warning: data is not aligned! This can lead to a speed loss\n"
     ]
    },
    {
     "name": "stdout",
     "output_type": "stream",
     "text": [
      "330.0\n",
      "0.0\n",
      "240.0\n",
      "210.0\n",
      "0.0\n",
      "390.0\n",
      "330.0\n",
      "0.0\n",
      "360.0\n",
      "0.0\n"
     ]
    },
    {
     "name": "stderr",
     "output_type": "stream",
     "text": [
      "IMAGEIO FFMPEG_WRITER WARNING: input image is not divisible by macro_block_size=16, resizing from (700, 700) to (704, 704) to ensure video compatibility with most codecs and players. To prevent resizing, make your input image divisible by the macro_block_size or set the macro_block_size to 1 (risking incompatibility).\n"
     ]
    },
    {
     "name": "stdout",
     "output_type": "stream",
     "text": [
      "124\n"
     ]
    },
    {
     "name": "stderr",
     "output_type": "stream",
     "text": [
      "[swscaler @ 0x63f5a80] Warning: data is not aligned! This can lead to a speed loss\n"
     ]
    },
    {
     "name": "stdout",
     "output_type": "stream",
     "text": [
      "0.0\n",
      "0.0\n",
      "0.0\n",
      "0.0\n",
      "120.0\n",
      "180.0\n",
      "90.0\n",
      "0.0\n",
      "30.0\n",
      "0.0\n"
     ]
    },
    {
     "name": "stderr",
     "output_type": "stream",
     "text": [
      "IMAGEIO FFMPEG_WRITER WARNING: input image is not divisible by macro_block_size=16, resizing from (700, 700) to (704, 704) to ensure video compatibility with most codecs and players. To prevent resizing, make your input image divisible by the macro_block_size or set the macro_block_size to 1 (risking incompatibility).\n"
     ]
    },
    {
     "name": "stdout",
     "output_type": "stream",
     "text": [
      "124\n"
     ]
    },
    {
     "name": "stderr",
     "output_type": "stream",
     "text": [
      "[swscaler @ 0x5a86a80] Warning: data is not aligned! This can lead to a speed loss\n"
     ]
    },
    {
     "name": "stdout",
     "output_type": "stream",
     "text": [
      "60.0\n",
      "180.0\n",
      "0.0\n",
      "0.0\n",
      "120.0\n",
      "120.0\n",
      "0.0\n",
      "0.0\n",
      "180.0\n",
      "810.0\n"
     ]
    },
    {
     "name": "stderr",
     "output_type": "stream",
     "text": [
      "IMAGEIO FFMPEG_WRITER WARNING: input image is not divisible by macro_block_size=16, resizing from (700, 700) to (704, 704) to ensure video compatibility with most codecs and players. To prevent resizing, make your input image divisible by the macro_block_size or set the macro_block_size to 1 (risking incompatibility).\n"
     ]
    },
    {
     "name": "stdout",
     "output_type": "stream",
     "text": [
      "124\n"
     ]
    },
    {
     "name": "stderr",
     "output_type": "stream",
     "text": [
      "[swscaler @ 0x7111a80] Warning: data is not aligned! This can lead to a speed loss\n"
     ]
    },
    {
     "name": "stdout",
     "output_type": "stream",
     "text": [
      "0.0\n",
      "390.0\n",
      "0.0\n",
      "0.0\n",
      "150.0\n",
      "180.0\n",
      "60.0\n",
      "270.0\n",
      "60.0\n",
      "0.0\n"
     ]
    },
    {
     "name": "stderr",
     "output_type": "stream",
     "text": [
      "IMAGEIO FFMPEG_WRITER WARNING: input image is not divisible by macro_block_size=16, resizing from (700, 700) to (704, 704) to ensure video compatibility with most codecs and players. To prevent resizing, make your input image divisible by the macro_block_size or set the macro_block_size to 1 (risking incompatibility).\n"
     ]
    },
    {
     "name": "stdout",
     "output_type": "stream",
     "text": [
      "124\n"
     ]
    },
    {
     "name": "stderr",
     "output_type": "stream",
     "text": [
      "[swscaler @ 0x5537a80] Warning: data is not aligned! This can lead to a speed loss\n"
     ]
    },
    {
     "name": "stdout",
     "output_type": "stream",
     "text": [
      "60.0\n",
      "0.0\n",
      "0.0\n",
      "450.0\n",
      "270.0\n",
      "990.0\n",
      "630.0\n",
      "120.0\n",
      "0.0\n",
      "450.0\n",
      "Evaluation Reward for episode 15500 is: 137.4\n",
      "on episode 15520, curr epsilon 0.05 (time taken so far: 0-00:53:23.0)\n",
      "     mean loss: adversary 152647.9459166684\n",
      "     mean reward: adversary 154.4617494244206, agent -94.58223650871395\n",
      "on episode 15552, curr epsilon 0.05 (time taken so far: 0-00:53:29.0)\n",
      "     mean loss: adversary 153073.2451234863\n",
      "     mean reward: adversary 175.94214591358948, agent -91.96288567275839\n",
      "on episode 15584, curr epsilon 0.05 (time taken so far: 0-00:53:35.0)\n",
      "     mean loss: adversary 146248.1147458841\n",
      "     mean reward: adversary 191.09473580680725, agent -114.19662591186737\n",
      "on episode 15616, curr epsilon 0.05 (time taken so far: 0-00:53:41.0)\n",
      "     mean loss: adversary 148766.09043914726\n",
      "     mean reward: adversary 196.61681203626117, agent -102.56029503625811\n",
      "on episode 15648, curr epsilon 0.05 (time taken so far: 0-00:53:47.0)\n",
      "     mean loss: adversary 149565.45442361612\n",
      "     mean reward: adversary 92.62037521545035, agent -71.53739781053768\n",
      "on episode 15680, curr epsilon 0.05 (time taken so far: 0-00:53:53.0)\n",
      "     mean loss: adversary 148357.7750454669\n",
      "     mean reward: adversary 150.00414568574257, agent -91.88929123853644\n",
      "on episode 15712, curr epsilon 0.05 (time taken so far: 0-00:53:59.0)\n",
      "     mean loss: adversary 154134.26580397083\n",
      "     mean reward: adversary 138.190683095546, agent -86.95893394881458\n",
      "on episode 15744, curr epsilon 0.05 (time taken so far: 0-00:54:5.0)\n",
      "     mean loss: adversary 158698.59057496453\n",
      "     mean reward: adversary 132.95433931495342, agent -88.71337636529546\n",
      "on episode 15776, curr epsilon 0.05 (time taken so far: 0-00:54:11.0)\n",
      "     mean loss: adversary 154265.20223842494\n",
      "     mean reward: adversary 168.0425080230915, agent -97.45748948558003\n",
      "on episode 15808, curr epsilon 0.05 (time taken so far: 0-00:54:17.0)\n",
      "     mean loss: adversary 152584.04476287795\n",
      "     mean reward: adversary 235.9837999387439, agent -120.46853553553515\n",
      "on episode 15840, curr epsilon 0.05 (time taken so far: 0-00:54:23.0)\n",
      "     mean loss: adversary 159054.71205305948\n",
      "     mean reward: adversary 176.18545101124488, agent -103.95910761692808\n",
      "on episode 15872, curr epsilon 0.05 (time taken so far: 0-00:54:29.0)\n",
      "     mean loss: adversary 163140.19218576068\n",
      "     mean reward: adversary 193.68437442627692, agent -112.85638016048341\n",
      "on episode 15904, curr epsilon 0.05 (time taken so far: 0-00:54:35.0)\n",
      "     mean loss: adversary 154450.83669213983\n",
      "     mean reward: adversary 172.30685008398393, agent -98.23972428368585\n",
      "on episode 15936, curr epsilon 0.05 (time taken so far: 0-00:54:41.0)\n",
      "     mean loss: adversary 160495.79772453711\n",
      "     mean reward: adversary 169.80018945533823, agent -102.54196667963453\n",
      "on episode 15968, curr epsilon 0.05 (time taken so far: 0-00:54:47.0)\n",
      "     mean loss: adversary 158137.83254445775\n",
      "     mean reward: adversary 163.56756943628994, agent -107.5316986127003\n",
      "on episode 16000, curr epsilon 0.05 (time taken so far: 0-00:54:53.0)\n",
      "     mean loss: adversary 153037.49284713896\n",
      "     mean reward: adversary 182.7453045271366, agent -107.55553979670717\n"
     ]
    },
    {
     "name": "stderr",
     "output_type": "stream",
     "text": [
      "IMAGEIO FFMPEG_WRITER WARNING: input image is not divisible by macro_block_size=16, resizing from (700, 700) to (704, 704) to ensure video compatibility with most codecs and players. To prevent resizing, make your input image divisible by the macro_block_size or set the macro_block_size to 1 (risking incompatibility).\n"
     ]
    },
    {
     "name": "stdout",
     "output_type": "stream",
     "text": [
      "124\n"
     ]
    },
    {
     "name": "stderr",
     "output_type": "stream",
     "text": [
      "[swscaler @ 0x5b6da80] Warning: data is not aligned! This can lead to a speed loss\n"
     ]
    },
    {
     "name": "stdout",
     "output_type": "stream",
     "text": [
      "360.0\n",
      "120.0\n",
      "330.0\n",
      "330.0\n",
      "420.0\n",
      "240.0\n",
      "570.0\n",
      "450.0\n",
      "330.0\n",
      "510.0\n"
     ]
    },
    {
     "name": "stderr",
     "output_type": "stream",
     "text": [
      "IMAGEIO FFMPEG_WRITER WARNING: input image is not divisible by macro_block_size=16, resizing from (700, 700) to (704, 704) to ensure video compatibility with most codecs and players. To prevent resizing, make your input image divisible by the macro_block_size or set the macro_block_size to 1 (risking incompatibility).\n"
     ]
    },
    {
     "name": "stdout",
     "output_type": "stream",
     "text": [
      "124\n"
     ]
    },
    {
     "name": "stderr",
     "output_type": "stream",
     "text": [
      "[swscaler @ 0x6bf3a80] Warning: data is not aligned! This can lead to a speed loss\n"
     ]
    },
    {
     "name": "stdout",
     "output_type": "stream",
     "text": [
      "240.0\n",
      "570.0\n",
      "1140.0\n",
      "1080.0\n",
      "240.0\n",
      "180.0\n",
      "180.0\n",
      "420.0\n",
      "450.0\n",
      "510.0\n"
     ]
    },
    {
     "name": "stderr",
     "output_type": "stream",
     "text": [
      "IMAGEIO FFMPEG_WRITER WARNING: input image is not divisible by macro_block_size=16, resizing from (700, 700) to (704, 704) to ensure video compatibility with most codecs and players. To prevent resizing, make your input image divisible by the macro_block_size or set the macro_block_size to 1 (risking incompatibility).\n"
     ]
    },
    {
     "name": "stdout",
     "output_type": "stream",
     "text": [
      "124\n"
     ]
    },
    {
     "name": "stderr",
     "output_type": "stream",
     "text": [
      "[swscaler @ 0x7441a80] Warning: data is not aligned! This can lead to a speed loss\n"
     ]
    },
    {
     "name": "stdout",
     "output_type": "stream",
     "text": [
      "30.0\n",
      "240.0\n",
      "150.0\n",
      "480.0\n",
      "150.0\n",
      "360.0\n",
      "540.0\n",
      "150.0\n",
      "270.0\n",
      "180.0\n"
     ]
    },
    {
     "name": "stderr",
     "output_type": "stream",
     "text": [
      "IMAGEIO FFMPEG_WRITER WARNING: input image is not divisible by macro_block_size=16, resizing from (700, 700) to (704, 704) to ensure video compatibility with most codecs and players. To prevent resizing, make your input image divisible by the macro_block_size or set the macro_block_size to 1 (risking incompatibility).\n"
     ]
    },
    {
     "name": "stdout",
     "output_type": "stream",
     "text": [
      "124\n"
     ]
    },
    {
     "name": "stderr",
     "output_type": "stream",
     "text": [
      "[swscaler @ 0x66e6a80] Warning: data is not aligned! This can lead to a speed loss\n"
     ]
    },
    {
     "name": "stdout",
     "output_type": "stream",
     "text": [
      "150.0\n",
      "90.0\n",
      "180.0\n",
      "270.0\n",
      "150.0\n",
      "600.0\n",
      "510.0\n",
      "390.0\n",
      "300.0\n",
      "390.0\n"
     ]
    },
    {
     "name": "stderr",
     "output_type": "stream",
     "text": [
      "IMAGEIO FFMPEG_WRITER WARNING: input image is not divisible by macro_block_size=16, resizing from (700, 700) to (704, 704) to ensure video compatibility with most codecs and players. To prevent resizing, make your input image divisible by the macro_block_size or set the macro_block_size to 1 (risking incompatibility).\n"
     ]
    },
    {
     "name": "stdout",
     "output_type": "stream",
     "text": [
      "124\n"
     ]
    },
    {
     "name": "stderr",
     "output_type": "stream",
     "text": [
      "[swscaler @ 0x65b5a80] Warning: data is not aligned! This can lead to a speed loss\n"
     ]
    },
    {
     "name": "stdout",
     "output_type": "stream",
     "text": [
      "90.0\n",
      "360.0\n",
      "660.0\n",
      "420.0\n",
      "420.0\n",
      "300.0\n",
      "180.0\n",
      "510.0\n",
      "450.0\n",
      "660.0\n"
     ]
    },
    {
     "name": "stderr",
     "output_type": "stream",
     "text": [
      "IMAGEIO FFMPEG_WRITER WARNING: input image is not divisible by macro_block_size=16, resizing from (700, 700) to (704, 704) to ensure video compatibility with most codecs and players. To prevent resizing, make your input image divisible by the macro_block_size or set the macro_block_size to 1 (risking incompatibility).\n"
     ]
    },
    {
     "name": "stdout",
     "output_type": "stream",
     "text": [
      "124\n"
     ]
    },
    {
     "name": "stderr",
     "output_type": "stream",
     "text": [
      "[swscaler @ 0x713fa80] Warning: data is not aligned! This can lead to a speed loss\n"
     ]
    },
    {
     "name": "stdout",
     "output_type": "stream",
     "text": [
      "300.0\n",
      "450.0\n",
      "240.0\n",
      "240.0\n",
      "300.0\n",
      "300.0\n",
      "330.0\n",
      "240.0\n",
      "180.0\n",
      "210.0\n"
     ]
    },
    {
     "name": "stderr",
     "output_type": "stream",
     "text": [
      "IMAGEIO FFMPEG_WRITER WARNING: input image is not divisible by macro_block_size=16, resizing from (700, 700) to (704, 704) to ensure video compatibility with most codecs and players. To prevent resizing, make your input image divisible by the macro_block_size or set the macro_block_size to 1 (risking incompatibility).\n"
     ]
    },
    {
     "name": "stdout",
     "output_type": "stream",
     "text": [
      "124\n"
     ]
    },
    {
     "name": "stderr",
     "output_type": "stream",
     "text": [
      "[swscaler @ 0x72c7a80] Warning: data is not aligned! This can lead to a speed loss\n"
     ]
    },
    {
     "name": "stdout",
     "output_type": "stream",
     "text": [
      "660.0\n",
      "180.0\n",
      "240.0\n",
      "210.0\n",
      "450.0\n",
      "240.0\n",
      "630.0\n",
      "300.0\n",
      "510.0\n",
      "480.0\n"
     ]
    },
    {
     "name": "stderr",
     "output_type": "stream",
     "text": [
      "IMAGEIO FFMPEG_WRITER WARNING: input image is not divisible by macro_block_size=16, resizing from (700, 700) to (704, 704) to ensure video compatibility with most codecs and players. To prevent resizing, make your input image divisible by the macro_block_size or set the macro_block_size to 1 (risking incompatibility).\n"
     ]
    },
    {
     "name": "stdout",
     "output_type": "stream",
     "text": [
      "124\n"
     ]
    },
    {
     "name": "stderr",
     "output_type": "stream",
     "text": [
      "[swscaler @ 0x5787a80] Warning: data is not aligned! This can lead to a speed loss\n"
     ]
    },
    {
     "name": "stdout",
     "output_type": "stream",
     "text": [
      "840.0\n",
      "180.0\n",
      "270.0\n",
      "360.0\n",
      "720.0\n",
      "360.0\n",
      "270.0\n",
      "660.0\n",
      "240.0\n",
      "150.0\n"
     ]
    },
    {
     "name": "stderr",
     "output_type": "stream",
     "text": [
      "IMAGEIO FFMPEG_WRITER WARNING: input image is not divisible by macro_block_size=16, resizing from (700, 700) to (704, 704) to ensure video compatibility with most codecs and players. To prevent resizing, make your input image divisible by the macro_block_size or set the macro_block_size to 1 (risking incompatibility).\n"
     ]
    },
    {
     "name": "stdout",
     "output_type": "stream",
     "text": [
      "124\n"
     ]
    },
    {
     "name": "stderr",
     "output_type": "stream",
     "text": [
      "[swscaler @ 0x5c91a80] Warning: data is not aligned! This can lead to a speed loss\n"
     ]
    },
    {
     "name": "stdout",
     "output_type": "stream",
     "text": [
      "300.0\n",
      "330.0\n",
      "150.0\n",
      "120.0\n",
      "450.0\n",
      "420.0\n",
      "810.0\n",
      "750.0\n",
      "300.0\n",
      "180.0\n"
     ]
    },
    {
     "name": "stderr",
     "output_type": "stream",
     "text": [
      "IMAGEIO FFMPEG_WRITER WARNING: input image is not divisible by macro_block_size=16, resizing from (700, 700) to (704, 704) to ensure video compatibility with most codecs and players. To prevent resizing, make your input image divisible by the macro_block_size or set the macro_block_size to 1 (risking incompatibility).\n"
     ]
    },
    {
     "name": "stdout",
     "output_type": "stream",
     "text": [
      "124\n"
     ]
    },
    {
     "name": "stderr",
     "output_type": "stream",
     "text": [
      "[swscaler @ 0x571da80] Warning: data is not aligned! This can lead to a speed loss\n"
     ]
    },
    {
     "name": "stdout",
     "output_type": "stream",
     "text": [
      "390.0\n",
      "210.0\n",
      "450.0\n",
      "420.0\n",
      "30.0\n",
      "180.0\n",
      "510.0\n",
      "360.0\n",
      "420.0\n",
      "300.0\n",
      "Evaluation Reward for episode 16000 is: 361.2\n",
      "on episode 16032, curr epsilon 0.05 (time taken so far: 0-00:55:11.0)\n",
      "     mean loss: adversary 148855.7174232027\n",
      "     mean reward: adversary 209.6026492159629, agent -112.43601834655566\n",
      "on episode 16064, curr epsilon 0.05 (time taken so far: 0-00:55:17.0)\n",
      "     mean loss: adversary 157493.66481561225\n",
      "     mean reward: adversary 200.53598408420075, agent -109.72272750481288\n",
      "on episode 16096, curr epsilon 0.05 (time taken so far: 0-00:55:24.0)\n",
      "     mean loss: adversary 159531.9393179637\n",
      "     mean reward: adversary 172.14662368376764, agent -98.75947075567703\n",
      "on episode 16128, curr epsilon 0.05 (time taken so far: 0-00:55:30.0)\n",
      "     mean loss: adversary 155497.00403238094\n",
      "     mean reward: adversary 204.55575997512236, agent -116.19641754363404\n",
      "on episode 16160, curr epsilon 0.05 (time taken so far: 0-00:55:36.0)\n",
      "     mean loss: adversary 145144.43127643852\n",
      "     mean reward: adversary 180.85678312160866, agent -106.68907060618258\n",
      "on episode 16192, curr epsilon 0.05 (time taken so far: 0-00:55:42.0)\n",
      "     mean loss: adversary 143608.60581667058\n",
      "     mean reward: adversary 218.53171861260327, agent -113.67998795879501\n",
      "on episode 16224, curr epsilon 0.05 (time taken so far: 0-00:55:48.0)\n",
      "     mean loss: adversary 154106.38016589277\n",
      "     mean reward: adversary 149.8372086006835, agent -90.16731331566879\n",
      "on episode 16256, curr epsilon 0.05 (time taken so far: 0-00:55:55.0)\n",
      "     mean loss: adversary 149093.26661309408\n",
      "     mean reward: adversary 175.84149556142964, agent -102.21999971176716\n",
      "on episode 16288, curr epsilon 0.05 (time taken so far: 0-00:56:1.0)\n",
      "     mean loss: adversary 148819.34372809934\n",
      "     mean reward: adversary 130.17733372883617, agent -84.23378932590084\n",
      "on episode 16320, curr epsilon 0.05 (time taken so far: 0-00:56:7.0)\n",
      "     mean loss: adversary 146859.39229310135\n",
      "     mean reward: adversary 146.09168038435573, agent -95.48552429654418\n",
      "on episode 16352, curr epsilon 0.05 (time taken so far: 0-00:56:13.0)\n",
      "     mean loss: adversary 148443.0376794324\n",
      "     mean reward: adversary 147.1830713851505, agent -94.70040760711714\n",
      "on episode 16384, curr epsilon 0.05 (time taken so far: 0-00:56:18.0)\n",
      "     mean loss: adversary 158924.04328040482\n",
      "     mean reward: adversary 184.42551298768043, agent -109.88652314623005\n",
      "on episode 16416, curr epsilon 0.05 (time taken so far: 0-00:56:24.0)\n",
      "     mean loss: adversary 150961.46030433377\n",
      "     mean reward: adversary 176.48475011941025, agent -101.90154717767835\n",
      "on episode 16448, curr epsilon 0.05 (time taken so far: 0-00:56:30.0)\n",
      "     mean loss: adversary 157601.02648824247\n",
      "     mean reward: adversary 193.7395609772233, agent -103.5489596998272\n",
      "on episode 16480, curr epsilon 0.05 (time taken so far: 0-00:56:35.0)\n",
      "     mean loss: adversary 155392.1573036213\n",
      "     mean reward: adversary 202.35438577683982, agent -106.27499221642229\n"
     ]
    },
    {
     "name": "stderr",
     "output_type": "stream",
     "text": [
      "IMAGEIO FFMPEG_WRITER WARNING: input image is not divisible by macro_block_size=16, resizing from (700, 700) to (704, 704) to ensure video compatibility with most codecs and players. To prevent resizing, make your input image divisible by the macro_block_size or set the macro_block_size to 1 (risking incompatibility).\n"
     ]
    },
    {
     "name": "stdout",
     "output_type": "stream",
     "text": [
      "124\n"
     ]
    },
    {
     "name": "stderr",
     "output_type": "stream",
     "text": [
      "[swscaler @ 0x5849a80] Warning: data is not aligned! This can lead to a speed loss\n"
     ]
    },
    {
     "name": "stdout",
     "output_type": "stream",
     "text": [
      "0.0\n",
      "0.0\n",
      "0.0\n",
      "60.0\n",
      "0.0\n",
      "0.0\n",
      "0.0\n",
      "0.0\n",
      "0.0\n",
      "0.0\n"
     ]
    },
    {
     "name": "stderr",
     "output_type": "stream",
     "text": [
      "IMAGEIO FFMPEG_WRITER WARNING: input image is not divisible by macro_block_size=16, resizing from (700, 700) to (704, 704) to ensure video compatibility with most codecs and players. To prevent resizing, make your input image divisible by the macro_block_size or set the macro_block_size to 1 (risking incompatibility).\n"
     ]
    },
    {
     "name": "stdout",
     "output_type": "stream",
     "text": [
      "124\n"
     ]
    },
    {
     "name": "stderr",
     "output_type": "stream",
     "text": [
      "[swscaler @ 0x6a0ca80] Warning: data is not aligned! This can lead to a speed loss\n"
     ]
    },
    {
     "name": "stdout",
     "output_type": "stream",
     "text": [
      "270.0\n",
      "0.0\n",
      "0.0\n",
      "30.0\n",
      "0.0\n",
      "0.0\n",
      "0.0\n",
      "0.0\n",
      "60.0\n",
      "30.0\n"
     ]
    },
    {
     "name": "stderr",
     "output_type": "stream",
     "text": [
      "IMAGEIO FFMPEG_WRITER WARNING: input image is not divisible by macro_block_size=16, resizing from (700, 700) to (704, 704) to ensure video compatibility with most codecs and players. To prevent resizing, make your input image divisible by the macro_block_size or set the macro_block_size to 1 (risking incompatibility).\n"
     ]
    },
    {
     "name": "stdout",
     "output_type": "stream",
     "text": [
      "124\n"
     ]
    },
    {
     "name": "stderr",
     "output_type": "stream",
     "text": [
      "[swscaler @ 0x5ff1a80] Warning: data is not aligned! This can lead to a speed loss\n"
     ]
    },
    {
     "name": "stdout",
     "output_type": "stream",
     "text": [
      "0.0\n",
      "0.0\n",
      "0.0\n",
      "60.0\n",
      "0.0\n",
      "0.0\n",
      "0.0\n",
      "0.0\n",
      "0.0\n",
      "0.0\n"
     ]
    },
    {
     "name": "stderr",
     "output_type": "stream",
     "text": [
      "IMAGEIO FFMPEG_WRITER WARNING: input image is not divisible by macro_block_size=16, resizing from (700, 700) to (704, 704) to ensure video compatibility with most codecs and players. To prevent resizing, make your input image divisible by the macro_block_size or set the macro_block_size to 1 (risking incompatibility).\n"
     ]
    },
    {
     "name": "stdout",
     "output_type": "stream",
     "text": [
      "124\n"
     ]
    },
    {
     "name": "stderr",
     "output_type": "stream",
     "text": [
      "[swscaler @ 0x5b84a80] Warning: data is not aligned! This can lead to a speed loss\n"
     ]
    },
    {
     "name": "stdout",
     "output_type": "stream",
     "text": [
      "0.0\n",
      "0.0\n",
      "0.0\n",
      "0.0\n",
      "0.0\n",
      "0.0\n",
      "0.0\n",
      "0.0\n",
      "0.0\n",
      "0.0\n"
     ]
    },
    {
     "name": "stderr",
     "output_type": "stream",
     "text": [
      "IMAGEIO FFMPEG_WRITER WARNING: input image is not divisible by macro_block_size=16, resizing from (700, 700) to (704, 704) to ensure video compatibility with most codecs and players. To prevent resizing, make your input image divisible by the macro_block_size or set the macro_block_size to 1 (risking incompatibility).\n"
     ]
    },
    {
     "name": "stdout",
     "output_type": "stream",
     "text": [
      "124\n"
     ]
    },
    {
     "name": "stderr",
     "output_type": "stream",
     "text": [
      "[swscaler @ 0x6278a80] Warning: data is not aligned! This can lead to a speed loss\n"
     ]
    },
    {
     "name": "stdout",
     "output_type": "stream",
     "text": [
      "0.0\n",
      "30.0\n",
      "0.0\n",
      "0.0\n",
      "0.0\n",
      "0.0\n",
      "0.0\n",
      "30.0\n",
      "60.0\n",
      "30.0\n"
     ]
    },
    {
     "name": "stderr",
     "output_type": "stream",
     "text": [
      "IMAGEIO FFMPEG_WRITER WARNING: input image is not divisible by macro_block_size=16, resizing from (700, 700) to (704, 704) to ensure video compatibility with most codecs and players. To prevent resizing, make your input image divisible by the macro_block_size or set the macro_block_size to 1 (risking incompatibility).\n"
     ]
    },
    {
     "name": "stdout",
     "output_type": "stream",
     "text": [
      "124\n"
     ]
    },
    {
     "name": "stderr",
     "output_type": "stream",
     "text": [
      "[swscaler @ 0x6f18a80] Warning: data is not aligned! This can lead to a speed loss\n"
     ]
    },
    {
     "name": "stdout",
     "output_type": "stream",
     "text": [
      "0.0\n",
      "0.0\n",
      "0.0\n",
      "0.0\n",
      "0.0\n",
      "60.0\n",
      "0.0\n",
      "0.0\n",
      "0.0\n",
      "0.0\n"
     ]
    },
    {
     "name": "stderr",
     "output_type": "stream",
     "text": [
      "IMAGEIO FFMPEG_WRITER WARNING: input image is not divisible by macro_block_size=16, resizing from (700, 700) to (704, 704) to ensure video compatibility with most codecs and players. To prevent resizing, make your input image divisible by the macro_block_size or set the macro_block_size to 1 (risking incompatibility).\n"
     ]
    },
    {
     "name": "stdout",
     "output_type": "stream",
     "text": [
      "124\n"
     ]
    },
    {
     "name": "stderr",
     "output_type": "stream",
     "text": [
      "[swscaler @ 0x704aa80] Warning: data is not aligned! This can lead to a speed loss\n"
     ]
    },
    {
     "name": "stdout",
     "output_type": "stream",
     "text": [
      "30.0\n",
      "0.0\n",
      "0.0\n",
      "0.0\n",
      "0.0\n",
      "0.0\n",
      "30.0\n",
      "30.0\n",
      "0.0\n",
      "0.0\n"
     ]
    },
    {
     "name": "stderr",
     "output_type": "stream",
     "text": [
      "IMAGEIO FFMPEG_WRITER WARNING: input image is not divisible by macro_block_size=16, resizing from (700, 700) to (704, 704) to ensure video compatibility with most codecs and players. To prevent resizing, make your input image divisible by the macro_block_size or set the macro_block_size to 1 (risking incompatibility).\n"
     ]
    },
    {
     "name": "stdout",
     "output_type": "stream",
     "text": [
      "124\n"
     ]
    },
    {
     "name": "stderr",
     "output_type": "stream",
     "text": [
      "[swscaler @ 0x73b2a80] Warning: data is not aligned! This can lead to a speed loss\n"
     ]
    },
    {
     "name": "stdout",
     "output_type": "stream",
     "text": [
      "0.0\n",
      "0.0\n",
      "0.0\n",
      "0.0\n",
      "0.0\n",
      "0.0\n",
      "0.0\n",
      "0.0\n",
      "0.0\n",
      "0.0\n"
     ]
    },
    {
     "name": "stderr",
     "output_type": "stream",
     "text": [
      "IMAGEIO FFMPEG_WRITER WARNING: input image is not divisible by macro_block_size=16, resizing from (700, 700) to (704, 704) to ensure video compatibility with most codecs and players. To prevent resizing, make your input image divisible by the macro_block_size or set the macro_block_size to 1 (risking incompatibility).\n"
     ]
    },
    {
     "name": "stdout",
     "output_type": "stream",
     "text": [
      "124\n"
     ]
    },
    {
     "name": "stderr",
     "output_type": "stream",
     "text": [
      "[swscaler @ 0x5836a80] Warning: data is not aligned! This can lead to a speed loss\n"
     ]
    },
    {
     "name": "stdout",
     "output_type": "stream",
     "text": [
      "0.0\n",
      "0.0\n",
      "0.0\n",
      "60.0\n",
      "0.0\n",
      "30.0\n",
      "0.0\n",
      "0.0\n",
      "0.0\n",
      "30.0\n"
     ]
    },
    {
     "name": "stderr",
     "output_type": "stream",
     "text": [
      "IMAGEIO FFMPEG_WRITER WARNING: input image is not divisible by macro_block_size=16, resizing from (700, 700) to (704, 704) to ensure video compatibility with most codecs and players. To prevent resizing, make your input image divisible by the macro_block_size or set the macro_block_size to 1 (risking incompatibility).\n"
     ]
    },
    {
     "name": "stdout",
     "output_type": "stream",
     "text": [
      "124\n"
     ]
    },
    {
     "name": "stderr",
     "output_type": "stream",
     "text": [
      "[swscaler @ 0x5908a80] Warning: data is not aligned! This can lead to a speed loss\n"
     ]
    },
    {
     "name": "stdout",
     "output_type": "stream",
     "text": [
      "0.0\n",
      "0.0\n",
      "0.0\n",
      "0.0\n",
      "0.0\n",
      "0.0\n",
      "0.0\n",
      "0.0\n",
      "60.0\n",
      "0.0\n",
      "Evaluation Reward for episode 16500 is: 9.9\n",
      "on episode 16512, curr epsilon 0.05 (time taken so far: 0-00:56:53.0)\n",
      "     mean loss: adversary 156893.59338080062\n",
      "     mean reward: adversary 173.3846043425604, agent -100.29533156809013\n",
      "on episode 16544, curr epsilon 0.05 (time taken so far: 0-00:56:59.0)\n",
      "     mean loss: adversary 152010.23426386467\n",
      "     mean reward: adversary 200.39283609714514, agent -105.95156084775186\n",
      "on episode 16576, curr epsilon 0.05 (time taken so far: 0-00:57:5.0)\n",
      "     mean loss: adversary 163532.27275250628\n",
      "     mean reward: adversary 111.86714447143567, agent -75.57199294974964\n",
      "on episode 16608, curr epsilon 0.05 (time taken so far: 0-00:57:11.0)\n",
      "     mean loss: adversary 162742.47756054567\n",
      "     mean reward: adversary 169.56349673364312, agent -97.4004683467394\n",
      "on episode 16640, curr epsilon 0.05 (time taken so far: 0-00:57:17.0)\n",
      "     mean loss: adversary 160347.61965641065\n",
      "     mean reward: adversary 126.48228027620937, agent -80.71023863360205\n",
      "on episode 16672, curr epsilon 0.05 (time taken so far: 0-00:57:23.0)\n",
      "     mean loss: adversary 155886.02830062172\n",
      "     mean reward: adversary 168.72397199447826, agent -96.26646369519398\n",
      "on episode 16704, curr epsilon 0.05 (time taken so far: 0-00:57:28.0)\n",
      "     mean loss: adversary 154828.8016369473\n",
      "     mean reward: adversary 175.40486051163515, agent -102.36376938973072\n",
      "on episode 16736, curr epsilon 0.05 (time taken so far: 0-00:57:34.0)\n",
      "     mean loss: adversary 154532.4212304526\n",
      "     mean reward: adversary 237.83068869070541, agent -118.02666131603203\n",
      "on episode 16768, curr epsilon 0.05 (time taken so far: 0-00:57:40.0)\n",
      "     mean loss: adversary 160503.75517620935\n",
      "     mean reward: adversary 213.94877890025117, agent -107.62449062684595\n",
      "on episode 16800, curr epsilon 0.05 (time taken so far: 0-00:57:46.0)\n",
      "     mean loss: adversary 150603.43838965488\n",
      "     mean reward: adversary 187.19307270607717, agent -104.23427858921364\n",
      "on episode 16832, curr epsilon 0.05 (time taken so far: 0-00:57:52.0)\n",
      "     mean loss: adversary 150194.7699319006\n",
      "     mean reward: adversary 159.67075200157828, agent -96.23603114822289\n",
      "on episode 16864, curr epsilon 0.05 (time taken so far: 0-00:57:58.0)\n",
      "     mean loss: adversary 144215.25521129082\n",
      "     mean reward: adversary 169.56508263439164, agent -96.72654334589564\n",
      "on episode 16896, curr epsilon 0.05 (time taken so far: 0-00:58:4.0)\n",
      "     mean loss: adversary 143644.48804316614\n",
      "     mean reward: adversary 195.53455869928865, agent -107.84938881030853\n",
      "on episode 16928, curr epsilon 0.05 (time taken so far: 0-00:58:10.0)\n",
      "     mean loss: adversary 140989.2990464951\n",
      "     mean reward: adversary 172.85991164150164, agent -103.61126643563227\n",
      "on episode 16960, curr epsilon 0.05 (time taken so far: 0-00:58:16.0)\n",
      "     mean loss: adversary 137625.5833998334\n",
      "     mean reward: adversary 178.72057707336768, agent -103.70424399126861\n",
      "on episode 16992, curr epsilon 0.05 (time taken so far: 0-00:58:22.0)\n",
      "     mean loss: adversary 145191.54672988248\n",
      "     mean reward: adversary 162.4692197986687, agent -93.65425995644557\n"
     ]
    },
    {
     "name": "stderr",
     "output_type": "stream",
     "text": [
      "IMAGEIO FFMPEG_WRITER WARNING: input image is not divisible by macro_block_size=16, resizing from (700, 700) to (704, 704) to ensure video compatibility with most codecs and players. To prevent resizing, make your input image divisible by the macro_block_size or set the macro_block_size to 1 (risking incompatibility).\n"
     ]
    },
    {
     "name": "stdout",
     "output_type": "stream",
     "text": [
      "124\n"
     ]
    },
    {
     "name": "stderr",
     "output_type": "stream",
     "text": [
      "[swscaler @ 0x6dc0a80] Warning: data is not aligned! This can lead to a speed loss\n"
     ]
    },
    {
     "name": "stdout",
     "output_type": "stream",
     "text": [
      "0.0\n",
      "0.0\n",
      "0.0\n",
      "0.0\n",
      "0.0\n",
      "0.0\n",
      "0.0\n",
      "0.0\n",
      "0.0\n",
      "0.0\n"
     ]
    },
    {
     "name": "stderr",
     "output_type": "stream",
     "text": [
      "IMAGEIO FFMPEG_WRITER WARNING: input image is not divisible by macro_block_size=16, resizing from (700, 700) to (704, 704) to ensure video compatibility with most codecs and players. To prevent resizing, make your input image divisible by the macro_block_size or set the macro_block_size to 1 (risking incompatibility).\n"
     ]
    },
    {
     "name": "stdout",
     "output_type": "stream",
     "text": [
      "124\n"
     ]
    },
    {
     "name": "stderr",
     "output_type": "stream",
     "text": [
      "[swscaler @ 0x657ca80] Warning: data is not aligned! This can lead to a speed loss\n"
     ]
    },
    {
     "name": "stdout",
     "output_type": "stream",
     "text": [
      "0.0\n",
      "0.0\n",
      "0.0\n",
      "0.0\n",
      "0.0\n",
      "0.0\n",
      "0.0\n",
      "60.0\n",
      "0.0\n",
      "0.0\n"
     ]
    },
    {
     "name": "stderr",
     "output_type": "stream",
     "text": [
      "IMAGEIO FFMPEG_WRITER WARNING: input image is not divisible by macro_block_size=16, resizing from (700, 700) to (704, 704) to ensure video compatibility with most codecs and players. To prevent resizing, make your input image divisible by the macro_block_size or set the macro_block_size to 1 (risking incompatibility).\n"
     ]
    },
    {
     "name": "stdout",
     "output_type": "stream",
     "text": [
      "124\n"
     ]
    },
    {
     "name": "stderr",
     "output_type": "stream",
     "text": [
      "[swscaler @ 0x6987a80] Warning: data is not aligned! This can lead to a speed loss\n"
     ]
    },
    {
     "name": "stdout",
     "output_type": "stream",
     "text": [
      "0.0\n",
      "0.0\n",
      "0.0\n",
      "120.0\n",
      "0.0\n",
      "0.0\n",
      "30.0\n",
      "150.0\n",
      "0.0\n",
      "0.0\n"
     ]
    },
    {
     "name": "stderr",
     "output_type": "stream",
     "text": [
      "IMAGEIO FFMPEG_WRITER WARNING: input image is not divisible by macro_block_size=16, resizing from (700, 700) to (704, 704) to ensure video compatibility with most codecs and players. To prevent resizing, make your input image divisible by the macro_block_size or set the macro_block_size to 1 (risking incompatibility).\n"
     ]
    },
    {
     "name": "stdout",
     "output_type": "stream",
     "text": [
      "124\n"
     ]
    },
    {
     "name": "stderr",
     "output_type": "stream",
     "text": [
      "[swscaler @ 0x670ca80] Warning: data is not aligned! This can lead to a speed loss\n"
     ]
    },
    {
     "name": "stdout",
     "output_type": "stream",
     "text": [
      "0.0\n",
      "0.0\n",
      "0.0\n",
      "0.0\n",
      "0.0\n",
      "0.0\n",
      "0.0\n",
      "0.0\n",
      "60.0\n",
      "60.0\n"
     ]
    },
    {
     "name": "stderr",
     "output_type": "stream",
     "text": [
      "IMAGEIO FFMPEG_WRITER WARNING: input image is not divisible by macro_block_size=16, resizing from (700, 700) to (704, 704) to ensure video compatibility with most codecs and players. To prevent resizing, make your input image divisible by the macro_block_size or set the macro_block_size to 1 (risking incompatibility).\n"
     ]
    },
    {
     "name": "stdout",
     "output_type": "stream",
     "text": [
      "124\n"
     ]
    },
    {
     "name": "stderr",
     "output_type": "stream",
     "text": [
      "[swscaler @ 0x69d2a80] Warning: data is not aligned! This can lead to a speed loss\n"
     ]
    },
    {
     "name": "stdout",
     "output_type": "stream",
     "text": [
      "0.0\n",
      "60.0\n",
      "0.0\n",
      "0.0\n",
      "150.0\n",
      "0.0\n",
      "30.0\n",
      "150.0\n",
      "0.0\n",
      "120.0\n"
     ]
    },
    {
     "name": "stderr",
     "output_type": "stream",
     "text": [
      "IMAGEIO FFMPEG_WRITER WARNING: input image is not divisible by macro_block_size=16, resizing from (700, 700) to (704, 704) to ensure video compatibility with most codecs and players. To prevent resizing, make your input image divisible by the macro_block_size or set the macro_block_size to 1 (risking incompatibility).\n"
     ]
    },
    {
     "name": "stdout",
     "output_type": "stream",
     "text": [
      "124\n"
     ]
    },
    {
     "name": "stderr",
     "output_type": "stream",
     "text": [
      "[swscaler @ 0x6f7ca80] Warning: data is not aligned! This can lead to a speed loss\n"
     ]
    },
    {
     "name": "stdout",
     "output_type": "stream",
     "text": [
      "0.0\n",
      "0.0\n",
      "0.0\n",
      "0.0\n",
      "0.0\n",
      "0.0\n",
      "30.0\n",
      "60.0\n",
      "0.0\n",
      "0.0\n"
     ]
    },
    {
     "name": "stderr",
     "output_type": "stream",
     "text": [
      "IMAGEIO FFMPEG_WRITER WARNING: input image is not divisible by macro_block_size=16, resizing from (700, 700) to (704, 704) to ensure video compatibility with most codecs and players. To prevent resizing, make your input image divisible by the macro_block_size or set the macro_block_size to 1 (risking incompatibility).\n"
     ]
    },
    {
     "name": "stdout",
     "output_type": "stream",
     "text": [
      "124\n"
     ]
    },
    {
     "name": "stderr",
     "output_type": "stream",
     "text": [
      "[swscaler @ 0x574ba80] Warning: data is not aligned! This can lead to a speed loss\n"
     ]
    },
    {
     "name": "stdout",
     "output_type": "stream",
     "text": [
      "0.0\n",
      "0.0\n",
      "0.0\n",
      "0.0\n",
      "0.0\n",
      "0.0\n",
      "0.0\n",
      "0.0\n",
      "0.0\n",
      "0.0\n"
     ]
    },
    {
     "name": "stderr",
     "output_type": "stream",
     "text": [
      "IMAGEIO FFMPEG_WRITER WARNING: input image is not divisible by macro_block_size=16, resizing from (700, 700) to (704, 704) to ensure video compatibility with most codecs and players. To prevent resizing, make your input image divisible by the macro_block_size or set the macro_block_size to 1 (risking incompatibility).\n"
     ]
    },
    {
     "name": "stdout",
     "output_type": "stream",
     "text": [
      "124\n"
     ]
    },
    {
     "name": "stderr",
     "output_type": "stream",
     "text": [
      "[swscaler @ 0x6418a80] Warning: data is not aligned! This can lead to a speed loss\n"
     ]
    },
    {
     "name": "stdout",
     "output_type": "stream",
     "text": [
      "90.0\n",
      "0.0\n",
      "0.0\n",
      "0.0\n",
      "0.0\n",
      "0.0\n",
      "0.0\n",
      "30.0\n",
      "0.0\n",
      "0.0\n"
     ]
    },
    {
     "name": "stderr",
     "output_type": "stream",
     "text": [
      "IMAGEIO FFMPEG_WRITER WARNING: input image is not divisible by macro_block_size=16, resizing from (700, 700) to (704, 704) to ensure video compatibility with most codecs and players. To prevent resizing, make your input image divisible by the macro_block_size or set the macro_block_size to 1 (risking incompatibility).\n"
     ]
    },
    {
     "name": "stdout",
     "output_type": "stream",
     "text": [
      "124\n"
     ]
    },
    {
     "name": "stderr",
     "output_type": "stream",
     "text": [
      "[swscaler @ 0x5808a80] Warning: data is not aligned! This can lead to a speed loss\n"
     ]
    },
    {
     "name": "stdout",
     "output_type": "stream",
     "text": [
      "0.0\n",
      "0.0\n",
      "210.0\n",
      "0.0\n",
      "0.0\n",
      "0.0\n",
      "0.0\n",
      "0.0\n",
      "0.0\n",
      "0.0\n"
     ]
    },
    {
     "name": "stderr",
     "output_type": "stream",
     "text": [
      "IMAGEIO FFMPEG_WRITER WARNING: input image is not divisible by macro_block_size=16, resizing from (700, 700) to (704, 704) to ensure video compatibility with most codecs and players. To prevent resizing, make your input image divisible by the macro_block_size or set the macro_block_size to 1 (risking incompatibility).\n"
     ]
    },
    {
     "name": "stdout",
     "output_type": "stream",
     "text": [
      "124\n"
     ]
    },
    {
     "name": "stderr",
     "output_type": "stream",
     "text": [
      "[swscaler @ 0x58e9a80] Warning: data is not aligned! This can lead to a speed loss\n"
     ]
    },
    {
     "name": "stdout",
     "output_type": "stream",
     "text": [
      "0.0\n",
      "0.0\n",
      "0.0\n",
      "0.0\n",
      "0.0\n",
      "0.0\n",
      "0.0\n",
      "0.0\n",
      "0.0\n",
      "0.0\n",
      "Evaluation Reward for episode 17000 is: 14.1\n",
      "on episode 17024, curr epsilon 0.05 (time taken so far: 0-00:58:39.0)\n",
      "     mean loss: adversary 144747.13198257034\n",
      "     mean reward: adversary 205.87357394809564, agent -106.89226484352018\n",
      "on episode 17056, curr epsilon 0.05 (time taken so far: 0-00:58:45.0)\n",
      "     mean loss: adversary 140031.17600572403\n",
      "     mean reward: adversary 208.75630093513314, agent -115.38008113812818\n",
      "on episode 17088, curr epsilon 0.05 (time taken so far: 0-00:58:51.0)\n",
      "     mean loss: adversary 139850.48195142922\n",
      "     mean reward: adversary 201.97512232137157, agent -112.8795044123392\n",
      "on episode 17120, curr epsilon 0.05 (time taken so far: 0-00:58:57.0)\n",
      "     mean loss: adversary 148808.4881349202\n",
      "     mean reward: adversary 191.62635892436808, agent -105.91454743974091\n",
      "on episode 17152, curr epsilon 0.05 (time taken so far: 0-00:59:3.0)\n",
      "     mean loss: adversary 145892.09323354685\n",
      "     mean reward: adversary 212.88421446792844, agent -113.37422284981284\n",
      "on episode 17184, curr epsilon 0.05 (time taken so far: 0-00:59:9.0)\n",
      "     mean loss: adversary 146917.45598356938\n",
      "     mean reward: adversary 148.11528426791136, agent -89.53910423170568\n",
      "on episode 17216, curr epsilon 0.05 (time taken so far: 0-00:59:15.0)\n",
      "     mean loss: adversary 147056.5279385801\n",
      "     mean reward: adversary 140.70605873372398, agent -86.54895500743116\n",
      "on episode 17248, curr epsilon 0.05 (time taken so far: 0-00:59:21.0)\n",
      "     mean loss: adversary 142430.59797874728\n",
      "     mean reward: adversary 161.14487048601245, agent -100.37798576630763\n",
      "on episode 17280, curr epsilon 0.05 (time taken so far: 0-00:59:27.0)\n",
      "     mean loss: adversary 141633.79515654774\n",
      "     mean reward: adversary 180.20981376072953, agent -102.11282624897997\n",
      "on episode 17312, curr epsilon 0.05 (time taken so far: 0-00:59:33.0)\n",
      "     mean loss: adversary 143168.6413640529\n",
      "     mean reward: adversary 219.77722759296262, agent -119.7699334844585\n",
      "on episode 17344, curr epsilon 0.05 (time taken so far: 0-00:59:39.0)\n",
      "     mean loss: adversary 140941.9316561311\n",
      "     mean reward: adversary 255.32157616828576, agent -134.8228750280639\n",
      "on episode 17376, curr epsilon 0.05 (time taken so far: 0-00:59:46.0)\n",
      "     mean loss: adversary 151876.77742367028\n",
      "     mean reward: adversary 218.04244633886674, agent -115.24351120030293\n",
      "on episode 17408, curr epsilon 0.05 (time taken so far: 0-00:59:51.0)\n",
      "     mean loss: adversary 156253.26500897383\n",
      "     mean reward: adversary 141.85423857706795, agent -89.94102663344897\n",
      "on episode 17440, curr epsilon 0.05 (time taken so far: 0-00:59:57.0)\n",
      "     mean loss: adversary 154127.45842204333\n",
      "     mean reward: adversary 218.18342036866753, agent -126.89125618124709\n",
      "on episode 17472, curr epsilon 0.05 (time taken so far: 0-01:00:3.0)\n",
      "     mean loss: adversary 154662.22270721523\n",
      "     mean reward: adversary 209.06317901984528, agent -111.2705385655937\n"
     ]
    },
    {
     "name": "stderr",
     "output_type": "stream",
     "text": [
      "IMAGEIO FFMPEG_WRITER WARNING: input image is not divisible by macro_block_size=16, resizing from (700, 700) to (704, 704) to ensure video compatibility with most codecs and players. To prevent resizing, make your input image divisible by the macro_block_size or set the macro_block_size to 1 (risking incompatibility).\n"
     ]
    },
    {
     "name": "stdout",
     "output_type": "stream",
     "text": [
      "124\n"
     ]
    },
    {
     "name": "stderr",
     "output_type": "stream",
     "text": [
      "[swscaler @ 0x6e1aa80] Warning: data is not aligned! This can lead to a speed loss\n"
     ]
    },
    {
     "name": "stdout",
     "output_type": "stream",
     "text": [
      "0.0\n",
      "120.0\n",
      "0.0\n",
      "30.0\n",
      "0.0\n",
      "90.0\n",
      "60.0\n",
      "0.0\n",
      "0.0\n",
      "0.0\n"
     ]
    },
    {
     "name": "stderr",
     "output_type": "stream",
     "text": [
      "IMAGEIO FFMPEG_WRITER WARNING: input image is not divisible by macro_block_size=16, resizing from (700, 700) to (704, 704) to ensure video compatibility with most codecs and players. To prevent resizing, make your input image divisible by the macro_block_size or set the macro_block_size to 1 (risking incompatibility).\n"
     ]
    },
    {
     "name": "stdout",
     "output_type": "stream",
     "text": [
      "124\n"
     ]
    },
    {
     "name": "stderr",
     "output_type": "stream",
     "text": [
      "[swscaler @ 0x5c21a80] Warning: data is not aligned! This can lead to a speed loss\n"
     ]
    },
    {
     "name": "stdout",
     "output_type": "stream",
     "text": [
      "0.0\n",
      "0.0\n",
      "0.0\n",
      "60.0\n",
      "0.0\n",
      "60.0\n",
      "60.0\n",
      "0.0\n",
      "0.0\n",
      "180.0\n"
     ]
    },
    {
     "name": "stderr",
     "output_type": "stream",
     "text": [
      "IMAGEIO FFMPEG_WRITER WARNING: input image is not divisible by macro_block_size=16, resizing from (700, 700) to (704, 704) to ensure video compatibility with most codecs and players. To prevent resizing, make your input image divisible by the macro_block_size or set the macro_block_size to 1 (risking incompatibility).\n"
     ]
    },
    {
     "name": "stdout",
     "output_type": "stream",
     "text": [
      "124\n"
     ]
    },
    {
     "name": "stderr",
     "output_type": "stream",
     "text": [
      "[swscaler @ 0x6413a80] Warning: data is not aligned! This can lead to a speed loss\n"
     ]
    },
    {
     "name": "stdout",
     "output_type": "stream",
     "text": [
      "60.0\n",
      "60.0\n",
      "0.0\n",
      "0.0\n",
      "0.0\n",
      "30.0\n",
      "30.0\n",
      "0.0\n",
      "0.0\n",
      "0.0\n"
     ]
    },
    {
     "name": "stderr",
     "output_type": "stream",
     "text": [
      "IMAGEIO FFMPEG_WRITER WARNING: input image is not divisible by macro_block_size=16, resizing from (700, 700) to (704, 704) to ensure video compatibility with most codecs and players. To prevent resizing, make your input image divisible by the macro_block_size or set the macro_block_size to 1 (risking incompatibility).\n"
     ]
    },
    {
     "name": "stdout",
     "output_type": "stream",
     "text": [
      "124\n"
     ]
    },
    {
     "name": "stderr",
     "output_type": "stream",
     "text": [
      "[swscaler @ 0x58e2a80] Warning: data is not aligned! This can lead to a speed loss\n"
     ]
    },
    {
     "name": "stdout",
     "output_type": "stream",
     "text": [
      "30.0\n",
      "60.0\n",
      "0.0\n",
      "0.0\n",
      "0.0\n",
      "0.0\n",
      "0.0\n",
      "30.0\n",
      "60.0\n",
      "0.0\n"
     ]
    },
    {
     "name": "stderr",
     "output_type": "stream",
     "text": [
      "IMAGEIO FFMPEG_WRITER WARNING: input image is not divisible by macro_block_size=16, resizing from (700, 700) to (704, 704) to ensure video compatibility with most codecs and players. To prevent resizing, make your input image divisible by the macro_block_size or set the macro_block_size to 1 (risking incompatibility).\n"
     ]
    },
    {
     "name": "stdout",
     "output_type": "stream",
     "text": [
      "124\n"
     ]
    },
    {
     "name": "stderr",
     "output_type": "stream",
     "text": [
      "[swscaler @ 0x5a6ea80] Warning: data is not aligned! This can lead to a speed loss\n"
     ]
    },
    {
     "name": "stdout",
     "output_type": "stream",
     "text": [
      "150.0\n",
      "0.0\n",
      "0.0\n",
      "0.0\n",
      "30.0\n",
      "120.0\n",
      "510.0\n",
      "0.0\n",
      "0.0\n",
      "0.0\n"
     ]
    },
    {
     "name": "stderr",
     "output_type": "stream",
     "text": [
      "IMAGEIO FFMPEG_WRITER WARNING: input image is not divisible by macro_block_size=16, resizing from (700, 700) to (704, 704) to ensure video compatibility with most codecs and players. To prevent resizing, make your input image divisible by the macro_block_size or set the macro_block_size to 1 (risking incompatibility).\n"
     ]
    },
    {
     "name": "stdout",
     "output_type": "stream",
     "text": [
      "124\n"
     ]
    },
    {
     "name": "stderr",
     "output_type": "stream",
     "text": [
      "[swscaler @ 0x64a7a80] Warning: data is not aligned! This can lead to a speed loss\n"
     ]
    },
    {
     "name": "stdout",
     "output_type": "stream",
     "text": [
      "0.0\n",
      "0.0\n",
      "0.0\n",
      "0.0\n",
      "0.0\n",
      "0.0\n",
      "0.0\n",
      "0.0\n",
      "120.0\n",
      "0.0\n"
     ]
    },
    {
     "name": "stderr",
     "output_type": "stream",
     "text": [
      "IMAGEIO FFMPEG_WRITER WARNING: input image is not divisible by macro_block_size=16, resizing from (700, 700) to (704, 704) to ensure video compatibility with most codecs and players. To prevent resizing, make your input image divisible by the macro_block_size or set the macro_block_size to 1 (risking incompatibility).\n"
     ]
    },
    {
     "name": "stdout",
     "output_type": "stream",
     "text": [
      "124\n"
     ]
    },
    {
     "name": "stderr",
     "output_type": "stream",
     "text": [
      "[swscaler @ 0x5cada80] Warning: data is not aligned! This can lead to a speed loss\n"
     ]
    },
    {
     "name": "stdout",
     "output_type": "stream",
     "text": [
      "0.0\n",
      "210.0\n",
      "0.0\n",
      "0.0\n",
      "0.0\n",
      "0.0\n",
      "0.0\n",
      "0.0\n",
      "0.0\n",
      "0.0\n"
     ]
    },
    {
     "name": "stderr",
     "output_type": "stream",
     "text": [
      "IMAGEIO FFMPEG_WRITER WARNING: input image is not divisible by macro_block_size=16, resizing from (700, 700) to (704, 704) to ensure video compatibility with most codecs and players. To prevent resizing, make your input image divisible by the macro_block_size or set the macro_block_size to 1 (risking incompatibility).\n"
     ]
    },
    {
     "name": "stdout",
     "output_type": "stream",
     "text": [
      "124\n"
     ]
    },
    {
     "name": "stderr",
     "output_type": "stream",
     "text": [
      "[swscaler @ 0x640ea80] Warning: data is not aligned! This can lead to a speed loss\n"
     ]
    },
    {
     "name": "stdout",
     "output_type": "stream",
     "text": [
      "0.0\n",
      "30.0\n",
      "30.0\n",
      "30.0\n",
      "0.0\n",
      "30.0\n",
      "90.0\n",
      "60.0\n",
      "30.0\n",
      "30.0\n"
     ]
    },
    {
     "name": "stderr",
     "output_type": "stream",
     "text": [
      "IMAGEIO FFMPEG_WRITER WARNING: input image is not divisible by macro_block_size=16, resizing from (700, 700) to (704, 704) to ensure video compatibility with most codecs and players. To prevent resizing, make your input image divisible by the macro_block_size or set the macro_block_size to 1 (risking incompatibility).\n"
     ]
    },
    {
     "name": "stdout",
     "output_type": "stream",
     "text": [
      "124\n"
     ]
    },
    {
     "name": "stderr",
     "output_type": "stream",
     "text": [
      "[swscaler @ 0x683ba80] Warning: data is not aligned! This can lead to a speed loss\n"
     ]
    },
    {
     "name": "stdout",
     "output_type": "stream",
     "text": [
      "0.0\n",
      "0.0\n",
      "0.0\n",
      "0.0\n",
      "60.0\n",
      "60.0\n",
      "0.0\n",
      "0.0\n",
      "0.0\n",
      "0.0\n"
     ]
    },
    {
     "name": "stderr",
     "output_type": "stream",
     "text": [
      "IMAGEIO FFMPEG_WRITER WARNING: input image is not divisible by macro_block_size=16, resizing from (700, 700) to (704, 704) to ensure video compatibility with most codecs and players. To prevent resizing, make your input image divisible by the macro_block_size or set the macro_block_size to 1 (risking incompatibility).\n"
     ]
    },
    {
     "name": "stdout",
     "output_type": "stream",
     "text": [
      "124\n"
     ]
    },
    {
     "name": "stderr",
     "output_type": "stream",
     "text": [
      "[swscaler @ 0x665da80] Warning: data is not aligned! This can lead to a speed loss\n"
     ]
    },
    {
     "name": "stdout",
     "output_type": "stream",
     "text": [
      "0.0\n",
      "0.0\n",
      "0.0\n",
      "60.0\n",
      "0.0\n",
      "0.0\n",
      "0.0\n",
      "0.0\n",
      "0.0\n",
      "0.0\n",
      "Evaluation Reward for episode 17500 is: 26.7\n",
      "on episode 17504, curr epsilon 0.05 (time taken so far: 0-01:00:20.0)\n",
      "     mean loss: adversary 162463.01699250602\n",
      "     mean reward: adversary 117.5581484767177, agent -79.1822411140078\n",
      "on episode 17536, curr epsilon 0.05 (time taken so far: 0-01:00:26.0)\n",
      "     mean loss: adversary 158022.425311618\n",
      "     mean reward: adversary 153.3653936995451, agent -97.05142613899748\n",
      "on episode 17568, curr epsilon 0.05 (time taken so far: 0-01:00:33.0)\n",
      "     mean loss: adversary 154767.44294894644\n",
      "     mean reward: adversary 139.63328335812653, agent -79.56634605176635\n",
      "on episode 17600, curr epsilon 0.05 (time taken so far: 0-01:00:39.0)\n",
      "     mean loss: adversary 155674.84039407267\n",
      "     mean reward: adversary 206.4517629581073, agent -119.68175851593463\n",
      "on episode 17632, curr epsilon 0.05 (time taken so far: 0-01:00:45.0)\n",
      "     mean loss: adversary 152869.3492179541\n",
      "     mean reward: adversary 213.40729942891494, agent -106.42314589662257\n",
      "on episode 17664, curr epsilon 0.05 (time taken so far: 0-01:00:51.0)\n",
      "     mean loss: adversary 153689.9813217102\n",
      "     mean reward: adversary 179.083458063414, agent -101.61510941587217\n",
      "on episode 17696, curr epsilon 0.05 (time taken so far: 0-01:00:56.0)\n",
      "     mean loss: adversary 150559.4921647943\n",
      "     mean reward: adversary 170.99175851724078, agent -100.38665716079676\n",
      "on episode 17728, curr epsilon 0.05 (time taken so far: 0-01:01:2.0)\n",
      "     mean loss: adversary 150855.34965636238\n",
      "     mean reward: adversary 250.28062089300434, agent -120.93666635647885\n",
      "on episode 17760, curr epsilon 0.05 (time taken so far: 0-01:01:8.0)\n",
      "     mean loss: adversary 150927.65328407206\n",
      "     mean reward: adversary 233.4935189248865, agent -121.38550226290577\n",
      "on episode 17792, curr epsilon 0.05 (time taken so far: 0-01:01:14.0)\n",
      "     mean loss: adversary 145129.59937600596\n",
      "     mean reward: adversary 149.79733264400045, agent -92.07714570318284\n",
      "on episode 17824, curr epsilon 0.05 (time taken so far: 0-01:01:19.0)\n",
      "     mean loss: adversary 138712.25037427232\n",
      "     mean reward: adversary 263.58063948554997, agent -132.34472134455183\n",
      "on episode 17856, curr epsilon 0.05 (time taken so far: 0-01:01:25.0)\n",
      "     mean loss: adversary 136925.7011061855\n",
      "     mean reward: adversary 181.09099831066052, agent -101.8196125125754\n",
      "on episode 17888, curr epsilon 0.05 (time taken so far: 0-01:01:31.0)\n",
      "     mean loss: adversary 139328.38438156675\n",
      "     mean reward: adversary 204.18025442486973, agent -115.36304251224733\n",
      "on episode 17920, curr epsilon 0.05 (time taken so far: 0-01:01:37.0)\n",
      "     mean loss: adversary 142158.16598675773\n",
      "     mean reward: adversary 198.26330814487153, agent -103.06148120962477\n",
      "on episode 17952, curr epsilon 0.05 (time taken so far: 0-01:01:42.0)\n",
      "     mean loss: adversary 136609.0298995024\n",
      "     mean reward: adversary 231.1543819808958, agent -122.77767869712358\n",
      "on episode 17984, curr epsilon 0.05 (time taken so far: 0-01:01:48.0)\n",
      "     mean loss: adversary 133642.8112754499\n",
      "     mean reward: adversary 157.91826022938253, agent -99.61926738768169\n"
     ]
    },
    {
     "name": "stderr",
     "output_type": "stream",
     "text": [
      "IMAGEIO FFMPEG_WRITER WARNING: input image is not divisible by macro_block_size=16, resizing from (700, 700) to (704, 704) to ensure video compatibility with most codecs and players. To prevent resizing, make your input image divisible by the macro_block_size or set the macro_block_size to 1 (risking incompatibility).\n"
     ]
    },
    {
     "name": "stdout",
     "output_type": "stream",
     "text": [
      "124\n"
     ]
    },
    {
     "name": "stderr",
     "output_type": "stream",
     "text": [
      "[swscaler @ 0x5c00a80] Warning: data is not aligned! This can lead to a speed loss\n"
     ]
    },
    {
     "name": "stdout",
     "output_type": "stream",
     "text": [
      "270.0\n",
      "60.0\n",
      "120.0\n",
      "150.0\n",
      "180.0\n",
      "0.0\n",
      "330.0\n",
      "0.0\n",
      "60.0\n",
      "180.0\n"
     ]
    },
    {
     "name": "stderr",
     "output_type": "stream",
     "text": [
      "IMAGEIO FFMPEG_WRITER WARNING: input image is not divisible by macro_block_size=16, resizing from (700, 700) to (704, 704) to ensure video compatibility with most codecs and players. To prevent resizing, make your input image divisible by the macro_block_size or set the macro_block_size to 1 (risking incompatibility).\n"
     ]
    },
    {
     "name": "stdout",
     "output_type": "stream",
     "text": [
      "124\n"
     ]
    },
    {
     "name": "stderr",
     "output_type": "stream",
     "text": [
      "[swscaler @ 0x742aa80] Warning: data is not aligned! This can lead to a speed loss\n"
     ]
    },
    {
     "name": "stdout",
     "output_type": "stream",
     "text": [
      "30.0\n",
      "120.0\n",
      "90.0\n",
      "540.0\n",
      "150.0\n",
      "30.0\n",
      "240.0\n",
      "30.0\n",
      "180.0\n",
      "120.0\n"
     ]
    },
    {
     "name": "stderr",
     "output_type": "stream",
     "text": [
      "IMAGEIO FFMPEG_WRITER WARNING: input image is not divisible by macro_block_size=16, resizing from (700, 700) to (704, 704) to ensure video compatibility with most codecs and players. To prevent resizing, make your input image divisible by the macro_block_size or set the macro_block_size to 1 (risking incompatibility).\n"
     ]
    },
    {
     "name": "stdout",
     "output_type": "stream",
     "text": [
      "124\n"
     ]
    },
    {
     "name": "stderr",
     "output_type": "stream",
     "text": [
      "[swscaler @ 0x68a3a80] Warning: data is not aligned! This can lead to a speed loss\n"
     ]
    },
    {
     "name": "stdout",
     "output_type": "stream",
     "text": [
      "300.0\n",
      "60.0\n",
      "240.0\n",
      "0.0\n",
      "750.0\n",
      "150.0\n",
      "60.0\n",
      "240.0\n",
      "150.0\n",
      "180.0\n"
     ]
    },
    {
     "name": "stderr",
     "output_type": "stream",
     "text": [
      "IMAGEIO FFMPEG_WRITER WARNING: input image is not divisible by macro_block_size=16, resizing from (700, 700) to (704, 704) to ensure video compatibility with most codecs and players. To prevent resizing, make your input image divisible by the macro_block_size or set the macro_block_size to 1 (risking incompatibility).\n"
     ]
    },
    {
     "name": "stdout",
     "output_type": "stream",
     "text": [
      "124\n"
     ]
    },
    {
     "name": "stderr",
     "output_type": "stream",
     "text": [
      "[swscaler @ 0x5ceea80] Warning: data is not aligned! This can lead to a speed loss\n"
     ]
    },
    {
     "name": "stdout",
     "output_type": "stream",
     "text": [
      "90.0\n",
      "90.0\n",
      "270.0\n",
      "360.0\n",
      "360.0\n",
      "120.0\n",
      "120.0\n",
      "0.0\n",
      "300.0\n",
      "30.0\n"
     ]
    },
    {
     "name": "stderr",
     "output_type": "stream",
     "text": [
      "IMAGEIO FFMPEG_WRITER WARNING: input image is not divisible by macro_block_size=16, resizing from (700, 700) to (704, 704) to ensure video compatibility with most codecs and players. To prevent resizing, make your input image divisible by the macro_block_size or set the macro_block_size to 1 (risking incompatibility).\n"
     ]
    },
    {
     "name": "stdout",
     "output_type": "stream",
     "text": [
      "124\n"
     ]
    },
    {
     "name": "stderr",
     "output_type": "stream",
     "text": [
      "[swscaler @ 0x7320a80] Warning: data is not aligned! This can lead to a speed loss\n"
     ]
    },
    {
     "name": "stdout",
     "output_type": "stream",
     "text": [
      "390.0\n",
      "210.0\n",
      "210.0\n",
      "120.0\n",
      "0.0\n",
      "180.0\n",
      "240.0\n",
      "120.0\n",
      "30.0\n",
      "120.0\n"
     ]
    },
    {
     "name": "stderr",
     "output_type": "stream",
     "text": [
      "IMAGEIO FFMPEG_WRITER WARNING: input image is not divisible by macro_block_size=16, resizing from (700, 700) to (704, 704) to ensure video compatibility with most codecs and players. To prevent resizing, make your input image divisible by the macro_block_size or set the macro_block_size to 1 (risking incompatibility).\n"
     ]
    },
    {
     "name": "stdout",
     "output_type": "stream",
     "text": [
      "124\n"
     ]
    },
    {
     "name": "stderr",
     "output_type": "stream",
     "text": [
      "[swscaler @ 0x634da80] Warning: data is not aligned! This can lead to a speed loss\n"
     ]
    },
    {
     "name": "stdout",
     "output_type": "stream",
     "text": [
      "270.0\n",
      "0.0\n",
      "30.0\n",
      "330.0\n",
      "0.0\n",
      "270.0\n",
      "450.0\n",
      "0.0\n",
      "270.0\n",
      "0.0\n"
     ]
    },
    {
     "name": "stderr",
     "output_type": "stream",
     "text": [
      "IMAGEIO FFMPEG_WRITER WARNING: input image is not divisible by macro_block_size=16, resizing from (700, 700) to (704, 704) to ensure video compatibility with most codecs and players. To prevent resizing, make your input image divisible by the macro_block_size or set the macro_block_size to 1 (risking incompatibility).\n"
     ]
    },
    {
     "name": "stdout",
     "output_type": "stream",
     "text": [
      "124\n"
     ]
    },
    {
     "name": "stderr",
     "output_type": "stream",
     "text": [
      "[swscaler @ 0x6d9ea80] Warning: data is not aligned! This can lead to a speed loss\n"
     ]
    },
    {
     "name": "stdout",
     "output_type": "stream",
     "text": [
      "150.0\n",
      "480.0\n",
      "0.0\n",
      "300.0\n",
      "150.0\n",
      "240.0\n",
      "0.0\n",
      "120.0\n",
      "450.0\n",
      "150.0\n"
     ]
    },
    {
     "name": "stderr",
     "output_type": "stream",
     "text": [
      "IMAGEIO FFMPEG_WRITER WARNING: input image is not divisible by macro_block_size=16, resizing from (700, 700) to (704, 704) to ensure video compatibility with most codecs and players. To prevent resizing, make your input image divisible by the macro_block_size or set the macro_block_size to 1 (risking incompatibility).\n"
     ]
    },
    {
     "name": "stdout",
     "output_type": "stream",
     "text": [
      "124\n"
     ]
    },
    {
     "name": "stderr",
     "output_type": "stream",
     "text": [
      "[swscaler @ 0x62d1a80] Warning: data is not aligned! This can lead to a speed loss\n"
     ]
    },
    {
     "name": "stdout",
     "output_type": "stream",
     "text": [
      "180.0\n",
      "60.0\n",
      "90.0\n",
      "180.0\n",
      "420.0\n",
      "120.0\n",
      "30.0\n",
      "90.0\n",
      "240.0\n",
      "120.0\n"
     ]
    },
    {
     "name": "stderr",
     "output_type": "stream",
     "text": [
      "IMAGEIO FFMPEG_WRITER WARNING: input image is not divisible by macro_block_size=16, resizing from (700, 700) to (704, 704) to ensure video compatibility with most codecs and players. To prevent resizing, make your input image divisible by the macro_block_size or set the macro_block_size to 1 (risking incompatibility).\n"
     ]
    },
    {
     "name": "stdout",
     "output_type": "stream",
     "text": [
      "124\n"
     ]
    },
    {
     "name": "stderr",
     "output_type": "stream",
     "text": [
      "[swscaler @ 0x5981a80] Warning: data is not aligned! This can lead to a speed loss\n"
     ]
    },
    {
     "name": "stdout",
     "output_type": "stream",
     "text": [
      "150.0\n",
      "30.0\n",
      "90.0\n",
      "270.0\n",
      "0.0\n",
      "240.0\n",
      "600.0\n",
      "540.0\n",
      "570.0\n",
      "60.0\n"
     ]
    },
    {
     "name": "stderr",
     "output_type": "stream",
     "text": [
      "IMAGEIO FFMPEG_WRITER WARNING: input image is not divisible by macro_block_size=16, resizing from (700, 700) to (704, 704) to ensure video compatibility with most codecs and players. To prevent resizing, make your input image divisible by the macro_block_size or set the macro_block_size to 1 (risking incompatibility).\n"
     ]
    },
    {
     "name": "stdout",
     "output_type": "stream",
     "text": [
      "124\n"
     ]
    },
    {
     "name": "stderr",
     "output_type": "stream",
     "text": [
      "[swscaler @ 0x6bb6a80] Warning: data is not aligned! This can lead to a speed loss\n"
     ]
    },
    {
     "name": "stdout",
     "output_type": "stream",
     "text": [
      "30.0\n",
      "270.0\n",
      "90.0\n",
      "390.0\n",
      "30.0\n",
      "120.0\n",
      "0.0\n",
      "510.0\n",
      "60.0\n",
      "90.0\n",
      "Evaluation Reward for episode 18000 is: 177.0\n",
      "on episode 18016, curr epsilon 0.05 (time taken so far: 0-01:02:6.0)\n",
      "     mean loss: adversary 132282.20295692596\n",
      "     mean reward: adversary 203.7720207858114, agent -113.70884780634988\n",
      "on episode 18048, curr epsilon 0.05 (time taken so far: 0-01:02:11.0)\n",
      "     mean loss: adversary 130480.25800294109\n",
      "     mean reward: adversary 183.79222181066288, agent -110.77067624936275\n",
      "on episode 18080, curr epsilon 0.05 (time taken so far: 0-01:02:17.0)\n",
      "     mean loss: adversary 131101.8307630134\n",
      "     mean reward: adversary 207.39363937725204, agent -116.09672838582978\n",
      "on episode 18112, curr epsilon 0.05 (time taken so far: 0-01:02:23.0)\n",
      "     mean loss: adversary 132535.94640951103\n",
      "     mean reward: adversary 214.3822302266499, agent -125.89334537689443\n",
      "on episode 18144, curr epsilon 0.05 (time taken so far: 0-01:02:29.0)\n",
      "     mean loss: adversary 137743.8159765575\n",
      "     mean reward: adversary 151.1317845165807, agent -92.68518055478195\n",
      "on episode 18176, curr epsilon 0.05 (time taken so far: 0-01:02:34.0)\n",
      "     mean loss: adversary 136659.48145546525\n",
      "     mean reward: adversary 122.98364803532961, agent -78.04966934056547\n",
      "on episode 18208, curr epsilon 0.05 (time taken so far: 0-01:02:40.0)\n",
      "     mean loss: adversary 132905.4359400069\n",
      "     mean reward: adversary 214.32568390999677, agent -117.45503825161866\n",
      "on episode 18240, curr epsilon 0.05 (time taken so far: 0-01:02:46.0)\n",
      "     mean loss: adversary 130613.00722994751\n",
      "     mean reward: adversary 196.4758593343536, agent -103.32005743390802\n",
      "on episode 18272, curr epsilon 0.05 (time taken so far: 0-01:02:51.0)\n",
      "     mean loss: adversary 131055.67068001107\n",
      "     mean reward: adversary 198.67515679348926, agent -103.76344226448\n",
      "on episode 18304, curr epsilon 0.05 (time taken so far: 0-01:02:57.0)\n",
      "     mean loss: adversary 129830.54599769125\n",
      "     mean reward: adversary 248.4461676732583, agent -124.83139023181327\n",
      "on episode 18336, curr epsilon 0.05 (time taken so far: 0-01:03:3.0)\n",
      "     mean loss: adversary 124881.2073549368\n",
      "     mean reward: adversary 216.34861376668923, agent -119.92367198494792\n",
      "on episode 18368, curr epsilon 0.05 (time taken so far: 0-01:03:9.0)\n",
      "     mean loss: adversary 126842.72394455838\n",
      "     mean reward: adversary 183.907550804649, agent -101.62114949388813\n",
      "on episode 18400, curr epsilon 0.05 (time taken so far: 0-01:03:15.0)\n",
      "     mean loss: adversary 126391.75339873525\n",
      "     mean reward: adversary 165.12987267422648, agent -94.6972516688203\n",
      "on episode 18432, curr epsilon 0.05 (time taken so far: 0-01:03:20.0)\n",
      "     mean loss: adversary 129026.90668333089\n",
      "     mean reward: adversary 194.3995614404393, agent -114.8757845356993\n",
      "on episode 18464, curr epsilon 0.05 (time taken so far: 0-01:03:26.0)\n",
      "     mean loss: adversary 130579.36248724555\n",
      "     mean reward: adversary 88.78968307160325, agent -71.61087745267199\n",
      "on episode 18496, curr epsilon 0.05 (time taken so far: 0-01:03:32.0)\n",
      "     mean loss: adversary 130117.82364379524\n",
      "     mean reward: adversary 140.1658756615489, agent -94.93434418697998\n"
     ]
    },
    {
     "name": "stderr",
     "output_type": "stream",
     "text": [
      "IMAGEIO FFMPEG_WRITER WARNING: input image is not divisible by macro_block_size=16, resizing from (700, 700) to (704, 704) to ensure video compatibility with most codecs and players. To prevent resizing, make your input image divisible by the macro_block_size or set the macro_block_size to 1 (risking incompatibility).\n"
     ]
    },
    {
     "name": "stdout",
     "output_type": "stream",
     "text": [
      "124\n"
     ]
    },
    {
     "name": "stderr",
     "output_type": "stream",
     "text": [
      "[swscaler @ 0x74d8a80] Warning: data is not aligned! This can lead to a speed loss\n"
     ]
    },
    {
     "name": "stdout",
     "output_type": "stream",
     "text": [
      "0.0\n",
      "0.0\n",
      "0.0\n",
      "60.0\n",
      "0.0\n",
      "0.0\n",
      "0.0\n",
      "0.0\n",
      "0.0\n",
      "0.0\n"
     ]
    },
    {
     "name": "stderr",
     "output_type": "stream",
     "text": [
      "IMAGEIO FFMPEG_WRITER WARNING: input image is not divisible by macro_block_size=16, resizing from (700, 700) to (704, 704) to ensure video compatibility with most codecs and players. To prevent resizing, make your input image divisible by the macro_block_size or set the macro_block_size to 1 (risking incompatibility).\n"
     ]
    },
    {
     "name": "stdout",
     "output_type": "stream",
     "text": [
      "124\n"
     ]
    },
    {
     "name": "stderr",
     "output_type": "stream",
     "text": [
      "[swscaler @ 0x5c9fa80] Warning: data is not aligned! This can lead to a speed loss\n"
     ]
    },
    {
     "name": "stdout",
     "output_type": "stream",
     "text": [
      "0.0\n",
      "0.0\n",
      "0.0\n",
      "0.0\n",
      "0.0\n",
      "0.0\n",
      "0.0\n",
      "0.0\n",
      "0.0\n",
      "0.0\n"
     ]
    },
    {
     "name": "stderr",
     "output_type": "stream",
     "text": [
      "IMAGEIO FFMPEG_WRITER WARNING: input image is not divisible by macro_block_size=16, resizing from (700, 700) to (704, 704) to ensure video compatibility with most codecs and players. To prevent resizing, make your input image divisible by the macro_block_size or set the macro_block_size to 1 (risking incompatibility).\n"
     ]
    },
    {
     "name": "stdout",
     "output_type": "stream",
     "text": [
      "124\n"
     ]
    },
    {
     "name": "stderr",
     "output_type": "stream",
     "text": [
      "[swscaler @ 0x7261a80] Warning: data is not aligned! This can lead to a speed loss\n"
     ]
    },
    {
     "name": "stdout",
     "output_type": "stream",
     "text": [
      "0.0\n",
      "60.0\n",
      "60.0\n",
      "60.0\n",
      "0.0\n",
      "30.0\n",
      "0.0\n",
      "0.0\n",
      "0.0\n",
      "0.0\n"
     ]
    },
    {
     "name": "stderr",
     "output_type": "stream",
     "text": [
      "IMAGEIO FFMPEG_WRITER WARNING: input image is not divisible by macro_block_size=16, resizing from (700, 700) to (704, 704) to ensure video compatibility with most codecs and players. To prevent resizing, make your input image divisible by the macro_block_size or set the macro_block_size to 1 (risking incompatibility).\n"
     ]
    },
    {
     "name": "stdout",
     "output_type": "stream",
     "text": [
      "124\n"
     ]
    },
    {
     "name": "stderr",
     "output_type": "stream",
     "text": [
      "[swscaler @ 0x6a35a80] Warning: data is not aligned! This can lead to a speed loss\n"
     ]
    },
    {
     "name": "stdout",
     "output_type": "stream",
     "text": [
      "0.0\n",
      "0.0\n",
      "0.0\n",
      "0.0\n",
      "0.0\n",
      "0.0\n",
      "0.0\n",
      "0.0\n",
      "0.0\n",
      "60.0\n"
     ]
    },
    {
     "name": "stderr",
     "output_type": "stream",
     "text": [
      "IMAGEIO FFMPEG_WRITER WARNING: input image is not divisible by macro_block_size=16, resizing from (700, 700) to (704, 704) to ensure video compatibility with most codecs and players. To prevent resizing, make your input image divisible by the macro_block_size or set the macro_block_size to 1 (risking incompatibility).\n"
     ]
    },
    {
     "name": "stdout",
     "output_type": "stream",
     "text": [
      "124\n"
     ]
    },
    {
     "name": "stderr",
     "output_type": "stream",
     "text": [
      "[swscaler @ 0x59b2a80] Warning: data is not aligned! This can lead to a speed loss\n"
     ]
    },
    {
     "name": "stdout",
     "output_type": "stream",
     "text": [
      "0.0\n",
      "60.0\n",
      "0.0\n",
      "0.0\n",
      "0.0\n",
      "0.0\n",
      "30.0\n",
      "0.0\n",
      "0.0\n",
      "0.0\n"
     ]
    },
    {
     "name": "stderr",
     "output_type": "stream",
     "text": [
      "IMAGEIO FFMPEG_WRITER WARNING: input image is not divisible by macro_block_size=16, resizing from (700, 700) to (704, 704) to ensure video compatibility with most codecs and players. To prevent resizing, make your input image divisible by the macro_block_size or set the macro_block_size to 1 (risking incompatibility).\n"
     ]
    },
    {
     "name": "stdout",
     "output_type": "stream",
     "text": [
      "124\n"
     ]
    },
    {
     "name": "stderr",
     "output_type": "stream",
     "text": [
      "[swscaler @ 0x5953a80] Warning: data is not aligned! This can lead to a speed loss\n"
     ]
    },
    {
     "name": "stdout",
     "output_type": "stream",
     "text": [
      "0.0\n",
      "0.0\n",
      "0.0\n",
      "0.0\n",
      "90.0\n",
      "0.0\n",
      "0.0\n",
      "0.0\n",
      "0.0\n",
      "0.0\n"
     ]
    },
    {
     "name": "stderr",
     "output_type": "stream",
     "text": [
      "IMAGEIO FFMPEG_WRITER WARNING: input image is not divisible by macro_block_size=16, resizing from (700, 700) to (704, 704) to ensure video compatibility with most codecs and players. To prevent resizing, make your input image divisible by the macro_block_size or set the macro_block_size to 1 (risking incompatibility).\n"
     ]
    },
    {
     "name": "stdout",
     "output_type": "stream",
     "text": [
      "124\n"
     ]
    },
    {
     "name": "stderr",
     "output_type": "stream",
     "text": [
      "[swscaler @ 0x562da80] Warning: data is not aligned! This can lead to a speed loss\n"
     ]
    },
    {
     "name": "stdout",
     "output_type": "stream",
     "text": [
      "0.0\n",
      "0.0\n",
      "0.0\n",
      "60.0\n",
      "0.0\n",
      "0.0\n",
      "0.0\n",
      "0.0\n",
      "30.0\n",
      "0.0\n"
     ]
    },
    {
     "name": "stderr",
     "output_type": "stream",
     "text": [
      "IMAGEIO FFMPEG_WRITER WARNING: input image is not divisible by macro_block_size=16, resizing from (700, 700) to (704, 704) to ensure video compatibility with most codecs and players. To prevent resizing, make your input image divisible by the macro_block_size or set the macro_block_size to 1 (risking incompatibility).\n"
     ]
    },
    {
     "name": "stdout",
     "output_type": "stream",
     "text": [
      "124\n"
     ]
    },
    {
     "name": "stderr",
     "output_type": "stream",
     "text": [
      "[swscaler @ 0x6476a80] Warning: data is not aligned! This can lead to a speed loss\n"
     ]
    },
    {
     "name": "stdout",
     "output_type": "stream",
     "text": [
      "0.0\n",
      "30.0\n",
      "0.0\n",
      "0.0\n",
      "150.0\n",
      "60.0\n",
      "120.0\n",
      "0.0\n",
      "0.0\n",
      "0.0\n"
     ]
    },
    {
     "name": "stderr",
     "output_type": "stream",
     "text": [
      "IMAGEIO FFMPEG_WRITER WARNING: input image is not divisible by macro_block_size=16, resizing from (700, 700) to (704, 704) to ensure video compatibility with most codecs and players. To prevent resizing, make your input image divisible by the macro_block_size or set the macro_block_size to 1 (risking incompatibility).\n"
     ]
    },
    {
     "name": "stdout",
     "output_type": "stream",
     "text": [
      "124\n"
     ]
    },
    {
     "name": "stderr",
     "output_type": "stream",
     "text": [
      "[swscaler @ 0x5668a80] Warning: data is not aligned! This can lead to a speed loss\n"
     ]
    },
    {
     "name": "stdout",
     "output_type": "stream",
     "text": [
      "60.0\n",
      "120.0\n",
      "0.0\n",
      "30.0\n",
      "0.0\n",
      "0.0\n",
      "0.0\n",
      "0.0\n",
      "0.0\n",
      "0.0\n"
     ]
    },
    {
     "name": "stderr",
     "output_type": "stream",
     "text": [
      "IMAGEIO FFMPEG_WRITER WARNING: input image is not divisible by macro_block_size=16, resizing from (700, 700) to (704, 704) to ensure video compatibility with most codecs and players. To prevent resizing, make your input image divisible by the macro_block_size or set the macro_block_size to 1 (risking incompatibility).\n"
     ]
    },
    {
     "name": "stdout",
     "output_type": "stream",
     "text": [
      "124\n"
     ]
    },
    {
     "name": "stderr",
     "output_type": "stream",
     "text": [
      "[swscaler @ 0x572ca80] Warning: data is not aligned! This can lead to a speed loss\n"
     ]
    },
    {
     "name": "stdout",
     "output_type": "stream",
     "text": [
      "0.0\n",
      "0.0\n",
      "90.0\n",
      "30.0\n",
      "0.0\n",
      "0.0\n",
      "0.0\n",
      "0.0\n",
      "0.0\n",
      "0.0\n",
      "Evaluation Reward for episode 18500 is: 12.9\n",
      "on episode 18528, curr epsilon 0.05 (time taken so far: 0-01:03:50.0)\n",
      "     mean loss: adversary 129488.885907947\n",
      "     mean reward: adversary 188.35004146560928, agent -110.18872779219183\n",
      "on episode 18560, curr epsilon 0.05 (time taken so far: 0-01:03:55.0)\n",
      "     mean loss: adversary 131405.14266428846\n",
      "     mean reward: adversary 194.59220072235163, agent -111.6736462208907\n",
      "on episode 18592, curr epsilon 0.05 (time taken so far: 0-01:04:1.0)\n",
      "     mean loss: adversary 133690.6190023131\n",
      "     mean reward: adversary 176.4669868447432, agent -101.14706737718372\n",
      "on episode 18624, curr epsilon 0.05 (time taken so far: 0-01:04:7.0)\n",
      "     mean loss: adversary 131664.6561431318\n",
      "     mean reward: adversary 191.3971685312217, agent -113.85374090967062\n",
      "on episode 18656, curr epsilon 0.05 (time taken so far: 0-01:04:13.0)\n",
      "     mean loss: adversary 138072.91144166476\n",
      "     mean reward: adversary 226.3494300068694, agent -117.06023085959669\n",
      "on episode 18688, curr epsilon 0.05 (time taken so far: 0-01:04:19.0)\n",
      "     mean loss: adversary 139497.73753561257\n",
      "     mean reward: adversary 234.56388169076567, agent -120.63066336793699\n",
      "on episode 18720, curr epsilon 0.05 (time taken so far: 0-01:04:24.0)\n",
      "     mean loss: adversary 151392.66340634937\n",
      "     mean reward: adversary 147.13528112080505, agent -88.78124094644002\n",
      "on episode 18752, curr epsilon 0.05 (time taken so far: 0-01:04:30.0)\n",
      "     mean loss: adversary 151981.8687250965\n",
      "     mean reward: adversary 180.78874785807363, agent -96.65301450449843\n",
      "on episode 18784, curr epsilon 0.05 (time taken so far: 0-01:04:36.0)\n",
      "     mean loss: adversary 148234.0784159102\n",
      "     mean reward: adversary 159.2026144895102, agent -95.80798818759236\n",
      "on episode 18816, curr epsilon 0.05 (time taken so far: 0-01:04:42.0)\n",
      "     mean loss: adversary 143965.1706493036\n",
      "     mean reward: adversary 237.35178150914192, agent -126.9947916284857\n",
      "on episode 18848, curr epsilon 0.05 (time taken so far: 0-01:04:48.0)\n",
      "     mean loss: adversary 144344.9073188618\n",
      "     mean reward: adversary 185.2617393523362, agent -107.02712610406729\n",
      "on episode 18880, curr epsilon 0.05 (time taken so far: 0-01:04:53.0)\n",
      "     mean loss: adversary 142827.66941878252\n",
      "     mean reward: adversary 105.72597401783665, agent -76.53795088976351\n",
      "on episode 18912, curr epsilon 0.05 (time taken so far: 0-01:04:59.0)\n",
      "     mean loss: adversary 141082.12079886667\n",
      "     mean reward: adversary 158.6559822261249, agent -95.82688835778778\n",
      "on episode 18944, curr epsilon 0.05 (time taken so far: 0-01:05:5.0)\n",
      "     mean loss: adversary 140054.79761374943\n",
      "     mean reward: adversary 211.41544099315874, agent -119.01022257145802\n",
      "on episode 18976, curr epsilon 0.05 (time taken so far: 0-01:05:10.0)\n",
      "     mean loss: adversary 142722.92521331683\n",
      "     mean reward: adversary 205.43068658072713, agent -111.12765185109335\n"
     ]
    },
    {
     "name": "stderr",
     "output_type": "stream",
     "text": [
      "IMAGEIO FFMPEG_WRITER WARNING: input image is not divisible by macro_block_size=16, resizing from (700, 700) to (704, 704) to ensure video compatibility with most codecs and players. To prevent resizing, make your input image divisible by the macro_block_size or set the macro_block_size to 1 (risking incompatibility).\n"
     ]
    },
    {
     "name": "stdout",
     "output_type": "stream",
     "text": [
      "124\n"
     ]
    },
    {
     "name": "stderr",
     "output_type": "stream",
     "text": [
      "[swscaler @ 0x6c8ea80] Warning: data is not aligned! This can lead to a speed loss\n"
     ]
    },
    {
     "name": "stdout",
     "output_type": "stream",
     "text": [
      "0.0\n",
      "420.0\n",
      "0.0\n",
      "210.0\n",
      "210.0\n",
      "0.0\n",
      "600.0\n",
      "30.0\n",
      "0.0\n",
      "30.0\n"
     ]
    },
    {
     "name": "stderr",
     "output_type": "stream",
     "text": [
      "IMAGEIO FFMPEG_WRITER WARNING: input image is not divisible by macro_block_size=16, resizing from (700, 700) to (704, 704) to ensure video compatibility with most codecs and players. To prevent resizing, make your input image divisible by the macro_block_size or set the macro_block_size to 1 (risking incompatibility).\n"
     ]
    },
    {
     "name": "stdout",
     "output_type": "stream",
     "text": [
      "124\n"
     ]
    },
    {
     "name": "stderr",
     "output_type": "stream",
     "text": [
      "[swscaler @ 0x578fa80] Warning: data is not aligned! This can lead to a speed loss\n"
     ]
    },
    {
     "name": "stdout",
     "output_type": "stream",
     "text": [
      "300.0\n",
      "300.0\n",
      "240.0\n",
      "0.0\n",
      "30.0\n",
      "90.0\n",
      "540.0\n",
      "0.0\n",
      "270.0\n",
      "120.0\n"
     ]
    },
    {
     "name": "stderr",
     "output_type": "stream",
     "text": [
      "IMAGEIO FFMPEG_WRITER WARNING: input image is not divisible by macro_block_size=16, resizing from (700, 700) to (704, 704) to ensure video compatibility with most codecs and players. To prevent resizing, make your input image divisible by the macro_block_size or set the macro_block_size to 1 (risking incompatibility).\n"
     ]
    },
    {
     "name": "stdout",
     "output_type": "stream",
     "text": [
      "124\n"
     ]
    },
    {
     "name": "stderr",
     "output_type": "stream",
     "text": [
      "[swscaler @ 0x5e85a80] Warning: data is not aligned! This can lead to a speed loss\n"
     ]
    },
    {
     "name": "stdout",
     "output_type": "stream",
     "text": [
      "0.0\n",
      "0.0\n",
      "210.0\n",
      "0.0\n",
      "150.0\n",
      "600.0\n",
      "600.0\n",
      "360.0\n",
      "630.0\n",
      "120.0\n"
     ]
    },
    {
     "name": "stderr",
     "output_type": "stream",
     "text": [
      "IMAGEIO FFMPEG_WRITER WARNING: input image is not divisible by macro_block_size=16, resizing from (700, 700) to (704, 704) to ensure video compatibility with most codecs and players. To prevent resizing, make your input image divisible by the macro_block_size or set the macro_block_size to 1 (risking incompatibility).\n"
     ]
    },
    {
     "name": "stdout",
     "output_type": "stream",
     "text": [
      "124\n"
     ]
    },
    {
     "name": "stderr",
     "output_type": "stream",
     "text": [
      "[swscaler @ 0x6536a80] Warning: data is not aligned! This can lead to a speed loss\n"
     ]
    },
    {
     "name": "stdout",
     "output_type": "stream",
     "text": [
      "0.0\n",
      "60.0\n",
      "90.0\n",
      "480.0\n",
      "30.0\n",
      "690.0\n",
      "60.0\n",
      "90.0\n",
      "90.0\n",
      "600.0\n"
     ]
    },
    {
     "name": "stderr",
     "output_type": "stream",
     "text": [
      "IMAGEIO FFMPEG_WRITER WARNING: input image is not divisible by macro_block_size=16, resizing from (700, 700) to (704, 704) to ensure video compatibility with most codecs and players. To prevent resizing, make your input image divisible by the macro_block_size or set the macro_block_size to 1 (risking incompatibility).\n"
     ]
    },
    {
     "name": "stdout",
     "output_type": "stream",
     "text": [
      "124\n"
     ]
    },
    {
     "name": "stderr",
     "output_type": "stream",
     "text": [
      "[swscaler @ 0x6a26a80] Warning: data is not aligned! This can lead to a speed loss\n"
     ]
    },
    {
     "name": "stdout",
     "output_type": "stream",
     "text": [
      "0.0\n",
      "60.0\n",
      "0.0\n",
      "0.0\n",
      "240.0\n",
      "0.0\n",
      "690.0\n",
      "0.0\n",
      "0.0\n",
      "330.0\n"
     ]
    },
    {
     "name": "stderr",
     "output_type": "stream",
     "text": [
      "IMAGEIO FFMPEG_WRITER WARNING: input image is not divisible by macro_block_size=16, resizing from (700, 700) to (704, 704) to ensure video compatibility with most codecs and players. To prevent resizing, make your input image divisible by the macro_block_size or set the macro_block_size to 1 (risking incompatibility).\n"
     ]
    },
    {
     "name": "stdout",
     "output_type": "stream",
     "text": [
      "124\n"
     ]
    },
    {
     "name": "stderr",
     "output_type": "stream",
     "text": [
      "[swscaler @ 0x5a92a80] Warning: data is not aligned! This can lead to a speed loss\n"
     ]
    },
    {
     "name": "stdout",
     "output_type": "stream",
     "text": [
      "360.0\n",
      "60.0\n",
      "0.0\n",
      "90.0\n",
      "120.0\n",
      "720.0\n",
      "240.0\n",
      "0.0\n",
      "0.0\n",
      "150.0\n"
     ]
    },
    {
     "name": "stderr",
     "output_type": "stream",
     "text": [
      "IMAGEIO FFMPEG_WRITER WARNING: input image is not divisible by macro_block_size=16, resizing from (700, 700) to (704, 704) to ensure video compatibility with most codecs and players. To prevent resizing, make your input image divisible by the macro_block_size or set the macro_block_size to 1 (risking incompatibility).\n"
     ]
    },
    {
     "name": "stdout",
     "output_type": "stream",
     "text": [
      "124\n"
     ]
    },
    {
     "name": "stderr",
     "output_type": "stream",
     "text": [
      "[swscaler @ 0x6a9ba80] Warning: data is not aligned! This can lead to a speed loss\n"
     ]
    },
    {
     "name": "stdout",
     "output_type": "stream",
     "text": [
      "90.0\n",
      "240.0\n",
      "60.0\n",
      "60.0\n",
      "0.0\n",
      "30.0\n",
      "540.0\n",
      "510.0\n",
      "30.0\n",
      "330.0\n"
     ]
    },
    {
     "name": "stderr",
     "output_type": "stream",
     "text": [
      "IMAGEIO FFMPEG_WRITER WARNING: input image is not divisible by macro_block_size=16, resizing from (700, 700) to (704, 704) to ensure video compatibility with most codecs and players. To prevent resizing, make your input image divisible by the macro_block_size or set the macro_block_size to 1 (risking incompatibility).\n"
     ]
    },
    {
     "name": "stdout",
     "output_type": "stream",
     "text": [
      "124\n"
     ]
    },
    {
     "name": "stderr",
     "output_type": "stream",
     "text": [
      "[swscaler @ 0x55e2a80] Warning: data is not aligned! This can lead to a speed loss\n"
     ]
    },
    {
     "name": "stdout",
     "output_type": "stream",
     "text": [
      "0.0\n",
      "330.0\n",
      "1080.0\n",
      "360.0\n",
      "960.0\n",
      "60.0\n",
      "450.0\n",
      "0.0\n",
      "0.0\n",
      "420.0\n"
     ]
    },
    {
     "name": "stderr",
     "output_type": "stream",
     "text": [
      "IMAGEIO FFMPEG_WRITER WARNING: input image is not divisible by macro_block_size=16, resizing from (700, 700) to (704, 704) to ensure video compatibility with most codecs and players. To prevent resizing, make your input image divisible by the macro_block_size or set the macro_block_size to 1 (risking incompatibility).\n"
     ]
    },
    {
     "name": "stdout",
     "output_type": "stream",
     "text": [
      "124\n"
     ]
    },
    {
     "name": "stderr",
     "output_type": "stream",
     "text": [
      "[swscaler @ 0x5a8ca80] Warning: data is not aligned! This can lead to a speed loss\n"
     ]
    },
    {
     "name": "stdout",
     "output_type": "stream",
     "text": [
      "660.0\n",
      "0.0\n",
      "120.0\n",
      "150.0\n",
      "150.0\n",
      "0.0\n",
      "0.0\n",
      "0.0\n",
      "0.0\n",
      "60.0\n"
     ]
    },
    {
     "name": "stderr",
     "output_type": "stream",
     "text": [
      "IMAGEIO FFMPEG_WRITER WARNING: input image is not divisible by macro_block_size=16, resizing from (700, 700) to (704, 704) to ensure video compatibility with most codecs and players. To prevent resizing, make your input image divisible by the macro_block_size or set the macro_block_size to 1 (risking incompatibility).\n"
     ]
    },
    {
     "name": "stdout",
     "output_type": "stream",
     "text": [
      "124\n"
     ]
    },
    {
     "name": "stderr",
     "output_type": "stream",
     "text": [
      "[swscaler @ 0x7287a80] Warning: data is not aligned! This can lead to a speed loss\n"
     ]
    },
    {
     "name": "stdout",
     "output_type": "stream",
     "text": [
      "660.0\n",
      "210.0\n",
      "150.0\n",
      "390.0\n",
      "900.0\n",
      "720.0\n",
      "480.0\n",
      "0.0\n",
      "150.0\n",
      "660.0\n",
      "Evaluation Reward for episode 19000 is: 223.2\n",
      "on episode 19008, curr epsilon 0.05 (time taken so far: 0-01:05:28.0)\n",
      "     mean loss: adversary 146557.52793894464\n",
      "     mean reward: adversary 190.90155920372996, agent -107.75120548730732\n",
      "on episode 19040, curr epsilon 0.05 (time taken so far: 0-01:05:34.0)\n",
      "     mean loss: adversary 139707.4429034518\n",
      "     mean reward: adversary 219.90301932765357, agent -125.16915370064956\n",
      "on episode 19072, curr epsilon 0.05 (time taken so far: 0-01:05:40.0)\n",
      "     mean loss: adversary 141321.9657401622\n",
      "     mean reward: adversary 214.76780960478033, agent -120.70937515923784\n",
      "on episode 19104, curr epsilon 0.05 (time taken so far: 0-01:05:46.0)\n",
      "     mean loss: adversary 140155.7948644785\n",
      "     mean reward: adversary 183.7021841738799, agent -107.11538315754777\n",
      "on episode 19136, curr epsilon 0.05 (time taken so far: 0-01:05:52.0)\n",
      "     mean loss: adversary 143686.21483141108\n",
      "     mean reward: adversary 243.84525313179202, agent -130.2532319918834\n",
      "on episode 19168, curr epsilon 0.05 (time taken so far: 0-01:05:58.0)\n",
      "     mean loss: adversary 138586.46490321335\n",
      "     mean reward: adversary 197.81272349419174, agent -108.57557838214179\n",
      "on episode 19200, curr epsilon 0.05 (time taken so far: 0-01:06:4.0)\n",
      "     mean loss: adversary 137001.9133613102\n",
      "     mean reward: adversary 183.49386513770364, agent -103.15931894808175\n",
      "on episode 19232, curr epsilon 0.05 (time taken so far: 0-01:06:10.0)\n",
      "     mean loss: adversary 139327.50939638875\n",
      "     mean reward: adversary 238.10818916263474, agent -123.51280346870999\n",
      "on episode 19264, curr epsilon 0.05 (time taken so far: 0-01:06:16.0)\n",
      "     mean loss: adversary 137708.5328715947\n",
      "     mean reward: adversary 155.93659058451422, agent -100.6008167707776\n",
      "on episode 19296, curr epsilon 0.05 (time taken so far: 0-01:06:21.0)\n",
      "     mean loss: adversary 135156.23882848746\n",
      "     mean reward: adversary 174.2716672229404, agent -101.64038968988119\n",
      "on episode 19328, curr epsilon 0.05 (time taken so far: 0-01:06:27.0)\n",
      "     mean loss: adversary 133487.6441631928\n",
      "     mean reward: adversary 152.96731425839747, agent -97.2879406351709\n",
      "on episode 19360, curr epsilon 0.05 (time taken so far: 0-01:06:33.0)\n",
      "     mean loss: adversary 130605.68860017485\n",
      "     mean reward: adversary 179.56817059757407, agent -101.97046125474434\n",
      "on episode 19392, curr epsilon 0.05 (time taken so far: 0-01:06:39.0)\n",
      "     mean loss: adversary 125097.96086989989\n",
      "     mean reward: adversary 235.52721636425488, agent -134.96174381999754\n",
      "on episode 19424, curr epsilon 0.05 (time taken so far: 0-01:06:44.0)\n",
      "     mean loss: adversary 124479.66506285386\n",
      "     mean reward: adversary 214.60131984220646, agent -115.23124477373862\n",
      "on episode 19456, curr epsilon 0.05 (time taken so far: 0-01:06:51.0)\n",
      "     mean loss: adversary 128729.21927661172\n",
      "     mean reward: adversary 219.8623747741419, agent -109.88189924786255\n",
      "on episode 19488, curr epsilon 0.05 (time taken so far: 0-01:06:56.0)\n",
      "     mean loss: adversary 124229.57709811491\n",
      "     mean reward: adversary 228.68849394302458, agent -125.19700349073665\n"
     ]
    },
    {
     "name": "stderr",
     "output_type": "stream",
     "text": [
      "IMAGEIO FFMPEG_WRITER WARNING: input image is not divisible by macro_block_size=16, resizing from (700, 700) to (704, 704) to ensure video compatibility with most codecs and players. To prevent resizing, make your input image divisible by the macro_block_size or set the macro_block_size to 1 (risking incompatibility).\n"
     ]
    },
    {
     "name": "stdout",
     "output_type": "stream",
     "text": [
      "124\n"
     ]
    },
    {
     "name": "stderr",
     "output_type": "stream",
     "text": [
      "[swscaler @ 0x6908a80] Warning: data is not aligned! This can lead to a speed loss\n"
     ]
    },
    {
     "name": "stdout",
     "output_type": "stream",
     "text": [
      "30.0\n",
      "270.0\n",
      "390.0\n",
      "120.0\n",
      "30.0\n",
      "30.0\n",
      "270.0\n",
      "300.0\n",
      "30.0\n",
      "0.0\n"
     ]
    },
    {
     "name": "stderr",
     "output_type": "stream",
     "text": [
      "IMAGEIO FFMPEG_WRITER WARNING: input image is not divisible by macro_block_size=16, resizing from (700, 700) to (704, 704) to ensure video compatibility with most codecs and players. To prevent resizing, make your input image divisible by the macro_block_size or set the macro_block_size to 1 (risking incompatibility).\n"
     ]
    },
    {
     "name": "stdout",
     "output_type": "stream",
     "text": [
      "124\n"
     ]
    },
    {
     "name": "stderr",
     "output_type": "stream",
     "text": [
      "[swscaler @ 0x55c1a80] Warning: data is not aligned! This can lead to a speed loss\n"
     ]
    },
    {
     "name": "stdout",
     "output_type": "stream",
     "text": [
      "180.0\n",
      "0.0\n",
      "360.0\n",
      "0.0\n",
      "390.0\n",
      "420.0\n",
      "0.0\n",
      "0.0\n",
      "420.0\n",
      "60.0\n"
     ]
    },
    {
     "name": "stderr",
     "output_type": "stream",
     "text": [
      "IMAGEIO FFMPEG_WRITER WARNING: input image is not divisible by macro_block_size=16, resizing from (700, 700) to (704, 704) to ensure video compatibility with most codecs and players. To prevent resizing, make your input image divisible by the macro_block_size or set the macro_block_size to 1 (risking incompatibility).\n"
     ]
    },
    {
     "name": "stdout",
     "output_type": "stream",
     "text": [
      "124\n"
     ]
    },
    {
     "name": "stderr",
     "output_type": "stream",
     "text": [
      "[swscaler @ 0x7184a80] Warning: data is not aligned! This can lead to a speed loss\n"
     ]
    },
    {
     "name": "stdout",
     "output_type": "stream",
     "text": [
      "60.0\n",
      "120.0\n",
      "0.0\n",
      "0.0\n",
      "510.0\n",
      "0.0\n",
      "450.0\n",
      "90.0\n",
      "0.0\n",
      "390.0\n"
     ]
    },
    {
     "name": "stderr",
     "output_type": "stream",
     "text": [
      "IMAGEIO FFMPEG_WRITER WARNING: input image is not divisible by macro_block_size=16, resizing from (700, 700) to (704, 704) to ensure video compatibility with most codecs and players. To prevent resizing, make your input image divisible by the macro_block_size or set the macro_block_size to 1 (risking incompatibility).\n"
     ]
    },
    {
     "name": "stdout",
     "output_type": "stream",
     "text": [
      "124\n"
     ]
    },
    {
     "name": "stderr",
     "output_type": "stream",
     "text": [
      "[swscaler @ 0x68a8a80] Warning: data is not aligned! This can lead to a speed loss\n"
     ]
    },
    {
     "name": "stdout",
     "output_type": "stream",
     "text": [
      "90.0\n",
      "0.0\n",
      "0.0\n",
      "60.0\n",
      "90.0\n",
      "330.0\n",
      "240.0\n",
      "30.0\n",
      "60.0\n",
      "270.0\n"
     ]
    },
    {
     "name": "stderr",
     "output_type": "stream",
     "text": [
      "IMAGEIO FFMPEG_WRITER WARNING: input image is not divisible by macro_block_size=16, resizing from (700, 700) to (704, 704) to ensure video compatibility with most codecs and players. To prevent resizing, make your input image divisible by the macro_block_size or set the macro_block_size to 1 (risking incompatibility).\n"
     ]
    },
    {
     "name": "stdout",
     "output_type": "stream",
     "text": [
      "124\n"
     ]
    },
    {
     "name": "stderr",
     "output_type": "stream",
     "text": [
      "[swscaler @ 0x6a28a80] Warning: data is not aligned! This can lead to a speed loss\n"
     ]
    },
    {
     "name": "stdout",
     "output_type": "stream",
     "text": [
      "0.0\n",
      "300.0\n",
      "420.0\n",
      "60.0\n",
      "120.0\n",
      "0.0\n",
      "990.0\n",
      "180.0\n",
      "30.0\n",
      "0.0\n"
     ]
    },
    {
     "name": "stderr",
     "output_type": "stream",
     "text": [
      "IMAGEIO FFMPEG_WRITER WARNING: input image is not divisible by macro_block_size=16, resizing from (700, 700) to (704, 704) to ensure video compatibility with most codecs and players. To prevent resizing, make your input image divisible by the macro_block_size or set the macro_block_size to 1 (risking incompatibility).\n"
     ]
    },
    {
     "name": "stdout",
     "output_type": "stream",
     "text": [
      "124\n"
     ]
    },
    {
     "name": "stderr",
     "output_type": "stream",
     "text": [
      "[swscaler @ 0x644fa80] Warning: data is not aligned! This can lead to a speed loss\n"
     ]
    },
    {
     "name": "stdout",
     "output_type": "stream",
     "text": [
      "0.0\n",
      "60.0\n",
      "0.0\n",
      "180.0\n",
      "210.0\n",
      "30.0\n",
      "60.0\n",
      "180.0\n",
      "0.0\n",
      "0.0\n"
     ]
    },
    {
     "name": "stderr",
     "output_type": "stream",
     "text": [
      "IMAGEIO FFMPEG_WRITER WARNING: input image is not divisible by macro_block_size=16, resizing from (700, 700) to (704, 704) to ensure video compatibility with most codecs and players. To prevent resizing, make your input image divisible by the macro_block_size or set the macro_block_size to 1 (risking incompatibility).\n"
     ]
    },
    {
     "name": "stdout",
     "output_type": "stream",
     "text": [
      "124\n"
     ]
    },
    {
     "name": "stderr",
     "output_type": "stream",
     "text": [
      "[swscaler @ 0x6349a80] Warning: data is not aligned! This can lead to a speed loss\n"
     ]
    },
    {
     "name": "stdout",
     "output_type": "stream",
     "text": [
      "0.0\n",
      "60.0\n",
      "390.0\n",
      "270.0\n",
      "30.0\n",
      "150.0\n",
      "0.0\n",
      "0.0\n",
      "300.0\n",
      "390.0\n"
     ]
    },
    {
     "name": "stderr",
     "output_type": "stream",
     "text": [
      "IMAGEIO FFMPEG_WRITER WARNING: input image is not divisible by macro_block_size=16, resizing from (700, 700) to (704, 704) to ensure video compatibility with most codecs and players. To prevent resizing, make your input image divisible by the macro_block_size or set the macro_block_size to 1 (risking incompatibility).\n"
     ]
    },
    {
     "name": "stdout",
     "output_type": "stream",
     "text": [
      "124\n"
     ]
    },
    {
     "name": "stderr",
     "output_type": "stream",
     "text": [
      "[swscaler @ 0x7281a80] Warning: data is not aligned! This can lead to a speed loss\n"
     ]
    },
    {
     "name": "stdout",
     "output_type": "stream",
     "text": [
      "600.0\n",
      "0.0\n",
      "240.0\n",
      "0.0\n",
      "390.0\n",
      "210.0\n",
      "60.0\n",
      "120.0\n",
      "0.0\n",
      "30.0\n"
     ]
    },
    {
     "name": "stderr",
     "output_type": "stream",
     "text": [
      "IMAGEIO FFMPEG_WRITER WARNING: input image is not divisible by macro_block_size=16, resizing from (700, 700) to (704, 704) to ensure video compatibility with most codecs and players. To prevent resizing, make your input image divisible by the macro_block_size or set the macro_block_size to 1 (risking incompatibility).\n"
     ]
    },
    {
     "name": "stdout",
     "output_type": "stream",
     "text": [
      "124\n"
     ]
    },
    {
     "name": "stderr",
     "output_type": "stream",
     "text": [
      "[swscaler @ 0x638ba80] Warning: data is not aligned! This can lead to a speed loss\n"
     ]
    },
    {
     "name": "stdout",
     "output_type": "stream",
     "text": [
      "480.0\n",
      "0.0\n",
      "540.0\n",
      "30.0\n",
      "120.0\n",
      "360.0\n",
      "210.0\n",
      "30.0\n",
      "60.0\n",
      "0.0\n"
     ]
    },
    {
     "name": "stderr",
     "output_type": "stream",
     "text": [
      "IMAGEIO FFMPEG_WRITER WARNING: input image is not divisible by macro_block_size=16, resizing from (700, 700) to (704, 704) to ensure video compatibility with most codecs and players. To prevent resizing, make your input image divisible by the macro_block_size or set the macro_block_size to 1 (risking incompatibility).\n"
     ]
    },
    {
     "name": "stdout",
     "output_type": "stream",
     "text": [
      "124\n"
     ]
    },
    {
     "name": "stderr",
     "output_type": "stream",
     "text": [
      "[swscaler @ 0x5eb5a80] Warning: data is not aligned! This can lead to a speed loss\n"
     ]
    },
    {
     "name": "stdout",
     "output_type": "stream",
     "text": [
      "510.0\n",
      "360.0\n",
      "90.0\n",
      "0.0\n",
      "210.0\n",
      "60.0\n",
      "0.0\n",
      "510.0\n",
      "210.0\n",
      "60.0\n",
      "Evaluation Reward for episode 19500 is: 159.9\n",
      "on episode 19520, curr epsilon 0.05 (time taken so far: 0-01:07:14.0)\n",
      "     mean loss: adversary 121635.54744133458\n",
      "     mean reward: adversary 210.8546020593821, agent -108.97624689716443\n",
      "on episode 19552, curr epsilon 0.05 (time taken so far: 0-01:07:19.0)\n",
      "     mean loss: adversary 123764.81469340666\n",
      "     mean reward: adversary 212.38744235745673, agent -114.45392456500468\n",
      "on episode 19584, curr epsilon 0.05 (time taken so far: 0-01:07:25.0)\n",
      "     mean loss: adversary 128561.91911163245\n",
      "     mean reward: adversary 166.59717768233276, agent -98.06900555570613\n",
      "on episode 19616, curr epsilon 0.05 (time taken so far: 0-01:07:31.0)\n",
      "     mean loss: adversary 125260.36631981433\n",
      "     mean reward: adversary 203.9262659491029, agent -111.2106351103054\n",
      "on episode 19648, curr epsilon 0.05 (time taken so far: 0-01:07:37.0)\n",
      "     mean loss: adversary 122098.84317724747\n",
      "     mean reward: adversary 190.7514696824573, agent -106.5447718845893\n",
      "on episode 19680, curr epsilon 0.05 (time taken so far: 0-01:07:43.0)\n",
      "     mean loss: adversary 141281.71800843027\n",
      "     mean reward: adversary 168.18902122775313, agent -91.25625589654845\n",
      "on episode 19712, curr epsilon 0.05 (time taken so far: 0-01:07:49.0)\n",
      "     mean loss: adversary 139317.0130792022\n",
      "     mean reward: adversary 131.46940258421085, agent -78.60598147652782\n",
      "on episode 19744, curr epsilon 0.05 (time taken so far: 0-01:07:55.0)\n",
      "     mean loss: adversary 136961.13069860556\n",
      "     mean reward: adversary 167.821372355646, agent -96.0414367980305\n",
      "on episode 19776, curr epsilon 0.05 (time taken so far: 0-01:08:1.0)\n",
      "     mean loss: adversary 131970.72477107894\n",
      "     mean reward: adversary 138.15162938993936, agent -85.37677153261396\n",
      "on episode 19808, curr epsilon 0.05 (time taken so far: 0-01:08:6.0)\n",
      "     mean loss: adversary 128121.30759732636\n",
      "     mean reward: adversary 231.613693086129, agent -119.96804017957265\n",
      "on episode 19840, curr epsilon 0.05 (time taken so far: 0-01:08:12.0)\n",
      "     mean loss: adversary 135860.36755044854\n",
      "     mean reward: adversary 165.87187224159808, agent -101.11979678021429\n",
      "on episode 19872, curr epsilon 0.05 (time taken so far: 0-01:08:18.0)\n",
      "     mean loss: adversary 139545.16958675857\n",
      "     mean reward: adversary 127.9052906035733, agent -76.37888842554091\n",
      "on episode 19904, curr epsilon 0.05 (time taken so far: 0-01:08:24.0)\n",
      "     mean loss: adversary 135555.33394141172\n",
      "     mean reward: adversary 139.88063606015697, agent -85.53889792706748\n",
      "on episode 19936, curr epsilon 0.05 (time taken so far: 0-01:08:30.0)\n",
      "     mean loss: adversary 134282.6225899004\n",
      "     mean reward: adversary 176.54284763021732, agent -107.18974912788063\n",
      "on episode 19968, curr epsilon 0.05 (time taken so far: 0-01:08:36.0)\n",
      "     mean loss: adversary 135014.69767993904\n",
      "     mean reward: adversary 166.17067583587058, agent -104.20798578465929\n"
     ]
    }
   ],
   "source": [
    "# train model\n",
    "adversary_net, logger = train(config)"
   ]
  },
  {
   "cell_type": "code",
   "execution_count": null,
   "id": "91f38a3a",
   "metadata": {},
   "outputs": [],
   "source": [
    "eps_start = 0.9\n",
    "eps_end = 0.05\n",
    "eps_decay = 0.9996\n",
    "epsilon = eps_start\n",
    "\n",
    "eps = [epsilon]\n",
    "for i in range(10_000):\n",
    "    epsilon = max((epsilon*eps_decay), eps_end)\n",
    "    eps.append(epsilon)\n",
    "\n",
    "plt.plot(eps)"
   ]
  },
  {
   "cell_type": "code",
   "execution_count": null,
   "id": "c92f014a",
   "metadata": {},
   "outputs": [],
   "source": [
    "# load adversary net\n",
    "adversary_net = SimpleTagNet(config, \"adversary\").to(config.device)\n",
    "adversary_net.load_state_dict(torch.load('./models/batched-baseline-test/adversary-net-5632.pth'))"
   ]
  },
  {
   "cell_type": "code",
   "execution_count": null,
   "id": "af941f18",
   "metadata": {},
   "outputs": [],
   "source": [
    "# save logs\n",
    "logger = AttrDict(\n",
    "        episodic_losses=AttrDict(adversary=[], agent=[]),\n",
    "        episodic_rewards=AttrDict(adversary=[], agent=[])\n",
    "    )\n",
    "with open(\"models/batched-baseline-test/log.json\", \"w\") as f:\n",
    "    json.dump(logger, f)"
   ]
  },
  {
   "cell_type": "code",
   "execution_count": null,
   "id": "654746eb",
   "metadata": {},
   "outputs": [],
   "source": [
    "fig, axes = plt.subplots(1, 2, figsize=(15, 6))\n",
    "axes = axes.ravel()\n",
    "\n",
    "axes[0].plot(logger.episodic_losses.adversary[50:], label=\"adversary\")\n",
    "axes[0].plot(logger.episodic_losses.agent[50:], label=\"good agent\")\n",
    "axes[0].set_title(\"loss\")\n",
    "axes[0].legend()\n",
    "\n",
    "axes[1].plot(logger.episodic_rewards.adversary[50:], label=\"adversary\")\n",
    "axes[1].plot(logger.episodic_rewards.agent[50:], label=\"good agent\")\n",
    "axes[1].set_title(\"reward\")\n",
    "axes[1].legend()"
   ]
  },
  {
   "cell_type": "code",
   "execution_count": null,
   "id": "60c8843b",
   "metadata": {},
   "outputs": [],
   "source": [
    "fig.savefig(\"models/batched-baseline-test/vis.png\")"
   ]
  },
  {
   "cell_type": "code",
   "execution_count": null,
   "id": "968cae03",
   "metadata": {},
   "outputs": [],
   "source": [
    "# load logs\n",
    "with open(\"models/batched-baseline-test/log.json\", \"r\") as f:\n",
    "    logger = json.load(f)"
   ]
  },
  {
   "cell_type": "code",
   "execution_count": null,
   "id": "a69ca42e",
   "metadata": {},
   "outputs": [],
   "source": [
    "def moving_average(a, n=3):\n",
    "    ret = np.cumsum(a, dtype=float)\n",
    "    ret[n:] = ret[n:] - ret[:-n]\n",
    "    return ret[n - 1:] / n\n",
    "\n",
    "def f(a, n):\n",
    "    \"\"\"Zero out beginning of last axis\"\"\"\n",
    "    pad_width = [(0, 0) for _ in range(a.ndim - 1)] + [(n, 0)]\n",
    "    return np.pad(a, pad_width, mode='constant', constant_values=0)\n",
    "\n",
    "fig, axes = plt.subplots(1, 2, figsize=(15, 6))\n",
    "axes = axes.ravel()\n",
    "\n",
    "axes[0].plot(logger[\"episodic_losses\"][\"adversary\"][50:], label=\"adversary\")\n",
    "axes[0].plot(logger[\"episodic_losses\"][\"agent\"][50:], label=\"good agent\")\n",
    "axes[0].set_title(\"loss\")\n",
    "axes[0].legend()\n",
    "\n",
    "adversary_episodic_rewards = np.array(logger[\"episodic_rewards\"][\"adversary\"])*10\n",
    "mean_adversary_episodic_rewards = f(moving_average(adversary_episodic_rewards, n=512), 0)\n",
    "# axes[1].plot(adversary_episodic_rewards, label=\"adversary\")\n",
    "axes[1].plot(mean_adversary_episodic_rewards, label=\"adversary mean\")\n",
    "# axes[1].plot(logger[\"episodic_rewards\"][\"agent\"][50:], label=\"good agent\")\n",
    "axes[1].set_title(\"reward\")\n",
    "axes[1].legend()"
   ]
  },
  {
   "cell_type": "code",
   "execution_count": null,
   "id": "c7f65c98",
   "metadata": {},
   "outputs": [],
   "source": [
    "env = simple_tag_v2.env(\n",
    "    num_good=1,\n",
    "    num_adversaries=3,\n",
    "    num_obstacles=0,\n",
    "    max_cycles=30,\n",
    "    continuous_actions=False\n",
    ").unwrapped\n",
    "def visualize(config, adversary_net):\n",
    "    adversary_net.eval()\n",
    "    with torch.no_grad():\n",
    "        return run_episode(config, adversary_net, should_render=True, is_val=True, evaluation=True)\n",
    "\n",
    "episode = visualize(config, adversary_net)\n",
    "print(\"episode steps\", episode.steps)\n",
    "print(\"episode rewards\", *episode.reward.items())"
   ]
  },
  {
   "cell_type": "code",
   "execution_count": null,
   "id": "b53717a6",
   "metadata": {},
   "outputs": [],
   "source": []
  }
 ],
 "metadata": {
  "kernelspec": {
   "display_name": "Python 3 (ipykernel)",
   "language": "python",
   "name": "python3"
  },
  "language_info": {
   "codemirror_mode": {
    "name": "ipython",
    "version": 3
   },
   "file_extension": ".py",
   "mimetype": "text/x-python",
   "name": "python",
   "nbconvert_exporter": "python",
   "pygments_lexer": "ipython3",
   "version": "3.8.11"
  }
 },
 "nbformat": 4,
 "nbformat_minor": 5
}
